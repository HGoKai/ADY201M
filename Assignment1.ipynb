{
 "cells": [
  {
   "cell_type": "code",
   "execution_count": 3,
   "metadata": {},
   "outputs": [],
   "source": [
    "# Import lib\n",
    "import pandas as pd\n",
    "import numpy as np"
   ]
  },
  {
   "cell_type": "code",
   "execution_count": 4,
   "metadata": {},
   "outputs": [],
   "source": [
    "csv_file = './data/Census_Data_-_Selected_socioeconomic_indicators_in_Chicago__2008___2012.csv'\n",
    "\n",
    "df = pd.read_csv(csv_file)\n",
    "\n",
    "csv_file = './data/Chicago_Public_Schools_-_Progress_Report_Cards__2011-2012_.csv'\n",
    "\n",
    "df1 = pd.read_csv(csv_file)\n",
    "\n",
    "csv_file = './data/Crimes_-_2001_to_Present.csv'\n",
    "\n",
    "df2 = pd.read_csv(csv_file)"
   ]
  },
  {
   "cell_type": "code",
   "execution_count": 17,
   "metadata": {},
   "outputs": [
    {
     "name": "stdout",
     "output_type": "stream",
     "text": [
      "Total crime records: 7806379\n"
     ]
    }
   ],
   "source": [
    "# Problem 1\n",
    "pr1 = df2\n",
    "\n",
    "print(f\"Total crime records: {pr1.shape[0]}\")"
   ]
  },
  {
   "cell_type": "code",
   "execution_count": 6,
   "metadata": {},
   "outputs": [
    {
     "name": "stdout",
     "output_type": "stream",
     "text": [
      "Community Area Number                  26.0\n",
      "COMMUNITY AREA NAME      West Garfield Park\n",
      "PER CAPITA INCOME                     10934\n",
      "Name: 25, dtype: object\n",
      "Community Area Number              30.0\n",
      "COMMUNITY AREA NAME      South Lawndale\n",
      "PER CAPITA INCOME                 10402\n",
      "Name: 29, dtype: object\n",
      "Community Area Number           37.0\n",
      "COMMUNITY AREA NAME      Fuller Park\n",
      "PER CAPITA INCOME              10432\n",
      "Name: 36, dtype: object\n",
      "Community Area Number         54.0\n",
      "COMMUNITY AREA NAME      Riverdale\n",
      "PER CAPITA INCOME             8201\n",
      "Name: 53, dtype: object\n"
     ]
    }
   ],
   "source": [
    "# Problem 2\n",
    "pr2 = df[[\"Community Area Number\", \"COMMUNITY AREA NAME\", \"PER CAPITA INCOME \"]]\n",
    "\n",
    "pr2=pr2.dropna(how=\"all\")\n",
    "for index, row in pr2.iterrows():\n",
    "    if int(row[\"PER CAPITA INCOME \"]) < 11000:\n",
    "        print(row)"
   ]
  },
  {
   "cell_type": "code",
   "execution_count": 14,
   "metadata": {},
   "outputs": [
    {
     "name": "stdout",
     "output_type": "stream",
     "text": [
      "ES: 20650\n",
      "HS: 4218\n",
      "MS: 528\n"
     ]
    }
   ],
   "source": [
    "# Problem 6\n",
    "pr6 = df1[[\"Safety Score\", \"Elementary, Middle, or High School\"]]\n",
    "\n",
    "schoolTypes = {}\n",
    "\n",
    "pr6 = pr6.dropna(how=\"any\")\n",
    "\n",
    "for index, row in pr6.iterrows():\n",
    "    try:\n",
    "        schoolTypes[row[\"Elementary, Middle, or High School\"]] += int(row[\"Safety Score\"])\n",
    "    except KeyError as e:\n",
    "        schoolTypes[row[\"Elementary, Middle, or High School\"]] = int(row[\"Safety Score\"])\n",
    "    except ValueError as e:\n",
    "        print(e)\n",
    "\n",
    "for schoolType in schoolTypes:\n",
    "    print(f\"{schoolType}: {schoolTypes.get(schoolType)}\")"
   ]
  }
 ],
 "metadata": {
  "kernelspec": {
   "display_name": "Python 3",
   "language": "python",
   "name": "python3"
  },
  "language_info": {
   "codemirror_mode": {
    "name": "ipython",
    "version": 3
   },
   "file_extension": ".py",
   "mimetype": "text/x-python",
   "name": "python",
   "nbconvert_exporter": "python",
   "pygments_lexer": "ipython3",
   "version": "3.10.11"
  },
  "orig_nbformat": 4
 },
 "nbformat": 4,
 "nbformat_minor": 2
}
