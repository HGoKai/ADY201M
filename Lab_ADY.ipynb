{
 "cells": [
  {
   "attachments": {},
   "cell_type": "markdown",
   "id": "f0d0f601",
   "metadata": {
    "scrolled": true
   },
   "source": [
    "# Các vấn đề của data:"
   ]
  },
  {
   "attachments": {},
   "cell_type": "markdown",
   "id": "29bd2046",
   "metadata": {},
   "source": [
    "-có khoảng trống 2 đầu của tên đối tác ở 1 số dữ liệu\n",
    "-có dấu ',' ở trong các dữ liệu số\n",
    "-có các ô chứa ' -   '\n",
    "-nhiều dữ liệu bị khuyết thiếu mà không thể dùng nội suy"
   ]
  },
  {
   "cell_type": "code",
   "execution_count": 83,
   "id": "109db0da",
   "metadata": {},
   "outputs": [],
   "source": [
    "# Import lib\n",
    "import pandas as pd\n",
    "import numpy as np\n",
    "import mysql.connector as msql\n",
    "from mysql.connector import Error\n",
    "import matplotlib.pyplot as plt\n",
    "import re\n",
    "import seaborn as sns\n",
    "import plotly.express as px\n",
    "from geopy.geocoders import Nominatim"
   ]
  },
  {
   "cell_type": "code",
   "execution_count": 84,
   "id": "93451495",
   "metadata": {},
   "outputs": [
    {
     "data": {
      "text/html": [
       "<div>\n",
       "<style scoped>\n",
       "    .dataframe tbody tr th:only-of-type {\n",
       "        vertical-align: middle;\n",
       "    }\n",
       "\n",
       "    .dataframe tbody tr th {\n",
       "        vertical-align: top;\n",
       "    }\n",
       "\n",
       "    .dataframe thead th {\n",
       "        text-align: right;\n",
       "    }\n",
       "</style>\n",
       "<table border=\"1\" class=\"dataframe\">\n",
       "  <thead>\n",
       "    <tr style=\"text-align: right;\">\n",
       "      <th></th>\n",
       "      <th>TT</th>\n",
       "      <th>Doi tac</th>\n",
       "      <th>So du an cap moi</th>\n",
       "      <th>Von dang ky cap moi</th>\n",
       "      <th>So luoc du an dieu chinh</th>\n",
       "      <th>Von dang ky dieu chinh</th>\n",
       "      <th>So luoc gop von</th>\n",
       "      <th>Gia tri gop von</th>\n",
       "      <th>Nam</th>\n",
       "    </tr>\n",
       "  </thead>\n",
       "  <tbody>\n",
       "    <tr>\n",
       "      <th>0</th>\n",
       "      <td>1</td>\n",
       "      <td>Bắc Ninh</td>\n",
       "      <td>133</td>\n",
       "      <td>149.6</td>\n",
       "      <td>103</td>\n",
       "      <td>3500.2</td>\n",
       "      <td></td>\n",
       "      <td></td>\n",
       "      <td>2015</td>\n",
       "    </tr>\n",
       "    <tr>\n",
       "      <th>1</th>\n",
       "      <td>2</td>\n",
       "      <td>TP. Hồ Chí Minh</td>\n",
       "      <td>570</td>\n",
       "      <td>2811.7</td>\n",
       "      <td>199</td>\n",
       "      <td>512.3</td>\n",
       "      <td></td>\n",
       "      <td></td>\n",
       "      <td>2015</td>\n",
       "    </tr>\n",
       "    <tr>\n",
       "      <th>2</th>\n",
       "      <td>3</td>\n",
       "      <td>Bình Dương</td>\n",
       "      <td>200</td>\n",
       "      <td>2465.8</td>\n",
       "      <td>95</td>\n",
       "      <td>487.0</td>\n",
       "      <td></td>\n",
       "      <td></td>\n",
       "      <td>2015</td>\n",
       "    </tr>\n",
       "    <tr>\n",
       "      <th>3</th>\n",
       "      <td>4</td>\n",
       "      <td>Trà Vinh</td>\n",
       "      <td>2</td>\n",
       "      <td>2526.8</td>\n",
       "      <td></td>\n",
       "      <td></td>\n",
       "      <td></td>\n",
       "      <td></td>\n",
       "      <td>2015</td>\n",
       "    </tr>\n",
       "    <tr>\n",
       "      <th>4</th>\n",
       "      <td>5</td>\n",
       "      <td>Đồng Nai</td>\n",
       "      <td>103</td>\n",
       "      <td>1471.9</td>\n",
       "      <td>71</td>\n",
       "      <td>475.1</td>\n",
       "      <td></td>\n",
       "      <td></td>\n",
       "      <td>2015</td>\n",
       "    </tr>\n",
       "    <tr>\n",
       "      <th>5</th>\n",
       "      <td>6</td>\n",
       "      <td>Hà Nội</td>\n",
       "      <td>352</td>\n",
       "      <td>910.7</td>\n",
       "      <td>84</td>\n",
       "      <td>177.7</td>\n",
       "      <td></td>\n",
       "      <td></td>\n",
       "      <td>2015</td>\n",
       "    </tr>\n",
       "    <tr>\n",
       "      <th>6</th>\n",
       "      <td>7</td>\n",
       "      <td>Hải Phòng</td>\n",
       "      <td>45</td>\n",
       "      <td>573.1</td>\n",
       "      <td>26</td>\n",
       "      <td>237.7</td>\n",
       "      <td></td>\n",
       "      <td></td>\n",
       "      <td>2015</td>\n",
       "    </tr>\n",
       "    <tr>\n",
       "      <th>7</th>\n",
       "      <td>8</td>\n",
       "      <td>Bà Rịa - Vũng Tàu</td>\n",
       "      <td>11</td>\n",
       "      <td>326.3</td>\n",
       "      <td>13</td>\n",
       "      <td>406.1</td>\n",
       "      <td></td>\n",
       "      <td></td>\n",
       "      <td>2015</td>\n",
       "    </tr>\n",
       "    <tr>\n",
       "      <th>8</th>\n",
       "      <td>9</td>\n",
       "      <td>Long An</td>\n",
       "      <td>119</td>\n",
       "      <td>308.7</td>\n",
       "      <td>42</td>\n",
       "      <td>268.4</td>\n",
       "      <td></td>\n",
       "      <td></td>\n",
       "      <td>2015</td>\n",
       "    </tr>\n",
       "    <tr>\n",
       "      <th>9</th>\n",
       "      <td>10</td>\n",
       "      <td>Tây Ninh</td>\n",
       "      <td>16</td>\n",
       "      <td>502.9</td>\n",
       "      <td>5</td>\n",
       "      <td>25.3</td>\n",
       "      <td></td>\n",
       "      <td></td>\n",
       "      <td>2015</td>\n",
       "    </tr>\n",
       "  </tbody>\n",
       "</table>\n",
       "</div>"
      ],
      "text/plain": [
       "   TT            Doi tac So du an cap moi Von dang ky cap moi  \\\n",
       "0   1           Bắc Ninh              133               149.6   \n",
       "1   2    TP. Hồ Chí Minh              570              2811.7   \n",
       "2   3         Bình Dương              200              2465.8   \n",
       "3   4           Trà Vinh                2              2526.8   \n",
       "4   5           Đồng Nai              103              1471.9   \n",
       "5   6             Hà Nội              352               910.7   \n",
       "6   7          Hải Phòng               45               573.1   \n",
       "7   8  Bà Rịa - Vũng Tàu               11               326.3   \n",
       "8   9            Long An              119               308.7   \n",
       "9  10           Tây Ninh               16               502.9   \n",
       "\n",
       "  So luoc du an dieu chinh Von dang ky dieu chinh So luoc gop von  \\\n",
       "0                      103                 3500.2                   \n",
       "1                      199                  512.3                   \n",
       "2                       95                  487.0                   \n",
       "3                                                                   \n",
       "4                       71                  475.1                   \n",
       "5                       84                  177.7                   \n",
       "6                       26                  237.7                   \n",
       "7                       13                  406.1                   \n",
       "8                       42                  268.4                   \n",
       "9                        5                   25.3                   \n",
       "\n",
       "  Gia tri gop von   Nam  \n",
       "0                  2015  \n",
       "1                  2015  \n",
       "2                  2015  \n",
       "3                  2015  \n",
       "4                  2015  \n",
       "5                  2015  \n",
       "6                  2015  \n",
       "7                  2015  \n",
       "8                  2015  \n",
       "9                  2015  "
      ]
     },
     "execution_count": 84,
     "metadata": {},
     "output_type": "execute_result"
    }
   ],
   "source": [
    "\n",
    "\n",
    "csv_file = './data/fdi_provinces_vi.csv'\n",
    "\n",
    "data_prepare = pd.read_csv(csv_file, index_col=False, delimiter = ',')\n",
    "data_prepare['Đối tác'] = data_prepare['Đối tác'].str.strip()\n",
    "\n",
    "data_replace_1 = data_prepare.replace(',', '', regex=True)\n",
    "data_replace_2 = data_replace_1.replace(' -   ', '', regex=True)\n",
    "data_replace_2 = data_replace_2.fillna('')\n",
    "# data_filled = data_replace_2.fillna(0)\n",
    "#data = data_filled.copy()\n",
    "data_replace_2.head(10)\n",
    "# cover name of column to english\n",
    "data_replace_2.columns = ['TT', 'Doi tac', 'So du an cap moi', 'Von dang ky cap moi'\n",
    "                          , 'So luoc du an dieu chinh', 'Von dang ky dieu chinh', 'So luoc gop von', 'Gia tri gop von', 'Nam']\n",
    "\n",
    "data_replace_2.head(10)"
   ]
  },
  {
   "cell_type": "code",
   "execution_count": 85,
   "id": "5340b005",
   "metadata": {},
   "outputs": [
    {
     "data": {
      "text/plain": [
       "TT                          object\n",
       "Doi tac                     object\n",
       "So du an cap moi            object\n",
       "Von dang ky cap moi         object\n",
       "So luoc du an dieu chinh    object\n",
       "Von dang ky dieu chinh      object\n",
       "So luoc gop von             object\n",
       "Gia tri gop von             object\n",
       "Nam                         object\n",
       "dtype: object"
      ]
     },
     "execution_count": 85,
     "metadata": {},
     "output_type": "execute_result"
    }
   ],
   "source": [
    "# cover all data of data_replace_2 to string\n",
    "data_replace_2 = data_replace_2.astype(str)\n",
    "data_replace_2.dtypes"
   ]
  },
  {
   "cell_type": "code",
   "execution_count": 86,
   "id": "39ab1b04",
   "metadata": {},
   "outputs": [],
   "source": [
    "data_replace_2['So du an cap moi'] = data_replace_2['So du an cap moi'].apply(lambda x: re.sub(r\"[_|-|(|)|,|\\.]\", '', x))\n",
    "\n",
    "\n",
    "data_replace_2['Von dang ky cap moi'] = data_replace_2['Von dang ky cap moi'].apply(lambda x: re.sub(r\"[(|)]\", '', x))\n",
    "\n",
    "data_replace_2['So luoc du an dieu chinh'] = data_replace_2['So luoc du an dieu chinh'].apply(lambda x: re.sub(r\"[_|-|(|)|,|\\.]\", '', x))\n",
    "\n",
    "data_replace_2['Von dang ky dieu chinh'] = data_replace_2['Von dang ky dieu chinh'].apply(lambda x: re.sub(r\"[(|)]\", '', x))\n",
    "\n",
    "data_replace_2['So luoc gop von'] = data_replace_2['So luoc gop von'].apply(lambda x: re.sub(r\"[_|-|(|)|,|\\.]\", '', x))\n",
    "\n",
    "data_replace_2['Gia tri gop von'] = data_replace_2['Gia tri gop von'].apply(lambda x: re.sub(r\"[(|)]\", '', x))\n",
    "\n",
    "\n"
   ]
  },
  {
   "cell_type": "code",
   "execution_count": 87,
   "id": "ed19e3e0",
   "metadata": {},
   "outputs": [],
   "source": [
    "# cover all the data to numeric of column 2 to 8\n",
    "data_replace_2['So du an cap moi'] = pd.to_numeric(data_replace_2['So du an cap moi'])\n",
    "data_replace_2['Von dang ky cap moi'] = pd.to_numeric(data_replace_2['Von dang ky cap moi'])\n",
    "data_replace_2['So luoc du an dieu chinh'] = pd.to_numeric(data_replace_2['So luoc du an dieu chinh'])\n",
    "data_replace_2['Von dang ky dieu chinh'] = pd.to_numeric(data_replace_2['Von dang ky dieu chinh'])\n",
    "data_replace_2['So luoc gop von'] = pd.to_numeric(data_replace_2['So luoc gop von'])\n",
    "data_replace_2['Gia tri gop von'] = pd.to_numeric(data_replace_2['Gia tri gop von'])\n",
    "data_replace_2['Nam'] = pd.to_numeric(data_replace_2['Nam'])"
   ]
  },
  {
   "cell_type": "code",
   "execution_count": 88,
   "id": "f1bc5a31",
   "metadata": {},
   "outputs": [],
   "source": [
    "# make number of von dang ky dieu chinh to positive\n",
    "data_replace_2['Von dang ky dieu chinh'] = data_replace_2['Von dang ky dieu chinh'].abs()\n"
   ]
  },
  {
   "cell_type": "code",
   "execution_count": 89,
   "id": "8ea5f80c",
   "metadata": {},
   "outputs": [],
   "source": [
    "# fill all null value with mode of column\n",
    "data_replace_2['So du an cap moi'] = data_replace_2['So du an cap moi'].fillna(data_replace_2['So du an cap moi'].mode()[0])\n",
    "data_replace_2['Von dang ky cap moi'] = data_replace_2['Von dang ky cap moi'].fillna(data_replace_2['Von dang ky cap moi'].mode()[0])\n",
    "data_replace_2['So luoc du an dieu chinh'] = data_replace_2['So luoc du an dieu chinh'].fillna(data_replace_2['So luoc du an dieu chinh'].mode()[0])\n",
    "data_replace_2['Von dang ky dieu chinh'] = data_replace_2['Von dang ky dieu chinh'].fillna(data_replace_2['Von dang ky dieu chinh'].mode()[0])\n",
    "data_replace_2['So luoc gop von'] = data_replace_2['So luoc gop von'].fillna(data_replace_2['So luoc gop von'].mode()[0])\n",
    "data_replace_2['Gia tri gop von'] = data_replace_2['Gia tri gop von'].fillna(data_replace_2['Gia tri gop von'].mode()[0])\n",
    "data_replace_2['Nam'] = data_replace_2['Nam'].fillna(data_replace_2['Nam'].mode()[0])\n",
    "\n"
   ]
  },
  {
   "cell_type": "code",
   "execution_count": 90,
   "id": "1847b5f4",
   "metadata": {},
   "outputs": [
    {
     "data": {
      "text/plain": [
       "TT                          0\n",
       "Doi tac                     0\n",
       "So du an cap moi            0\n",
       "Von dang ky cap moi         0\n",
       "So luoc du an dieu chinh    0\n",
       "Von dang ky dieu chinh      0\n",
       "So luoc gop von             0\n",
       "Gia tri gop von             0\n",
       "Nam                         0\n",
       "dtype: int64"
      ]
     },
     "execution_count": 90,
     "metadata": {},
     "output_type": "execute_result"
    }
   ],
   "source": [
    "data = data_replace_2.copy()\n",
    "data.isnull().sum()\n"
   ]
  },
  {
   "cell_type": "code",
   "execution_count": 91,
   "id": "16e954b4",
   "metadata": {},
   "outputs": [
    {
     "data": {
      "text/html": [
       "<div>\n",
       "<style scoped>\n",
       "    .dataframe tbody tr th:only-of-type {\n",
       "        vertical-align: middle;\n",
       "    }\n",
       "\n",
       "    .dataframe tbody tr th {\n",
       "        vertical-align: top;\n",
       "    }\n",
       "\n",
       "    .dataframe thead th {\n",
       "        text-align: right;\n",
       "    }\n",
       "</style>\n",
       "<table border=\"1\" class=\"dataframe\">\n",
       "  <thead>\n",
       "    <tr style=\"text-align: right;\">\n",
       "      <th></th>\n",
       "      <th>So du an cap moi</th>\n",
       "      <th>Von dang ky cap moi</th>\n",
       "      <th>So luoc du an dieu chinh</th>\n",
       "      <th>Von dang ky dieu chinh</th>\n",
       "      <th>So luoc gop von</th>\n",
       "      <th>Gia tri gop von</th>\n",
       "      <th>Nam</th>\n",
       "    </tr>\n",
       "  </thead>\n",
       "  <tbody>\n",
       "    <tr>\n",
       "      <th>count</th>\n",
       "      <td>460.000000</td>\n",
       "      <td>460.000000</td>\n",
       "      <td>460.000000</td>\n",
       "      <td>460.000000</td>\n",
       "      <td>460.000000</td>\n",
       "      <td>460.000000</td>\n",
       "      <td>460.000000</td>\n",
       "    </tr>\n",
       "    <tr>\n",
       "      <th>mean</th>\n",
       "      <td>44.421739</td>\n",
       "      <td>280.851739</td>\n",
       "      <td>19.858696</td>\n",
       "      <td>137.780152</td>\n",
       "      <td>81.480435</td>\n",
       "      <td>117.886652</td>\n",
       "      <td>2018.536957</td>\n",
       "    </tr>\n",
       "    <tr>\n",
       "      <th>std</th>\n",
       "      <td>139.441152</td>\n",
       "      <td>558.069470</td>\n",
       "      <td>43.504985</td>\n",
       "      <td>347.098071</td>\n",
       "      <td>430.042808</td>\n",
       "      <td>554.803780</td>\n",
       "      <td>2.241601</td>\n",
       "    </tr>\n",
       "    <tr>\n",
       "      <th>min</th>\n",
       "      <td>1.000000</td>\n",
       "      <td>0.000000</td>\n",
       "      <td>1.000000</td>\n",
       "      <td>0.020000</td>\n",
       "      <td>1.000000</td>\n",
       "      <td>0.000000</td>\n",
       "      <td>2015.000000</td>\n",
       "    </tr>\n",
       "    <tr>\n",
       "      <th>25%</th>\n",
       "      <td>2.000000</td>\n",
       "      <td>6.240000</td>\n",
       "      <td>1.000000</td>\n",
       "      <td>10.000000</td>\n",
       "      <td>1.000000</td>\n",
       "      <td>0.140000</td>\n",
       "      <td>2017.000000</td>\n",
       "    </tr>\n",
       "    <tr>\n",
       "      <th>50%</th>\n",
       "      <td>6.000000</td>\n",
       "      <td>82.400000</td>\n",
       "      <td>2.000000</td>\n",
       "      <td>10.020000</td>\n",
       "      <td>5.000000</td>\n",
       "      <td>4.700000</td>\n",
       "      <td>2019.000000</td>\n",
       "    </tr>\n",
       "    <tr>\n",
       "      <th>75%</th>\n",
       "      <td>23.000000</td>\n",
       "      <td>303.945000</td>\n",
       "      <td>15.250000</td>\n",
       "      <td>95.870000</td>\n",
       "      <td>21.250000</td>\n",
       "      <td>29.230000</td>\n",
       "      <td>2020.000000</td>\n",
       "    </tr>\n",
       "    <tr>\n",
       "      <th>max</th>\n",
       "      <td>1320.000000</td>\n",
       "      <td>5041.050000</td>\n",
       "      <td>309.000000</td>\n",
       "      <td>3500.200000</td>\n",
       "      <td>5720.000000</td>\n",
       "      <td>6472.600000</td>\n",
       "      <td>2022.000000</td>\n",
       "    </tr>\n",
       "  </tbody>\n",
       "</table>\n",
       "</div>"
      ],
      "text/plain": [
       "       So du an cap moi  Von dang ky cap moi  So luoc du an dieu chinh  \\\n",
       "count        460.000000           460.000000                460.000000   \n",
       "mean          44.421739           280.851739                 19.858696   \n",
       "std          139.441152           558.069470                 43.504985   \n",
       "min            1.000000             0.000000                  1.000000   \n",
       "25%            2.000000             6.240000                  1.000000   \n",
       "50%            6.000000            82.400000                  2.000000   \n",
       "75%           23.000000           303.945000                 15.250000   \n",
       "max         1320.000000          5041.050000                309.000000   \n",
       "\n",
       "       Von dang ky dieu chinh  So luoc gop von  Gia tri gop von          Nam  \n",
       "count              460.000000       460.000000       460.000000   460.000000  \n",
       "mean               137.780152        81.480435       117.886652  2018.536957  \n",
       "std                347.098071       430.042808       554.803780     2.241601  \n",
       "min                  0.020000         1.000000         0.000000  2015.000000  \n",
       "25%                 10.000000         1.000000         0.140000  2017.000000  \n",
       "50%                 10.020000         5.000000         4.700000  2019.000000  \n",
       "75%                 95.870000        21.250000        29.230000  2020.000000  \n",
       "max               3500.200000      5720.000000      6472.600000  2022.000000  "
      ]
     },
     "execution_count": 91,
     "metadata": {},
     "output_type": "execute_result"
    }
   ],
   "source": [
    "data.describe()\n"
   ]
  },
  {
   "attachments": {},
   "cell_type": "markdown",
   "id": "5efb3358",
   "metadata": {},
   "source": [
    "# Tạo kết nối đến database sau khi sử lý dữ liệu"
   ]
  },
  {
   "cell_type": "code",
   "execution_count": 62,
   "id": "2c143de6",
   "metadata": {},
   "outputs": [
    {
     "name": "stdout",
     "output_type": "stream",
     "text": [
      "Error while connecting to MySQL 1007 (HY000): Can't create database 'lab1a'; database exists\n"
     ]
    }
   ],
   "source": [
    "try:\n",
    "    conn = msql.connect(host='localhost', user='root',  \n",
    "                        password='')\n",
    "    if conn.is_connected():\n",
    "        cursor = conn.cursor()\n",
    "        cursor.execute(\"CREATE DATABASE lab1a\")\n",
    "        print(\"Database is created\")\n",
    "except Error as e:\n",
    "    print(\"Error while connecting to MySQL\", e)"
   ]
  },
  {
   "cell_type": "code",
   "execution_count": 63,
   "id": "962c1376",
   "metadata": {},
   "outputs": [
    {
     "name": "stdout",
     "output_type": "stream",
     "text": [
      "You're connected to database:  ('lab1a',)\n",
      "Creating table....\n",
      "Table is created....\n",
      "Record inserted\n",
      "Record inserted\n",
      "Record inserted\n",
      "Record inserted\n",
      "Record inserted\n",
      "Record inserted\n",
      "Record inserted\n",
      "Record inserted\n",
      "Record inserted\n",
      "Record inserted\n",
      "Record inserted\n",
      "Record inserted\n",
      "Record inserted\n",
      "Record inserted\n",
      "Record inserted\n",
      "Record inserted\n",
      "Record inserted\n",
      "Record inserted\n",
      "Record inserted\n",
      "Record inserted\n",
      "Record inserted\n",
      "Record inserted\n",
      "Record inserted\n",
      "Record inserted\n",
      "Record inserted\n",
      "Record inserted\n",
      "Record inserted\n",
      "Record inserted\n",
      "Record inserted\n",
      "Record inserted\n",
      "Record inserted\n",
      "Record inserted\n",
      "Record inserted\n",
      "Record inserted\n",
      "Record inserted\n",
      "Record inserted\n",
      "Record inserted\n",
      "Record inserted\n",
      "Record inserted\n",
      "Record inserted\n",
      "Record inserted\n",
      "Record inserted\n",
      "Record inserted\n",
      "Record inserted\n",
      "Record inserted\n",
      "Record inserted\n",
      "Record inserted\n",
      "Record inserted\n",
      "Record inserted\n",
      "Record inserted\n",
      "Record inserted\n",
      "Record inserted\n",
      "Record inserted\n",
      "Record inserted\n",
      "Record inserted\n",
      "Record inserted\n",
      "Record inserted\n",
      "Record inserted\n",
      "Record inserted\n",
      "Record inserted\n",
      "Record inserted\n",
      "Record inserted\n",
      "Record inserted\n",
      "Record inserted\n",
      "Record inserted\n",
      "Record inserted\n",
      "Record inserted\n",
      "Record inserted\n",
      "Record inserted\n",
      "Record inserted\n",
      "Record inserted\n",
      "Record inserted\n",
      "Record inserted\n",
      "Record inserted\n",
      "Record inserted\n",
      "Record inserted\n",
      "Record inserted\n",
      "Record inserted\n",
      "Record inserted\n",
      "Record inserted\n",
      "Record inserted\n",
      "Record inserted\n",
      "Record inserted\n",
      "Record inserted\n",
      "Record inserted\n",
      "Record inserted\n",
      "Record inserted\n",
      "Record inserted\n",
      "Record inserted\n",
      "Record inserted\n",
      "Record inserted\n",
      "Record inserted\n",
      "Record inserted\n",
      "Record inserted\n",
      "Record inserted\n",
      "Record inserted\n",
      "Record inserted\n",
      "Record inserted\n",
      "Record inserted\n",
      "Record inserted\n",
      "Record inserted\n",
      "Record inserted\n",
      "Record inserted\n",
      "Record inserted\n",
      "Record inserted\n",
      "Record inserted\n",
      "Record inserted\n",
      "Record inserted\n",
      "Record inserted\n",
      "Record inserted\n",
      "Record inserted\n",
      "Record inserted\n",
      "Record inserted\n",
      "Record inserted\n",
      "Record inserted\n",
      "Record inserted\n",
      "Record inserted\n",
      "Record inserted\n",
      "Record inserted\n",
      "Record inserted\n",
      "Record inserted\n",
      "Record inserted\n",
      "Record inserted\n",
      "Record inserted\n",
      "Record inserted\n",
      "Record inserted\n",
      "Record inserted\n",
      "Record inserted\n",
      "Record inserted\n",
      "Record inserted\n",
      "Record inserted\n",
      "Record inserted\n",
      "Record inserted\n",
      "Record inserted\n",
      "Record inserted\n",
      "Record inserted\n",
      "Record inserted\n",
      "Record inserted\n",
      "Record inserted\n",
      "Record inserted\n",
      "Record inserted\n",
      "Record inserted\n",
      "Record inserted\n",
      "Record inserted\n",
      "Record inserted\n",
      "Record inserted\n",
      "Record inserted\n",
      "Record inserted\n",
      "Record inserted\n",
      "Record inserted\n",
      "Record inserted\n",
      "Record inserted\n",
      "Record inserted\n",
      "Record inserted\n",
      "Record inserted\n",
      "Record inserted\n",
      "Record inserted\n",
      "Record inserted\n",
      "Record inserted\n",
      "Record inserted\n",
      "Record inserted\n",
      "Record inserted\n",
      "Record inserted\n",
      "Record inserted\n",
      "Record inserted\n",
      "Record inserted\n",
      "Record inserted\n",
      "Record inserted\n",
      "Record inserted\n",
      "Record inserted\n",
      "Record inserted\n",
      "Record inserted\n",
      "Record inserted\n",
      "Record inserted\n",
      "Record inserted\n",
      "Record inserted\n",
      "Record inserted\n",
      "Record inserted\n",
      "Record inserted\n",
      "Record inserted\n",
      "Record inserted\n",
      "Record inserted\n",
      "Record inserted\n",
      "Record inserted\n",
      "Record inserted\n",
      "Record inserted\n",
      "Record inserted\n",
      "Record inserted\n",
      "Record inserted\n",
      "Record inserted\n",
      "Record inserted\n",
      "Record inserted\n",
      "Record inserted\n",
      "Record inserted\n",
      "Record inserted\n",
      "Record inserted\n",
      "Record inserted\n",
      "Record inserted\n",
      "Record inserted\n",
      "Record inserted\n",
      "Record inserted\n",
      "Record inserted\n",
      "Record inserted\n",
      "Record inserted\n",
      "Record inserted\n",
      "Record inserted\n",
      "Record inserted\n",
      "Record inserted\n",
      "Record inserted\n",
      "Record inserted\n",
      "Record inserted\n",
      "Record inserted\n",
      "Record inserted\n",
      "Record inserted\n",
      "Record inserted\n",
      "Record inserted\n",
      "Record inserted\n",
      "Record inserted\n",
      "Record inserted\n",
      "Record inserted\n",
      "Record inserted\n",
      "Record inserted\n",
      "Record inserted\n",
      "Record inserted\n",
      "Record inserted\n",
      "Record inserted\n",
      "Record inserted\n",
      "Record inserted\n",
      "Record inserted\n",
      "Record inserted\n",
      "Record inserted\n",
      "Record inserted\n",
      "Record inserted\n",
      "Record inserted\n",
      "Record inserted\n",
      "Record inserted\n",
      "Record inserted\n",
      "Record inserted\n",
      "Record inserted\n",
      "Record inserted\n",
      "Record inserted\n",
      "Record inserted\n",
      "Record inserted\n",
      "Record inserted\n",
      "Record inserted\n",
      "Record inserted\n",
      "Record inserted\n",
      "Record inserted\n",
      "Record inserted\n",
      "Record inserted\n",
      "Record inserted\n",
      "Record inserted\n",
      "Record inserted\n",
      "Record inserted\n",
      "Record inserted\n",
      "Record inserted\n",
      "Record inserted\n",
      "Record inserted\n",
      "Record inserted\n",
      "Record inserted\n",
      "Record inserted\n",
      "Record inserted\n",
      "Record inserted\n",
      "Record inserted\n",
      "Record inserted\n",
      "Record inserted\n",
      "Record inserted\n",
      "Record inserted\n",
      "Record inserted\n",
      "Record inserted\n",
      "Record inserted\n",
      "Record inserted\n",
      "Record inserted\n",
      "Record inserted\n",
      "Record inserted\n",
      "Record inserted\n",
      "Record inserted\n",
      "Record inserted\n",
      "Record inserted\n",
      "Record inserted\n",
      "Record inserted\n",
      "Record inserted\n",
      "Record inserted\n",
      "Record inserted\n",
      "Record inserted\n",
      "Record inserted\n",
      "Record inserted\n",
      "Record inserted\n",
      "Record inserted\n",
      "Record inserted\n",
      "Record inserted\n",
      "Record inserted\n",
      "Record inserted\n",
      "Record inserted\n",
      "Record inserted\n",
      "Record inserted\n",
      "Record inserted\n",
      "Record inserted\n",
      "Record inserted\n",
      "Record inserted\n",
      "Record inserted\n",
      "Record inserted\n",
      "Record inserted\n",
      "Record inserted\n",
      "Record inserted\n",
      "Record inserted\n",
      "Record inserted\n",
      "Record inserted\n",
      "Record inserted\n",
      "Record inserted\n",
      "Record inserted\n",
      "Record inserted\n",
      "Record inserted\n",
      "Record inserted\n",
      "Record inserted\n",
      "Record inserted\n",
      "Record inserted\n",
      "Record inserted\n",
      "Record inserted\n",
      "Record inserted\n",
      "Record inserted\n",
      "Record inserted\n",
      "Record inserted\n",
      "Record inserted\n",
      "Record inserted\n",
      "Record inserted\n",
      "Record inserted\n",
      "Record inserted\n",
      "Record inserted\n",
      "Record inserted\n",
      "Record inserted\n",
      "Record inserted\n",
      "Record inserted\n",
      "Record inserted\n",
      "Record inserted\n",
      "Record inserted\n",
      "Record inserted\n",
      "Record inserted\n",
      "Record inserted\n",
      "Record inserted\n",
      "Record inserted\n",
      "Record inserted\n",
      "Record inserted\n",
      "Record inserted\n",
      "Record inserted\n",
      "Record inserted\n",
      "Record inserted\n",
      "Record inserted\n",
      "Record inserted\n",
      "Record inserted\n",
      "Record inserted\n",
      "Record inserted\n",
      "Record inserted\n",
      "Record inserted\n",
      "Record inserted\n",
      "Record inserted\n",
      "Record inserted\n",
      "Record inserted\n",
      "Record inserted\n",
      "Record inserted\n",
      "Record inserted\n",
      "Record inserted\n",
      "Record inserted\n",
      "Record inserted\n",
      "Record inserted\n",
      "Record inserted\n",
      "Record inserted\n",
      "Record inserted\n",
      "Record inserted\n",
      "Record inserted\n",
      "Record inserted\n",
      "Record inserted\n",
      "Record inserted\n",
      "Record inserted\n",
      "Record inserted\n",
      "Record inserted\n",
      "Record inserted\n",
      "Record inserted\n",
      "Record inserted\n",
      "Record inserted\n",
      "Record inserted\n",
      "Record inserted\n",
      "Record inserted\n",
      "Record inserted\n",
      "Record inserted\n",
      "Record inserted\n",
      "Record inserted\n",
      "Record inserted\n",
      "Record inserted\n",
      "Record inserted\n",
      "Record inserted\n",
      "Record inserted\n",
      "Record inserted\n",
      "Record inserted\n",
      "Record inserted\n",
      "Record inserted\n",
      "Record inserted\n",
      "Record inserted\n",
      "Record inserted\n",
      "Record inserted\n",
      "Record inserted\n",
      "Record inserted\n",
      "Record inserted\n",
      "Record inserted\n",
      "Record inserted\n",
      "Record inserted\n",
      "Record inserted\n",
      "Record inserted\n",
      "Record inserted\n",
      "Record inserted\n",
      "Record inserted\n",
      "Record inserted\n",
      "Record inserted\n",
      "Record inserted\n",
      "Record inserted\n",
      "Record inserted\n",
      "Record inserted\n",
      "Record inserted\n",
      "Record inserted\n",
      "Record inserted\n",
      "Record inserted\n",
      "Record inserted\n",
      "Record inserted\n",
      "Record inserted\n",
      "Record inserted\n",
      "Record inserted\n",
      "Record inserted\n",
      "Record inserted\n",
      "Record inserted\n",
      "Record inserted\n",
      "Record inserted\n",
      "Record inserted\n",
      "Record inserted\n",
      "Record inserted\n",
      "Record inserted\n",
      "Record inserted\n",
      "Record inserted\n",
      "Record inserted\n",
      "Record inserted\n",
      "Record inserted\n",
      "Record inserted\n",
      "Record inserted\n",
      "Record inserted\n",
      "Record inserted\n",
      "Record inserted\n",
      "Record inserted\n",
      "Record inserted\n",
      "Record inserted\n",
      "Record inserted\n",
      "Record inserted\n",
      "Record inserted\n",
      "Record inserted\n",
      "Record inserted\n",
      "Record inserted\n",
      "Record inserted\n",
      "Record inserted\n",
      "Record inserted\n",
      "Record inserted\n",
      "Record inserted\n",
      "Record inserted\n"
     ]
    }
   ],
   "source": [
    "try:\n",
    "    conn = msql.connect(host='localhost', database='lab1a', user='root', password='')\n",
    "    if conn.is_connected():\n",
    "        cursor = conn.cursor()\n",
    "        cursor.execute(\"select database();\")\n",
    "        record = cursor.fetchone()\n",
    "        print(\"You're connected to database: \", record)\n",
    "        cursor.execute('DROP TABLE IF EXISTS fdiProvinces;')\n",
    "        print('Creating table....')\n",
    "        \n",
    "        #create table statement\n",
    "        create_table_query = \"\"\"\n",
    "        CREATE TABLE fdiProvinces (\n",
    "            ID INT,\n",
    "            partner varchar(255),\n",
    "            number_of_new_projects INT,\n",
    "            initial_registered_capital DECIMAL(10, 2),\n",
    "            number_of_project_adjustments INT,\n",
    "            adjusted_registered_capital FLOAT,\n",
    "            number_of_capital_contribution_to_purchase_shares INT,\n",
    "            value_of_capital_investment FLOAT,\n",
    "            year INT\n",
    "            )\n",
    "        \"\"\"\n",
    "        cursor.execute(create_table_query)\n",
    "        print(\"Table is created....\")\n",
    "\n",
    "    # Loop\n",
    "    for i, row in data.iterrows():\n",
    "        insert_query = \"\"\"\n",
    "            INSERT INTO fdiProvinces (ID, partner, number_of_new_projects, initial_registered_capital, \n",
    "            number_of_project_adjustments, adjusted_registered_capital, number_of_capital_contribution_to_purchase_shares,\n",
    "            value_of_capital_investment, year)\n",
    "            VALUES (%s, %s, %s, %s, %s, %s, %s, %s, %s)\n",
    "        \"\"\"\n",
    "        cursor.execute(insert_query, tuple(row))\n",
    "        print(\"Record inserted\")\n",
    "        conn.commit()\n",
    "except Error as e:\n",
    "            print(\"Error while connecting to MySQL\", e)"
   ]
  },
  {
   "cell_type": "code",
   "execution_count": 64,
   "id": "c9e787b1",
   "metadata": {
    "scrolled": true
   },
   "outputs": [
    {
     "name": "stdout",
     "output_type": "stream",
     "text": [
      "(1, 'Bắc Ninh', 133, Decimal('149.60'), 103, 3500.2, 1, 14.0, 2015)\n",
      "(2, 'TP. Hồ Chí Minh', 570, Decimal('2811.70'), 199, 512.3, 1, 14.0, 2015)\n",
      "(3, 'Bình Dương', 200, Decimal('2465.80'), 95, 487.0, 1, 14.0, 2015)\n",
      "(4, 'Trà Vinh', 2, Decimal('2526.80'), 1, 10.0, 1, 14.0, 2015)\n",
      "(5, 'Đồng Nai', 103, Decimal('1471.90'), 71, 475.1, 1, 14.0, 2015)\n",
      "(6, 'Hà Nội', 352, Decimal('910.70'), 84, 177.7, 1, 14.0, 2015)\n",
      "(7, 'Hải Phòng', 45, Decimal('573.10'), 26, 237.7, 1, 14.0, 2015)\n",
      "(8, 'Bà Rịa - Vũng Tàu', 11, Decimal('326.30'), 13, 406.1, 1, 14.0, 2015)\n",
      "(9, 'Long An', 119, Decimal('308.70'), 42, 268.4, 1, 14.0, 2015)\n",
      "(10, 'Tây Ninh', 16, Decimal('502.90'), 5, 25.3, 1, 14.0, 2015)\n",
      "(11, 'Hải Dương', 28, Decimal('269.90'), 19, 137.3, 1, 14.0, 2015)\n",
      "(12, 'Bắc Giang', 51, Decimal('223.20'), 22, 182.9, 1, 14.0, 2015)\n",
      "(13, 'Quảng Ninh', 10, Decimal('373.90'), 4, 18.4, 1, 14.0, 2015)\n",
      "(14, 'Vĩnh Phúc', 34, Decimal('273.20'), 16, 104.4, 1, 14.0, 2015)\n",
      "(15, 'Hà Nam', 34, Decimal('288.10'), 15, 50.4, 1, 14.0, 2015)\n",
      "(16, 'Hưng Yên', 34, Decimal('270.10'), 15, 59.6, 1, 14.0, 2015)\n",
      "(17, 'Bình Phước', 21, Decimal('91.90'), 11, 164.4, 1, 14.0, 2015)\n",
      "(18, 'Quảng Nam', 18, Decimal('178.90'), 5, 77.3, 1, 14.0, 2015)\n",
      "(19, 'Thái Nguyên', 23, Decimal('188.90'), 8, 22.3, 1, 14.0, 2015)\n",
      "(20, 'Nghệ An', 15, Decimal('196.50'), 2, 9.8, 1, 14.0, 2015)\n",
      "(21, 'Bến Tre', 2, Decimal('157.40'), 2, 1.2, 1, 14.0, 2015)\n",
      "(22, 'Hà Tĩnh', 9, Decimal('116.00'), 1, 41.3, 1, 14.0, 2015)\n",
      "(23, 'Thừa Thiên Huế', 7, Decimal('78.10'), 3, 61.9, 1, 14.0, 2015)\n",
      "(24, 'Phú Thọ', 12, Decimal('87.60'), 4, 5.6, 1, 14.0, 2015)\n",
      "(25, 'Tiền Giang', 7, Decimal('55.10'), 5, 37.0, 1, 14.0, 2015)\n",
      "(26, 'Yên Bái', 2, Decimal('78.70'), 1, 10.0, 1, 14.0, 2015)\n",
      "(27, 'Nam Định', 13, Decimal('67.20'), 1, 11.0, 1, 14.0, 2015)\n",
      "(28, 'An Giang', 8, Decimal('67.20'), 1, 1.6, 1, 14.0, 2015)\n",
      "(29, 'Bình Định', 6, Decimal('43.10'), 4, 14.3, 1, 14.0, 2015)\n",
      "(30, 'Khánh Hòa', 6, Decimal('53.60'), 2, 2.1, 1, 14.0, 2015)\n",
      "(31, 'Thái Bình', 8, Decimal('49.60'), 1, 10.0, 1, 14.0, 2015)\n",
      "(32, 'Đà Nẵng', 58, Decimal('52.50'), 15, 8.3, 1, 14.0, 2015)\n",
      "(33, 'Thanh Hóa', 7, Decimal('44.00'), 1, 10.0, 1, 14.0, 2015)\n",
      "(34, 'Ninh Bình', 7, Decimal('37.70'), 4, 5.4, 1, 14.0, 2015)\n",
      "(35, 'Phú Yên', 4, Decimal('50.00'), 1, 10.0, 1, 14.0, 2015)\n",
      "(36, 'Kiên Giang', 2, Decimal('33.00'), 1, 10.0, 1, 14.0, 2015)\n",
      "(37, 'Đăk Lăk', 3, Decimal('20.80'), 1, 10.0, 1, 14.0, 2015)\n",
      "(38, 'Quảng Bình', 3, Decimal('12.20'), 1, 15.4, 1, 14.0, 2015)\n",
      "(39, 'Bình Thuận', 1, Decimal('0.00'), 4, 26.5, 1, 14.0, 2015)\n",
      "(40, 'Hậu Giang', 1, Decimal('2.00'), 1, 25.0, 1, 14.0, 2015)\n",
      "(41, 'Quảng Ngãi', 6, Decimal('24.10'), 1, 10.0, 1, 14.0, 2015)\n",
      "(42, 'Cần Thơ', 5, Decimal('17.90'), 1, 10.0, 1, 14.0, 2015)\n",
      "(43, 'Vĩnh Long', 4, Decimal('12.80'), 1, 10.0, 1, 14.0, 2015)\n",
      "(44, 'Đồng Tháp', 1, Decimal('0.20'), 2, 10.2, 1, 14.0, 2015)\n",
      "(45, 'Lâm Đồng', 5, Decimal('7.60'), 1, 1.5, 1, 14.0, 2015)\n",
      "(46, 'Sóc Trăng', 1, Decimal('6.00'), 1, 10.0, 1, 14.0, 2015)\n",
      "(47, 'Bạc Liêu', 1, Decimal('2.00'), 3, 5.7, 1, 14.0, 2015)\n",
      "(48, 'Tuyên Quang', 1, Decimal('2.00'), 2, 5.4, 1, 14.0, 2015)\n",
      "(49, 'Hòa Bình', 5, Decimal('3.00'), 1, 10.0, 1, 14.0, 2015)\n",
      "(50, 'Ninh Thuận', 1, Decimal('0.00'), 1, 0.6, 1, 14.0, 2015)\n",
      "(51, 'Bắc Kạn', 1, Decimal('0.30'), 1, 10.0, 1, 14.0, 2015)\n",
      "(52, 'TP. Hồ Chí Minh', 836, Decimal('1006.69'), 222, 619.07, 1935, 180256.0, 2016)\n",
      "(53, 'Hải Phòng', 52, Decimal('2464.32'), 38, 429.24, 27, 9634.0, 2016)\n",
      "(54, 'Hà Nội', 453, Decimal('1922.76'), 159, 504.47, 228, 36721.0, 2016)\n",
      "(55, 'Bình Dương', 256, Decimal('1630.52'), 130, 641.97, 25, 9472.0, 2016)\n",
      "(56, 'Đồng Nai', 91, Decimal('1043.74'), 136, 921.05, 55, 27344.0, 2016)\n",
      "(57, 'Bắc Giang', 53, Decimal('937.51'), 20, 71.06, 10, 146.0, 2016)\n",
      "(58, 'Bắc Ninh', 185, Decimal('578.64'), 130, 271.49, 24, 4987.0, 2016)\n",
      "(59, 'Long An', 122, Decimal('296.85'), 95, 448.85, 32, 7721.0, 2016)\n",
      "(60, 'Hà Nam', 31, Decimal('604.33'), 29, 100.7, 1, 14.0, 2016)\n",
      "(61, 'Tây Ninh', 24, Decimal('273.87'), 25, 427.57, 1, 14.0, 2016)\n",
      "(62, 'Phú Yên', 2, Decimal('159.22'), 1, 95.5, 4, 30706.0, 2016)\n",
      "(63, 'Quảng Ninh', 10, Decimal('517.74'), 1, 10.0, 8, 3789.0, 2016)\n",
      "(64, 'Bà Rịa - Vũng Tàu', 18, Decimal('259.62'), 13, 201.93, 15, 7018.0, 2016)\n",
      "(65, 'Hải Dương', 29, Decimal('129.59'), 27, 242.15, 11, 4401.0, 2016)\n",
      "(66, 'Tiền Giang', 14, Decimal('388.48'), 10, 25.0, 3, 105.0, 2016)\n",
      "(67, 'Hưng Yên', 42, Decimal('313.80'), 33, 60.18, 15, 1841.0, 2016)\n",
      "(68, 'Hà Tĩnh', 9, Decimal('244.84'), 2, 133.47, 3, 1295.0, 2016)\n",
      "(69, 'Vĩnh Phúc', 30, Decimal('274.12'), 18, 103.31, 18, 1185.0, 2016)\n",
      "(70, 'Nam Định', 14, Decimal('259.15'), 12, 23.22, 4, 2198.0, 2016)\n",
      "(71, 'Trà Vinh', 7, Decimal('256.50'), 1, 10.0, 1, 14.0, 2016)\n",
      "(72, 'Cần Thơ', 8, Decimal('225.99'), 1, 1.12, 3, 1400.0, 2016)\n",
      "(73, 'Thanh Hóa', 15, Decimal('163.76'), 11, 69.6, 1, 4.0, 2016)\n",
      "(74, 'Phú Thọ', 13, Decimal('95.87'), 17, 102.31, 1, 69.0, 2016)\n",
      "(75, 'Thái Nguyên', 23, Decimal('132.20'), 15, 24.69, 8, 746.0, 2016)\n",
      "(76, 'Vĩnh Long', 7, Decimal('136.66'), 3, 6.3, 1, 14.0, 2016)\n",
      "(77, 'Quảng Nam', 18, Decimal('122.89'), 4, 14.96, 1, 2.0, 2016)\n",
      "(78, 'Bình Phước', 20, Decimal('50.62'), 18, 54.59, 1, 14.0, 2016)\n",
      "(79, 'Đà Nẵng', 74, Decimal('78.02'), 11, 10.04, 33, 2929.0, 2016)\n",
      "(80, 'Ninh Bình', 5, Decimal('89.24'), 2, 0.94, 1, 14.0, 2016)\n",
      "(81, 'Ninh Thuận', 3, Decimal('71.52'), 3, 14.1, 3, 268.0, 2016)\n",
      "(82, 'Bình Định', 10, Decimal('81.99'), 1, 2.61, 2, 68.0, 2016)\n",
      "(83, 'Nghệ An', 9, Decimal('72.49'), 1, 10.0, 1, 14.0, 2016)\n",
      "(84, 'Hậu Giang', 1, Decimal('2.00'), 2, 70.0, 1, 14.0, 2016)\n",
      "(85, 'Khánh Hòa', 8, Decimal('6.32'), 4, 39.2, 49, 2253.0, 2016)\n",
      "(86, 'Thái Bình', 9, Decimal('32.93'), 4, 13.74, 4, 736.0, 2016)\n",
      "(87, 'Tuyên Quang', 1, Decimal('2.00'), 2, 38.98, 3, 568.0, 2016)\n",
      "(88, 'Quảng Bình', 3, Decimal('21.43'), 1, 10.0, 1, 2106.0, 2016)\n",
      "(89, 'Lâm Đồng', 1, Decimal('2.00'), 6, 39.49, 10, 195.0, 2016)\n",
      "(90, 'Bến Tre', 6, Decimal('29.28'), 2, 0.71, 2, 236.0, 2016)\n",
      "(91, 'Dầu khí', 1, Decimal('31.50'), 1, 10.0, 1, 14.0, 2016)\n",
      "(92, 'Thừa Thiên Huế', 9, Decimal('28.39'), 1, 0.7, 1, 115.0, 2016)\n",
      "(93, 'Lào Cai', 2, Decimal('0.38'), 2, 25.94, 1, 14.0, 2016)\n",
      "(94, 'Quảng Ngãi', 9, Decimal('96.30'), 4, 74.32, 1, 14.0, 2016)\n",
      "(95, 'Đồng Tháp', 3, Decimal('17.90'), 1, 10.0, 2, 50.0, 2016)\n",
      "(96, 'Hà Giang', 1, Decimal('2.00'), 1, 10.0, 2, 1109.0, 2016)\n",
      "(97, 'An Giang', 1, Decimal('0.02'), 2, 3.1, 1, 752.0, 2016)\n",
      "(98, 'Hòa Bình', 1, Decimal('3.00'), 5, 5.77, 1, 14.0, 2016)\n",
      "(99, 'Lạng Sơn', 2, Decimal('7.79'), 1, 10.0, 1, 14.0, 2016)\n",
      "(100, 'Bình Thuận', 10, Decimal('2.83'), 2, 3.62, 1, 14.0, 2016)\n",
      "(101, 'Kon Tum', 3, Decimal('5.96'), 1, 10.0, 1, 14.0, 2016)\n",
      "(102, 'Sóc Trăng', 1, Decimal('5.00'), 1, 10.0, 1, 14.0, 2016)\n",
      "(103, 'Kiên Giang', 2, Decimal('4.77'), 1, 10.0, 1, 14.0, 2016)\n",
      "(104, 'Quảng Trị', 1, Decimal('4.00'), 1, 10.0, 1, 14.0, 2016)\n",
      "(105, 'Yên Bái', 1, Decimal('0.66'), 1, 1.0, 3, 105.0, 2016)\n",
      "(106, 'Đăk Lăk', 1, Decimal('0.23'), 1, 10.0, 1, 14.0, 2016)\n",
      "(107, 'Đăk Nông', 1, Decimal('2.00'), 1, 1.3, 1, 14.0, 2016)\n",
      "(108, 'Gia Lai', 1, Decimal('2.00'), 1, 2.94, 1, 14.0, 2016)\n",
      "(109, 'TP. Hồ Chí Minh', 864, Decimal('2313.95'), 247, 1000.11, 2788, 319190.0, 2017)\n",
      "(110, 'Bắc Ninh', 184, Decimal('371.71'), 136, 2888.34, 125, 14449.0, 2017)\n",
      "(111, 'Thanh Hóa', 15, Decimal('3159.40'), 5, 5.8, 7, 651.0, 2017)\n",
      "(112, 'Bình Dương', 189, Decimal('1356.46'), 132, 1117.0, 392, 32471.0, 2017)\n",
      "(113, 'Khánh Hòa', 4, Decimal('2584.86'), 2, 13.5, 55, 2804.0, 2017)\n",
      "(114, 'Hà Nội', 542, Decimal('1111.25'), 167, 662.73, 637, 72497.0, 2017)\n",
      "(115, 'Nam Định', 16, Decimal('2134.30'), 10, 92.08, 10, 7760.0, 2017)\n",
      "(116, 'Đồng Nai', 83, Decimal('1002.38'), 81, 307.76, 181, 45386.0, 2017)\n",
      "(117, 'Kiên Giang', 7, Decimal('1342.30'), 2, 28.99, 2, 3.0, 2017)\n",
      "(118, 'Tây Ninh', 24, Decimal('722.90'), 30, 268.09, 28, 1826.0, 2017)\n",
      "(119, 'Hải Phòng', 57, Decimal('220.72'), 41, 622.75, 35, 4141.0, 2017)\n",
      "(120, 'Bắc Giang', 69, Decimal('764.90'), 18, 18.27, 36, 7236.0, 2017)\n",
      "(121, 'Bà Rịa - Vũng Tàu', 25, Decimal('204.27'), 15, 242.97, 34, 8024.0, 2017)\n",
      "(122, 'Hưng Yên', 37, Decimal('360.64'), 44, 144.16, 36, 1681.0, 2017)\n",
      "(123, 'Bình Phước', 24, Decimal('369.91'), 21, 111.07, 22, 3080.0, 2017)\n",
      "(124, 'Long An', 97, Decimal('207.81'), 81, 136.4, 164, 16672.0, 2017)\n",
      "(125, 'Quảng Ngãi', 7, Decimal('313.84'), 2, 60.75, 1, 14.0, 2017)\n",
      "(126, 'Hải Dương', 48, Decimal('247.94'), 27, 83.33, 37, 3488.0, 2017)\n",
      "(127, 'Ninh Thuận', 3, Decimal('265.77'), 1, 10.0, 4, 35.0, 2017)\n",
      "(128, 'Hà Nam', 18, Decimal('119.11'), 19, 104.64, 16, 2084.0, 2017)\n",
      "(129, 'Yên Bái', 4, Decimal('237.02'), 1, 10.0, 2, 113.0, 2017)\n",
      "(130, 'Bến Tre', 4, Decimal('168.41'), 5, 43.95, 13, 2380.0, 2017)\n",
      "(131, 'Ninh Bình', 8, Decimal('126.17'), 4, 56.1, 7, 5180.0, 2017)\n",
      "(132, 'Phú Thọ', 15, Decimal('153.49'), 16, 73.72, 4, 295.0, 2017)\n",
      "(133, 'Quảng Bình', 2, Decimal('56.07'), 1, 10.0, 8, 15585.0, 2017)\n",
      "(134, 'Vĩnh Phúc', 44, Decimal('108.81'), 7, 54.1, 52, 4052.0, 2017)\n",
      "(135, 'Bình Định', 9, Decimal('117.22'), 4, 31.7, 7, 125.0, 2017)\n",
      "(136, 'Tiền Giang', 6, Decimal('68.62'), 7, 67.3, 10, 1413.0, 2017)\n",
      "(137, 'Trà Vinh', 4, Decimal('144.92'), 1, 5.09, 7, 346.0, 2017)\n",
      "(138, 'Đà Nẵng', 66, Decimal('115.86'), 6, 0.94, 111, 2577.0, 2017)\n",
      "(139, 'Quảng Nam', 18, Decimal('112.65'), 4, 9.5, 18, 1285.0, 2017)\n",
      "(140, 'Vĩnh Long', 3, Decimal('55.31'), 5, 72.41, 1, 14.0, 2017)\n",
      "(141, 'Nghệ An', 4, Decimal('123.32'), 1, 10.0, 2, 16.0, 2017)\n",
      "(142, 'Thái Nguyên', 12, Decimal('13.81'), 17, 85.1, 18, 701.0, 2017)\n",
      "(143, 'Thái Bình', 11, Decimal('96.26'), 7, 4.11, 10, 735.0, 2017)\n",
      "(144, 'Hà Tĩnh', 7, Decimal('16.41'), 2, 40.55, 13, 4194.0, 2017)\n",
      "(145, 'Đồng Tháp', 4, Decimal('51.01'), 2, 1.65, 4, 2381.0, 2017)\n",
      "(146, 'Lâm Đồng', 7, Decimal('59.53'), 4, 3.83, 40, 924.0, 2017)\n",
      "(147, 'Đăk Lăk', 2, Decimal('49.50'), 1, 9.0, 2, 175.0, 2017)\n",
      "(148, 'Quảng Ninh', 7, Decimal('52.32'), 3, 3.73, 13, 369.0, 2017)\n",
      "(149, 'Hòa Bình', 4, Decimal('28.62'), 1, 10.0, 2, 11.0, 2017)\n",
      "(150, 'Bình Thuận', 6, Decimal('12.55'), 3, 10.9, 9, 693.0, 2017)\n",
      "(151, 'Cần Thơ', 4, Decimal('8.40'), 1, 5.62, 12, 1285.0, 2017)\n",
      "(152, 'Đăk Nông', 1, Decimal('23.48'), 1, 10.0, 1, 14.0, 2017)\n",
      "(153, 'Cà Mau', 2, Decimal('32.41'), 1, 11.43, 1, 14.0, 2017)\n",
      "(154, 'Sóc Trăng', 1, Decimal('20.00'), 1, 10.0, 1, 14.0, 2017)\n",
      "(155, 'Lào Cai', 2, Decimal('8.15'), 2, 3.63, 3, 657.0, 2017)\n",
      "(156, 'Sơn La', 2, Decimal('13.83'), 1, 0.3, 1, 101.0, 2017)\n",
      "(157, 'Cao Bằng', 1, Decimal('10.00'), 1, 2.1, 1, 27.0, 2017)\n",
      "(158, 'An Giang', 1, Decimal('0.20'), 1, 10.0, 4, 773.0, 2017)\n",
      "(159, 'Thừa Thiên Huế', 5, Decimal('1.62'), 1, 10.0, 8, 489.0, 2017)\n",
      "(160, 'Điện Biên', 1, Decimal('3.00'), 1, 10.0, 1, 280.0, 2017)\n",
      "(161, 'Hà Giang', 3, Decimal('4.52'), 1, 10.0, 2, 45.0, 2017)\n",
      "(162, 'Quảng Trị', 1, Decimal('2.00'), 1, 4.0, 1, 14.0, 2017)\n",
      "(163, 'Lạng Sơn', 1, Decimal('2.20'), 1, 10.0, 3, 121.0, 2017)\n",
      "(164, 'Tuyên Quang', 1, Decimal('2.80'), 1, 10.0, 1, 14.0, 2017)\n",
      "(165, 'Phú Yên', 3, Decimal('1.63'), 1, 0.37, 2, 64.0, 2017)\n",
      "(166, 'Kon Tum', 1, Decimal('0.45'), 1, 0.4, 1, 25.0, 2017)\n",
      "(167, 'Hậu Giang', 2, Decimal('0.92'), 1, 10.0, 1, 3.0, 2017)\n",
      "(168, 'Hà Nội', 622, Decimal('5041.05'), 167, 775.13, 803, 170313.0, 2018)\n",
      "(169, 'TP. Hồ Chí Minh', 1029, Decimal('784.81'), 254, 170.72, 3710, 499311.0, 2018)\n",
      "(170, 'Hải Phòng', 111, Decimal('723.84'), 50, 1829.64, 57, 54001.0, 2018)\n",
      "(171, 'Bình Dương', 215, Decimal('1216.58'), 135, 548.37, 492, 56220.0, 2018)\n",
      "(172, 'Bà Rịa - Vũng Tàu', 45, Decimal('1803.51'), 25, 148.43, 60, 16274.0, 2018)\n",
      "(173, 'Đồng Nai', 125, Decimal('988.99'), 21, 63.21, 211, 40337.0, 2018)\n",
      "(174, 'Thừa Thiên Huế', 8, Decimal('27.69'), 5, 1140.0, 16, 10469.0, 2018)\n",
      "(175, 'Bắc Ninh', 173, Decimal('394.69'), 116, 677.55, 156, 5175.0, 2018)\n",
      "(176, 'Tây Ninh', 30, Decimal('453.32'), 27, 317.53, 43, 6597.0, 2018)\n",
      "(177, 'Long An', 86, Decimal('275.10'), 88, 220.07, 166, 19311.0, 2018)\n",
      "(178, 'Hải Dương', 44, Decimal('235.98'), 28, 299.18, 50, 6185.0, 2018)\n",
      "(179, 'Bắc Giang', 67, Decimal('183.78'), 36, 318.89, 44, 4032.0, 2018)\n",
      "(180, 'Bình Phước', 29, Decimal('348.65'), 20, 96.98, 32, 3505.0, 2018)\n",
      "(181, 'Hưng Yên', 29, Decimal('127.54'), 47, 277.84, 55, 7304.0, 2018)\n",
      "(182, 'Quảng Nam', 29, Decimal('322.86'), 5, 107.98, 24, 3110.0, 2018)\n",
      "(183, 'Thái Nguyên', 14, Decimal('387.09'), 16, 33.88, 22, 2451.0, 2018)\n",
      "(184, 'Hà Nam', 42, Decimal('329.87'), 32, 91.67, 21, 1521.0, 2018)\n",
      "(185, 'Ninh Thuận', 8, Decimal('387.53'), 1, 10.0, 5, 1412.0, 2018)\n",
      "(186, 'Quảng Ninh', 7, Decimal('385.74'), 1, 10.0, 12, 1241.0, 2018)\n",
      "(187, 'Bến Tre', 4, Decimal('382.81'), 5, 4.31, 12, 1646.0, 2018)\n",
      "(188, 'Vĩnh Phúc', 59, Decimal('268.45'), 5, 87.2, 61, 2954.0, 2018)\n",
      "(189, 'Bạc Liêu', 1, Decimal('365.76'), 1, 1.96, 1, 35.0, 2018)\n",
      "(190, 'Quảng Ngãi', 14, Decimal('356.34'), 1, 10.0, 1, 5.0, 2018)\n",
      "(191, 'Thanh Hóa', 16, Decimal('52.42'), 2, 14.3, 21, 29796.0, 2018)\n",
      "(192, 'Kiên Giang', 4, Decimal('353.59'), 1, 0.22, 2, 52.0, 2018)\n",
      "(193, 'Đà Nẵng', 102, Decimal('267.96'), 9, 1.1, 180, 4274.0, 2018)\n",
      "(194, 'Nam Định', 15, Decimal('137.48'), 9, 34.2, 13, 10711.0, 2018)\n",
      "(195, 'Tiền Giang', 10, Decimal('103.16'), 14, 106.18, 9, 3762.0, 2018)\n",
      "(196, 'Hòa Bình', 2, Decimal('200.09'), 2, 12.0, 8, 307.0, 2018)\n",
      "(197, 'Ninh Bình', 12, Decimal('115.08'), 6, 51.55, 8, 4056.0, 2018)\n",
      "(198, 'Vĩnh Long', 11, Decimal('159.00'), 5, 11.04, 2, 72.0, 2018)\n",
      "(199, 'Phú Thọ', 13, Decimal('96.12'), 10, 60.33, 14, 889.0, 2018)\n",
      "(200, 'Bình Định', 9, Decimal('142.02'), 2, 0.31, 11, 1491.0, 2018)\n",
      "(201, 'Trà Vinh', 2, Decimal('150.16'), 1, 10.0, 5, 67.0, 2018)\n",
      "(202, 'Hà Tĩnh', 8, Decimal('98.26'), 1, 10.0, 13, 3450.0, 2018)\n",
      "(203, 'Khánh Hòa', 7, Decimal('8.20'), 5, 4.65, 43, 7805.0, 2018)\n",
      "(204, 'Sóc Trăng', 3, Decimal('89.76'), 1, 10.0, 1, 14.0, 2018)\n",
      "(205, 'Thái Bình', 6, Decimal('31.31'), 7, 10.24, 10, 1452.0, 2018)\n",
      "(206, 'Đăk Nông', 1, Decimal('48.75'), 1, 10.0, 1, 14.0, 2018)\n",
      "(207, 'Cà Mau', 2, Decimal('37.14'), 1, 10.0, 1, 51.0, 2018)\n",
      "(208, 'Cần Thơ', 6, Decimal('4.74'), 1, 30.61, 14, 210.0, 2018)\n",
      "(209, 'Quảng Bình', 2, Decimal('13.07'), 2, 18.5, 3, 13.0, 2018)\n",
      "(210, 'Đăk Lăk', 2, Decimal('2.02'), 1, 2.47, 2, 2501.0, 2018)\n",
      "(211, 'Tuyên Quang', 1, Decimal('21.37'), 1, 3.63, 5, 159.0, 2018)\n",
      "(212, 'Nghệ An', 5, Decimal('24.68'), 1, 10.0, 3, 100.0, 2018)\n",
      "(213, 'Bình Thuận', 1, Decimal('2.00'), 1, 0.41, 7, 1871.0, 2018)\n",
      "(214, 'Phú Yên', 5, Decimal('13.85'), 1, 0.17, 3, 162.0, 2018)\n",
      "(215, 'Lạng Sơn', 1, Decimal('0.90'), 1, 10.0, 6, 300.0, 2018)\n",
      "(216, 'Kon Tum', 1, Decimal('2.00'), 1, 9.0, 1, 14.0, 2018)\n",
      "(217, 'Lâm Đồng', 2, Decimal('5.40'), 2, 0.37, 34, 465.0, 2018)\n",
      "(218, 'Yên Bái', 1, Decimal('1.00'), 1, 10.0, 9, 724.0, 2018)\n",
      "(219, 'Đồng Tháp', 1, Decimal('1.00'), 1, 10.0, 4, 635.0, 2018)\n",
      "(220, 'Hậu Giang', 1, Decimal('2.90'), 1, 3.0, 1, 14.0, 2018)\n",
      "(221, 'An Giang', 2, Decimal('0.32'), 1, 10.0, 4, 189.0, 2018)\n",
      "(222, 'Sơn La', 1, Decimal('2.00'), 1, 0.9, 2, 120.0, 2018)\n",
      "(223, 'Lào Cai', 1, Decimal('2.00'), 1, 10.0, 2, 84.0, 2018)\n",
      "(224, 'Quảng Trị', 1, Decimal('2.00'), 1, 10.0, 1, 71.0, 2018)\n",
      "(225, 'Hà Giang', 2, Decimal('0.44'), 1, 10.0, 2, 20.0, 2018)\n",
      "(226, 'Bắc Kạn', 1, Decimal('2.00'), 1, 10.0, 1, 6.0, 2018)\n",
      "(227, 'Hà Nội', 879, Decimal('1382.06'), 196, 600.04, 1351, 647260.0, 2019)\n",
      "(228, 'TP. Hồ Chí Minh', 1320, Decimal('1841.35'), 309, 858.74, 5720, 559533.0, 2019)\n",
      "(229, 'Bình Dương', 243, Decimal('1546.59'), 150, 951.39, 626, 91483.0, 2019)\n",
      "(230, 'Đồng Nai', 121, Decimal('1296.70'), 63, 162.86, 275, 100955.0, 2019)\n",
      "(231, 'Bắc Ninh', 247, Decimal('833.87'), 162, 663.35, 263, 8538.0, 2019)\n",
      "(232, 'Hải Phòng', 87, Decimal('595.13'), 55, 686.48, 109, 10193.0, 2019)\n",
      "(233, 'Tây Ninh', 35, Decimal('860.20'), 34, 329.29, 39, 6399.0, 2019)\n",
      "(234, 'Bắc Giang', 76, Decimal('787.73'), 35, 287.59, 54, 2674.0, 2019)\n",
      "(235, 'Bà Rịa - Vũng Tàu', 49, Decimal('621.27'), 26, 397.14, 45, 6695.0, 2019)\n",
      "(236, 'Hà Nam', 61, Decimal('720.38'), 44, 108.43, 30, 1435.0, 2019)\n",
      "(237, 'Long An', 146, Decimal('290.91'), 99, 246.91, 203, 25994.0, 2019)\n",
      "(238, 'Hải Dương', 67, Decimal('463.70'), 16, 153.34, 84, 6692.0, 2019)\n",
      "(239, 'Thái Nguyên', 18, Decimal('361.84'), 19, 223.89, 19, 2056.0, 2019)\n",
      "(240, 'Vĩnh Phúc', 60, Decimal('527.75'), 5, 8.3, 69, 4503.0, 2019)\n",
      "(241, 'Đà Nẵng', 131, Decimal('386.38'), 14, 3.2, 263, 12469.0, 2019)\n",
      "(242, 'Hưng Yên', 44, Decimal('468.85'), 44, 53.32, 69, 4466.0, 2019)\n",
      "(243, 'Bình Phước', 41, Decimal('296.56'), 25, 105.3, 41, 4712.0, 2019)\n",
      "(244, 'Tiền Giang', 4, Decimal('349.77'), 8, 37.5, 10, 806.0, 2019)\n",
      "(245, 'Thanh Hóa', 25, Decimal('311.03'), 4, 24.07, 22, 1490.0, 2019)\n",
      "(246, 'Phú Thọ', 33, Decimal('142.13'), 12, 190.31, 15, 1600.0, 2019)\n",
      "(247, 'Thừa Thiên Huế', 12, Decimal('293.41'), 5, 27.3, 19, 256.0, 2019)\n",
      "(248, 'Nghệ An', 11, Decimal('312.58'), 1, 10.0, 10, 247.0, 2019)\n",
      "(249, 'Quảng Ninh', 16, Decimal('171.00'), 1, 13.5, 27, 5761.0, 2019)\n",
      "(250, 'Phú Yên', 1, Decimal('216.75'), 1, 0.25, 2, 6.0, 2019)\n",
      "(251, 'Khánh Hòa', 8, Decimal('109.71'), 1, 0.6, 128, 8917.0, 2019)\n",
      "(252, 'Quảng Nam', 26, Decimal('158.42'), 10, 9.25, 34, 3152.0, 2019)\n",
      "(253, 'Bình Thuận', 8, Decimal('155.85'), 2, 2.1, 28, 2222.0, 2019)\n",
      "(254, 'Vĩnh Long', 18, Decimal('131.57'), 3, 6.7, 9, 1222.0, 2019)\n",
      "(255, 'Ninh Bình', 7, Decimal('120.01'), 3, 23.04, 10, 492.0, 2019)\n",
      "(256, 'Quảng Ngãi', 4, Decimal('49.50'), 5, 63.4, 2, 2187.0, 2019)\n",
      "(257, 'Ninh Thuận', 3, Decimal('114.63'), 1, 10.0, 10, 1555.0, 2019)\n",
      "(258, 'Bạc Liêu', 2, Decimal('113.47'), 1, 10.0, 2, 68.0, 2019)\n",
      "(259, 'Sóc Trăng', 5, Decimal('112.05'), 1, 10.0, 2, 28.0, 2019)\n",
      "(260, 'Trà Vinh', 4, Decimal('99.47'), 1, 10.0, 7, 1102.0, 2019)\n",
      "(261, 'Bình Định', 6, Decimal('80.56'), 3, 14.49, 14, 2458.0, 2019)\n",
      "(262, 'Cà Mau', 2, Decimal('79.50'), 1, 10.0, 2, 71.0, 2019)\n",
      "(263, 'Hậu Giang', 2, Decimal('69.70'), 1, 10.0, 3, 134.0, 2019)\n",
      "(264, 'Cần Thơ', 7, Decimal('42.73'), 3, 0.24, 18, 2582.0, 2019)\n",
      "(265, 'Thái Bình', 7, Decimal('28.54'), 5, 28.27, 13, 952.0, 2019)\n",
      "(266, 'An Giang', 2, Decimal('57.92'), 1, 1.6, 9, 586.0, 2019)\n",
      "(267, 'Nam Định', 9, Decimal('21.77'), 5, 5.54, 19, 3742.0, 2019)\n",
      "(268, 'Bến Tre', 3, Decimal('16.50'), 2, 4.0, 10, 3924.0, 2019)\n",
      "(269, 'Hà Tĩnh', 7, Decimal('14.31'), 1, 10.0, 22, 1833.0, 2019)\n",
      "(270, 'Lâm Đồng', 3, Decimal('9.06'), 3, 1.37, 69, 1406.0, 2019)\n",
      "(271, 'Kiên Giang', 5, Decimal('8.94'), 1, 8.67, 20, 306.0, 2019)\n",
      "(272, 'Quảng Trị', 1, Decimal('20.00'), 1, 10.0, 1, 14.0, 2019)\n",
      "(273, 'Tuyên Quang', 6, Decimal('13.90'), 1, 10.0, 4, 270.0, 2019)\n",
      "(274, 'Đồng Tháp', 2, Decimal('11.51'), 1, 10.0, 4, 152.0, 2019)\n",
      "(275, 'Yên Bái', 3, Decimal('4.43'), 1, 1.11, 7, 176.0, 2019)\n",
      "(276, 'Kon Tum', 1, Decimal('0.78'), 1, 10.0, 2, 485.0, 2019)\n",
      "(277, 'Bắc Kạn', 1, Decimal('4.32'), 1, 10.0, 1, 6.0, 2019)\n",
      "(278, 'Đăk Lăk', 1, Decimal('2.00'), 1, 10.0, 2, 256.0, 2019)\n",
      "(279, 'Lạng Sơn', 1, Decimal('2.00'), 1, 10.0, 4, 139.0, 2019)\n",
      "(280, 'Điện Biên', 1, Decimal('2.00'), 1, 10.0, 1, 122.0, 2019)\n",
      "(281, 'Lào Cai', 1, Decimal('0.87'), 1, 10.0, 2, 8.0, 2019)\n",
      "(282, 'Quảng Bình', 1, Decimal('2.00'), 1, 10.0, 5, 78.0, 2019)\n",
      "(283, 'Hà Giang', 1, Decimal('2.00'), 1, 10.0, 1, 50.0, 2019)\n",
      "(284, 'Sơn La', 1, Decimal('2.00'), 1, 10.0, 2, 38.0, 2019)\n",
      "(285, 'Đăk Nông', 1, Decimal('2.00'), 1, 10.0, 1, 14.0, 2019)\n",
      "(286, 'Cao Bằng', 1, Decimal('2.00'), 1, 10.0, 2, 7.0, 2019)\n",
      "(287, 'Lai Châu', 1, Decimal('2.00'), 1, 10.0, 1, 5.0, 2019)\n",
      "(288, 'Hòa Bình', 3, Decimal('17.66'), 6, 20.5, 7, 180.0, 2019)\n",
      "(289, 'TP. Hồ Chí Minh', 950, Decimal('637.68'), 250, 540.87, 3640, 317738.0, 2020)\n",
      "(290, 'Bạc Liêu', 1, Decimal('4000.00'), 1, 10.0, 1, 14.0, 2020)\n",
      "(291, 'Hà Nội', 496, Decimal('711.81'), 158, 1261.91, 751, 161182.0, 2020)\n",
      "(292, 'Bà Rịa - Vũng Tàu', 31, Decimal('302.36'), 8, 1489.66, 37, 38178.0, 2020)\n",
      "(293, 'Bình Dương', 133, Decimal('783.90'), 92, 317.64, 395, 78212.0, 2020)\n",
      "(294, 'Hải Phòng', 79, Decimal('1064.13'), 28, 376.67, 72, 6976.0, 2020)\n",
      "(295, 'Đồng Nai', 69, Decimal('405.04'), 38, 160.49, 142, 36283.0, 2020)\n",
      "(296, 'Bắc Ninh', 153, Decimal('429.97'), 99, 381.87, 162, 8935.0, 2020)\n",
      "(297, 'Bắc Giang', 35, Decimal('395.30'), 55, 432.49, 39, 6690.0, 2020)\n",
      "(298, 'Long An', 113, Decimal('326.24'), 102, 305.11, 132, 17894.0, 2020)\n",
      "(299, 'Hà Nam', 33, Decimal('574.26'), 33, 145.26, 28, 1024.0, 2020)\n",
      "(300, 'Bến Tre', 8, Decimal('541.12'), 2, 5.62, 7, 2196.0, 2020)\n",
      "(301, 'Tây Ninh', 15, Decimal('388.16'), 29, 121.91, 34, 3800.0, 2020)\n",
      "(302, 'Vĩnh Phúc', 28, Decimal('497.50'), 13, 20.49, 32, 2272.0, 2020)\n",
      "(303, 'Hải Dương', 32, Decimal('164.42'), 46, 322.8, 42, 3306.0, 2020)\n",
      "(304, 'Quảng Ninh', 16, Decimal('465.99'), 2, 14.88, 16, 2479.0, 2020)\n",
      "(305, 'Hưng Yên', 22, Decimal('241.74'), 34, 203.03, 40, 4301.0, 2020)\n",
      "(306, 'Thái Nguyên', 20, Decimal('373.92'), 12, 24.3, 16, 254.0, 2020)\n",
      "(307, 'Bình Phước', 48, Decimal('322.38'), 18, 26.15, 18, 2057.0, 2020)\n",
      "(308, 'Thanh Hóa', 14, Decimal('240.30'), 7, 100.95, 22, 829.0, 2020)\n",
      "(309, 'Phú Thọ', 19, Decimal('221.55'), 17, 59.64, 10, 956.0, 2020)\n",
      "(310, 'Quảng Bình', 3, Decimal('295.11'), 1, 10.97, 2, 12.0, 2020)\n",
      "(311, 'Vĩnh Long', 6, Decimal('104.42'), 9, 52.52, 1, 8284.0, 2020)\n",
      "(312, 'Đà Nẵng', 83, Decimal('128.86'), 20, 80.06, 105, 863.0, 2020)\n",
      "(313, 'Nghệ An', 10, Decimal('164.70'), 1, 10.0, 6, 475.0, 2020)\n",
      "(314, 'Tiền Giang', 9, Decimal('108.19'), 11, 55.28, 6, 369.0, 2020)\n",
      "(315, 'Đăk Nông', 4, Decimal('149.62'), 1, 10.0, 1, 14.0, 2020)\n",
      "(316, 'Quảng Ngãi', 3, Decimal('64.03'), 7, 63.3, 3, 425.0, 2020)\n",
      "(317, 'Trà Vinh', 3, Decimal('2.79'), 4, 31.63, 15, 8307.0, 2020)\n",
      "(318, 'Ninh Bình', 7, Decimal('29.61'), 2, 42.0, 5, 4413.0, 2020)\n",
      "(319, 'Bình Thuận', 6, Decimal('77.77'), 3, 1.19, 27, 2149.0, 2020)\n",
      "(320, 'Nam Định', 16, Decimal('50.94'), 8, 20.22, 19, 2675.0, 2020)\n",
      "(321, 'Thái Bình', 11, Decimal('82.81'), 1, 0.3, 9, 778.0, 2020)\n",
      "(322, 'Khánh Hòa', 5, Decimal('30.26'), 2, 13.45, 116, 3286.0, 2020)\n",
      "(323, 'Sóc Trăng', 2, Decimal('70.39'), 5, 18.76, 1, 52.0, 2020)\n",
      "(324, 'Bình Định', 4, Decimal('10.93'), 3, 4.85, 15, 2921.0, 2020)\n",
      "(325, 'Cần Thơ', 5, Decimal('31.72'), 1, 0.47, 11, 1143.0, 2020)\n",
      "(326, 'Thừa Thiên Huế', 6, Decimal('18.42'), 1, 10.0, 23, 2377.0, 2020)\n",
      "(327, 'Cà Mau', 1, Decimal('40.77'), 1, 10.0, 1, 4.0, 2020)\n",
      "(328, 'Hòa Bình', 2, Decimal('3.58'), 3, 8.86, 9, 1184.0, 2020)\n",
      "(329, 'Quảng Trị', 1, Decimal('2.00'), 1, 10.1, 5, 1007.0, 2020)\n",
      "(330, 'Lâm Đồng', 3, Decimal('10.00'), 1, 10.0, 41, 834.0, 2020)\n",
      "(331, 'Đồng Tháp', 1, Decimal('2.00'), 1, 1.73, 6, 1448.0, 2020)\n",
      "(332, 'Hà Tĩnh', 2, Decimal('10.28'), 1, 10.0, 8, 529.0, 2020)\n",
      "(333, 'Kiên Giang', 1, Decimal('5.00'), 1, 10.0, 19, 932.0, 2020)\n",
      "(334, 'Tuyên Quang', 1, Decimal('12.00'), 1, 10.0, 4, 230.0, 2020)\n",
      "(335, 'Gia Lai', 1, Decimal('7.00'), 1, 0.43, 2, 86.0, 2020)\n",
      "(336, 'Yên Bái', 1, Decimal('2.02'), 1, 0.68, 10, 558.0, 2020)\n",
      "(337, 'Lào Cai', 1, Decimal('2.26'), 1, 10.0, 1, 540.0, 2020)\n",
      "(338, 'An Giang', 1, Decimal('1.83'), 1, 1.5, 1, 236.0, 2020)\n",
      "(339, 'Hậu Giang', 1, Decimal('5.00'), 1, 10.0, 1, 8.0, 2020)\n",
      "(340, 'Đăk Lăk', 1, Decimal('4.05'), 1, 10.0, 1, 14.0, 2020)\n",
      "(341, 'Sơn La', 1, Decimal('2.00'), 1, 10.0, 1, 88.0, 2020)\n",
      "(342, 'Phú Yên', 1, Decimal('0.22'), 1, 10.0, 3, 20.0, 2020)\n",
      "(343, 'Kon Tum', 1, Decimal('2.00'), 1, 10.0, 3, 31.0, 2020)\n",
      "(344, 'Điện Biên', 1, Decimal('2.00'), 1, 10.0, 1, 12.0, 2020)\n",
      "(345, 'Cao Bằng', 1, Decimal('2.00'), 1, 10.0, 1, 8.0, 2020)\n",
      "(346, 'Quảng Nam', 8, Decimal('34.10'), 10, 97.56, 15, 2736.0, 2020)\n",
      "(347, 'Ninh Thuận', 1, Decimal('2.00'), 2, 158.51, 9, 2322.0, 2020)\n",
      "(348, 'Hải Phòng', 48, Decimal('317.08'), 65, 2727.59, 35, 221758.0, 2021)\n",
      "(349, 'Long An', 54, Decimal('3518.84'), 65, 255.24, 43, 6889.0, 2021)\n",
      "(350, 'TP. Hồ Chí Minh', 633, Decimal('686.63'), 178, 1124.28, 2289, 192721.0, 2021)\n",
      "(351, 'Bình Dương', 75, Decimal('629.56'), 26, 669.52, 202, 83405.0, 2021)\n",
      "(352, 'Bắc Ninh', 126, Decimal('1170.51'), 96, 320.56, 113, 17171.0, 2021)\n",
      "(353, 'Hà Nội', 362, Decimal('237.55'), 146, 838.77, 462, 44814.0, 2021)\n",
      "(354, 'Đồng Nai', 51, Decimal('295.44'), 49, 466.97, 87, 59727.0, 2021)\n",
      "(355, 'Cần Thơ', 5, Decimal('1316.82'), 1, 9.0, 7, 146.0, 2021)\n",
      "(356, 'Bắc Giang', 21, Decimal('621.84'), 45, 652.71, 40, 3960.0, 2021)\n",
      "(357, 'Quảng Ninh', 10, Decimal('1011.55'), 4, 113.95, 11, 3117.0, 2021)\n",
      "(358, 'Tây Ninh', 16, Decimal('247.90'), 26, 573.89, 8, 169.0, 2021)\n",
      "(359, 'Vĩnh Phúc', 27, Decimal('703.14'), 8, 33.21, 13, 768.0, 2021)\n",
      "(360, 'Hưng Yên', 28, Decimal('393.80'), 38, 272.59, 34, 4574.0, 2021)\n",
      "(361, 'Phú Thọ', 15, Decimal('434.24'), 16, 133.55, 7, 960.0, 2021)\n",
      "(362, 'Thái Bình', 6, Decimal('459.85'), 1, 1.44, 3, 135.0, 2021)\n",
      "(363, 'Đăk Lăk', 8, Decimal('454.88'), 1, 10.0, 2, 22.0, 2021)\n",
      "(364, 'Bình Phước', 49, Decimal('327.52'), 32, 109.37, 13, 1348.0, 2021)\n",
      "(365, 'Bà Rịa - Vũng Tàu', 21, Decimal('345.08'), 10, 10.42, 23, 4266.0, 2021)\n",
      "(366, 'Hải Dương', 17, Decimal('110.25'), 43, 195.05, 50, 2631.0, 2021)\n",
      "(367, 'Nghệ An', 9, Decimal('283.18'), 6, 34.67, 3, 66.0, 2021)\n",
      "(368, 'Hà Nam', 20, Decimal('237.25'), 28, 68.64, 3, 199.0, 2021)\n",
      "(369, 'Thái Nguyên', 15, Decimal('111.34'), 15, 104.63, 8, 433.0, 2021)\n",
      "(370, 'Thanh Hóa', 11, Decimal('137.44'), 8, 42.43, 7, 1296.0, 2021)\n",
      "(371, 'Thừa Thiên Huế', 3, Decimal('165.56'), 2, 16.3, 11, 162.0, 2021)\n",
      "(372, 'Đà Nẵng', 40, Decimal('150.00'), 19, 10.61, 51, 1173.0, 2021)\n",
      "(373, 'Ninh Bình', 7, Decimal('83.76'), 2, 22.0, 11, 5108.0, 2021)\n",
      "(374, 'Hậu Giang', 6, Decimal('145.54'), 2, 8.0, 3, 50.0, 2021)\n",
      "(375, 'Kon Tum', 1, Decimal('152.87'), 1, 10.0, 1, 53.0, 2021)\n",
      "(376, 'Nam Định', 3, Decimal('3.60'), 15, 55.77, 7, 8971.0, 2021)\n",
      "(377, 'Tiền Giang', 2, Decimal('2.06'), 4, 134.4, 3, 147.0, 2021)\n",
      "(378, 'Bình Định', 4, Decimal('80.34'), 3, 12.4, 12, 2115.0, 2021)\n",
      "(379, 'Quảng Trị', 2, Decimal('91.76'), 1, 10.0, 2, 1103.0, 2021)\n",
      "(380, 'Ninh Thuận', 1, Decimal('4.00'), 1, 10.0, 12, 7476.0, 2021)\n",
      "(381, 'Quảng Bình', 1, Decimal('54.60'), 1, 10.0, 3, 148.0, 2021)\n",
      "(382, 'Yên Bái', 7, Decimal('48.50'), 1, 10.0, 7, 677.0, 2021)\n",
      "(383, 'Vĩnh Long', 6, Decimal('13.74'), 6, 33.69, 3, 288.0, 2021)\n",
      "(384, 'Đồng Tháp', 4, Decimal('42.76'), 1, 10.0, 4, 495.0, 2021)\n",
      "(385, 'Quảng Ngãi', 2, Decimal('24.95'), 2, 17.06, 1, 14.0, 2021)\n",
      "(386, 'Quảng Nam', 7, Decimal('15.21'), 6, 13.09, 40, 1166.0, 2021)\n",
      "(387, 'Khánh Hòa', 1, Decimal('6.75'), 5, 25.14, 63, 589.0, 2021)\n",
      "(388, 'Cà Mau', 1, Decimal('4.31'), 1, 0.88, 2, 3015.0, 2021)\n",
      "(389, 'Bình Thuận', 2, Decimal('12.35'), 1, 10.0, 10, 210.0, 2021)\n",
      "(390, 'Lâm Đồng', 1, Decimal('2.00'), 2, 3.37, 31, 722.0, 2021)\n",
      "(391, 'Trà Vinh', 1, Decimal('0.25'), 2, 8.71, 4, 309.0, 2021)\n",
      "(392, 'An Giang', 1, Decimal('11.00'), 1, 10.0, 3, 94.0, 2021)\n",
      "(393, 'Hà Tĩnh', 1, Decimal('2.00'), 1, 10.0, 13, 1175.0, 2021)\n",
      "(394, 'Lào Cai', 1, Decimal('3.93'), 1, 10.0, 1, 757.0, 2021)\n",
      "(395, 'Đăk Nông', 1, Decimal('7.65'), 1, 10.0, 1, 14.0, 2021)\n",
      "(396, 'Kiên Giang', 1, Decimal('2.00'), 1, 10.0, 22, 639.0, 2021)\n",
      "(397, 'Lạng Sơn', 1, Decimal('2.00'), 1, 10.0, 1, 600.0, 2021)\n",
      "(398, 'Gia Lai', 1, Decimal('2.00'), 1, 1.2, 1, 41.0, 2021)\n",
      "(399, 'Phú Yên', 1, Decimal('1.11'), 1, 10.0, 1, 14.0, 2021)\n",
      "(400, 'Cao Bằng', 1, Decimal('2.00'), 1, 10.0, 1, 86.0, 2021)\n",
      "(401, 'Lai Châu', 1, Decimal('2.00'), 1, 10.0, 2, 55.0, 2021)\n",
      "(402, 'Sóc Trăng', 1, Decimal('2.00'), 1, 0.5, 1, 14.0, 2021)\n",
      "(403, 'Bạc Liêu', 1, Decimal('0.00'), 1, 10.0, 1, 20.0, 2021)\n",
      "(404, 'Hòa Bình', 1, Decimal('2.00'), 1, 10.0, 2, 12.0, 2021)\n",
      "(405, 'Tuyên Quang', 1, Decimal('2.00'), 1, 15.07, 1, 37.0, 2021)\n",
      "(406, 'Bến Tre', 3, Decimal('63.13'), 5, 91.76, 6, 1253.0, 2021)\n",
      "(407, 'TP. Hồ Chí Minh', 893, Decimal('601.07'), 192, 1600.72, 2411, 173861.0, 2022)\n",
      "(408, 'Bình Dương', 68, Decimal('1909.08'), 26, 37.11, 186, 119648.0, 2022)\n",
      "(409, 'Quảng Ninh', 9, Decimal('2181.17'), 1, 10.0, 6, 18699.0, 2022)\n",
      "(410, 'Bắc Ninh', 147, Decimal('503.09'), 123, 1685.63, 60, 5519.0, 2022)\n",
      "(411, 'Hải Phòng', 91, Decimal('1139.00'), 41, 792.74, 26, 3148.0, 2022)\n",
      "(412, 'Hà Nội', 365, Decimal('233.27'), 206, 842.53, 387, 63003.0, 2022)\n",
      "(413, 'Thái Nguyên', 5, Decimal('323.00'), 11, 1212.16, 7, 1047.0, 2022)\n",
      "(414, 'Đồng Nai', 51, Decimal('485.19'), 90, 593.54, 66, 17337.0, 2022)\n",
      "(415, 'Bắc Giang', 36, Decimal('438.96'), 45, 678.16, 30, 9750.0, 2022)\n",
      "(416, 'Bà Rịa - Vũng Tàu', 17, Decimal('282.13'), 7, 50.22, 22, 62187.0, 2022)\n",
      "(417, 'Nghệ An', 19, Decimal('490.51'), 2, 400.0, 2, 17.0, 2022)\n",
      "(418, 'Long An', 61, Decimal('468.89'), 83, 315.15, 58, 6234.0, 2022)\n",
      "(419, 'Hưng Yên', 21, Decimal('316.77'), 58, 387.35, 19, 4199.0, 2022)\n",
      "(420, 'Phú Thọ', 8, Decimal('406.87'), 20, 288.59, 3, 521.0, 2022)\n",
      "(421, 'Tây Ninh', 18, Decimal('537.80'), 19, 155.03, 7, 549.0, 2022)\n",
      "(422, 'Hà Nam', 19, Decimal('176.86'), 38, 350.59, 3, 76.0, 2022)\n",
      "(423, 'Hải Dương', 17, Decimal('59.44'), 33, 306.01, 21, 516.0, 2022)\n",
      "(424, 'Thái Bình', 8, Decimal('219.82'), 5, 86.29, 2, 175.0, 2022)\n",
      "(425, 'Hà Tĩnh', 1, Decimal('275.00'), 1, 10.0, 2, 113.0, 2022)\n",
      "(426, 'Vĩnh Phúc', 28, Decimal('225.47'), 3, 18.44, 4, 61.0, 2022)\n",
      "(427, 'Bình Phước', 33, Decimal('121.03'), 21, 93.19, 4, 1167.0, 2022)\n",
      "(428, 'Tiền Giang', 9, Decimal('40.68'), 4, 181.05, 1, 4.0, 2022)\n",
      "(429, 'Thừa Thiên Huế', 6, Decimal('197.31'), 2, 0.02, 2, 17.0, 2022)\n",
      "(430, 'Cần Thơ', 6, Decimal('174.23'), 2, 2.34, 9, 939.0, 2022)\n",
      "(431, 'Vĩnh Long', 4, Decimal('102.24'), 12, 53.59, 1, 13.0, 2022)\n",
      "(432, 'Đà Nẵng', 47, Decimal('69.88'), 35, 5.79, 49, 5833.0, 2022)\n",
      "(433, 'Sóc Trăng', 2, Decimal('110.03'), 1, 1.8, 1, 454.0, 2022)\n",
      "(434, 'Thanh Hóa', 7, Decimal('69.33'), 5, 27.4, 4, 78.0, 2022)\n",
      "(435, 'Ninh Thuận', 1, Decimal('6.00'), 1, 10.0, 12, 8156.0, 2022)\n",
      "(436, 'Quảng Ngãi', 4, Decimal('73.42'), 2, 13.5, 1, 0.0, 2022)\n",
      "(437, 'Quảng Nam', 5, Decimal('68.24'), 3, 1.7, 19, 930.0, 2022)\n",
      "(438, 'Ninh Bình', 5, Decimal('16.51'), 1, 2.02, 5, 4884.0, 2022)\n",
      "(439, 'Nam Định', 7, Decimal('43.02'), 4, 2.95, 6, 1162.0, 2022)\n",
      "(440, 'Bình Định', 2, Decimal('4.32'), 2, 15.15, 6, 1474.0, 2022)\n",
      "(441, 'Bình Thuận', 2, Decimal('16.06'), 1, 0.21, 5, 851.0, 2022)\n",
      "(442, 'An Giang', 2, Decimal('23.00'), 1, 1.5, 2, 14.0, 2022)\n",
      "(443, 'Đăk Lăk', 2, Decimal('5.65'), 2, 3.94, 2, 124.0, 2022)\n",
      "(444, 'Yên Bái', 3, Decimal('6.61'), 1, 10.0, 6, 310.0, 2022)\n",
      "(445, 'Khánh Hòa', 1, Decimal('0.77'), 1, 10.0, 55, 792.0, 2022)\n",
      "(446, 'Kiên Giang', 1, Decimal('2.00'), 1, 10.0, 11, 267.0, 2022)\n",
      "(447, 'Trà Vinh', 1, Decimal('3.00'), 1, 0.03, 1, 14.0, 2022)\n",
      "(448, 'Bến Tre', 1, Decimal('1.08'), 1, 0.45, 3, 223.0, 2022)\n",
      "(449, 'Phú Yên', 1, Decimal('2.00'), 1, 10.0, 2, 183.0, 2022)\n",
      "(450, 'Lạng Sơn', 1, Decimal('2.00'), 1, 10.0, 1, 172.0, 2022)\n",
      "(451, 'Hòa Bình', 1, Decimal('2.00'), 1, 10.0, 3, 144.0, 2022)\n",
      "(452, 'Tuyên Quang', 1, Decimal('2.00'), 1, 10.0, 4, 86.0, 2022)\n",
      "(453, 'Đăk Nông', 1, Decimal('2.00'), 1, 0.49, 1, 13.0, 2022)\n",
      "(454, 'Kon Tum', 1, Decimal('2.00'), 1, 10.0, 3, 57.0, 2022)\n",
      "(455, 'Quảng Trị', 1, Decimal('2.00'), 1, 10.0, 3, 47.0, 2022)\n",
      "(456, 'Hậu Giang', 1, Decimal('0.01'), 1, 10.0, 3, 28.0, 2022)\n",
      "(457, 'Cà Mau', 1, Decimal('2.00'), 1, 10.0, 2, 14.0, 2022)\n",
      "(458, 'Gia Lai', 1, Decimal('2.00'), 1, 10.0, 1, 11.0, 2022)\n",
      "(459, 'Lâm Đồng', 1, Decimal('0.04'), 3, 9.38, 17, 302.0, 2022)\n",
      "(460, 'Bạc Liêu', 1, Decimal('18.35'), 1, 79.3, 1, 14.0, 2022)\n"
     ]
    }
   ],
   "source": [
    "# Execute query\n",
    "sql = \"SELECT * FROM lab1a.fdiProvinces\"\n",
    "cursor.execute(sql)\n",
    "# Fetch all the records\n",
    "result = cursor.fetchall()\n",
    "for i in result:\n",
    "    print(i)"
   ]
  },
  {
   "attachments": {},
   "cell_type": "markdown",
   "id": "19ea1084",
   "metadata": {},
   "source": [
    "# Bắt đầu khai thác các dữ liệu"
   ]
  },
  {
   "cell_type": "code",
   "execution_count": 92,
   "id": "67ddd342",
   "metadata": {},
   "outputs": [
    {
     "data": {
      "image/png": "[encoded data removed]",
      "text/plain": [
       "<Figure size 1000x1000 with 2 Axes>"
      ]
     },
     "metadata": {},
     "output_type": "display_data"
    }
   ],
   "source": [
    "# draw graph to show is there any relationship between number of new projects and adjusted registered capital by heat map\n",
    "plt.figure(figsize=(10, 10))\n",
    "sns.heatmap(data.corr(), annot=True, cmap='coolwarm')\n",
    "plt.show()\n"
   ]
  },
  {
   "cell_type": "code",
   "execution_count": 95,
   "id": "9252ec0a",
   "metadata": {},
   "outputs": [],
   "source": [
    "# get the latitude and longitude of each province in Vietnam\n",
    "\n",
    "# get the latitude and longitude of each province in Vietnam\n",
    "def get_location(province):\n",
    "    geolocator = Nominatim(user_agent=\"myGeocoder\")\n",
    "    location = geolocator.geocode(province, timeout=10)\n",
    "    return location.latitude, location.longitude\n",
    "\n",
    "# get list of province in Vietnam\n",
    "province_list = data['Doi tac'].unique()\n",
    "# create dict of latitude and longitude of each provinct in Vietnam\n",
    "province_location = {}\n",
    "for province in province_list:\n",
    "    province_location[province] = get_location(province)\n",
    "    \n",
    "# map province_location to data\n",
    "data['latitude'] = data['Doi tac'].map(lambda x: province_location[x][0])\n",
    "data['longitude'] = data['Doi tac'].map(lambda x: province_location[x][1])\n",
    "\n",
    "\n",
    "\n",
    "\n",
    "\n",
    "\n"
   ]
  },
  {
   "cell_type": "code",
   "execution_count": 135,
   "id": "6915af0d",
   "metadata": {},
   "outputs": [
    {
     "data": {
      "application/vnd.plotly.v1+json": {
       "config": {
        "plotlyServerURL": "https://plot.ly"
       },
       "data": [
        {
         "hovertemplate": "Nam=%{x}<br>y=%{y}<extra></extra>",
         "legendgroup": "",
         "line": {
          "color": "#636efa",
          "dash": "solid"
         },
         "marker": {
          "symbol": "circle"
         },
         "mode": "lines",
         "name": "",
         "orientation": "v",
         "showlegend": false,
         "type": "scatter",
         "x": [
          2015,
          2016,
          2017,
          2018,
          2019,
          2020,
          2021,
          2022
         ],
         "xaxis": "x",
         "y": [
          15583.800000000001,
          15194.23,
          21277.91,
          17986.170000000002,
          16763.62,
          14660.45,
          15261.42,
          12464.2
         ],
         "yaxis": "y"
        }
       ],
       "layout": {
        "legend": {
         "tracegroupgap": 0
        },
        "template": {
         "data": {
          "bar": [
           {
            "error_x": {
             "color": "#2a3f5f"
            },
            "error_y": {
             "color": "#2a3f5f"
            },
            "marker": {
             "line": {
              "color": "#E5ECF6",
              "width": 0.5
             },
             "pattern": {
              "fillmode": "overlay",
              "size": 10,
              "solidity": 0.2
             }
            },
            "type": "bar"
           }
          ],
          "barpolar": [
           {
            "marker": {
             "line": {
              "color": "#E5ECF6",
              "width": 0.5
             },
             "pattern": {
              "fillmode": "overlay",
              "size": 10,
              "solidity": 0.2
             }
            },
            "type": "barpolar"
           }
          ],
          "carpet": [
           {
            "aaxis": {
             "endlinecolor": "#2a3f5f",
             "gridcolor": "white",
             "linecolor": "white",
             "minorgridcolor": "white",
             "startlinecolor": "#2a3f5f"
            },
            "baxis": {
             "endlinecolor": "#2a3f5f",
             "gridcolor": "white",
             "linecolor": "white",
             "minorgridcolor": "white",
             "startlinecolor": "#2a3f5f"
            },
            "type": "carpet"
           }
          ],
          "choropleth": [
           {
            "colorbar": {
             "outlinewidth": 0,
             "ticks": ""
            },
            "type": "choropleth"
           }
          ],
          "contour": [
           {
            "colorbar": {
             "outlinewidth": 0,
             "ticks": ""
            },
            "colorscale": [
             [
              0,
              "#0d0887"
             ],
             [
              0.1111111111111111,
              "#46039f"
             ],
             [
              0.2222222222222222,
              "#7201a8"
             ],
             [
              0.3333333333333333,
              "#9c179e"
             ],
             [
              0.4444444444444444,
              "#bd3786"
             ],
             [
              0.5555555555555556,
              "#d8576b"
             ],
             [
              0.6666666666666666,
              "#ed7953"
             ],
             [
              0.7777777777777778,
              "#fb9f3a"
             ],
             [
              0.8888888888888888,
              "#fdca26"
             ],
             [
              1,
              "#f0f921"
             ]
            ],
            "type": "contour"
           }
          ],
          "contourcarpet": [
           {
            "colorbar": {
             "outlinewidth": 0,
             "ticks": ""
            },
            "type": "contourcarpet"
           }
          ],
          "heatmap": [
           {
            "colorbar": {
             "outlinewidth": 0,
             "ticks": ""
            },
            "colorscale": [
             [
              0,
              "#0d0887"
             ],
             [
              0.1111111111111111,
              "#46039f"
             ],
             [
              0.2222222222222222,
              "#7201a8"
             ],
             [
              0.3333333333333333,
              "#9c179e"
             ],
             [
              0.4444444444444444,
              "#bd3786"
             ],
             [
              0.5555555555555556,
              "#d8576b"
             ],
             [
              0.6666666666666666,
              "#ed7953"
             ],
             [
              0.7777777777777778,
              "#fb9f3a"
             ],
             [
              0.8888888888888888,
              "#fdca26"
             ],
             [
              1,
              "#f0f921"
             ]
            ],
            "type": "heatmap"
           }
          ],
          "heatmapgl": [
           {
            "colorbar": {
             "outlinewidth": 0,
             "ticks": ""
            },
            "colorscale": [
             [
              0,
              "#0d0887"
             ],
             [
              0.1111111111111111,
              "#46039f"
             ],
             [
              0.2222222222222222,
              "#7201a8"
             ],
             [
              0.3333333333333333,
              "#9c179e"
             ],
             [
              0.4444444444444444,
              "#bd3786"
             ],
             [
              0.5555555555555556,
              "#d8576b"
             ],
             [
              0.6666666666666666,
              "#ed7953"
             ],
             [
              0.7777777777777778,
              "#fb9f3a"
             ],
             [
              0.8888888888888888,
              "#fdca26"
             ],
             [
              1,
              "#f0f921"
             ]
            ],
            "type": "heatmapgl"
           }
          ],
          "histogram": [
           {
            "marker": {
             "pattern": {
              "fillmode": "overlay",
              "size": 10,
              "solidity": 0.2
             }
            },
            "type": "histogram"
           }
          ],
          "histogram2d": [
           {
            "colorbar": {
             "outlinewidth": 0,
             "ticks": ""
            },
            "colorscale": [
             [
              0,
              "#0d0887"
             ],
             [
              0.1111111111111111,
              "#46039f"
             ],
             [
              0.2222222222222222,
              "#7201a8"
             ],
             [
              0.3333333333333333,
              "#9c179e"
             ],
             [
              0.4444444444444444,
              "#bd3786"
             ],
             [
              0.5555555555555556,
              "#d8576b"
             ],
             [
              0.6666666666666666,
              "#ed7953"
             ],
             [
              0.7777777777777778,
              "#fb9f3a"
             ],
             [
              0.8888888888888888,
              "#fdca26"
             ],
             [
              1,
              "#f0f921"
             ]
            ],
            "type": "histogram2d"
           }
          ],
          "histogram2dcontour": [
           {
            "colorbar": {
             "outlinewidth": 0,
             "ticks": ""
            },
            "colorscale": [
             [
              0,
              "#0d0887"
             ],
             [
              0.1111111111111111,
              "#46039f"
             ],
             [
              0.2222222222222222,
              "#7201a8"
             ],
             [
              0.3333333333333333,
              "#9c179e"
             ],
             [
              0.4444444444444444,
              "#bd3786"
             ],
             [
              0.5555555555555556,
              "#d8576b"
             ],
             [
              0.6666666666666666,
              "#ed7953"
             ],
             [
              0.7777777777777778,
              "#fb9f3a"
             ],
             [
              0.8888888888888888,
              "#fdca26"
             ],
             [
              1,
              "#f0f921"
             ]
            ],
            "type": "histogram2dcontour"
           }
          ],
          "mesh3d": [
           {
            "colorbar": {
             "outlinewidth": 0,
             "ticks": ""
            },
            "type": "mesh3d"
           }
          ],
          "parcoords": [
           {
            "line": {
             "colorbar": {
              "outlinewidth": 0,
              "ticks": ""
             }
            },
            "type": "parcoords"
           }
          ],
          "pie": [
           {
            "automargin": true,
            "type": "pie"
           }
          ],
          "scatter": [
           {
            "fillpattern": {
             "fillmode": "overlay",
             "size": 10,
             "solidity": 0.2
            },
            "type": "scatter"
           }
          ],
          "scatter3d": [
           {
            "line": {
             "colorbar": {
              "outlinewidth": 0,
              "ticks": ""
             }
            },
            "marker": {
             "colorbar": {
              "outlinewidth": 0,
              "ticks": ""
             }
            },
            "type": "scatter3d"
           }
          ],
          "scattercarpet": [
           {
            "marker": {
             "colorbar": {
              "outlinewidth": 0,
              "ticks": ""
             }
            },
            "type": "scattercarpet"
           }
          ],
          "scattergeo": [
           {
            "marker": {
             "colorbar": {
              "outlinewidth": 0,
              "ticks": ""
             }
            },
            "type": "scattergeo"
           }
          ],
          "scattergl": [
           {
            "marker": {
             "colorbar": {
              "outlinewidth": 0,
              "ticks": ""
             }
            },
            "type": "scattergl"
           }
          ],
          "scattermapbox": [
           {
            "marker": {
             "colorbar": {
              "outlinewidth": 0,
              "ticks": ""
             }
            },
            "type": "scattermapbox"
           }
          ],
          "scatterpolar": [
           {
            "marker": {
             "colorbar": {
              "outlinewidth": 0,
              "ticks": ""
             }
            },
            "type": "scatterpolar"
           }
          ],
          "scatterpolargl": [
           {
            "marker": {
             "colorbar": {
              "outlinewidth": 0,
              "ticks": ""
             }
            },
            "type": "scatterpolargl"
           }
          ],
          "scatterternary": [
           {
            "marker": {
             "colorbar": {
              "outlinewidth": 0,
              "ticks": ""
             }
            },
            "type": "scatterternary"
           }
          ],
          "surface": [
           {
            "colorbar": {
             "outlinewidth": 0,
             "ticks": ""
            },
            "colorscale": [
             [
              0,
              "#0d0887"
             ],
             [
              0.1111111111111111,
              "#46039f"
             ],
             [
              0.2222222222222222,
              "#7201a8"
             ],
             [
              0.3333333333333333,
              "#9c179e"
             ],
             [
              0.4444444444444444,
              "#bd3786"
             ],
             [
              0.5555555555555556,
              "#d8576b"
             ],
             [
              0.6666666666666666,
              "#ed7953"
             ],
             [
              0.7777777777777778,
              "#fb9f3a"
             ],
             [
              0.8888888888888888,
              "#fdca26"
             ],
             [
              1,
              "#f0f921"
             ]
            ],
            "type": "surface"
           }
          ],
          "table": [
           {
            "cells": {
             "fill": {
              "color": "#EBF0F8"
             },
             "line": {
              "color": "white"
             }
            },
            "header": {
             "fill": {
              "color": "#C8D4E3"
             },
             "line": {
              "color": "white"
             }
            },
            "type": "table"
           }
          ]
         },
         "layout": {
          "annotationdefaults": {
           "arrowcolor": "#2a3f5f",
           "arrowhead": 0,
           "arrowwidth": 1
          },
          "autotypenumbers": "strict",
          "coloraxis": {
           "colorbar": {
            "outlinewidth": 0,
            "ticks": ""
           }
          },
          "colorscale": {
           "diverging": [
            [
             0,
             "#8e0152"
            ],
            [
             0.1,
             "#c51b7d"
            ],
            [
             0.2,
             "#de77ae"
            ],
            [
             0.3,
             "#f1b6da"
            ],
            [
             0.4,
             "#fde0ef"
            ],
            [
             0.5,
             "#f7f7f7"
            ],
            [
             0.6,
             "#e6f5d0"
            ],
            [
             0.7,
             "#b8e186"
            ],
            [
             0.8,
             "#7fbc41"
            ],
            [
             0.9,
             "#4d9221"
            ],
            [
             1,
             "#276419"
            ]
           ],
           "sequential": [
            [
             0,
             "#0d0887"
            ],
            [
             0.1111111111111111,
             "#46039f"
            ],
            [
             0.2222222222222222,
             "#7201a8"
            ],
            [
             0.3333333333333333,
             "#9c179e"
            ],
            [
             0.4444444444444444,
             "#bd3786"
            ],
            [
             0.5555555555555556,
             "#d8576b"
            ],
            [
             0.6666666666666666,
             "#ed7953"
            ],
            [
             0.7777777777777778,
             "#fb9f3a"
            ],
            [
             0.8888888888888888,
             "#fdca26"
            ],
            [
             1,
             "#f0f921"
            ]
           ],
           "sequentialminus": [
            [
             0,
             "#0d0887"
            ],
            [
             0.1111111111111111,
             "#46039f"
            ],
            [
             0.2222222222222222,
             "#7201a8"
            ],
            [
             0.3333333333333333,
             "#9c179e"
            ],
            [
             0.4444444444444444,
             "#bd3786"
            ],
            [
             0.5555555555555556,
             "#d8576b"
            ],
            [
             0.6666666666666666,
             "#ed7953"
            ],
            [
             0.7777777777777778,
             "#fb9f3a"
            ],
            [
             0.8888888888888888,
             "#fdca26"
            ],
            [
             1,
             "#f0f921"
            ]
           ]
          },
          "colorway": [
           "#636efa",
           "#EF553B",
           "#00cc96",
           "#ab63fa",
           "#FFA15A",
           "#19d3f3",
           "#FF6692",
           "#B6E880",
           "#FF97FF",
           "#FECB52"
          ],
          "font": {
           "color": "#2a3f5f"
          },
          "geo": {
           "bgcolor": "white",
           "lakecolor": "white",
           "landcolor": "#E5ECF6",
           "showlakes": true,
           "showland": true,
           "subunitcolor": "white"
          },
          "hoverlabel": {
           "align": "left"
          },
          "hovermode": "closest",
          "mapbox": {
           "style": "light"
          },
          "paper_bgcolor": "white",
          "plot_bgcolor": "#E5ECF6",
          "polar": {
           "angularaxis": {
            "gridcolor": "white",
            "linecolor": "white",
            "ticks": ""
           },
           "bgcolor": "#E5ECF6",
           "radialaxis": {
            "gridcolor": "white",
            "linecolor": "white",
            "ticks": ""
           }
          },
          "scene": {
           "xaxis": {
            "backgroundcolor": "#E5ECF6",
            "gridcolor": "white",
            "gridwidth": 2,
            "linecolor": "white",
            "showbackground": true,
            "ticks": "",
            "zerolinecolor": "white"
           },
           "yaxis": {
            "backgroundcolor": "#E5ECF6",
            "gridcolor": "white",
            "gridwidth": 2,
            "linecolor": "white",
            "showbackground": true,
            "ticks": "",
            "zerolinecolor": "white"
           },
           "zaxis": {
            "backgroundcolor": "#E5ECF6",
            "gridcolor": "white",
            "gridwidth": 2,
            "linecolor": "white",
            "showbackground": true,
            "ticks": "",
            "zerolinecolor": "white"
           }
          },
          "shapedefaults": {
           "line": {
            "color": "#2a3f5f"
           }
          },
          "ternary": {
           "aaxis": {
            "gridcolor": "white",
            "linecolor": "white",
            "ticks": ""
           },
           "baxis": {
            "gridcolor": "white",
            "linecolor": "white",
            "ticks": ""
           },
           "bgcolor": "#E5ECF6",
           "caxis": {
            "gridcolor": "white",
            "linecolor": "white",
            "ticks": ""
           }
          },
          "title": {
           "x": 0.05
          },
          "xaxis": {
           "automargin": true,
           "gridcolor": "white",
           "linecolor": "white",
           "ticks": "",
           "title": {
            "standoff": 15
           },
           "zerolinecolor": "white",
           "zerolinewidth": 2
          },
          "yaxis": {
           "automargin": true,
           "gridcolor": "white",
           "linecolor": "white",
           "ticks": "",
           "title": {
            "standoff": 15
           },
           "zerolinecolor": "white",
           "zerolinewidth": 2
          }
         }
        },
        "title": {
         "text": "Von dang ky cap moi cua Viet Nam trong cac nam"
        },
        "xaxis": {
         "anchor": "y",
         "domain": [
          0,
          1
         ],
         "title": {
          "text": "Nam"
         }
        },
        "yaxis": {
         "anchor": "x",
         "domain": [
          0,
          1
         ],
         "title": {
          "text": "y"
         }
        }
       }
      }
     },
     "metadata": {},
     "output_type": "display_data"
    },
    {
     "data": {
      "application/vnd.plotly.v1+json": {
       "config": {
        "plotlyServerURL": "https://plot.ly"
       },
       "data": [
        {
         "hovertemplate": "Nam=%{x}<br>y=%{y}<extra></extra>",
         "legendgroup": "",
         "line": {
          "color": "#636efa",
          "dash": "solid"
         },
         "marker": {
          "symbol": "circle"
         },
         "mode": "lines",
         "name": "",
         "orientation": "v",
         "showlegend": false,
         "type": "scatter",
         "x": [
          2015,
          2016,
          2017,
          2018,
          2019,
          2020,
          2021,
          2022
         ],
         "xaxis": "x",
         "y": [
          7326.599999999999,
          6072.3,
          8650.27,
          7755.72,
          6553.38,
          7156.11,
          9418.43,
          10446.06
         ],
         "yaxis": "y"
        }
       ],
       "layout": {
        "legend": {
         "tracegroupgap": 0
        },
        "template": {
         "data": {
          "bar": [
           {
            "error_x": {
             "color": "#2a3f5f"
            },
            "error_y": {
             "color": "#2a3f5f"
            },
            "marker": {
             "line": {
              "color": "#E5ECF6",
              "width": 0.5
             },
             "pattern": {
              "fillmode": "overlay",
              "size": 10,
              "solidity": 0.2
             }
            },
            "type": "bar"
           }
          ],
          "barpolar": [
           {
            "marker": {
             "line": {
              "color": "#E5ECF6",
              "width": 0.5
             },
             "pattern": {
              "fillmode": "overlay",
              "size": 10,
              "solidity": 0.2
             }
            },
            "type": "barpolar"
           }
          ],
          "carpet": [
           {
            "aaxis": {
             "endlinecolor": "#2a3f5f",
             "gridcolor": "white",
             "linecolor": "white",
             "minorgridcolor": "white",
             "startlinecolor": "#2a3f5f"
            },
            "baxis": {
             "endlinecolor": "#2a3f5f",
             "gridcolor": "white",
             "linecolor": "white",
             "minorgridcolor": "white",
             "startlinecolor": "#2a3f5f"
            },
            "type": "carpet"
           }
          ],
          "choropleth": [
           {
            "colorbar": {
             "outlinewidth": 0,
             "ticks": ""
            },
            "type": "choropleth"
           }
          ],
          "contour": [
           {
            "colorbar": {
             "outlinewidth": 0,
             "ticks": ""
            },
            "colorscale": [
             [
              0,
              "#0d0887"
             ],
             [
              0.1111111111111111,
              "#46039f"
             ],
             [
              0.2222222222222222,
              "#7201a8"
             ],
             [
              0.3333333333333333,
              "#9c179e"
             ],
             [
              0.4444444444444444,
              "#bd3786"
             ],
             [
              0.5555555555555556,
              "#d8576b"
             ],
             [
              0.6666666666666666,
              "#ed7953"
             ],
             [
              0.7777777777777778,
              "#fb9f3a"
             ],
             [
              0.8888888888888888,
              "#fdca26"
             ],
             [
              1,
              "#f0f921"
             ]
            ],
            "type": "contour"
           }
          ],
          "contourcarpet": [
           {
            "colorbar": {
             "outlinewidth": 0,
             "ticks": ""
            },
            "type": "contourcarpet"
           }
          ],
          "heatmap": [
           {
            "colorbar": {
             "outlinewidth": 0,
             "ticks": ""
            },
            "colorscale": [
             [
              0,
              "#0d0887"
             ],
             [
              0.1111111111111111,
              "#46039f"
             ],
             [
              0.2222222222222222,
              "#7201a8"
             ],
             [
              0.3333333333333333,
              "#9c179e"
             ],
             [
              0.4444444444444444,
              "#bd3786"
             ],
             [
              0.5555555555555556,
              "#d8576b"
             ],
             [
              0.6666666666666666,
              "#ed7953"
             ],
             [
              0.7777777777777778,
              "#fb9f3a"
             ],
             [
              0.8888888888888888,
              "#fdca26"
             ],
             [
              1,
              "#f0f921"
             ]
            ],
            "type": "heatmap"
           }
          ],
          "heatmapgl": [
           {
            "colorbar": {
             "outlinewidth": 0,
             "ticks": ""
            },
            "colorscale": [
             [
              0,
              "#0d0887"
             ],
             [
              0.1111111111111111,
              "#46039f"
             ],
             [
              0.2222222222222222,
              "#7201a8"
             ],
             [
              0.3333333333333333,
              "#9c179e"
             ],
             [
              0.4444444444444444,
              "#bd3786"
             ],
             [
              0.5555555555555556,
              "#d8576b"
             ],
             [
              0.6666666666666666,
              "#ed7953"
             ],
             [
              0.7777777777777778,
              "#fb9f3a"
             ],
             [
              0.8888888888888888,
              "#fdca26"
             ],
             [
              1,
              "#f0f921"
             ]
            ],
            "type": "heatmapgl"
           }
          ],
          "histogram": [
           {
            "marker": {
             "pattern": {
              "fillmode": "overlay",
              "size": 10,
              "solidity": 0.2
             }
            },
            "type": "histogram"
           }
          ],
          "histogram2d": [
           {
            "colorbar": {
             "outlinewidth": 0,
             "ticks": ""
            },
            "colorscale": [
             [
              0,
              "#0d0887"
             ],
             [
              0.1111111111111111,
              "#46039f"
             ],
             [
              0.2222222222222222,
              "#7201a8"
             ],
             [
              0.3333333333333333,
              "#9c179e"
             ],
             [
              0.4444444444444444,
              "#bd3786"
             ],
             [
              0.5555555555555556,
              "#d8576b"
             ],
             [
              0.6666666666666666,
              "#ed7953"
             ],
             [
              0.7777777777777778,
              "#fb9f3a"
             ],
             [
              0.8888888888888888,
              "#fdca26"
             ],
             [
              1,
              "#f0f921"
             ]
            ],
            "type": "histogram2d"
           }
          ],
          "histogram2dcontour": [
           {
            "colorbar": {
             "outlinewidth": 0,
             "ticks": ""
            },
            "colorscale": [
             [
              0,
              "#0d0887"
             ],
             [
              0.1111111111111111,
              "#46039f"
             ],
             [
              0.2222222222222222,
              "#7201a8"
             ],
             [
              0.3333333333333333,
              "#9c179e"
             ],
             [
              0.4444444444444444,
              "#bd3786"
             ],
             [
              0.5555555555555556,
              "#d8576b"
             ],
             [
              0.6666666666666666,
              "#ed7953"
             ],
             [
              0.7777777777777778,
              "#fb9f3a"
             ],
             [
              0.8888888888888888,
              "#fdca26"
             ],
             [
              1,
              "#f0f921"
             ]
            ],
            "type": "histogram2dcontour"
           }
          ],
          "mesh3d": [
           {
            "colorbar": {
             "outlinewidth": 0,
             "ticks": ""
            },
            "type": "mesh3d"
           }
          ],
          "parcoords": [
           {
            "line": {
             "colorbar": {
              "outlinewidth": 0,
              "ticks": ""
             }
            },
            "type": "parcoords"
           }
          ],
          "pie": [
           {
            "automargin": true,
            "type": "pie"
           }
          ],
          "scatter": [
           {
            "fillpattern": {
             "fillmode": "overlay",
             "size": 10,
             "solidity": 0.2
            },
            "type": "scatter"
           }
          ],
          "scatter3d": [
           {
            "line": {
             "colorbar": {
              "outlinewidth": 0,
              "ticks": ""
             }
            },
            "marker": {
             "colorbar": {
              "outlinewidth": 0,
              "ticks": ""
             }
            },
            "type": "scatter3d"
           }
          ],
          "scattercarpet": [
           {
            "marker": {
             "colorbar": {
              "outlinewidth": 0,
              "ticks": ""
             }
            },
            "type": "scattercarpet"
           }
          ],
          "scattergeo": [
           {
            "marker": {
             "colorbar": {
              "outlinewidth": 0,
              "ticks": ""
             }
            },
            "type": "scattergeo"
           }
          ],
          "scattergl": [
           {
            "marker": {
             "colorbar": {
              "outlinewidth": 0,
              "ticks": ""
             }
            },
            "type": "scattergl"
           }
          ],
          "scattermapbox": [
           {
            "marker": {
             "colorbar": {
              "outlinewidth": 0,
              "ticks": ""
             }
            },
            "type": "scattermapbox"
           }
          ],
          "scatterpolar": [
           {
            "marker": {
             "colorbar": {
              "outlinewidth": 0,
              "ticks": ""
             }
            },
            "type": "scatterpolar"
           }
          ],
          "scatterpolargl": [
           {
            "marker": {
             "colorbar": {
              "outlinewidth": 0,
              "ticks": ""
             }
            },
            "type": "scatterpolargl"
           }
          ],
          "scatterternary": [
           {
            "marker": {
             "colorbar": {
              "outlinewidth": 0,
              "ticks": ""
             }
            },
            "type": "scatterternary"
           }
          ],
          "surface": [
           {
            "colorbar": {
             "outlinewidth": 0,
             "ticks": ""
            },
            "colorscale": [
             [
              0,
              "#0d0887"
             ],
             [
              0.1111111111111111,
              "#46039f"
             ],
             [
              0.2222222222222222,
              "#7201a8"
             ],
             [
              0.3333333333333333,
              "#9c179e"
             ],
             [
              0.4444444444444444,
              "#bd3786"
             ],
             [
              0.5555555555555556,
              "#d8576b"
             ],
             [
              0.6666666666666666,
              "#ed7953"
             ],
             [
              0.7777777777777778,
              "#fb9f3a"
             ],
             [
              0.8888888888888888,
              "#fdca26"
             ],
             [
              1,
              "#f0f921"
             ]
            ],
            "type": "surface"
           }
          ],
          "table": [
           {
            "cells": {
             "fill": {
              "color": "#EBF0F8"
             },
             "line": {
              "color": "white"
             }
            },
            "header": {
             "fill": {
              "color": "#C8D4E3"
             },
             "line": {
              "color": "white"
             }
            },
            "type": "table"
           }
          ]
         },
         "layout": {
          "annotationdefaults": {
           "arrowcolor": "#2a3f5f",
           "arrowhead": 0,
           "arrowwidth": 1
          },
          "autotypenumbers": "strict",
          "coloraxis": {
           "colorbar": {
            "outlinewidth": 0,
            "ticks": ""
           }
          },
          "colorscale": {
           "diverging": [
            [
             0,
             "#8e0152"
            ],
            [
             0.1,
             "#c51b7d"
            ],
            [
             0.2,
             "#de77ae"
            ],
            [
             0.3,
             "#f1b6da"
            ],
            [
             0.4,
             "#fde0ef"
            ],
            [
             0.5,
             "#f7f7f7"
            ],
            [
             0.6,
             "#e6f5d0"
            ],
            [
             0.7,
             "#b8e186"
            ],
            [
             0.8,
             "#7fbc41"
            ],
            [
             0.9,
             "#4d9221"
            ],
            [
             1,
             "#276419"
            ]
           ],
           "sequential": [
            [
             0,
             "#0d0887"
            ],
            [
             0.1111111111111111,
             "#46039f"
            ],
            [
             0.2222222222222222,
             "#7201a8"
            ],
            [
             0.3333333333333333,
             "#9c179e"
            ],
            [
             0.4444444444444444,
             "#bd3786"
            ],
            [
             0.5555555555555556,
             "#d8576b"
            ],
            [
             0.6666666666666666,
             "#ed7953"
            ],
            [
             0.7777777777777778,
             "#fb9f3a"
            ],
            [
             0.8888888888888888,
             "#fdca26"
            ],
            [
             1,
             "#f0f921"
            ]
           ],
           "sequentialminus": [
            [
             0,
             "#0d0887"
            ],
            [
             0.1111111111111111,
             "#46039f"
            ],
            [
             0.2222222222222222,
             "#7201a8"
            ],
            [
             0.3333333333333333,
             "#9c179e"
            ],
            [
             0.4444444444444444,
             "#bd3786"
            ],
            [
             0.5555555555555556,
             "#d8576b"
            ],
            [
             0.6666666666666666,
             "#ed7953"
            ],
            [
             0.7777777777777778,
             "#fb9f3a"
            ],
            [
             0.8888888888888888,
             "#fdca26"
            ],
            [
             1,
             "#f0f921"
            ]
           ]
          },
          "colorway": [
           "#636efa",
           "#EF553B",
           "#00cc96",
           "#ab63fa",
           "#FFA15A",
           "#19d3f3",
           "#FF6692",
           "#B6E880",
           "#FF97FF",
           "#FECB52"
          ],
          "font": {
           "color": "#2a3f5f"
          },
          "geo": {
           "bgcolor": "white",
           "lakecolor": "white",
           "landcolor": "#E5ECF6",
           "showlakes": true,
           "showland": true,
           "subunitcolor": "white"
          },
          "hoverlabel": {
           "align": "left"
          },
          "hovermode": "closest",
          "mapbox": {
           "style": "light"
          },
          "paper_bgcolor": "white",
          "plot_bgcolor": "#E5ECF6",
          "polar": {
           "angularaxis": {
            "gridcolor": "white",
            "linecolor": "white",
            "ticks": ""
           },
           "bgcolor": "#E5ECF6",
           "radialaxis": {
            "gridcolor": "white",
            "linecolor": "white",
            "ticks": ""
           }
          },
          "scene": {
           "xaxis": {
            "backgroundcolor": "#E5ECF6",
            "gridcolor": "white",
            "gridwidth": 2,
            "linecolor": "white",
            "showbackground": true,
            "ticks": "",
            "zerolinecolor": "white"
           },
           "yaxis": {
            "backgroundcolor": "#E5ECF6",
            "gridcolor": "white",
            "gridwidth": 2,
            "linecolor": "white",
            "showbackground": true,
            "ticks": "",
            "zerolinecolor": "white"
           },
           "zaxis": {
            "backgroundcolor": "#E5ECF6",
            "gridcolor": "white",
            "gridwidth": 2,
            "linecolor": "white",
            "showbackground": true,
            "ticks": "",
            "zerolinecolor": "white"
           }
          },
          "shapedefaults": {
           "line": {
            "color": "#2a3f5f"
           }
          },
          "ternary": {
           "aaxis": {
            "gridcolor": "white",
            "linecolor": "white",
            "ticks": ""
           },
           "baxis": {
            "gridcolor": "white",
            "linecolor": "white",
            "ticks": ""
           },
           "bgcolor": "#E5ECF6",
           "caxis": {
            "gridcolor": "white",
            "linecolor": "white",
            "ticks": ""
           }
          },
          "title": {
           "x": 0.05
          },
          "xaxis": {
           "automargin": true,
           "gridcolor": "white",
           "linecolor": "white",
           "ticks": "",
           "title": {
            "standoff": 15
           },
           "zerolinecolor": "white",
           "zerolinewidth": 2
          },
          "yaxis": {
           "automargin": true,
           "gridcolor": "white",
           "linecolor": "white",
           "ticks": "",
           "title": {
            "standoff": 15
           },
           "zerolinecolor": "white",
           "zerolinewidth": 2
          }
         }
        },
        "title": {
         "text": "Von dang ky dieu chinh cua Viet Nam trong cac nam"
        },
        "xaxis": {
         "anchor": "y",
         "domain": [
          0,
          1
         ],
         "title": {
          "text": "Nam"
         }
        },
        "yaxis": {
         "anchor": "x",
         "domain": [
          0,
          1
         ],
         "title": {
          "text": "y"
         }
        }
       }
      }
     },
     "metadata": {},
     "output_type": "display_data"
    },
    {
     "data": {
      "application/vnd.plotly.v1+json": {
       "config": {
        "plotlyServerURL": "https://plot.ly"
       },
       "data": [
        {
         "hovertemplate": "Nam=%{x}<br>y=%{y}<extra></extra>",
         "legendgroup": "",
         "line": {
          "color": "#636efa",
          "dash": "solid"
         },
         "marker": {
          "symbol": "circle"
         },
         "mode": "lines",
         "name": "",
         "orientation": "v",
         "showlegend": false,
         "type": "scatter",
         "x": [
          2015,
          2016,
          2017,
          2018,
          2019,
          2020,
          2021,
          2022
         ],
         "xaxis": "x",
         "y": [
          7.140000000000001,
          3428.24,
          5909.96,
          9893.3,
          15471.62,
          7469.46,
          6893.77,
          5154.37
         ],
         "yaxis": "y"
        }
       ],
       "layout": {
        "legend": {
         "tracegroupgap": 0
        },
        "template": {
         "data": {
          "bar": [
           {
            "error_x": {
             "color": "#2a3f5f"
            },
            "error_y": {
             "color": "#2a3f5f"
            },
            "marker": {
             "line": {
              "color": "#E5ECF6",
              "width": 0.5
             },
             "pattern": {
              "fillmode": "overlay",
              "size": 10,
              "solidity": 0.2
             }
            },
            "type": "bar"
           }
          ],
          "barpolar": [
           {
            "marker": {
             "line": {
              "color": "#E5ECF6",
              "width": 0.5
             },
             "pattern": {
              "fillmode": "overlay",
              "size": 10,
              "solidity": 0.2
             }
            },
            "type": "barpolar"
           }
          ],
          "carpet": [
           {
            "aaxis": {
             "endlinecolor": "#2a3f5f",
             "gridcolor": "white",
             "linecolor": "white",
             "minorgridcolor": "white",
             "startlinecolor": "#2a3f5f"
            },
            "baxis": {
             "endlinecolor": "#2a3f5f",
             "gridcolor": "white",
             "linecolor": "white",
             "minorgridcolor": "white",
             "startlinecolor": "#2a3f5f"
            },
            "type": "carpet"
           }
          ],
          "choropleth": [
           {
            "colorbar": {
             "outlinewidth": 0,
             "ticks": ""
            },
            "type": "choropleth"
           }
          ],
          "contour": [
           {
            "colorbar": {
             "outlinewidth": 0,
             "ticks": ""
            },
            "colorscale": [
             [
              0,
              "#0d0887"
             ],
             [
              0.1111111111111111,
              "#46039f"
             ],
             [
              0.2222222222222222,
              "#7201a8"
             ],
             [
              0.3333333333333333,
              "#9c179e"
             ],
             [
              0.4444444444444444,
              "#bd3786"
             ],
             [
              0.5555555555555556,
              "#d8576b"
             ],
             [
              0.6666666666666666,
              "#ed7953"
             ],
             [
              0.7777777777777778,
              "#fb9f3a"
             ],
             [
              0.8888888888888888,
              "#fdca26"
             ],
             [
              1,
              "#f0f921"
             ]
            ],
            "type": "contour"
           }
          ],
          "contourcarpet": [
           {
            "colorbar": {
             "outlinewidth": 0,
             "ticks": ""
            },
            "type": "contourcarpet"
           }
          ],
          "heatmap": [
           {
            "colorbar": {
             "outlinewidth": 0,
             "ticks": ""
            },
            "colorscale": [
             [
              0,
              "#0d0887"
             ],
             [
              0.1111111111111111,
              "#46039f"
             ],
             [
              0.2222222222222222,
              "#7201a8"
             ],
             [
              0.3333333333333333,
              "#9c179e"
             ],
             [
              0.4444444444444444,
              "#bd3786"
             ],
             [
              0.5555555555555556,
              "#d8576b"
             ],
             [
              0.6666666666666666,
              "#ed7953"
             ],
             [
              0.7777777777777778,
              "#fb9f3a"
             ],
             [
              0.8888888888888888,
              "#fdca26"
             ],
             [
              1,
              "#f0f921"
             ]
            ],
            "type": "heatmap"
           }
          ],
          "heatmapgl": [
           {
            "colorbar": {
             "outlinewidth": 0,
             "ticks": ""
            },
            "colorscale": [
             [
              0,
              "#0d0887"
             ],
             [
              0.1111111111111111,
              "#46039f"
             ],
             [
              0.2222222222222222,
              "#7201a8"
             ],
             [
              0.3333333333333333,
              "#9c179e"
             ],
             [
              0.4444444444444444,
              "#bd3786"
             ],
             [
              0.5555555555555556,
              "#d8576b"
             ],
             [
              0.6666666666666666,
              "#ed7953"
             ],
             [
              0.7777777777777778,
              "#fb9f3a"
             ],
             [
              0.8888888888888888,
              "#fdca26"
             ],
             [
              1,
              "#f0f921"
             ]
            ],
            "type": "heatmapgl"
           }
          ],
          "histogram": [
           {
            "marker": {
             "pattern": {
              "fillmode": "overlay",
              "size": 10,
              "solidity": 0.2
             }
            },
            "type": "histogram"
           }
          ],
          "histogram2d": [
           {
            "colorbar": {
             "outlinewidth": 0,
             "ticks": ""
            },
            "colorscale": [
             [
              0,
              "#0d0887"
             ],
             [
              0.1111111111111111,
              "#46039f"
             ],
             [
              0.2222222222222222,
              "#7201a8"
             ],
             [
              0.3333333333333333,
              "#9c179e"
             ],
             [
              0.4444444444444444,
              "#bd3786"
             ],
             [
              0.5555555555555556,
              "#d8576b"
             ],
             [
              0.6666666666666666,
              "#ed7953"
             ],
             [
              0.7777777777777778,
              "#fb9f3a"
             ],
             [
              0.8888888888888888,
              "#fdca26"
             ],
             [
              1,
              "#f0f921"
             ]
            ],
            "type": "histogram2d"
           }
          ],
          "histogram2dcontour": [
           {
            "colorbar": {
             "outlinewidth": 0,
             "ticks": ""
            },
            "colorscale": [
             [
              0,
              "#0d0887"
             ],
             [
              0.1111111111111111,
              "#46039f"
             ],
             [
              0.2222222222222222,
              "#7201a8"
             ],
             [
              0.3333333333333333,
              "#9c179e"
             ],
             [
              0.4444444444444444,
              "#bd3786"
             ],
             [
              0.5555555555555556,
              "#d8576b"
             ],
             [
              0.6666666666666666,
              "#ed7953"
             ],
             [
              0.7777777777777778,
              "#fb9f3a"
             ],
             [
              0.8888888888888888,
              "#fdca26"
             ],
             [
              1,
              "#f0f921"
             ]
            ],
            "type": "histogram2dcontour"
           }
          ],
          "mesh3d": [
           {
            "colorbar": {
             "outlinewidth": 0,
             "ticks": ""
            },
            "type": "mesh3d"
           }
          ],
          "parcoords": [
           {
            "line": {
             "colorbar": {
              "outlinewidth": 0,
              "ticks": ""
             }
            },
            "type": "parcoords"
           }
          ],
          "pie": [
           {
            "automargin": true,
            "type": "pie"
           }
          ],
          "scatter": [
           {
            "fillpattern": {
             "fillmode": "overlay",
             "size": 10,
             "solidity": 0.2
            },
            "type": "scatter"
           }
          ],
          "scatter3d": [
           {
            "line": {
             "colorbar": {
              "outlinewidth": 0,
              "ticks": ""
             }
            },
            "marker": {
             "colorbar": {
              "outlinewidth": 0,
              "ticks": ""
             }
            },
            "type": "scatter3d"
           }
          ],
          "scattercarpet": [
           {
            "marker": {
             "colorbar": {
              "outlinewidth": 0,
              "ticks": ""
             }
            },
            "type": "scattercarpet"
           }
          ],
          "scattergeo": [
           {
            "marker": {
             "colorbar": {
              "outlinewidth": 0,
              "ticks": ""
             }
            },
            "type": "scattergeo"
           }
          ],
          "scattergl": [
           {
            "marker": {
             "colorbar": {
              "outlinewidth": 0,
              "ticks": ""
             }
            },
            "type": "scattergl"
           }
          ],
          "scattermapbox": [
           {
            "marker": {
             "colorbar": {
              "outlinewidth": 0,
              "ticks": ""
             }
            },
            "type": "scattermapbox"
           }
          ],
          "scatterpolar": [
           {
            "marker": {
             "colorbar": {
              "outlinewidth": 0,
              "ticks": ""
             }
            },
            "type": "scatterpolar"
           }
          ],
          "scatterpolargl": [
           {
            "marker": {
             "colorbar": {
              "outlinewidth": 0,
              "ticks": ""
             }
            },
            "type": "scatterpolargl"
           }
          ],
          "scatterternary": [
           {
            "marker": {
             "colorbar": {
              "outlinewidth": 0,
              "ticks": ""
             }
            },
            "type": "scatterternary"
           }
          ],
          "surface": [
           {
            "colorbar": {
             "outlinewidth": 0,
             "ticks": ""
            },
            "colorscale": [
             [
              0,
              "#0d0887"
             ],
             [
              0.1111111111111111,
              "#46039f"
             ],
             [
              0.2222222222222222,
              "#7201a8"
             ],
             [
              0.3333333333333333,
              "#9c179e"
             ],
             [
              0.4444444444444444,
              "#bd3786"
             ],
             [
              0.5555555555555556,
              "#d8576b"
             ],
             [
              0.6666666666666666,
              "#ed7953"
             ],
             [
              0.7777777777777778,
              "#fb9f3a"
             ],
             [
              0.8888888888888888,
              "#fdca26"
             ],
             [
              1,
              "#f0f921"
             ]
            ],
            "type": "surface"
           }
          ],
          "table": [
           {
            "cells": {
             "fill": {
              "color": "#EBF0F8"
             },
             "line": {
              "color": "white"
             }
            },
            "header": {
             "fill": {
              "color": "#C8D4E3"
             },
             "line": {
              "color": "white"
             }
            },
            "type": "table"
           }
          ]
         },
         "layout": {
          "annotationdefaults": {
           "arrowcolor": "#2a3f5f",
           "arrowhead": 0,
           "arrowwidth": 1
          },
          "autotypenumbers": "strict",
          "coloraxis": {
           "colorbar": {
            "outlinewidth": 0,
            "ticks": ""
           }
          },
          "colorscale": {
           "diverging": [
            [
             0,
             "#8e0152"
            ],
            [
             0.1,
             "#c51b7d"
            ],
            [
             0.2,
             "#de77ae"
            ],
            [
             0.3,
             "#f1b6da"
            ],
            [
             0.4,
             "#fde0ef"
            ],
            [
             0.5,
             "#f7f7f7"
            ],
            [
             0.6,
             "#e6f5d0"
            ],
            [
             0.7,
             "#b8e186"
            ],
            [
             0.8,
             "#7fbc41"
            ],
            [
             0.9,
             "#4d9221"
            ],
            [
             1,
             "#276419"
            ]
           ],
           "sequential": [
            [
             0,
             "#0d0887"
            ],
            [
             0.1111111111111111,
             "#46039f"
            ],
            [
             0.2222222222222222,
             "#7201a8"
            ],
            [
             0.3333333333333333,
             "#9c179e"
            ],
            [
             0.4444444444444444,
             "#bd3786"
            ],
            [
             0.5555555555555556,
             "#d8576b"
            ],
            [
             0.6666666666666666,
             "#ed7953"
            ],
            [
             0.7777777777777778,
             "#fb9f3a"
            ],
            [
             0.8888888888888888,
             "#fdca26"
            ],
            [
             1,
             "#f0f921"
            ]
           ],
           "sequentialminus": [
            [
             0,
             "#0d0887"
            ],
            [
             0.1111111111111111,
             "#46039f"
            ],
            [
             0.2222222222222222,
             "#7201a8"
            ],
            [
             0.3333333333333333,
             "#9c179e"
            ],
            [
             0.4444444444444444,
             "#bd3786"
            ],
            [
             0.5555555555555556,
             "#d8576b"
            ],
            [
             0.6666666666666666,
             "#ed7953"
            ],
            [
             0.7777777777777778,
             "#fb9f3a"
            ],
            [
             0.8888888888888888,
             "#fdca26"
            ],
            [
             1,
             "#f0f921"
            ]
           ]
          },
          "colorway": [
           "#636efa",
           "#EF553B",
           "#00cc96",
           "#ab63fa",
           "#FFA15A",
           "#19d3f3",
           "#FF6692",
           "#B6E880",
           "#FF97FF",
           "#FECB52"
          ],
          "font": {
           "color": "#2a3f5f"
          },
          "geo": {
           "bgcolor": "white",
           "lakecolor": "white",
           "landcolor": "#E5ECF6",
           "showlakes": true,
           "showland": true,
           "subunitcolor": "white"
          },
          "hoverlabel": {
           "align": "left"
          },
          "hovermode": "closest",
          "mapbox": {
           "style": "light"
          },
          "paper_bgcolor": "white",
          "plot_bgcolor": "#E5ECF6",
          "polar": {
           "angularaxis": {
            "gridcolor": "white",
            "linecolor": "white",
            "ticks": ""
           },
           "bgcolor": "#E5ECF6",
           "radialaxis": {
            "gridcolor": "white",
            "linecolor": "white",
            "ticks": ""
           }
          },
          "scene": {
           "xaxis": {
            "backgroundcolor": "#E5ECF6",
            "gridcolor": "white",
            "gridwidth": 2,
            "linecolor": "white",
            "showbackground": true,
            "ticks": "",
            "zerolinecolor": "white"
           },
           "yaxis": {
            "backgroundcolor": "#E5ECF6",
            "gridcolor": "white",
            "gridwidth": 2,
            "linecolor": "white",
            "showbackground": true,
            "ticks": "",
            "zerolinecolor": "white"
           },
           "zaxis": {
            "backgroundcolor": "#E5ECF6",
            "gridcolor": "white",
            "gridwidth": 2,
            "linecolor": "white",
            "showbackground": true,
            "ticks": "",
            "zerolinecolor": "white"
           }
          },
          "shapedefaults": {
           "line": {
            "color": "#2a3f5f"
           }
          },
          "ternary": {
           "aaxis": {
            "gridcolor": "white",
            "linecolor": "white",
            "ticks": ""
           },
           "baxis": {
            "gridcolor": "white",
            "linecolor": "white",
            "ticks": ""
           },
           "bgcolor": "#E5ECF6",
           "caxis": {
            "gridcolor": "white",
            "linecolor": "white",
            "ticks": ""
           }
          },
          "title": {
           "x": 0.05
          },
          "xaxis": {
           "automargin": true,
           "gridcolor": "white",
           "linecolor": "white",
           "ticks": "",
           "title": {
            "standoff": 15
           },
           "zerolinecolor": "white",
           "zerolinewidth": 2
          },
          "yaxis": {
           "automargin": true,
           "gridcolor": "white",
           "linecolor": "white",
           "ticks": "",
           "title": {
            "standoff": 15
           },
           "zerolinecolor": "white",
           "zerolinewidth": 2
          }
         }
        },
        "title": {
         "text": "Gia tri gop von cua Viet Nam trong cac nam"
        },
        "xaxis": {
         "anchor": "y",
         "domain": [
          0,
          1
         ],
         "title": {
          "text": "Nam"
         }
        },
        "yaxis": {
         "anchor": "x",
         "domain": [
          0,
          1
         ],
         "title": {
          "text": "y"
         }
        }
       }
      }
     },
     "metadata": {},
     "output_type": "display_data"
    },
    {
     "data": {
      "application/vnd.plotly.v1+json": {
       "config": {
        "plotlyServerURL": "https://plot.ly"
       },
       "data": [
        {
         "hovertemplate": "Nam=%{x}<br>y=%{y}<extra></extra>",
         "legendgroup": "",
         "line": {
          "color": "#636efa",
          "dash": "solid"
         },
         "marker": {
          "symbol": "circle"
         },
         "mode": "lines",
         "name": "",
         "orientation": "v",
         "showlegend": false,
         "type": "scatter",
         "x": [
          2015,
          2016,
          2017,
          2018,
          2019,
          2020,
          2021,
          2022
         ],
         "xaxis": "x",
         "y": [
          22917.54,
          24694.769999999997,
          35838.14,
          35635.19,
          38788.62,
          29286.02,
          31573.62,
          28064.63
         ],
         "yaxis": "y"
        }
       ],
       "layout": {
        "legend": {
         "tracegroupgap": 0
        },
        "template": {
         "data": {
          "bar": [
           {
            "error_x": {
             "color": "#2a3f5f"
            },
            "error_y": {
             "color": "#2a3f5f"
            },
            "marker": {
             "line": {
              "color": "#E5ECF6",
              "width": 0.5
             },
             "pattern": {
              "fillmode": "overlay",
              "size": 10,
              "solidity": 0.2
             }
            },
            "type": "bar"
           }
          ],
          "barpolar": [
           {
            "marker": {
             "line": {
              "color": "#E5ECF6",
              "width": 0.5
             },
             "pattern": {
              "fillmode": "overlay",
              "size": 10,
              "solidity": 0.2
             }
            },
            "type": "barpolar"
           }
          ],
          "carpet": [
           {
            "aaxis": {
             "endlinecolor": "#2a3f5f",
             "gridcolor": "white",
             "linecolor": "white",
             "minorgridcolor": "white",
             "startlinecolor": "#2a3f5f"
            },
            "baxis": {
             "endlinecolor": "#2a3f5f",
             "gridcolor": "white",
             "linecolor": "white",
             "minorgridcolor": "white",
             "startlinecolor": "#2a3f5f"
            },
            "type": "carpet"
           }
          ],
          "choropleth": [
           {
            "colorbar": {
             "outlinewidth": 0,
             "ticks": ""
            },
            "type": "choropleth"
           }
          ],
          "contour": [
           {
            "colorbar": {
             "outlinewidth": 0,
             "ticks": ""
            },
            "colorscale": [
             [
              0,
              "#0d0887"
             ],
             [
              0.1111111111111111,
              "#46039f"
             ],
             [
              0.2222222222222222,
              "#7201a8"
             ],
             [
              0.3333333333333333,
              "#9c179e"
             ],
             [
              0.4444444444444444,
              "#bd3786"
             ],
             [
              0.5555555555555556,
              "#d8576b"
             ],
             [
              0.6666666666666666,
              "#ed7953"
             ],
             [
              0.7777777777777778,
              "#fb9f3a"
             ],
             [
              0.8888888888888888,
              "#fdca26"
             ],
             [
              1,
              "#f0f921"
             ]
            ],
            "type": "contour"
           }
          ],
          "contourcarpet": [
           {
            "colorbar": {
             "outlinewidth": 0,
             "ticks": ""
            },
            "type": "contourcarpet"
           }
          ],
          "heatmap": [
           {
            "colorbar": {
             "outlinewidth": 0,
             "ticks": ""
            },
            "colorscale": [
             [
              0,
              "#0d0887"
             ],
             [
              0.1111111111111111,
              "#46039f"
             ],
             [
              0.2222222222222222,
              "#7201a8"
             ],
             [
              0.3333333333333333,
              "#9c179e"
             ],
             [
              0.4444444444444444,
              "#bd3786"
             ],
             [
              0.5555555555555556,
              "#d8576b"
             ],
             [
              0.6666666666666666,
              "#ed7953"
             ],
             [
              0.7777777777777778,
              "#fb9f3a"
             ],
             [
              0.8888888888888888,
              "#fdca26"
             ],
             [
              1,
              "#f0f921"
             ]
            ],
            "type": "heatmap"
           }
          ],
          "heatmapgl": [
           {
            "colorbar": {
             "outlinewidth": 0,
             "ticks": ""
            },
            "colorscale": [
             [
              0,
              "#0d0887"
             ],
             [
              0.1111111111111111,
              "#46039f"
             ],
             [
              0.2222222222222222,
              "#7201a8"
             ],
             [
              0.3333333333333333,
              "#9c179e"
             ],
             [
              0.4444444444444444,
              "#bd3786"
             ],
             [
              0.5555555555555556,
              "#d8576b"
             ],
             [
              0.6666666666666666,
              "#ed7953"
             ],
             [
              0.7777777777777778,
              "#fb9f3a"
             ],
             [
              0.8888888888888888,
              "#fdca26"
             ],
             [
              1,
              "#f0f921"
             ]
            ],
            "type": "heatmapgl"
           }
          ],
          "histogram": [
           {
            "marker": {
             "pattern": {
              "fillmode": "overlay",
              "size": 10,
              "solidity": 0.2
             }
            },
            "type": "histogram"
           }
          ],
          "histogram2d": [
           {
            "colorbar": {
             "outlinewidth": 0,
             "ticks": ""
            },
            "colorscale": [
             [
              0,
              "#0d0887"
             ],
             [
              0.1111111111111111,
              "#46039f"
             ],
             [
              0.2222222222222222,
              "#7201a8"
             ],
             [
              0.3333333333333333,
              "#9c179e"
             ],
             [
              0.4444444444444444,
              "#bd3786"
             ],
             [
              0.5555555555555556,
              "#d8576b"
             ],
             [
              0.6666666666666666,
              "#ed7953"
             ],
             [
              0.7777777777777778,
              "#fb9f3a"
             ],
             [
              0.8888888888888888,
              "#fdca26"
             ],
             [
              1,
              "#f0f921"
             ]
            ],
            "type": "histogram2d"
           }
          ],
          "histogram2dcontour": [
           {
            "colorbar": {
             "outlinewidth": 0,
             "ticks": ""
            },
            "colorscale": [
             [
              0,
              "#0d0887"
             ],
             [
              0.1111111111111111,
              "#46039f"
             ],
             [
              0.2222222222222222,
              "#7201a8"
             ],
             [
              0.3333333333333333,
              "#9c179e"
             ],
             [
              0.4444444444444444,
              "#bd3786"
             ],
             [
              0.5555555555555556,
              "#d8576b"
             ],
             [
              0.6666666666666666,
              "#ed7953"
             ],
             [
              0.7777777777777778,
              "#fb9f3a"
             ],
             [
              0.8888888888888888,
              "#fdca26"
             ],
             [
              1,
              "#f0f921"
             ]
            ],
            "type": "histogram2dcontour"
           }
          ],
          "mesh3d": [
           {
            "colorbar": {
             "outlinewidth": 0,
             "ticks": ""
            },
            "type": "mesh3d"
           }
          ],
          "parcoords": [
           {
            "line": {
             "colorbar": {
              "outlinewidth": 0,
              "ticks": ""
             }
            },
            "type": "parcoords"
           }
          ],
          "pie": [
           {
            "automargin": true,
            "type": "pie"
           }
          ],
          "scatter": [
           {
            "fillpattern": {
             "fillmode": "overlay",
             "size": 10,
             "solidity": 0.2
            },
            "type": "scatter"
           }
          ],
          "scatter3d": [
           {
            "line": {
             "colorbar": {
              "outlinewidth": 0,
              "ticks": ""
             }
            },
            "marker": {
             "colorbar": {
              "outlinewidth": 0,
              "ticks": ""
             }
            },
            "type": "scatter3d"
           }
          ],
          "scattercarpet": [
           {
            "marker": {
             "colorbar": {
              "outlinewidth": 0,
              "ticks": ""
             }
            },
            "type": "scattercarpet"
           }
          ],
          "scattergeo": [
           {
            "marker": {
             "colorbar": {
              "outlinewidth": 0,
              "ticks": ""
             }
            },
            "type": "scattergeo"
           }
          ],
          "scattergl": [
           {
            "marker": {
             "colorbar": {
              "outlinewidth": 0,
              "ticks": ""
             }
            },
            "type": "scattergl"
           }
          ],
          "scattermapbox": [
           {
            "marker": {
             "colorbar": {
              "outlinewidth": 0,
              "ticks": ""
             }
            },
            "type": "scattermapbox"
           }
          ],
          "scatterpolar": [
           {
            "marker": {
             "colorbar": {
              "outlinewidth": 0,
              "ticks": ""
             }
            },
            "type": "scatterpolar"
           }
          ],
          "scatterpolargl": [
           {
            "marker": {
             "colorbar": {
              "outlinewidth": 0,
              "ticks": ""
             }
            },
            "type": "scatterpolargl"
           }
          ],
          "scatterternary": [
           {
            "marker": {
             "colorbar": {
              "outlinewidth": 0,
              "ticks": ""
             }
            },
            "type": "scatterternary"
           }
          ],
          "surface": [
           {
            "colorbar": {
             "outlinewidth": 0,
             "ticks": ""
            },
            "colorscale": [
             [
              0,
              "#0d0887"
             ],
             [
              0.1111111111111111,
              "#46039f"
             ],
             [
              0.2222222222222222,
              "#7201a8"
             ],
             [
              0.3333333333333333,
              "#9c179e"
             ],
             [
              0.4444444444444444,
              "#bd3786"
             ],
             [
              0.5555555555555556,
              "#d8576b"
             ],
             [
              0.6666666666666666,
              "#ed7953"
             ],
             [
              0.7777777777777778,
              "#fb9f3a"
             ],
             [
              0.8888888888888888,
              "#fdca26"
             ],
             [
              1,
              "#f0f921"
             ]
            ],
            "type": "surface"
           }
          ],
          "table": [
           {
            "cells": {
             "fill": {
              "color": "#EBF0F8"
             },
             "line": {
              "color": "white"
             }
            },
            "header": {
             "fill": {
              "color": "#C8D4E3"
             },
             "line": {
              "color": "white"
             }
            },
            "type": "table"
           }
          ]
         },
         "layout": {
          "annotationdefaults": {
           "arrowcolor": "#2a3f5f",
           "arrowhead": 0,
           "arrowwidth": 1
          },
          "autotypenumbers": "strict",
          "coloraxis": {
           "colorbar": {
            "outlinewidth": 0,
            "ticks": ""
           }
          },
          "colorscale": {
           "diverging": [
            [
             0,
             "#8e0152"
            ],
            [
             0.1,
             "#c51b7d"
            ],
            [
             0.2,
             "#de77ae"
            ],
            [
             0.3,
             "#f1b6da"
            ],
            [
             0.4,
             "#fde0ef"
            ],
            [
             0.5,
             "#f7f7f7"
            ],
            [
             0.6,
             "#e6f5d0"
            ],
            [
             0.7,
             "#b8e186"
            ],
            [
             0.8,
             "#7fbc41"
            ],
            [
             0.9,
             "#4d9221"
            ],
            [
             1,
             "#276419"
            ]
           ],
           "sequential": [
            [
             0,
             "#0d0887"
            ],
            [
             0.1111111111111111,
             "#46039f"
            ],
            [
             0.2222222222222222,
             "#7201a8"
            ],
            [
             0.3333333333333333,
             "#9c179e"
            ],
            [
             0.4444444444444444,
             "#bd3786"
            ],
            [
             0.5555555555555556,
             "#d8576b"
            ],
            [
             0.6666666666666666,
             "#ed7953"
            ],
            [
             0.7777777777777778,
             "#fb9f3a"
            ],
            [
             0.8888888888888888,
             "#fdca26"
            ],
            [
             1,
             "#f0f921"
            ]
           ],
           "sequentialminus": [
            [
             0,
             "#0d0887"
            ],
            [
             0.1111111111111111,
             "#46039f"
            ],
            [
             0.2222222222222222,
             "#7201a8"
            ],
            [
             0.3333333333333333,
             "#9c179e"
            ],
            [
             0.4444444444444444,
             "#bd3786"
            ],
            [
             0.5555555555555556,
             "#d8576b"
            ],
            [
             0.6666666666666666,
             "#ed7953"
            ],
            [
             0.7777777777777778,
             "#fb9f3a"
            ],
            [
             0.8888888888888888,
             "#fdca26"
            ],
            [
             1,
             "#f0f921"
            ]
           ]
          },
          "colorway": [
           "#636efa",
           "#EF553B",
           "#00cc96",
           "#ab63fa",
           "#FFA15A",
           "#19d3f3",
           "#FF6692",
           "#B6E880",
           "#FF97FF",
           "#FECB52"
          ],
          "font": {
           "color": "#2a3f5f"
          },
          "geo": {
           "bgcolor": "white",
           "lakecolor": "white",
           "landcolor": "#E5ECF6",
           "showlakes": true,
           "showland": true,
           "subunitcolor": "white"
          },
          "hoverlabel": {
           "align": "left"
          },
          "hovermode": "closest",
          "mapbox": {
           "style": "light"
          },
          "paper_bgcolor": "white",
          "plot_bgcolor": "#E5ECF6",
          "polar": {
           "angularaxis": {
            "gridcolor": "white",
            "linecolor": "white",
            "ticks": ""
           },
           "bgcolor": "#E5ECF6",
           "radialaxis": {
            "gridcolor": "white",
            "linecolor": "white",
            "ticks": ""
           }
          },
          "scene": {
           "xaxis": {
            "backgroundcolor": "#E5ECF6",
            "gridcolor": "white",
            "gridwidth": 2,
            "linecolor": "white",
            "showbackground": true,
            "ticks": "",
            "zerolinecolor": "white"
           },
           "yaxis": {
            "backgroundcolor": "#E5ECF6",
            "gridcolor": "white",
            "gridwidth": 2,
            "linecolor": "white",
            "showbackground": true,
            "ticks": "",
            "zerolinecolor": "white"
           },
           "zaxis": {
            "backgroundcolor": "#E5ECF6",
            "gridcolor": "white",
            "gridwidth": 2,
            "linecolor": "white",
            "showbackground": true,
            "ticks": "",
            "zerolinecolor": "white"
           }
          },
          "shapedefaults": {
           "line": {
            "color": "#2a3f5f"
           }
          },
          "ternary": {
           "aaxis": {
            "gridcolor": "white",
            "linecolor": "white",
            "ticks": ""
           },
           "baxis": {
            "gridcolor": "white",
            "linecolor": "white",
            "ticks": ""
           },
           "bgcolor": "#E5ECF6",
           "caxis": {
            "gridcolor": "white",
            "linecolor": "white",
            "ticks": ""
           }
          },
          "title": {
           "x": 0.05
          },
          "xaxis": {
           "automargin": true,
           "gridcolor": "white",
           "linecolor": "white",
           "ticks": "",
           "title": {
            "standoff": 15
           },
           "zerolinecolor": "white",
           "zerolinewidth": 2
          },
          "yaxis": {
           "automargin": true,
           "gridcolor": "white",
           "linecolor": "white",
           "ticks": "",
           "title": {
            "standoff": 15
           },
           "zerolinecolor": "white",
           "zerolinewidth": 2
          }
         }
        },
        "title": {
         "text": "FDI cua Viet Nam trong cac nam"
        },
        "xaxis": {
         "anchor": "y",
         "domain": [
          0,
          1
         ],
         "title": {
          "text": "Nam"
         }
        },
        "yaxis": {
         "anchor": "x",
         "domain": [
          0,
          1
         ],
         "title": {
          "text": "y"
         }
        }
       }
      }
     },
     "metadata": {},
     "output_type": "display_data"
    }
   ],
   "source": [
    "# Calculate sum of von dang ky cap moi, von dang ky dieu chinh,  gia tri gop von of all province in each year\n",
    "sum_von_dang_ky_cap_moi = data.groupby('Nam')['Von dang ky cap moi'].sum()\n",
    "sum_von_dang_ky_dieu_chinh = data.groupby('Nam')['Von dang ky dieu chinh'].sum()\n",
    "sum_gia_tri_gop_von = data.groupby('Nam')['Gia tri gop von'].sum()\n",
    "sum_tong_von = sum_von_dang_ky_cap_moi + sum_von_dang_ky_dieu_chinh + sum_gia_tri_gop_von\n",
    "# draw graph to show sum of von dang ky cap moi, von dang ky dieu chinh,  gia tri gop von of all province in each year with px\n",
    "fig = px.line(data_frame=sum_von_dang_ky_cap_moi, x=sum_von_dang_ky_cap_moi.index, y=sum_von_dang_ky_cap_moi.values, title='Von dang ky cap moi cua Viet Nam trong cac nam')\n",
    "fig.show()\n",
    "fig = px.line(data_frame=sum_von_dang_ky_dieu_chinh, x=sum_von_dang_ky_dieu_chinh.index, y=sum_von_dang_ky_dieu_chinh.values, title='Von dang ky dieu chinh cua Viet Nam trong cac nam')\n",
    "fig.show()\n",
    "fig = px.line(data_frame=sum_gia_tri_gop_von, x=sum_gia_tri_gop_von.index, y=sum_gia_tri_gop_von.values, title='Gia tri gop von cua Viet Nam trong cac nam')\n",
    "fig.show()\n",
    "# draw graph to show sum tong von of all province and percentage of sum von dang ky cap moi, von dang ky dieu chinh,  gia tri gop von of all province in each year with px\n",
    "fig = px.line(data_frame=sum_tong_von, x=sum_tong_von.index, y=sum_tong_von.values, title='FDI cua Viet Nam trong cac nam')\n",
    "fig.show()\n",
    "\n",
    "\n",
    "\n",
    "\n"
   ]
  },
  {
   "cell_type": "code",
   "execution_count": 137,
   "id": "b842aa56",
   "metadata": {},
   "outputs": [
    {
     "data": {
      "application/vnd.plotly.v1+json": {
       "config": {
        "plotlyServerURL": "https://plot.ly"
       },
       "data": [
        {
         "hovertemplate": "Nam=%{x}<br>y=%{y}<extra></extra>",
         "legendgroup": "",
         "line": {
          "color": "#636efa",
          "dash": "solid"
         },
         "marker": {
          "symbol": "circle"
         },
         "mode": "lines",
         "name": "",
         "orientation": "v",
         "showlegend": false,
         "type": "scatter",
         "x": [
          2015,
          2016,
          2017,
          2018,
          2019,
          2020,
          2021,
          2022
         ],
         "xaxis": "x",
         "y": [
          2016,
          2562,
          2592,
          3051,
          3892,
          2530,
          1746,
          2045
         ],
         "yaxis": "y"
        }
       ],
       "layout": {
        "legend": {
         "tracegroupgap": 0
        },
        "template": {
         "data": {
          "bar": [
           {
            "error_x": {
             "color": "#2a3f5f"
            },
            "error_y": {
             "color": "#2a3f5f"
            },
            "marker": {
             "line": {
              "color": "#E5ECF6",
              "width": 0.5
             },
             "pattern": {
              "fillmode": "overlay",
              "size": 10,
              "solidity": 0.2
             }
            },
            "type": "bar"
           }
          ],
          "barpolar": [
           {
            "marker": {
             "line": {
              "color": "#E5ECF6",
              "width": 0.5
             },
             "pattern": {
              "fillmode": "overlay",
              "size": 10,
              "solidity": 0.2
             }
            },
            "type": "barpolar"
           }
          ],
          "carpet": [
           {
            "aaxis": {
             "endlinecolor": "#2a3f5f",
             "gridcolor": "white",
             "linecolor": "white",
             "minorgridcolor": "white",
             "startlinecolor": "#2a3f5f"
            },
            "baxis": {
             "endlinecolor": "#2a3f5f",
             "gridcolor": "white",
             "linecolor": "white",
             "minorgridcolor": "white",
             "startlinecolor": "#2a3f5f"
            },
            "type": "carpet"
           }
          ],
          "choropleth": [
           {
            "colorbar": {
             "outlinewidth": 0,
             "ticks": ""
            },
            "type": "choropleth"
           }
          ],
          "contour": [
           {
            "colorbar": {
             "outlinewidth": 0,
             "ticks": ""
            },
            "colorscale": [
             [
              0,
              "#0d0887"
             ],
             [
              0.1111111111111111,
              "#46039f"
             ],
             [
              0.2222222222222222,
              "#7201a8"
             ],
             [
              0.3333333333333333,
              "#9c179e"
             ],
             [
              0.4444444444444444,
              "#bd3786"
             ],
             [
              0.5555555555555556,
              "#d8576b"
             ],
             [
              0.6666666666666666,
              "#ed7953"
             ],
             [
              0.7777777777777778,
              "#fb9f3a"
             ],
             [
              0.8888888888888888,
              "#fdca26"
             ],
             [
              1,
              "#f0f921"
             ]
            ],
            "type": "contour"
           }
          ],
          "contourcarpet": [
           {
            "colorbar": {
             "outlinewidth": 0,
             "ticks": ""
            },
            "type": "contourcarpet"
           }
          ],
          "heatmap": [
           {
            "colorbar": {
             "outlinewidth": 0,
             "ticks": ""
            },
            "colorscale": [
             [
              0,
              "#0d0887"
             ],
             [
              0.1111111111111111,
              "#46039f"
             ],
             [
              0.2222222222222222,
              "#7201a8"
             ],
             [
              0.3333333333333333,
              "#9c179e"
             ],
             [
              0.4444444444444444,
              "#bd3786"
             ],
             [
              0.5555555555555556,
              "#d8576b"
             ],
             [
              0.6666666666666666,
              "#ed7953"
             ],
             [
              0.7777777777777778,
              "#fb9f3a"
             ],
             [
              0.8888888888888888,
              "#fdca26"
             ],
             [
              1,
              "#f0f921"
             ]
            ],
            "type": "heatmap"
           }
          ],
          "heatmapgl": [
           {
            "colorbar": {
             "outlinewidth": 0,
             "ticks": ""
            },
            "colorscale": [
             [
              0,
              "#0d0887"
             ],
             [
              0.1111111111111111,
              "#46039f"
             ],
             [
              0.2222222222222222,
              "#7201a8"
             ],
             [
              0.3333333333333333,
              "#9c179e"
             ],
             [
              0.4444444444444444,
              "#bd3786"
             ],
             [
              0.5555555555555556,
              "#d8576b"
             ],
             [
              0.6666666666666666,
              "#ed7953"
             ],
             [
              0.7777777777777778,
              "#fb9f3a"
             ],
             [
              0.8888888888888888,
              "#fdca26"
             ],
             [
              1,
              "#f0f921"
             ]
            ],
            "type": "heatmapgl"
           }
          ],
          "histogram": [
           {
            "marker": {
             "pattern": {
              "fillmode": "overlay",
              "size": 10,
              "solidity": 0.2
             }
            },
            "type": "histogram"
           }
          ],
          "histogram2d": [
           {
            "colorbar": {
             "outlinewidth": 0,
             "ticks": ""
            },
            "colorscale": [
             [
              0,
              "#0d0887"
             ],
             [
              0.1111111111111111,
              "#46039f"
             ],
             [
              0.2222222222222222,
              "#7201a8"
             ],
             [
              0.3333333333333333,
              "#9c179e"
             ],
             [
              0.4444444444444444,
              "#bd3786"
             ],
             [
              0.5555555555555556,
              "#d8576b"
             ],
             [
              0.6666666666666666,
              "#ed7953"
             ],
             [
              0.7777777777777778,
              "#fb9f3a"
             ],
             [
              0.8888888888888888,
              "#fdca26"
             ],
             [
              1,
              "#f0f921"
             ]
            ],
            "type": "histogram2d"
           }
          ],
          "histogram2dcontour": [
           {
            "colorbar": {
             "outlinewidth": 0,
             "ticks": ""
            },
            "colorscale": [
             [
              0,
              "#0d0887"
             ],
             [
              0.1111111111111111,
              "#46039f"
             ],
             [
              0.2222222222222222,
              "#7201a8"
             ],
             [
              0.3333333333333333,
              "#9c179e"
             ],
             [
              0.4444444444444444,
              "#bd3786"
             ],
             [
              0.5555555555555556,
              "#d8576b"
             ],
             [
              0.6666666666666666,
              "#ed7953"
             ],
             [
              0.7777777777777778,
              "#fb9f3a"
             ],
             [
              0.8888888888888888,
              "#fdca26"
             ],
             [
              1,
              "#f0f921"
             ]
            ],
            "type": "histogram2dcontour"
           }
          ],
          "mesh3d": [
           {
            "colorbar": {
             "outlinewidth": 0,
             "ticks": ""
            },
            "type": "mesh3d"
           }
          ],
          "parcoords": [
           {
            "line": {
             "colorbar": {
              "outlinewidth": 0,
              "ticks": ""
             }
            },
            "type": "parcoords"
           }
          ],
          "pie": [
           {
            "automargin": true,
            "type": "pie"
           }
          ],
          "scatter": [
           {
            "fillpattern": {
             "fillmode": "overlay",
             "size": 10,
             "solidity": 0.2
            },
            "type": "scatter"
           }
          ],
          "scatter3d": [
           {
            "line": {
             "colorbar": {
              "outlinewidth": 0,
              "ticks": ""
             }
            },
            "marker": {
             "colorbar": {
              "outlinewidth": 0,
              "ticks": ""
             }
            },
            "type": "scatter3d"
           }
          ],
          "scattercarpet": [
           {
            "marker": {
             "colorbar": {
              "outlinewidth": 0,
              "ticks": ""
             }
            },
            "type": "scattercarpet"
           }
          ],
          "scattergeo": [
           {
            "marker": {
             "colorbar": {
              "outlinewidth": 0,
              "ticks": ""
             }
            },
            "type": "scattergeo"
           }
          ],
          "scattergl": [
           {
            "marker": {
             "colorbar": {
              "outlinewidth": 0,
              "ticks": ""
             }
            },
            "type": "scattergl"
           }
          ],
          "scattermapbox": [
           {
            "marker": {
             "colorbar": {
              "outlinewidth": 0,
              "ticks": ""
             }
            },
            "type": "scattermapbox"
           }
          ],
          "scatterpolar": [
           {
            "marker": {
             "colorbar": {
              "outlinewidth": 0,
              "ticks": ""
             }
            },
            "type": "scatterpolar"
           }
          ],
          "scatterpolargl": [
           {
            "marker": {
             "colorbar": {
              "outlinewidth": 0,
              "ticks": ""
             }
            },
            "type": "scatterpolargl"
           }
          ],
          "scatterternary": [
           {
            "marker": {
             "colorbar": {
              "outlinewidth": 0,
              "ticks": ""
             }
            },
            "type": "scatterternary"
           }
          ],
          "surface": [
           {
            "colorbar": {
             "outlinewidth": 0,
             "ticks": ""
            },
            "colorscale": [
             [
              0,
              "#0d0887"
             ],
             [
              0.1111111111111111,
              "#46039f"
             ],
             [
              0.2222222222222222,
              "#7201a8"
             ],
             [
              0.3333333333333333,
              "#9c179e"
             ],
             [
              0.4444444444444444,
              "#bd3786"
             ],
             [
              0.5555555555555556,
              "#d8576b"
             ],
             [
              0.6666666666666666,
              "#ed7953"
             ],
             [
              0.7777777777777778,
              "#fb9f3a"
             ],
             [
              0.8888888888888888,
              "#fdca26"
             ],
             [
              1,
              "#f0f921"
             ]
            ],
            "type": "surface"
           }
          ],
          "table": [
           {
            "cells": {
             "fill": {
              "color": "#EBF0F8"
             },
             "line": {
              "color": "white"
             }
            },
            "header": {
             "fill": {
              "color": "#C8D4E3"
             },
             "line": {
              "color": "white"
             }
            },
            "type": "table"
           }
          ]
         },
         "layout": {
          "annotationdefaults": {
           "arrowcolor": "#2a3f5f",
           "arrowhead": 0,
           "arrowwidth": 1
          },
          "autotypenumbers": "strict",
          "coloraxis": {
           "colorbar": {
            "outlinewidth": 0,
            "ticks": ""
           }
          },
          "colorscale": {
           "diverging": [
            [
             0,
             "#8e0152"
            ],
            [
             0.1,
             "#c51b7d"
            ],
            [
             0.2,
             "#de77ae"
            ],
            [
             0.3,
             "#f1b6da"
            ],
            [
             0.4,
             "#fde0ef"
            ],
            [
             0.5,
             "#f7f7f7"
            ],
            [
             0.6,
             "#e6f5d0"
            ],
            [
             0.7,
             "#b8e186"
            ],
            [
             0.8,
             "#7fbc41"
            ],
            [
             0.9,
             "#4d9221"
            ],
            [
             1,
             "#276419"
            ]
           ],
           "sequential": [
            [
             0,
             "#0d0887"
            ],
            [
             0.1111111111111111,
             "#46039f"
            ],
            [
             0.2222222222222222,
             "#7201a8"
            ],
            [
             0.3333333333333333,
             "#9c179e"
            ],
            [
             0.4444444444444444,
             "#bd3786"
            ],
            [
             0.5555555555555556,
             "#d8576b"
            ],
            [
             0.6666666666666666,
             "#ed7953"
            ],
            [
             0.7777777777777778,
             "#fb9f3a"
            ],
            [
             0.8888888888888888,
             "#fdca26"
            ],
            [
             1,
             "#f0f921"
            ]
           ],
           "sequentialminus": [
            [
             0,
             "#0d0887"
            ],
            [
             0.1111111111111111,
             "#46039f"
            ],
            [
             0.2222222222222222,
             "#7201a8"
            ],
            [
             0.3333333333333333,
             "#9c179e"
            ],
            [
             0.4444444444444444,
             "#bd3786"
            ],
            [
             0.5555555555555556,
             "#d8576b"
            ],
            [
             0.6666666666666666,
             "#ed7953"
            ],
            [
             0.7777777777777778,
             "#fb9f3a"
            ],
            [
             0.8888888888888888,
             "#fdca26"
            ],
            [
             1,
             "#f0f921"
            ]
           ]
          },
          "colorway": [
           "#636efa",
           "#EF553B",
           "#00cc96",
           "#ab63fa",
           "#FFA15A",
           "#19d3f3",
           "#FF6692",
           "#B6E880",
           "#FF97FF",
           "#FECB52"
          ],
          "font": {
           "color": "#2a3f5f"
          },
          "geo": {
           "bgcolor": "white",
           "lakecolor": "white",
           "landcolor": "#E5ECF6",
           "showlakes": true,
           "showland": true,
           "subunitcolor": "white"
          },
          "hoverlabel": {
           "align": "left"
          },
          "hovermode": "closest",
          "mapbox": {
           "style": "light"
          },
          "paper_bgcolor": "white",
          "plot_bgcolor": "#E5ECF6",
          "polar": {
           "angularaxis": {
            "gridcolor": "white",
            "linecolor": "white",
            "ticks": ""
           },
           "bgcolor": "#E5ECF6",
           "radialaxis": {
            "gridcolor": "white",
            "linecolor": "white",
            "ticks": ""
           }
          },
          "scene": {
           "xaxis": {
            "backgroundcolor": "#E5ECF6",
            "gridcolor": "white",
            "gridwidth": 2,
            "linecolor": "white",
            "showbackground": true,
            "ticks": "",
            "zerolinecolor": "white"
           },
           "yaxis": {
            "backgroundcolor": "#E5ECF6",
            "gridcolor": "white",
            "gridwidth": 2,
            "linecolor": "white",
            "showbackground": true,
            "ticks": "",
            "zerolinecolor": "white"
           },
           "zaxis": {
            "backgroundcolor": "#E5ECF6",
            "gridcolor": "white",
            "gridwidth": 2,
            "linecolor": "white",
            "showbackground": true,
            "ticks": "",
            "zerolinecolor": "white"
           }
          },
          "shapedefaults": {
           "line": {
            "color": "#2a3f5f"
           }
          },
          "ternary": {
           "aaxis": {
            "gridcolor": "white",
            "linecolor": "white",
            "ticks": ""
           },
           "baxis": {
            "gridcolor": "white",
            "linecolor": "white",
            "ticks": ""
           },
           "bgcolor": "#E5ECF6",
           "caxis": {
            "gridcolor": "white",
            "linecolor": "white",
            "ticks": ""
           }
          },
          "title": {
           "x": 0.05
          },
          "xaxis": {
           "automargin": true,
           "gridcolor": "white",
           "linecolor": "white",
           "ticks": "",
           "title": {
            "standoff": 15
           },
           "zerolinecolor": "white",
           "zerolinewidth": 2
          },
          "yaxis": {
           "automargin": true,
           "gridcolor": "white",
           "linecolor": "white",
           "ticks": "",
           "title": {
            "standoff": 15
           },
           "zerolinecolor": "white",
           "zerolinewidth": 2
          }
         }
        },
        "title": {
         "text": "So du an cap moi cua Viet Nam trong cac nam"
        },
        "xaxis": {
         "anchor": "y",
         "domain": [
          0,
          1
         ],
         "title": {
          "text": "Nam"
         }
        },
        "yaxis": {
         "anchor": "x",
         "domain": [
          0,
          1
         ],
         "title": {
          "text": "y"
         }
        }
       }
      }
     },
     "metadata": {},
     "output_type": "display_data"
    },
    {
     "data": {
      "application/vnd.plotly.v1+json": {
       "config": {
        "plotlyServerURL": "https://plot.ly"
       },
       "data": [
        {
         "hovertemplate": "Nam=%{x}<br>y=%{y}<extra></extra>",
         "legendgroup": "",
         "line": {
          "color": "#636efa",
          "dash": "solid"
         },
         "marker": {
          "symbol": "circle"
         },
         "mode": "lines",
         "name": "",
         "orientation": "v",
         "showlegend": false,
         "type": "scatter",
         "x": [
          2015,
          2016,
          2017,
          2018,
          2019,
          2020,
          2021,
          2022
         ],
         "xaxis": "x",
         "y": [
          825,
          1238,
          1201,
          1184,
          1404,
          1157,
          1004,
          1122
         ],
         "yaxis": "y"
        }
       ],
       "layout": {
        "legend": {
         "tracegroupgap": 0
        },
        "template": {
         "data": {
          "bar": [
           {
            "error_x": {
             "color": "#2a3f5f"
            },
            "error_y": {
             "color": "#2a3f5f"
            },
            "marker": {
             "line": {
              "color": "#E5ECF6",
              "width": 0.5
             },
             "pattern": {
              "fillmode": "overlay",
              "size": 10,
              "solidity": 0.2
             }
            },
            "type": "bar"
           }
          ],
          "barpolar": [
           {
            "marker": {
             "line": {
              "color": "#E5ECF6",
              "width": 0.5
             },
             "pattern": {
              "fillmode": "overlay",
              "size": 10,
              "solidity": 0.2
             }
            },
            "type": "barpolar"
           }
          ],
          "carpet": [
           {
            "aaxis": {
             "endlinecolor": "#2a3f5f",
             "gridcolor": "white",
             "linecolor": "white",
             "minorgridcolor": "white",
             "startlinecolor": "#2a3f5f"
            },
            "baxis": {
             "endlinecolor": "#2a3f5f",
             "gridcolor": "white",
             "linecolor": "white",
             "minorgridcolor": "white",
             "startlinecolor": "#2a3f5f"
            },
            "type": "carpet"
           }
          ],
          "choropleth": [
           {
            "colorbar": {
             "outlinewidth": 0,
             "ticks": ""
            },
            "type": "choropleth"
           }
          ],
          "contour": [
           {
            "colorbar": {
             "outlinewidth": 0,
             "ticks": ""
            },
            "colorscale": [
             [
              0,
              "#0d0887"
             ],
             [
              0.1111111111111111,
              "#46039f"
             ],
             [
              0.2222222222222222,
              "#7201a8"
             ],
             [
              0.3333333333333333,
              "#9c179e"
             ],
             [
              0.4444444444444444,
              "#bd3786"
             ],
             [
              0.5555555555555556,
              "#d8576b"
             ],
             [
              0.6666666666666666,
              "#ed7953"
             ],
             [
              0.7777777777777778,
              "#fb9f3a"
             ],
             [
              0.8888888888888888,
              "#fdca26"
             ],
             [
              1,
              "#f0f921"
             ]
            ],
            "type": "contour"
           }
          ],
          "contourcarpet": [
           {
            "colorbar": {
             "outlinewidth": 0,
             "ticks": ""
            },
            "type": "contourcarpet"
           }
          ],
          "heatmap": [
           {
            "colorbar": {
             "outlinewidth": 0,
             "ticks": ""
            },
            "colorscale": [
             [
              0,
              "#0d0887"
             ],
             [
              0.1111111111111111,
              "#46039f"
             ],
             [
              0.2222222222222222,
              "#7201a8"
             ],
             [
              0.3333333333333333,
              "#9c179e"
             ],
             [
              0.4444444444444444,
              "#bd3786"
             ],
             [
              0.5555555555555556,
              "#d8576b"
             ],
             [
              0.6666666666666666,
              "#ed7953"
             ],
             [
              0.7777777777777778,
              "#fb9f3a"
             ],
             [
              0.8888888888888888,
              "#fdca26"
             ],
             [
              1,
              "#f0f921"
             ]
            ],
            "type": "heatmap"
           }
          ],
          "heatmapgl": [
           {
            "colorbar": {
             "outlinewidth": 0,
             "ticks": ""
            },
            "colorscale": [
             [
              0,
              "#0d0887"
             ],
             [
              0.1111111111111111,
              "#46039f"
             ],
             [
              0.2222222222222222,
              "#7201a8"
             ],
             [
              0.3333333333333333,
              "#9c179e"
             ],
             [
              0.4444444444444444,
              "#bd3786"
             ],
             [
              0.5555555555555556,
              "#d8576b"
             ],
             [
              0.6666666666666666,
              "#ed7953"
             ],
             [
              0.7777777777777778,
              "#fb9f3a"
             ],
             [
              0.8888888888888888,
              "#fdca26"
             ],
             [
              1,
              "#f0f921"
             ]
            ],
            "type": "heatmapgl"
           }
          ],
          "histogram": [
           {
            "marker": {
             "pattern": {
              "fillmode": "overlay",
              "size": 10,
              "solidity": 0.2
             }
            },
            "type": "histogram"
           }
          ],
          "histogram2d": [
           {
            "colorbar": {
             "outlinewidth": 0,
             "ticks": ""
            },
            "colorscale": [
             [
              0,
              "#0d0887"
             ],
             [
              0.1111111111111111,
              "#46039f"
             ],
             [
              0.2222222222222222,
              "#7201a8"
             ],
             [
              0.3333333333333333,
              "#9c179e"
             ],
             [
              0.4444444444444444,
              "#bd3786"
             ],
             [
              0.5555555555555556,
              "#d8576b"
             ],
             [
              0.6666666666666666,
              "#ed7953"
             ],
             [
              0.7777777777777778,
              "#fb9f3a"
             ],
             [
              0.8888888888888888,
              "#fdca26"
             ],
             [
              1,
              "#f0f921"
             ]
            ],
            "type": "histogram2d"
           }
          ],
          "histogram2dcontour": [
           {
            "colorbar": {
             "outlinewidth": 0,
             "ticks": ""
            },
            "colorscale": [
             [
              0,
              "#0d0887"
             ],
             [
              0.1111111111111111,
              "#46039f"
             ],
             [
              0.2222222222222222,
              "#7201a8"
             ],
             [
              0.3333333333333333,
              "#9c179e"
             ],
             [
              0.4444444444444444,
              "#bd3786"
             ],
             [
              0.5555555555555556,
              "#d8576b"
             ],
             [
              0.6666666666666666,
              "#ed7953"
             ],
             [
              0.7777777777777778,
              "#fb9f3a"
             ],
             [
              0.8888888888888888,
              "#fdca26"
             ],
             [
              1,
              "#f0f921"
             ]
            ],
            "type": "histogram2dcontour"
           }
          ],
          "mesh3d": [
           {
            "colorbar": {
             "outlinewidth": 0,
             "ticks": ""
            },
            "type": "mesh3d"
           }
          ],
          "parcoords": [
           {
            "line": {
             "colorbar": {
              "outlinewidth": 0,
              "ticks": ""
             }
            },
            "type": "parcoords"
           }
          ],
          "pie": [
           {
            "automargin": true,
            "type": "pie"
           }
          ],
          "scatter": [
           {
            "fillpattern": {
             "fillmode": "overlay",
             "size": 10,
             "solidity": 0.2
            },
            "type": "scatter"
           }
          ],
          "scatter3d": [
           {
            "line": {
             "colorbar": {
              "outlinewidth": 0,
              "ticks": ""
             }
            },
            "marker": {
             "colorbar": {
              "outlinewidth": 0,
              "ticks": ""
             }
            },
            "type": "scatter3d"
           }
          ],
          "scattercarpet": [
           {
            "marker": {
             "colorbar": {
              "outlinewidth": 0,
              "ticks": ""
             }
            },
            "type": "scattercarpet"
           }
          ],
          "scattergeo": [
           {
            "marker": {
             "colorbar": {
              "outlinewidth": 0,
              "ticks": ""
             }
            },
            "type": "scattergeo"
           }
          ],
          "scattergl": [
           {
            "marker": {
             "colorbar": {
              "outlinewidth": 0,
              "ticks": ""
             }
            },
            "type": "scattergl"
           }
          ],
          "scattermapbox": [
           {
            "marker": {
             "colorbar": {
              "outlinewidth": 0,
              "ticks": ""
             }
            },
            "type": "scattermapbox"
           }
          ],
          "scatterpolar": [
           {
            "marker": {
             "colorbar": {
              "outlinewidth": 0,
              "ticks": ""
             }
            },
            "type": "scatterpolar"
           }
          ],
          "scatterpolargl": [
           {
            "marker": {
             "colorbar": {
              "outlinewidth": 0,
              "ticks": ""
             }
            },
            "type": "scatterpolargl"
           }
          ],
          "scatterternary": [
           {
            "marker": {
             "colorbar": {
              "outlinewidth": 0,
              "ticks": ""
             }
            },
            "type": "scatterternary"
           }
          ],
          "surface": [
           {
            "colorbar": {
             "outlinewidth": 0,
             "ticks": ""
            },
            "colorscale": [
             [
              0,
              "#0d0887"
             ],
             [
              0.1111111111111111,
              "#46039f"
             ],
             [
              0.2222222222222222,
              "#7201a8"
             ],
             [
              0.3333333333333333,
              "#9c179e"
             ],
             [
              0.4444444444444444,
              "#bd3786"
             ],
             [
              0.5555555555555556,
              "#d8576b"
             ],
             [
              0.6666666666666666,
              "#ed7953"
             ],
             [
              0.7777777777777778,
              "#fb9f3a"
             ],
             [
              0.8888888888888888,
              "#fdca26"
             ],
             [
              1,
              "#f0f921"
             ]
            ],
            "type": "surface"
           }
          ],
          "table": [
           {
            "cells": {
             "fill": {
              "color": "#EBF0F8"
             },
             "line": {
              "color": "white"
             }
            },
            "header": {
             "fill": {
              "color": "#C8D4E3"
             },
             "line": {
              "color": "white"
             }
            },
            "type": "table"
           }
          ]
         },
         "layout": {
          "annotationdefaults": {
           "arrowcolor": "#2a3f5f",
           "arrowhead": 0,
           "arrowwidth": 1
          },
          "autotypenumbers": "strict",
          "coloraxis": {
           "colorbar": {
            "outlinewidth": 0,
            "ticks": ""
           }
          },
          "colorscale": {
           "diverging": [
            [
             0,
             "#8e0152"
            ],
            [
             0.1,
             "#c51b7d"
            ],
            [
             0.2,
             "#de77ae"
            ],
            [
             0.3,
             "#f1b6da"
            ],
            [
             0.4,
             "#fde0ef"
            ],
            [
             0.5,
             "#f7f7f7"
            ],
            [
             0.6,
             "#e6f5d0"
            ],
            [
             0.7,
             "#b8e186"
            ],
            [
             0.8,
             "#7fbc41"
            ],
            [
             0.9,
             "#4d9221"
            ],
            [
             1,
             "#276419"
            ]
           ],
           "sequential": [
            [
             0,
             "#0d0887"
            ],
            [
             0.1111111111111111,
             "#46039f"
            ],
            [
             0.2222222222222222,
             "#7201a8"
            ],
            [
             0.3333333333333333,
             "#9c179e"
            ],
            [
             0.4444444444444444,
             "#bd3786"
            ],
            [
             0.5555555555555556,
             "#d8576b"
            ],
            [
             0.6666666666666666,
             "#ed7953"
            ],
            [
             0.7777777777777778,
             "#fb9f3a"
            ],
            [
             0.8888888888888888,
             "#fdca26"
            ],
            [
             1,
             "#f0f921"
            ]
           ],
           "sequentialminus": [
            [
             0,
             "#0d0887"
            ],
            [
             0.1111111111111111,
             "#46039f"
            ],
            [
             0.2222222222222222,
             "#7201a8"
            ],
            [
             0.3333333333333333,
             "#9c179e"
            ],
            [
             0.4444444444444444,
             "#bd3786"
            ],
            [
             0.5555555555555556,
             "#d8576b"
            ],
            [
             0.6666666666666666,
             "#ed7953"
            ],
            [
             0.7777777777777778,
             "#fb9f3a"
            ],
            [
             0.8888888888888888,
             "#fdca26"
            ],
            [
             1,
             "#f0f921"
            ]
           ]
          },
          "colorway": [
           "#636efa",
           "#EF553B",
           "#00cc96",
           "#ab63fa",
           "#FFA15A",
           "#19d3f3",
           "#FF6692",
           "#B6E880",
           "#FF97FF",
           "#FECB52"
          ],
          "font": {
           "color": "#2a3f5f"
          },
          "geo": {
           "bgcolor": "white",
           "lakecolor": "white",
           "landcolor": "#E5ECF6",
           "showlakes": true,
           "showland": true,
           "subunitcolor": "white"
          },
          "hoverlabel": {
           "align": "left"
          },
          "hovermode": "closest",
          "mapbox": {
           "style": "light"
          },
          "paper_bgcolor": "white",
          "plot_bgcolor": "#E5ECF6",
          "polar": {
           "angularaxis": {
            "gridcolor": "white",
            "linecolor": "white",
            "ticks": ""
           },
           "bgcolor": "#E5ECF6",
           "radialaxis": {
            "gridcolor": "white",
            "linecolor": "white",
            "ticks": ""
           }
          },
          "scene": {
           "xaxis": {
            "backgroundcolor": "#E5ECF6",
            "gridcolor": "white",
            "gridwidth": 2,
            "linecolor": "white",
            "showbackground": true,
            "ticks": "",
            "zerolinecolor": "white"
           },
           "yaxis": {
            "backgroundcolor": "#E5ECF6",
            "gridcolor": "white",
            "gridwidth": 2,
            "linecolor": "white",
            "showbackground": true,
            "ticks": "",
            "zerolinecolor": "white"
           },
           "zaxis": {
            "backgroundcolor": "#E5ECF6",
            "gridcolor": "white",
            "gridwidth": 2,
            "linecolor": "white",
            "showbackground": true,
            "ticks": "",
            "zerolinecolor": "white"
           }
          },
          "shapedefaults": {
           "line": {
            "color": "#2a3f5f"
           }
          },
          "ternary": {
           "aaxis": {
            "gridcolor": "white",
            "linecolor": "white",
            "ticks": ""
           },
           "baxis": {
            "gridcolor": "white",
            "linecolor": "white",
            "ticks": ""
           },
           "bgcolor": "#E5ECF6",
           "caxis": {
            "gridcolor": "white",
            "linecolor": "white",
            "ticks": ""
           }
          },
          "title": {
           "x": 0.05
          },
          "xaxis": {
           "automargin": true,
           "gridcolor": "white",
           "linecolor": "white",
           "ticks": "",
           "title": {
            "standoff": 15
           },
           "zerolinecolor": "white",
           "zerolinewidth": 2
          },
          "yaxis": {
           "automargin": true,
           "gridcolor": "white",
           "linecolor": "white",
           "ticks": "",
           "title": {
            "standoff": 15
           },
           "zerolinecolor": "white",
           "zerolinewidth": 2
          }
         }
        },
        "title": {
         "text": "So luoc du an dieu chinh cua Viet Nam trong cac nam"
        },
        "xaxis": {
         "anchor": "y",
         "domain": [
          0,
          1
         ],
         "title": {
          "text": "Nam"
         }
        },
        "yaxis": {
         "anchor": "x",
         "domain": [
          0,
          1
         ],
         "title": {
          "text": "y"
         }
        }
       }
      }
     },
     "metadata": {},
     "output_type": "display_data"
    },
    {
     "data": {
      "application/vnd.plotly.v1+json": {
       "config": {
        "plotlyServerURL": "https://plot.ly"
       },
       "data": [
        {
         "hovertemplate": "Nam=%{x}<br>y=%{y}<extra></extra>",
         "legendgroup": "",
         "line": {
          "color": "#636efa",
          "dash": "solid"
         },
         "marker": {
          "symbol": "circle"
         },
         "mode": "lines",
         "name": "",
         "orientation": "v",
         "showlegend": false,
         "type": "scatter",
         "x": [
          2015,
          2016,
          2017,
          2018,
          2019,
          2020,
          2021,
          2022
         ],
         "xaxis": "x",
         "y": [
          51,
          2568,
          5007,
          6500,
          9843,
          6143,
          3801,
          3568
         ],
         "yaxis": "y"
        }
       ],
       "layout": {
        "legend": {
         "tracegroupgap": 0
        },
        "template": {
         "data": {
          "bar": [
           {
            "error_x": {
             "color": "#2a3f5f"
            },
            "error_y": {
             "color": "#2a3f5f"
            },
            "marker": {
             "line": {
              "color": "#E5ECF6",
              "width": 0.5
             },
             "pattern": {
              "fillmode": "overlay",
              "size": 10,
              "solidity": 0.2
             }
            },
            "type": "bar"
           }
          ],
          "barpolar": [
           {
            "marker": {
             "line": {
              "color": "#E5ECF6",
              "width": 0.5
             },
             "pattern": {
              "fillmode": "overlay",
              "size": 10,
              "solidity": 0.2
             }
            },
            "type": "barpolar"
           }
          ],
          "carpet": [
           {
            "aaxis": {
             "endlinecolor": "#2a3f5f",
             "gridcolor": "white",
             "linecolor": "white",
             "minorgridcolor": "white",
             "startlinecolor": "#2a3f5f"
            },
            "baxis": {
             "endlinecolor": "#2a3f5f",
             "gridcolor": "white",
             "linecolor": "white",
             "minorgridcolor": "white",
             "startlinecolor": "#2a3f5f"
            },
            "type": "carpet"
           }
          ],
          "choropleth": [
           {
            "colorbar": {
             "outlinewidth": 0,
             "ticks": ""
            },
            "type": "choropleth"
           }
          ],
          "contour": [
           {
            "colorbar": {
             "outlinewidth": 0,
             "ticks": ""
            },
            "colorscale": [
             [
              0,
              "#0d0887"
             ],
             [
              0.1111111111111111,
              "#46039f"
             ],
             [
              0.2222222222222222,
              "#7201a8"
             ],
             [
              0.3333333333333333,
              "#9c179e"
             ],
             [
              0.4444444444444444,
              "#bd3786"
             ],
             [
              0.5555555555555556,
              "#d8576b"
             ],
             [
              0.6666666666666666,
              "#ed7953"
             ],
             [
              0.7777777777777778,
              "#fb9f3a"
             ],
             [
              0.8888888888888888,
              "#fdca26"
             ],
             [
              1,
              "#f0f921"
             ]
            ],
            "type": "contour"
           }
          ],
          "contourcarpet": [
           {
            "colorbar": {
             "outlinewidth": 0,
             "ticks": ""
            },
            "type": "contourcarpet"
           }
          ],
          "heatmap": [
           {
            "colorbar": {
             "outlinewidth": 0,
             "ticks": ""
            },
            "colorscale": [
             [
              0,
              "#0d0887"
             ],
             [
              0.1111111111111111,
              "#46039f"
             ],
             [
              0.2222222222222222,
              "#7201a8"
             ],
             [
              0.3333333333333333,
              "#9c179e"
             ],
             [
              0.4444444444444444,
              "#bd3786"
             ],
             [
              0.5555555555555556,
              "#d8576b"
             ],
             [
              0.6666666666666666,
              "#ed7953"
             ],
             [
              0.7777777777777778,
              "#fb9f3a"
             ],
             [
              0.8888888888888888,
              "#fdca26"
             ],
             [
              1,
              "#f0f921"
             ]
            ],
            "type": "heatmap"
           }
          ],
          "heatmapgl": [
           {
            "colorbar": {
             "outlinewidth": 0,
             "ticks": ""
            },
            "colorscale": [
             [
              0,
              "#0d0887"
             ],
             [
              0.1111111111111111,
              "#46039f"
             ],
             [
              0.2222222222222222,
              "#7201a8"
             ],
             [
              0.3333333333333333,
              "#9c179e"
             ],
             [
              0.4444444444444444,
              "#bd3786"
             ],
             [
              0.5555555555555556,
              "#d8576b"
             ],
             [
              0.6666666666666666,
              "#ed7953"
             ],
             [
              0.7777777777777778,
              "#fb9f3a"
             ],
             [
              0.8888888888888888,
              "#fdca26"
             ],
             [
              1,
              "#f0f921"
             ]
            ],
            "type": "heatmapgl"
           }
          ],
          "histogram": [
           {
            "marker": {
             "pattern": {
              "fillmode": "overlay",
              "size": 10,
              "solidity": 0.2
             }
            },
            "type": "histogram"
           }
          ],
          "histogram2d": [
           {
            "colorbar": {
             "outlinewidth": 0,
             "ticks": ""
            },
            "colorscale": [
             [
              0,
              "#0d0887"
             ],
             [
              0.1111111111111111,
              "#46039f"
             ],
             [
              0.2222222222222222,
              "#7201a8"
             ],
             [
              0.3333333333333333,
              "#9c179e"
             ],
             [
              0.4444444444444444,
              "#bd3786"
             ],
             [
              0.5555555555555556,
              "#d8576b"
             ],
             [
              0.6666666666666666,
              "#ed7953"
             ],
             [
              0.7777777777777778,
              "#fb9f3a"
             ],
             [
              0.8888888888888888,
              "#fdca26"
             ],
             [
              1,
              "#f0f921"
             ]
            ],
            "type": "histogram2d"
           }
          ],
          "histogram2dcontour": [
           {
            "colorbar": {
             "outlinewidth": 0,
             "ticks": ""
            },
            "colorscale": [
             [
              0,
              "#0d0887"
             ],
             [
              0.1111111111111111,
              "#46039f"
             ],
             [
              0.2222222222222222,
              "#7201a8"
             ],
             [
              0.3333333333333333,
              "#9c179e"
             ],
             [
              0.4444444444444444,
              "#bd3786"
             ],
             [
              0.5555555555555556,
              "#d8576b"
             ],
             [
              0.6666666666666666,
              "#ed7953"
             ],
             [
              0.7777777777777778,
              "#fb9f3a"
             ],
             [
              0.8888888888888888,
              "#fdca26"
             ],
             [
              1,
              "#f0f921"
             ]
            ],
            "type": "histogram2dcontour"
           }
          ],
          "mesh3d": [
           {
            "colorbar": {
             "outlinewidth": 0,
             "ticks": ""
            },
            "type": "mesh3d"
           }
          ],
          "parcoords": [
           {
            "line": {
             "colorbar": {
              "outlinewidth": 0,
              "ticks": ""
             }
            },
            "type": "parcoords"
           }
          ],
          "pie": [
           {
            "automargin": true,
            "type": "pie"
           }
          ],
          "scatter": [
           {
            "fillpattern": {
             "fillmode": "overlay",
             "size": 10,
             "solidity": 0.2
            },
            "type": "scatter"
           }
          ],
          "scatter3d": [
           {
            "line": {
             "colorbar": {
              "outlinewidth": 0,
              "ticks": ""
             }
            },
            "marker": {
             "colorbar": {
              "outlinewidth": 0,
              "ticks": ""
             }
            },
            "type": "scatter3d"
           }
          ],
          "scattercarpet": [
           {
            "marker": {
             "colorbar": {
              "outlinewidth": 0,
              "ticks": ""
             }
            },
            "type": "scattercarpet"
           }
          ],
          "scattergeo": [
           {
            "marker": {
             "colorbar": {
              "outlinewidth": 0,
              "ticks": ""
             }
            },
            "type": "scattergeo"
           }
          ],
          "scattergl": [
           {
            "marker": {
             "colorbar": {
              "outlinewidth": 0,
              "ticks": ""
             }
            },
            "type": "scattergl"
           }
          ],
          "scattermapbox": [
           {
            "marker": {
             "colorbar": {
              "outlinewidth": 0,
              "ticks": ""
             }
            },
            "type": "scattermapbox"
           }
          ],
          "scatterpolar": [
           {
            "marker": {
             "colorbar": {
              "outlinewidth": 0,
              "ticks": ""
             }
            },
            "type": "scatterpolar"
           }
          ],
          "scatterpolargl": [
           {
            "marker": {
             "colorbar": {
              "outlinewidth": 0,
              "ticks": ""
             }
            },
            "type": "scatterpolargl"
           }
          ],
          "scatterternary": [
           {
            "marker": {
             "colorbar": {
              "outlinewidth": 0,
              "ticks": ""
             }
            },
            "type": "scatterternary"
           }
          ],
          "surface": [
           {
            "colorbar": {
             "outlinewidth": 0,
             "ticks": ""
            },
            "colorscale": [
             [
              0,
              "#0d0887"
             ],
             [
              0.1111111111111111,
              "#46039f"
             ],
             [
              0.2222222222222222,
              "#7201a8"
             ],
             [
              0.3333333333333333,
              "#9c179e"
             ],
             [
              0.4444444444444444,
              "#bd3786"
             ],
             [
              0.5555555555555556,
              "#d8576b"
             ],
             [
              0.6666666666666666,
              "#ed7953"
             ],
             [
              0.7777777777777778,
              "#fb9f3a"
             ],
             [
              0.8888888888888888,
              "#fdca26"
             ],
             [
              1,
              "#f0f921"
             ]
            ],
            "type": "surface"
           }
          ],
          "table": [
           {
            "cells": {
             "fill": {
              "color": "#EBF0F8"
             },
             "line": {
              "color": "white"
             }
            },
            "header": {
             "fill": {
              "color": "#C8D4E3"
             },
             "line": {
              "color": "white"
             }
            },
            "type": "table"
           }
          ]
         },
         "layout": {
          "annotationdefaults": {
           "arrowcolor": "#2a3f5f",
           "arrowhead": 0,
           "arrowwidth": 1
          },
          "autotypenumbers": "strict",
          "coloraxis": {
           "colorbar": {
            "outlinewidth": 0,
            "ticks": ""
           }
          },
          "colorscale": {
           "diverging": [
            [
             0,
             "#8e0152"
            ],
            [
             0.1,
             "#c51b7d"
            ],
            [
             0.2,
             "#de77ae"
            ],
            [
             0.3,
             "#f1b6da"
            ],
            [
             0.4,
             "#fde0ef"
            ],
            [
             0.5,
             "#f7f7f7"
            ],
            [
             0.6,
             "#e6f5d0"
            ],
            [
             0.7,
             "#b8e186"
            ],
            [
             0.8,
             "#7fbc41"
            ],
            [
             0.9,
             "#4d9221"
            ],
            [
             1,
             "#276419"
            ]
           ],
           "sequential": [
            [
             0,
             "#0d0887"
            ],
            [
             0.1111111111111111,
             "#46039f"
            ],
            [
             0.2222222222222222,
             "#7201a8"
            ],
            [
             0.3333333333333333,
             "#9c179e"
            ],
            [
             0.4444444444444444,
             "#bd3786"
            ],
            [
             0.5555555555555556,
             "#d8576b"
            ],
            [
             0.6666666666666666,
             "#ed7953"
            ],
            [
             0.7777777777777778,
             "#fb9f3a"
            ],
            [
             0.8888888888888888,
             "#fdca26"
            ],
            [
             1,
             "#f0f921"
            ]
           ],
           "sequentialminus": [
            [
             0,
             "#0d0887"
            ],
            [
             0.1111111111111111,
             "#46039f"
            ],
            [
             0.2222222222222222,
             "#7201a8"
            ],
            [
             0.3333333333333333,
             "#9c179e"
            ],
            [
             0.4444444444444444,
             "#bd3786"
            ],
            [
             0.5555555555555556,
             "#d8576b"
            ],
            [
             0.6666666666666666,
             "#ed7953"
            ],
            [
             0.7777777777777778,
             "#fb9f3a"
            ],
            [
             0.8888888888888888,
             "#fdca26"
            ],
            [
             1,
             "#f0f921"
            ]
           ]
          },
          "colorway": [
           "#636efa",
           "#EF553B",
           "#00cc96",
           "#ab63fa",
           "#FFA15A",
           "#19d3f3",
           "#FF6692",
           "#B6E880",
           "#FF97FF",
           "#FECB52"
          ],
          "font": {
           "color": "#2a3f5f"
          },
          "geo": {
           "bgcolor": "white",
           "lakecolor": "white",
           "landcolor": "#E5ECF6",
           "showlakes": true,
           "showland": true,
           "subunitcolor": "white"
          },
          "hoverlabel": {
           "align": "left"
          },
          "hovermode": "closest",
          "mapbox": {
           "style": "light"
          },
          "paper_bgcolor": "white",
          "plot_bgcolor": "#E5ECF6",
          "polar": {
           "angularaxis": {
            "gridcolor": "white",
            "linecolor": "white",
            "ticks": ""
           },
           "bgcolor": "#E5ECF6",
           "radialaxis": {
            "gridcolor": "white",
            "linecolor": "white",
            "ticks": ""
           }
          },
          "scene": {
           "xaxis": {
            "backgroundcolor": "#E5ECF6",
            "gridcolor": "white",
            "gridwidth": 2,
            "linecolor": "white",
            "showbackground": true,
            "ticks": "",
            "zerolinecolor": "white"
           },
           "yaxis": {
            "backgroundcolor": "#E5ECF6",
            "gridcolor": "white",
            "gridwidth": 2,
            "linecolor": "white",
            "showbackground": true,
            "ticks": "",
            "zerolinecolor": "white"
           },
           "zaxis": {
            "backgroundcolor": "#E5ECF6",
            "gridcolor": "white",
            "gridwidth": 2,
            "linecolor": "white",
            "showbackground": true,
            "ticks": "",
            "zerolinecolor": "white"
           }
          },
          "shapedefaults": {
           "line": {
            "color": "#2a3f5f"
           }
          },
          "ternary": {
           "aaxis": {
            "gridcolor": "white",
            "linecolor": "white",
            "ticks": ""
           },
           "baxis": {
            "gridcolor": "white",
            "linecolor": "white",
            "ticks": ""
           },
           "bgcolor": "#E5ECF6",
           "caxis": {
            "gridcolor": "white",
            "linecolor": "white",
            "ticks": ""
           }
          },
          "title": {
           "x": 0.05
          },
          "xaxis": {
           "automargin": true,
           "gridcolor": "white",
           "linecolor": "white",
           "ticks": "",
           "title": {
            "standoff": 15
           },
           "zerolinecolor": "white",
           "zerolinewidth": 2
          },
          "yaxis": {
           "automargin": true,
           "gridcolor": "white",
           "linecolor": "white",
           "ticks": "",
           "title": {
            "standoff": 15
           },
           "zerolinecolor": "white",
           "zerolinewidth": 2
          }
         }
        },
        "title": {
         "text": "So luoc gop von cua Viet Nam trong cac nam"
        },
        "xaxis": {
         "anchor": "y",
         "domain": [
          0,
          1
         ],
         "title": {
          "text": "Nam"
         }
        },
        "yaxis": {
         "anchor": "x",
         "domain": [
          0,
          1
         ],
         "title": {
          "text": "y"
         }
        }
       }
      }
     },
     "metadata": {},
     "output_type": "display_data"
    }
   ],
   "source": [
    "# Calculate sum of so du an cap moi, so luoc du an dieu chinh,  so luoc gop von of all province in each year\n",
    "sum_so_du_an_cap_moi = data.groupby('Nam')['So du an cap moi'].sum()\n",
    "sum_so_luong_du_an_dieu_chinh = data.groupby('Nam')['So luoc du an dieu chinh'].sum()\n",
    "sum_so_luong_gop_von = data.groupby('Nam')['So luoc gop von'].sum()\n",
    "# draw graph to show sum of so du an cap moi, so luoc du an dieu chinh,  so luoc gop von of all province in each year with px\n",
    "fig = px.line(data_frame=sum_so_du_an_cap_moi, x=sum_so_du_an_cap_moi.index, y=sum_so_du_an_cap_moi.values, title='So du an cap moi cua Viet Nam trong cac nam')\n",
    "fig.show()\n",
    "fig = px.line(data_frame=sum_so_luong_du_an_dieu_chinh, x=sum_so_luong_du_an_dieu_chinh.index, y=sum_so_luong_du_an_dieu_chinh.values, title='So luoc du an dieu chinh cua Viet Nam trong cac nam')\n",
    "fig.show()\n",
    "fig = px.line(data_frame=sum_so_luong_gop_von, x=sum_so_luong_gop_von.index, y=sum_so_luong_gop_von.values, title='So luoc gop von cua Viet Nam trong cac nam')\n",
    "fig.show()\n",
    "\n"
   ]
  },
  {
   "cell_type": "code",
   "execution_count": 162,
   "id": "8e94b5dc",
   "metadata": {},
   "outputs": [
    {
     "data": {
      "application/vnd.plotly.v1+json": {
       "config": {
        "plotlyServerURL": "https://plot.ly"
       },
       "data": [
        {
         "geo": "geo",
         "hovertemplate": "Doi tac=Bắc Ninh<br>Nam=2015<br>So du an cap moi=%{marker.size}<br>latitude=%{lat}<br>longitude=%{lon}<extra></extra>",
         "lat": [
          21.0955822
         ],
         "legendgroup": "Bắc Ninh",
         "lon": [
          106.1264766
         ],
         "marker": {
          "color": "#636efa",
          "size": [
           133
          ],
          "sizemode": "area",
          "sizeref": 3.3,
          "symbol": "circle"
         },
         "mode": "markers",
         "name": "Bắc Ninh",
         "showlegend": true,
         "type": "scattergeo"
        },
        {
         "geo": "geo",
         "hovertemplate": "Doi tac=TP. Hồ Chí Minh<br>Nam=2015<br>So du an cap moi=%{marker.size}<br>latitude=%{lat}<br>longitude=%{lon}<extra></extra>",
         "lat": [
          10.7763897
         ],
         "legendgroup": "TP. Hồ Chí Minh",
         "lon": [
          106.7011391
         ],
         "marker": {
          "color": "#EF553B",
          "size": [
           570
          ],
          "sizemode": "area",
          "sizeref": 3.3,
          "symbol": "circle"
         },
         "mode": "markers",
         "name": "TP. Hồ Chí Minh",
         "showlegend": true,
         "type": "scattergeo"
        },
        {
         "geo": "geo",
         "hovertemplate": "Doi tac=Bình Dương<br>Nam=2015<br>So du an cap moi=%{marker.size}<br>latitude=%{lat}<br>longitude=%{lon}<extra></extra>",
         "lat": [
          11.1836551
         ],
         "legendgroup": "Bình Dương",
         "lon": [
          106.7031737
         ],
         "marker": {
          "color": "#00cc96",
          "size": [
           200
          ],
          "sizemode": "area",
          "sizeref": 3.3,
          "symbol": "circle"
         },
         "mode": "markers",
         "name": "Bình Dương",
         "showlegend": true,
         "type": "scattergeo"
        },
        {
         "geo": "geo",
         "hovertemplate": "Doi tac=Trà Vinh<br>Nam=2015<br>So du an cap moi=%{marker.size}<br>latitude=%{lat}<br>longitude=%{lon}<extra></extra>",
         "lat": [
          9.8037998
         ],
         "legendgroup": "Trà Vinh",
         "lon": [
          106.3256808
         ],
         "marker": {
          "color": "#ab63fa",
          "size": [
           2
          ],
          "sizemode": "area",
          "sizeref": 3.3,
          "symbol": "circle"
         },
         "mode": "markers",
         "name": "Trà Vinh",
         "showlegend": true,
         "type": "scattergeo"
        },
        {
         "geo": "geo",
         "hovertemplate": "Doi tac=Đồng Nai<br>Nam=2015<br>So du an cap moi=%{marker.size}<br>latitude=%{lat}<br>longitude=%{lon}<extra></extra>",
         "lat": [
          11.0355624
         ],
         "legendgroup": "Đồng Nai",
         "lon": [
          107.1881076
         ],
         "marker": {
          "color": "#FFA15A",
          "size": [
           103
          ],
          "sizemode": "area",
          "sizeref": 3.3,
          "symbol": "circle"
         },
         "mode": "markers",
         "name": "Đồng Nai",
         "showlegend": true,
         "type": "scattergeo"
        },
        {
         "geo": "geo",
         "hovertemplate": "Doi tac=Hà Nội<br>Nam=2015<br>So du an cap moi=%{marker.size}<br>latitude=%{lat}<br>longitude=%{lon}<extra></extra>",
         "lat": [
          21.0283207
         ],
         "legendgroup": "Hà Nội",
         "lon": [
          105.8540217
         ],
         "marker": {
          "color": "#19d3f3",
          "size": [
           352
          ],
          "sizemode": "area",
          "sizeref": 3.3,
          "symbol": "circle"
         },
         "mode": "markers",
         "name": "Hà Nội",
         "showlegend": true,
         "type": "scattergeo"
        },
        {
         "geo": "geo",
         "hovertemplate": "Doi tac=Hải Phòng<br>Nam=2015<br>So du an cap moi=%{marker.size}<br>latitude=%{lat}<br>longitude=%{lon}<extra></extra>",
         "lat": [
          20.858864
         ],
         "legendgroup": "Hải Phòng",
         "lon": [
          106.6749591
         ],
         "marker": {
          "color": "#FF6692",
          "size": [
           45
          ],
          "sizemode": "area",
          "sizeref": 3.3,
          "symbol": "circle"
         },
         "mode": "markers",
         "name": "Hải Phòng",
         "showlegend": true,
         "type": "scattergeo"
        },
        {
         "geo": "geo",
         "hovertemplate": "Doi tac=Bà Rịa - Vũng Tàu<br>Nam=2015<br>So du an cap moi=%{marker.size}<br>latitude=%{lat}<br>longitude=%{lon}<extra></extra>",
         "lat": [
          10.5738801
         ],
         "legendgroup": "Bà Rịa - Vũng Tàu",
         "lon": [
          107.3284362
         ],
         "marker": {
          "color": "#B6E880",
          "size": [
           11
          ],
          "sizemode": "area",
          "sizeref": 3.3,
          "symbol": "circle"
         },
         "mode": "markers",
         "name": "Bà Rịa - Vũng Tàu",
         "showlegend": true,
         "type": "scattergeo"
        },
        {
         "geo": "geo",
         "hovertemplate": "Doi tac=Long An<br>Nam=2015<br>So du an cap moi=%{marker.size}<br>latitude=%{lat}<br>longitude=%{lon}<extra></extra>",
         "lat": [
          10.6983968
         ],
         "legendgroup": "Long An",
         "lon": [
          106.1883517
         ],
         "marker": {
          "color": "#FF97FF",
          "size": [
           119
          ],
          "sizemode": "area",
          "sizeref": 3.3,
          "symbol": "circle"
         },
         "mode": "markers",
         "name": "Long An",
         "showlegend": true,
         "type": "scattergeo"
        },
        {
         "geo": "geo",
         "hovertemplate": "Doi tac=Tây Ninh<br>Nam=2015<br>So du an cap moi=%{marker.size}<br>latitude=%{lat}<br>longitude=%{lon}<extra></extra>",
         "lat": [
          11.4019366
         ],
         "legendgroup": "Tây Ninh",
         "lon": [
          106.1626927
         ],
         "marker": {
          "color": "#FECB52",
          "size": [
           16
          ],
          "sizemode": "area",
          "sizeref": 3.3,
          "symbol": "circle"
         },
         "mode": "markers",
         "name": "Tây Ninh",
         "showlegend": true,
         "type": "scattergeo"
        },
        {
         "geo": "geo",
         "hovertemplate": "Doi tac=Hải Dương<br>Nam=2015<br>So du an cap moi=%{marker.size}<br>latitude=%{lat}<br>longitude=%{lon}<extra></extra>",
         "lat": [
          20.8930571
         ],
         "legendgroup": "Hải Dương",
         "lon": [
          106.3725441
         ],
         "marker": {
          "color": "#636efa",
          "size": [
           28
          ],
          "sizemode": "area",
          "sizeref": 3.3,
          "symbol": "circle"
         },
         "mode": "markers",
         "name": "Hải Dương",
         "showlegend": true,
         "type": "scattergeo"
        },
        {
         "geo": "geo",
         "hovertemplate": "Doi tac=Bắc Giang<br>Nam=2015<br>So du an cap moi=%{marker.size}<br>latitude=%{lat}<br>longitude=%{lon}<extra></extra>",
         "lat": [
          21.3169625
         ],
         "legendgroup": "Bắc Giang",
         "lon": [
          106.437985
         ],
         "marker": {
          "color": "#EF553B",
          "size": [
           51
          ],
          "sizemode": "area",
          "sizeref": 3.3,
          "symbol": "circle"
         },
         "mode": "markers",
         "name": "Bắc Giang",
         "showlegend": true,
         "type": "scattergeo"
        },
        {
         "geo": "geo",
         "hovertemplate": "Doi tac=Quảng Ninh<br>Nam=2015<br>So du an cap moi=%{marker.size}<br>latitude=%{lat}<br>longitude=%{lon}<extra></extra>",
         "lat": [
          21.1718046
         ],
         "legendgroup": "Quảng Ninh",
         "lon": [
          107.2012742
         ],
         "marker": {
          "color": "#00cc96",
          "size": [
           10
          ],
          "sizemode": "area",
          "sizeref": 3.3,
          "symbol": "circle"
         },
         "mode": "markers",
         "name": "Quảng Ninh",
         "showlegend": true,
         "type": "scattergeo"
        },
        {
         "geo": "geo",
         "hovertemplate": "Doi tac=Vĩnh Phúc<br>Nam=2015<br>So du an cap moi=%{marker.size}<br>latitude=%{lat}<br>longitude=%{lon}<extra></extra>",
         "lat": [
          21.3778689
         ],
         "legendgroup": "Vĩnh Phúc",
         "lon": [
          105.5758286
         ],
         "marker": {
          "color": "#ab63fa",
          "size": [
           34
          ],
          "sizemode": "area",
          "sizeref": 3.3,
          "symbol": "circle"
         },
         "mode": "markers",
         "name": "Vĩnh Phúc",
         "showlegend": true,
         "type": "scattergeo"
        },
        {
         "geo": "geo",
         "hovertemplate": "Doi tac=Hà Nam<br>Nam=2015<br>So du an cap moi=%{marker.size}<br>latitude=%{lat}<br>longitude=%{lon}<extra></extra>",
         "lat": [
          34.0000001
         ],
         "legendgroup": "Hà Nam",
         "lon": [
          113.9999999
         ],
         "marker": {
          "color": "#FFA15A",
          "size": [
           34
          ],
          "sizemode": "area",
          "sizeref": 3.3,
          "symbol": "circle"
         },
         "mode": "markers",
         "name": "Hà Nam",
         "showlegend": true,
         "type": "scattergeo"
        },
        {
         "geo": "geo",
         "hovertemplate": "Doi tac=Hưng Yên<br>Nam=2015<br>So du an cap moi=%{marker.size}<br>latitude=%{lat}<br>longitude=%{lon}<extra></extra>",
         "lat": [
          20.7833912
         ],
         "legendgroup": "Hưng Yên",
         "lon": [
          106.0699025
         ],
         "marker": {
          "color": "#19d3f3",
          "size": [
           34
          ],
          "sizemode": "area",
          "sizeref": 3.3,
          "symbol": "circle"
         },
         "mode": "markers",
         "name": "Hưng Yên",
         "showlegend": true,
         "type": "scattergeo"
        },
        {
         "geo": "geo",
         "hovertemplate": "Doi tac=Bình Phước<br>Nam=2015<br>So du an cap moi=%{marker.size}<br>latitude=%{lat}<br>longitude=%{lon}<extra></extra>",
         "lat": [
          11.7332484
         ],
         "legendgroup": "Bình Phước",
         "lon": [
          106.906249
         ],
         "marker": {
          "color": "#FF6692",
          "size": [
           21
          ],
          "sizemode": "area",
          "sizeref": 3.3,
          "symbol": "circle"
         },
         "mode": "markers",
         "name": "Bình Phước",
         "showlegend": true,
         "type": "scattergeo"
        },
        {
         "geo": "geo",
         "hovertemplate": "Doi tac=Quảng Nam<br>Nam=2015<br>So du an cap moi=%{marker.size}<br>latitude=%{lat}<br>longitude=%{lon}<extra></extra>",
         "lat": [
          15.5761698
         ],
         "legendgroup": "Quảng Nam",
         "lon": [
          108.0527132
         ],
         "marker": {
          "color": "#B6E880",
          "size": [
           18
          ],
          "sizemode": "area",
          "sizeref": 3.3,
          "symbol": "circle"
         },
         "mode": "markers",
         "name": "Quảng Nam",
         "showlegend": true,
         "type": "scattergeo"
        },
        {
         "geo": "geo",
         "hovertemplate": "Doi tac=Thái Nguyên<br>Nam=2015<br>So du an cap moi=%{marker.size}<br>latitude=%{lat}<br>longitude=%{lon}<extra></extra>",
         "lat": [
          21.592477
         ],
         "legendgroup": "Thái Nguyên",
         "lon": [
          105.8435398
         ],
         "marker": {
          "color": "#FF97FF",
          "size": [
           23
          ],
          "sizemode": "area",
          "sizeref": 3.3,
          "symbol": "circle"
         },
         "mode": "markers",
         "name": "Thái Nguyên",
         "showlegend": true,
         "type": "scattergeo"
        },
        {
         "geo": "geo",
         "hovertemplate": "Doi tac=Nghệ An<br>Nam=2015<br>So du an cap moi=%{marker.size}<br>latitude=%{lat}<br>longitude=%{lon}<extra></extra>",
         "lat": [
          19.1976001
         ],
         "legendgroup": "Nghệ An",
         "lon": [
          105.060676
         ],
         "marker": {
          "color": "#FECB52",
          "size": [
           15
          ],
          "sizemode": "area",
          "sizeref": 3.3,
          "symbol": "circle"
         },
         "mode": "markers",
         "name": "Nghệ An",
         "showlegend": true,
         "type": "scattergeo"
        },
        {
         "geo": "geo",
         "hovertemplate": "Doi tac=Bến Tre<br>Nam=2015<br>So du an cap moi=%{marker.size}<br>latitude=%{lat}<br>longitude=%{lon}<extra></extra>",
         "lat": [
          10.1093637
         ],
         "legendgroup": "Bến Tre",
         "lon": [
          106.4811559
         ],
         "marker": {
          "color": "#636efa",
          "size": [
           2
          ],
          "sizemode": "area",
          "sizeref": 3.3,
          "symbol": "circle"
         },
         "mode": "markers",
         "name": "Bến Tre",
         "showlegend": true,
         "type": "scattergeo"
        },
        {
         "geo": "geo",
         "hovertemplate": "Doi tac=Hà Tĩnh<br>Nam=2015<br>So du an cap moi=%{marker.size}<br>latitude=%{lat}<br>longitude=%{lon}<extra></extra>",
         "lat": [
          18.3504832
         ],
         "legendgroup": "Hà Tĩnh",
         "lon": [
          105.7623047
         ],
         "marker": {
          "color": "#EF553B",
          "size": [
           9
          ],
          "sizemode": "area",
          "sizeref": 3.3,
          "symbol": "circle"
         },
         "mode": "markers",
         "name": "Hà Tĩnh",
         "showlegend": true,
         "type": "scattergeo"
        },
        {
         "geo": "geo",
         "hovertemplate": "Doi tac=Thừa Thiên Huế<br>Nam=2015<br>So du an cap moi=%{marker.size}<br>latitude=%{lat}<br>longitude=%{lon}<extra></extra>",
         "lat": [
          16.3480798
         ],
         "legendgroup": "Thừa Thiên Huế",
         "lon": [
          107.5398913
         ],
         "marker": {
          "color": "#00cc96",
          "size": [
           7
          ],
          "sizemode": "area",
          "sizeref": 3.3,
          "symbol": "circle"
         },
         "mode": "markers",
         "name": "Thừa Thiên Huế",
         "showlegend": true,
         "type": "scattergeo"
        },
        {
         "geo": "geo",
         "hovertemplate": "Doi tac=Phú Thọ<br>Nam=2015<br>So du an cap moi=%{marker.size}<br>latitude=%{lat}<br>longitude=%{lon}<extra></extra>",
         "lat": [
          21.3007538
         ],
         "legendgroup": "Phú Thọ",
         "lon": [
          105.1349604
         ],
         "marker": {
          "color": "#ab63fa",
          "size": [
           12
          ],
          "sizemode": "area",
          "sizeref": 3.3,
          "symbol": "circle"
         },
         "mode": "markers",
         "name": "Phú Thọ",
         "showlegend": true,
         "type": "scattergeo"
        },
        {
         "geo": "geo",
         "hovertemplate": "Doi tac=Tiền Giang<br>Nam=2015<br>So du an cap moi=%{marker.size}<br>latitude=%{lat}<br>longitude=%{lon}<extra></extra>",
         "lat": [
          10.4030368
         ],
         "legendgroup": "Tiền Giang",
         "lon": [
          106.361633
         ],
         "marker": {
          "color": "#FFA15A",
          "size": [
           7
          ],
          "sizemode": "area",
          "sizeref": 3.3,
          "symbol": "circle"
         },
         "mode": "markers",
         "name": "Tiền Giang",
         "showlegend": true,
         "type": "scattergeo"
        },
        {
         "geo": "geo",
         "hovertemplate": "Doi tac=Yên Bái<br>Nam=2015<br>So du an cap moi=%{marker.size}<br>latitude=%{lat}<br>longitude=%{lon}<extra></extra>",
         "lat": [
          21.69611
         ],
         "legendgroup": "Yên Bái",
         "lon": [
          104.8752392
         ],
         "marker": {
          "color": "#19d3f3",
          "size": [
           2
          ],
          "sizemode": "area",
          "sizeref": 3.3,
          "symbol": "circle"
         },
         "mode": "markers",
         "name": "Yên Bái",
         "showlegend": true,
         "type": "scattergeo"
        },
        {
         "geo": "geo",
         "hovertemplate": "Doi tac=Nam Định<br>Nam=2015<br>So du an cap moi=%{marker.size}<br>latitude=%{lat}<br>longitude=%{lon}<extra></extra>",
         "lat": [
          20.2686476
         ],
         "legendgroup": "Nam Định",
         "lon": [
          106.2289075
         ],
         "marker": {
          "color": "#FF6692",
          "size": [
           13
          ],
          "sizemode": "area",
          "sizeref": 3.3,
          "symbol": "circle"
         },
         "mode": "markers",
         "name": "Nam Định",
         "showlegend": true,
         "type": "scattergeo"
        },
        {
         "geo": "geo",
         "hovertemplate": "Doi tac=An Giang<br>Nam=2015<br>So du an cap moi=%{marker.size}<br>latitude=%{lat}<br>longitude=%{lon}<extra></extra>",
         "lat": [
          10.5392057
         ],
         "legendgroup": "An Giang",
         "lon": [
          105.2312822
         ],
         "marker": {
          "color": "#B6E880",
          "size": [
           8
          ],
          "sizemode": "area",
          "sizeref": 3.3,
          "symbol": "circle"
         },
         "mode": "markers",
         "name": "An Giang",
         "showlegend": true,
         "type": "scattergeo"
        },
        {
         "geo": "geo",
         "hovertemplate": "Doi tac=Bình Định<br>Nam=2015<br>So du an cap moi=%{marker.size}<br>latitude=%{lat}<br>longitude=%{lon}<extra></extra>",
         "lat": [
          14.0779378
         ],
         "legendgroup": "Bình Định",
         "lon": [
          108.9898798
         ],
         "marker": {
          "color": "#FF97FF",
          "size": [
           6
          ],
          "sizemode": "area",
          "sizeref": 3.3,
          "symbol": "circle"
         },
         "mode": "markers",
         "name": "Bình Định",
         "showlegend": true,
         "type": "scattergeo"
        },
        {
         "geo": "geo",
         "hovertemplate": "Doi tac=Khánh Hòa<br>Nam=2015<br>So du an cap moi=%{marker.size}<br>latitude=%{lat}<br>longitude=%{lon}<extra></extra>",
         "lat": [
          12.2980751
         ],
         "legendgroup": "Khánh Hòa",
         "lon": [
          108.9950386
         ],
         "marker": {
          "color": "#FECB52",
          "size": [
           6
          ],
          "sizemode": "area",
          "sizeref": 3.3,
          "symbol": "circle"
         },
         "mode": "markers",
         "name": "Khánh Hòa",
         "showlegend": true,
         "type": "scattergeo"
        },
        {
         "geo": "geo",
         "hovertemplate": "Doi tac=Thái Bình<br>Nam=2015<br>So du an cap moi=%{marker.size}<br>latitude=%{lat}<br>longitude=%{lon}<extra></extra>",
         "lat": [
          20.5296832
         ],
         "legendgroup": "Thái Bình",
         "lon": [
          106.3876068
         ],
         "marker": {
          "color": "#636efa",
          "size": [
           8
          ],
          "sizemode": "area",
          "sizeref": 3.3,
          "symbol": "circle"
         },
         "mode": "markers",
         "name": "Thái Bình",
         "showlegend": true,
         "type": "scattergeo"
        },
        {
         "geo": "geo",
         "hovertemplate": "Doi tac=Đà Nẵng<br>Nam=2015<br>So du an cap moi=%{marker.size}<br>latitude=%{lat}<br>longitude=%{lon}<extra></extra>",
         "lat": [
          16.068
         ],
         "legendgroup": "Đà Nẵng",
         "lon": [
          108.212
         ],
         "marker": {
          "color": "#EF553B",
          "size": [
           58
          ],
          "sizemode": "area",
          "sizeref": 3.3,
          "symbol": "circle"
         },
         "mode": "markers",
         "name": "Đà Nẵng",
         "showlegend": true,
         "type": "scattergeo"
        },
        {
         "geo": "geo",
         "hovertemplate": "Doi tac=Thanh Hóa<br>Nam=2015<br>So du an cap moi=%{marker.size}<br>latitude=%{lat}<br>longitude=%{lon}<extra></extra>",
         "lat": [
          19.9781573
         ],
         "legendgroup": "Thanh Hóa",
         "lon": [
          105.4816107
         ],
         "marker": {
          "color": "#00cc96",
          "size": [
           7
          ],
          "sizemode": "area",
          "sizeref": 3.3,
          "symbol": "circle"
         },
         "mode": "markers",
         "name": "Thanh Hóa",
         "showlegend": true,
         "type": "scattergeo"
        },
        {
         "geo": "geo",
         "hovertemplate": "Doi tac=Ninh Bình<br>Nam=2015<br>So du an cap moi=%{marker.size}<br>latitude=%{lat}<br>longitude=%{lon}<extra></extra>",
         "lat": [
          20.2545421
         ],
         "legendgroup": "Ninh Bình",
         "lon": [
          105.9764854
         ],
         "marker": {
          "color": "#ab63fa",
          "size": [
           7
          ],
          "sizemode": "area",
          "sizeref": 3.3,
          "symbol": "circle"
         },
         "mode": "markers",
         "name": "Ninh Bình",
         "showlegend": true,
         "type": "scattergeo"
        },
        {
         "geo": "geo",
         "hovertemplate": "Doi tac=Phú Yên<br>Nam=2015<br>So du an cap moi=%{marker.size}<br>latitude=%{lat}<br>longitude=%{lon}<extra></extra>",
         "lat": [
          13.1912633
         ],
         "legendgroup": "Phú Yên",
         "lon": [
          109.1273678
         ],
         "marker": {
          "color": "#FFA15A",
          "size": [
           4
          ],
          "sizemode": "area",
          "sizeref": 3.3,
          "symbol": "circle"
         },
         "mode": "markers",
         "name": "Phú Yên",
         "showlegend": true,
         "type": "scattergeo"
        },
        {
         "geo": "geo",
         "hovertemplate": "Doi tac=Kiên Giang<br>Nam=2015<br>So du an cap moi=%{marker.size}<br>latitude=%{lat}<br>longitude=%{lon}<extra></extra>",
         "lat": [
          9.9904962
         ],
         "legendgroup": "Kiên Giang",
         "lon": [
          105.2435248
         ],
         "marker": {
          "color": "#19d3f3",
          "size": [
           2
          ],
          "sizemode": "area",
          "sizeref": 3.3,
          "symbol": "circle"
         },
         "mode": "markers",
         "name": "Kiên Giang",
         "showlegend": true,
         "type": "scattergeo"
        },
        {
         "geo": "geo",
         "hovertemplate": "Doi tac=Đăk Lăk<br>Nam=2015<br>So du an cap moi=%{marker.size}<br>latitude=%{lat}<br>longitude=%{lon}<extra></extra>",
         "lat": [
          12.8292274
         ],
         "legendgroup": "Đăk Lăk",
         "lon": [
          108.2999058
         ],
         "marker": {
          "color": "#FF6692",
          "size": [
           3
          ],
          "sizemode": "area",
          "sizeref": 3.3,
          "symbol": "circle"
         },
         "mode": "markers",
         "name": "Đăk Lăk",
         "showlegend": true,
         "type": "scattergeo"
        },
        {
         "geo": "geo",
         "hovertemplate": "Doi tac=Quảng Bình<br>Nam=2015<br>So du an cap moi=%{marker.size}<br>latitude=%{lat}<br>longitude=%{lon}<extra></extra>",
         "lat": [
          17.509599
         ],
         "legendgroup": "Quảng Bình",
         "lon": [
          106.4004452
         ],
         "marker": {
          "color": "#B6E880",
          "size": [
           3
          ],
          "sizemode": "area",
          "sizeref": 3.3,
          "symbol": "circle"
         },
         "mode": "markers",
         "name": "Quảng Bình",
         "showlegend": true,
         "type": "scattergeo"
        },
        {
         "geo": "geo",
         "hovertemplate": "Doi tac=Bình Thuận<br>Nam=2015<br>So du an cap moi=%{marker.size}<br>latitude=%{lat}<br>longitude=%{lon}<extra></extra>",
         "lat": [
          11.1041572
         ],
         "legendgroup": "Bình Thuận",
         "lon": [
          108.1832931
         ],
         "marker": {
          "color": "#FF97FF",
          "size": [
           1
          ],
          "sizemode": "area",
          "sizeref": 3.3,
          "symbol": "circle"
         },
         "mode": "markers",
         "name": "Bình Thuận",
         "showlegend": true,
         "type": "scattergeo"
        },
        {
         "geo": "geo",
         "hovertemplate": "Doi tac=Hậu Giang<br>Nam=2015<br>So du an cap moi=%{marker.size}<br>latitude=%{lat}<br>longitude=%{lon}<extra></extra>",
         "lat": [
          9.7985063
         ],
         "legendgroup": "Hậu Giang",
         "lon": [
          105.6379524
         ],
         "marker": {
          "color": "#FECB52",
          "size": [
           1
          ],
          "sizemode": "area",
          "sizeref": 3.3,
          "symbol": "circle"
         },
         "mode": "markers",
         "name": "Hậu Giang",
         "showlegend": true,
         "type": "scattergeo"
        },
        {
         "geo": "geo",
         "hovertemplate": "Doi tac=Quảng Ngãi<br>Nam=2015<br>So du an cap moi=%{marker.size}<br>latitude=%{lat}<br>longitude=%{lon}<extra></extra>",
         "lat": [
          14.9953739
         ],
         "legendgroup": "Quảng Ngãi",
         "lon": [
          108.691729
         ],
         "marker": {
          "color": "#636efa",
          "size": [
           6
          ],
          "sizemode": "area",
          "sizeref": 3.3,
          "symbol": "circle"
         },
         "mode": "markers",
         "name": "Quảng Ngãi",
         "showlegend": true,
         "type": "scattergeo"
        },
        {
         "geo": "geo",
         "hovertemplate": "Doi tac=Cần Thơ<br>Nam=2015<br>So du an cap moi=%{marker.size}<br>latitude=%{lat}<br>longitude=%{lon}<extra></extra>",
         "lat": [
          10.0364216
         ],
         "legendgroup": "Cần Thơ",
         "lon": [
          105.7875219
         ],
         "marker": {
          "color": "#EF553B",
          "size": [
           5
          ],
          "sizemode": "area",
          "sizeref": 3.3,
          "symbol": "circle"
         },
         "mode": "markers",
         "name": "Cần Thơ",
         "showlegend": true,
         "type": "scattergeo"
        },
        {
         "geo": "geo",
         "hovertemplate": "Doi tac=Vĩnh Long<br>Nam=2015<br>So du an cap moi=%{marker.size}<br>latitude=%{lat}<br>longitude=%{lon}<extra></extra>",
         "lat": [
          10.1203043
         ],
         "legendgroup": "Vĩnh Long",
         "lon": [
          106.0125705
         ],
         "marker": {
          "color": "#00cc96",
          "size": [
           4
          ],
          "sizemode": "area",
          "sizeref": 3.3,
          "symbol": "circle"
         },
         "mode": "markers",
         "name": "Vĩnh Long",
         "showlegend": true,
         "type": "scattergeo"
        },
        {
         "geo": "geo",
         "hovertemplate": "Doi tac=Đồng Tháp<br>Nam=2015<br>So du an cap moi=%{marker.size}<br>latitude=%{lat}<br>longitude=%{lon}<extra></extra>",
         "lat": [
          10.590424
         ],
         "legendgroup": "Đồng Tháp",
         "lon": [
          105.6802341
         ],
         "marker": {
          "color": "#ab63fa",
          "size": [
           1
          ],
          "sizemode": "area",
          "sizeref": 3.3,
          "symbol": "circle"
         },
         "mode": "markers",
         "name": "Đồng Tháp",
         "showlegend": true,
         "type": "scattergeo"
        },
        {
         "geo": "geo",
         "hovertemplate": "Doi tac=Lâm Đồng<br>Nam=2015<br>So du an cap moi=%{marker.size}<br>latitude=%{lat}<br>longitude=%{lon}<extra></extra>",
         "lat": [
          11.6614957
         ],
         "legendgroup": "Lâm Đồng",
         "lon": [
          108.1335279
         ],
         "marker": {
          "color": "#FFA15A",
          "size": [
           5
          ],
          "sizemode": "area",
          "sizeref": 3.3,
          "symbol": "circle"
         },
         "mode": "markers",
         "name": "Lâm Đồng",
         "showlegend": true,
         "type": "scattergeo"
        },
        {
         "geo": "geo",
         "hovertemplate": "Doi tac=Sóc Trăng<br>Nam=2015<br>So du an cap moi=%{marker.size}<br>latitude=%{lat}<br>longitude=%{lon}<extra></extra>",
         "lat": [
          9.5628369
         ],
         "legendgroup": "Sóc Trăng",
         "lon": [
          105.9493991
         ],
         "marker": {
          "color": "#19d3f3",
          "size": [
           1
          ],
          "sizemode": "area",
          "sizeref": 3.3,
          "symbol": "circle"
         },
         "mode": "markers",
         "name": "Sóc Trăng",
         "showlegend": true,
         "type": "scattergeo"
        },
        {
         "geo": "geo",
         "hovertemplate": "Doi tac=Bạc Liêu<br>Nam=2015<br>So du an cap moi=%{marker.size}<br>latitude=%{lat}<br>longitude=%{lon}<extra></extra>",
         "lat": [
          9.3298341
         ],
         "legendgroup": "Bạc Liêu",
         "lon": [
          105.509946
         ],
         "marker": {
          "color": "#FF6692",
          "size": [
           1
          ],
          "sizemode": "area",
          "sizeref": 3.3,
          "symbol": "circle"
         },
         "mode": "markers",
         "name": "Bạc Liêu",
         "showlegend": true,
         "type": "scattergeo"
        },
        {
         "geo": "geo",
         "hovertemplate": "Doi tac=Tuyên Quang<br>Nam=2015<br>So du an cap moi=%{marker.size}<br>latitude=%{lat}<br>longitude=%{lon}<extra></extra>",
         "lat": [
          22.0747798
         ],
         "legendgroup": "Tuyên Quang",
         "lon": [
          105.258411
         ],
         "marker": {
          "color": "#B6E880",
          "size": [
           1
          ],
          "sizemode": "area",
          "sizeref": 3.3,
          "symbol": "circle"
         },
         "mode": "markers",
         "name": "Tuyên Quang",
         "showlegend": true,
         "type": "scattergeo"
        },
        {
         "geo": "geo",
         "hovertemplate": "Doi tac=Hòa Bình<br>Nam=2015<br>So du an cap moi=%{marker.size}<br>latitude=%{lat}<br>longitude=%{lon}<extra></extra>",
         "lat": [
          20.6763365
         ],
         "legendgroup": "Hòa Bình",
         "lon": [
          105.3759952
         ],
         "marker": {
          "color": "#FF97FF",
          "size": [
           5
          ],
          "sizemode": "area",
          "sizeref": 3.3,
          "symbol": "circle"
         },
         "mode": "markers",
         "name": "Hòa Bình",
         "showlegend": true,
         "type": "scattergeo"
        },
        {
         "geo": "geo",
         "hovertemplate": "Doi tac=Ninh Thuận<br>Nam=2015<br>So du an cap moi=%{marker.size}<br>latitude=%{lat}<br>longitude=%{lon}<extra></extra>",
         "lat": [
          11.6965639
         ],
         "legendgroup": "Ninh Thuận",
         "lon": [
          108.8928476
         ],
         "marker": {
          "color": "#FECB52",
          "size": [
           1
          ],
          "sizemode": "area",
          "sizeref": 3.3,
          "symbol": "circle"
         },
         "mode": "markers",
         "name": "Ninh Thuận",
         "showlegend": true,
         "type": "scattergeo"
        },
        {
         "geo": "geo",
         "hovertemplate": "Doi tac=Bắc Kạn<br>Nam=2015<br>So du an cap moi=%{marker.size}<br>latitude=%{lat}<br>longitude=%{lon}<extra></extra>",
         "lat": [
          22.2571701
         ],
         "legendgroup": "Bắc Kạn",
         "lon": [
          105.8204437
         ],
         "marker": {
          "color": "#636efa",
          "size": [
           1
          ],
          "sizemode": "area",
          "sizeref": 3.3,
          "symbol": "circle"
         },
         "mode": "markers",
         "name": "Bắc Kạn",
         "showlegend": true,
         "type": "scattergeo"
        }
       ],
       "frames": [
        {
         "data": [
          {
           "geo": "geo",
           "hovertemplate": "Doi tac=Bắc Ninh<br>Nam=2015<br>So du an cap moi=%{marker.size}<br>latitude=%{lat}<br>longitude=%{lon}<extra></extra>",
           "lat": [
            21.0955822
           ],
           "legendgroup": "Bắc Ninh",
           "lon": [
            106.1264766
           ],
           "marker": {
            "color": "#636efa",
            "size": [
             133
            ],
            "sizemode": "area",
            "sizeref": 3.3,
            "symbol": "circle"
           },
           "mode": "markers",
           "name": "Bắc Ninh",
           "showlegend": true,
           "type": "scattergeo"
          },
          {
           "geo": "geo",
           "hovertemplate": "Doi tac=TP. Hồ Chí Minh<br>Nam=2015<br>So du an cap moi=%{marker.size}<br>latitude=%{lat}<br>longitude=%{lon}<extra></extra>",
           "lat": [
            10.7763897
           ],
           "legendgroup": "TP. Hồ Chí Minh",
           "lon": [
            106.7011391
           ],
           "marker": {
            "color": "#EF553B",
            "size": [
             570
            ],
            "sizemode": "area",
            "sizeref": 3.3,
            "symbol": "circle"
           },
           "mode": "markers",
           "name": "TP. Hồ Chí Minh",
           "showlegend": true,
           "type": "scattergeo"
          },
          {
           "geo": "geo",
           "hovertemplate": "Doi tac=Bình Dương<br>Nam=2015<br>So du an cap moi=%{marker.size}<br>latitude=%{lat}<br>longitude=%{lon}<extra></extra>",
           "lat": [
            11.1836551
           ],
           "legendgroup": "Bình Dương",
           "lon": [
            106.7031737
           ],
           "marker": {
            "color": "#00cc96",
            "size": [
             200
            ],
            "sizemode": "area",
            "sizeref": 3.3,
            "symbol": "circle"
           },
           "mode": "markers",
           "name": "Bình Dương",
           "showlegend": true,
           "type": "scattergeo"
          },
          {
           "geo": "geo",
           "hovertemplate": "Doi tac=Trà Vinh<br>Nam=2015<br>So du an cap moi=%{marker.size}<br>latitude=%{lat}<br>longitude=%{lon}<extra></extra>",
           "lat": [
            9.8037998
           ],
           "legendgroup": "Trà Vinh",
           "lon": [
            106.3256808
           ],
           "marker": {
            "color": "#ab63fa",
            "size": [
             2
            ],
            "sizemode": "area",
            "sizeref": 3.3,
            "symbol": "circle"
           },
           "mode": "markers",
           "name": "Trà Vinh",
           "showlegend": true,
           "type": "scattergeo"
          },
          {
           "geo": "geo",
           "hovertemplate": "Doi tac=Đồng Nai<br>Nam=2015<br>So du an cap moi=%{marker.size}<br>latitude=%{lat}<br>longitude=%{lon}<extra></extra>",
           "lat": [
            11.0355624
           ],
           "legendgroup": "Đồng Nai",
           "lon": [
            107.1881076
           ],
           "marker": {
            "color": "#FFA15A",
            "size": [
             103
            ],
            "sizemode": "area",
            "sizeref": 3.3,
            "symbol": "circle"
           },
           "mode": "markers",
           "name": "Đồng Nai",
           "showlegend": true,
           "type": "scattergeo"
          },
          {
           "geo": "geo",
           "hovertemplate": "Doi tac=Hà Nội<br>Nam=2015<br>So du an cap moi=%{marker.size}<br>latitude=%{lat}<br>longitude=%{lon}<extra></extra>",
           "lat": [
            21.0283207
           ],
           "legendgroup": "Hà Nội",
           "lon": [
            105.8540217
           ],
           "marker": {
            "color": "#19d3f3",
            "size": [
             352
            ],
            "sizemode": "area",
            "sizeref": 3.3,
            "symbol": "circle"
           },
           "mode": "markers",
           "name": "Hà Nội",
           "showlegend": true,
           "type": "scattergeo"
          },
          {
           "geo": "geo",
           "hovertemplate": "Doi tac=Hải Phòng<br>Nam=2015<br>So du an cap moi=%{marker.size}<br>latitude=%{lat}<br>longitude=%{lon}<extra></extra>",
           "lat": [
            20.858864
           ],
           "legendgroup": "Hải Phòng",
           "lon": [
            106.6749591
           ],
           "marker": {
            "color": "#FF6692",
            "size": [
             45
            ],
            "sizemode": "area",
            "sizeref": 3.3,
            "symbol": "circle"
           },
           "mode": "markers",
           "name": "Hải Phòng",
           "showlegend": true,
           "type": "scattergeo"
          },
          {
           "geo": "geo",
           "hovertemplate": "Doi tac=Bà Rịa - Vũng Tàu<br>Nam=2015<br>So du an cap moi=%{marker.size}<br>latitude=%{lat}<br>longitude=%{lon}<extra></extra>",
           "lat": [
            10.5738801
           ],
           "legendgroup": "Bà Rịa - Vũng Tàu",
           "lon": [
            107.3284362
           ],
           "marker": {
            "color": "#B6E880",
            "size": [
             11
            ],
            "sizemode": "area",
            "sizeref": 3.3,
            "symbol": "circle"
           },
           "mode": "markers",
           "name": "Bà Rịa - Vũng Tàu",
           "showlegend": true,
           "type": "scattergeo"
          },
          {
           "geo": "geo",
           "hovertemplate": "Doi tac=Long An<br>Nam=2015<br>So du an cap moi=%{marker.size}<br>latitude=%{lat}<br>longitude=%{lon}<extra></extra>",
           "lat": [
            10.6983968
           ],
           "legendgroup": "Long An",
           "lon": [
            106.1883517
           ],
           "marker": {
            "color": "#FF97FF",
            "size": [
             119
            ],
            "sizemode": "area",
            "sizeref": 3.3,
            "symbol": "circle"
           },
           "mode": "markers",
           "name": "Long An",
           "showlegend": true,
           "type": "scattergeo"
          },
          {
           "geo": "geo",
           "hovertemplate": "Doi tac=Tây Ninh<br>Nam=2015<br>So du an cap moi=%{marker.size}<br>latitude=%{lat}<br>longitude=%{lon}<extra></extra>",
           "lat": [
            11.4019366
           ],
           "legendgroup": "Tây Ninh",
           "lon": [
            106.1626927
           ],
           "marker": {
            "color": "#FECB52",
            "size": [
             16
            ],
            "sizemode": "area",
            "sizeref": 3.3,
            "symbol": "circle"
           },
           "mode": "markers",
           "name": "Tây Ninh",
           "showlegend": true,
           "type": "scattergeo"
          },
          {
           "geo": "geo",
           "hovertemplate": "Doi tac=Hải Dương<br>Nam=2015<br>So du an cap moi=%{marker.size}<br>latitude=%{lat}<br>longitude=%{lon}<extra></extra>",
           "lat": [
            20.8930571
           ],
           "legendgroup": "Hải Dương",
           "lon": [
            106.3725441
           ],
           "marker": {
            "color": "#636efa",
            "size": [
             28
            ],
            "sizemode": "area",
            "sizeref": 3.3,
            "symbol": "circle"
           },
           "mode": "markers",
           "name": "Hải Dương",
           "showlegend": true,
           "type": "scattergeo"
          },
          {
           "geo": "geo",
           "hovertemplate": "Doi tac=Bắc Giang<br>Nam=2015<br>So du an cap moi=%{marker.size}<br>latitude=%{lat}<br>longitude=%{lon}<extra></extra>",
           "lat": [
            21.3169625
           ],
           "legendgroup": "Bắc Giang",
           "lon": [
            106.437985
           ],
           "marker": {
            "color": "#EF553B",
            "size": [
             51
            ],
            "sizemode": "area",
            "sizeref": 3.3,
            "symbol": "circle"
           },
           "mode": "markers",
           "name": "Bắc Giang",
           "showlegend": true,
           "type": "scattergeo"
          },
          {
           "geo": "geo",
           "hovertemplate": "Doi tac=Quảng Ninh<br>Nam=2015<br>So du an cap moi=%{marker.size}<br>latitude=%{lat}<br>longitude=%{lon}<extra></extra>",
           "lat": [
            21.1718046
           ],
           "legendgroup": "Quảng Ninh",
           "lon": [
            107.2012742
           ],
           "marker": {
            "color": "#00cc96",
            "size": [
             10
            ],
            "sizemode": "area",
            "sizeref": 3.3,
            "symbol": "circle"
           },
           "mode": "markers",
           "name": "Quảng Ninh",
           "showlegend": true,
           "type": "scattergeo"
          },
          {
           "geo": "geo",
           "hovertemplate": "Doi tac=Vĩnh Phúc<br>Nam=2015<br>So du an cap moi=%{marker.size}<br>latitude=%{lat}<br>longitude=%{lon}<extra></extra>",
           "lat": [
            21.3778689
           ],
           "legendgroup": "Vĩnh Phúc",
           "lon": [
            105.5758286
           ],
           "marker": {
            "color": "#ab63fa",
            "size": [
             34
            ],
            "sizemode": "area",
            "sizeref": 3.3,
            "symbol": "circle"
           },
           "mode": "markers",
           "name": "Vĩnh Phúc",
           "showlegend": true,
           "type": "scattergeo"
          },
          {
           "geo": "geo",
           "hovertemplate": "Doi tac=Hà Nam<br>Nam=2015<br>So du an cap moi=%{marker.size}<br>latitude=%{lat}<br>longitude=%{lon}<extra></extra>",
           "lat": [
            34.0000001
           ],
           "legendgroup": "Hà Nam",
           "lon": [
            113.9999999
           ],
           "marker": {
            "color": "#FFA15A",
            "size": [
             34
            ],
            "sizemode": "area",
            "sizeref": 3.3,
            "symbol": "circle"
           },
           "mode": "markers",
           "name": "Hà Nam",
           "showlegend": true,
           "type": "scattergeo"
          },
          {
           "geo": "geo",
           "hovertemplate": "Doi tac=Hưng Yên<br>Nam=2015<br>So du an cap moi=%{marker.size}<br>latitude=%{lat}<br>longitude=%{lon}<extra></extra>",
           "lat": [
            20.7833912
           ],
           "legendgroup": "Hưng Yên",
           "lon": [
            106.0699025
           ],
           "marker": {
            "color": "#19d3f3",
            "size": [
             34
            ],
            "sizemode": "area",
            "sizeref": 3.3,
            "symbol": "circle"
           },
           "mode": "markers",
           "name": "Hưng Yên",
           "showlegend": true,
           "type": "scattergeo"
          },
          {
           "geo": "geo",
           "hovertemplate": "Doi tac=Bình Phước<br>Nam=2015<br>So du an cap moi=%{marker.size}<br>latitude=%{lat}<br>longitude=%{lon}<extra></extra>",
           "lat": [
            11.7332484
           ],
           "legendgroup": "Bình Phước",
           "lon": [
            106.906249
           ],
           "marker": {
            "color": "#FF6692",
            "size": [
             21
            ],
            "sizemode": "area",
            "sizeref": 3.3,
            "symbol": "circle"
           },
           "mode": "markers",
           "name": "Bình Phước",
           "showlegend": true,
           "type": "scattergeo"
          },
          {
           "geo": "geo",
           "hovertemplate": "Doi tac=Quảng Nam<br>Nam=2015<br>So du an cap moi=%{marker.size}<br>latitude=%{lat}<br>longitude=%{lon}<extra></extra>",
           "lat": [
            15.5761698
           ],
           "legendgroup": "Quảng Nam",
           "lon": [
            108.0527132
           ],
           "marker": {
            "color": "#B6E880",
            "size": [
             18
            ],
            "sizemode": "area",
            "sizeref": 3.3,
            "symbol": "circle"
           },
           "mode": "markers",
           "name": "Quảng Nam",
           "showlegend": true,
           "type": "scattergeo"
          },
          {
           "geo": "geo",
           "hovertemplate": "Doi tac=Thái Nguyên<br>Nam=2015<br>So du an cap moi=%{marker.size}<br>latitude=%{lat}<br>longitude=%{lon}<extra></extra>",
           "lat": [
            21.592477
           ],
           "legendgroup": "Thái Nguyên",
           "lon": [
            105.8435398
           ],
           "marker": {
            "color": "#FF97FF",
            "size": [
             23
            ],
            "sizemode": "area",
            "sizeref": 3.3,
            "symbol": "circle"
           },
           "mode": "markers",
           "name": "Thái Nguyên",
           "showlegend": true,
           "type": "scattergeo"
          },
          {
           "geo": "geo",
           "hovertemplate": "Doi tac=Nghệ An<br>Nam=2015<br>So du an cap moi=%{marker.size}<br>latitude=%{lat}<br>longitude=%{lon}<extra></extra>",
           "lat": [
            19.1976001
           ],
           "legendgroup": "Nghệ An",
           "lon": [
            105.060676
           ],
           "marker": {
            "color": "#FECB52",
            "size": [
             15
            ],
            "sizemode": "area",
            "sizeref": 3.3,
            "symbol": "circle"
           },
           "mode": "markers",
           "name": "Nghệ An",
           "showlegend": true,
           "type": "scattergeo"
          },
          {
           "geo": "geo",
           "hovertemplate": "Doi tac=Bến Tre<br>Nam=2015<br>So du an cap moi=%{marker.size}<br>latitude=%{lat}<br>longitude=%{lon}<extra></extra>",
           "lat": [
            10.1093637
           ],
           "legendgroup": "Bến Tre",
           "lon": [
            106.4811559
           ],
           "marker": {
            "color": "#636efa",
            "size": [
             2
            ],
            "sizemode": "area",
            "sizeref": 3.3,
            "symbol": "circle"
           },
           "mode": "markers",
           "name": "Bến Tre",
           "showlegend": true,
           "type": "scattergeo"
          },
          {
           "geo": "geo",
           "hovertemplate": "Doi tac=Hà Tĩnh<br>Nam=2015<br>So du an cap moi=%{marker.size}<br>latitude=%{lat}<br>longitude=%{lon}<extra></extra>",
           "lat": [
            18.3504832
           ],
           "legendgroup": "Hà Tĩnh",
           "lon": [
            105.7623047
           ],
           "marker": {
            "color": "#EF553B",
            "size": [
             9
            ],
            "sizemode": "area",
            "sizeref": 3.3,
            "symbol": "circle"
           },
           "mode": "markers",
           "name": "Hà Tĩnh",
           "showlegend": true,
           "type": "scattergeo"
          },
          {
           "geo": "geo",
           "hovertemplate": "Doi tac=Thừa Thiên Huế<br>Nam=2015<br>So du an cap moi=%{marker.size}<br>latitude=%{lat}<br>longitude=%{lon}<extra></extra>",
           "lat": [
            16.3480798
           ],
           "legendgroup": "Thừa Thiên Huế",
           "lon": [
            107.5398913
           ],
           "marker": {
            "color": "#00cc96",
            "size": [
             7
            ],
            "sizemode": "area",
            "sizeref": 3.3,
            "symbol": "circle"
           },
           "mode": "markers",
           "name": "Thừa Thiên Huế",
           "showlegend": true,
           "type": "scattergeo"
          },
          {
           "geo": "geo",
           "hovertemplate": "Doi tac=Phú Thọ<br>Nam=2015<br>So du an cap moi=%{marker.size}<br>latitude=%{lat}<br>longitude=%{lon}<extra></extra>",
           "lat": [
            21.3007538
           ],
           "legendgroup": "Phú Thọ",
           "lon": [
            105.1349604
           ],
           "marker": {
            "color": "#ab63fa",
            "size": [
             12
            ],
            "sizemode": "area",
            "sizeref": 3.3,
            "symbol": "circle"
           },
           "mode": "markers",
           "name": "Phú Thọ",
           "showlegend": true,
           "type": "scattergeo"
          },
          {
           "geo": "geo",
           "hovertemplate": "Doi tac=Tiền Giang<br>Nam=2015<br>So du an cap moi=%{marker.size}<br>latitude=%{lat}<br>longitude=%{lon}<extra></extra>",
           "lat": [
            10.4030368
           ],
           "legendgroup": "Tiền Giang",
           "lon": [
            106.361633
           ],
           "marker": {
            "color": "#FFA15A",
            "size": [
             7
            ],
            "sizemode": "area",
            "sizeref": 3.3,
            "symbol": "circle"
           },
           "mode": "markers",
           "name": "Tiền Giang",
           "showlegend": true,
           "type": "scattergeo"
          },
          {
           "geo": "geo",
           "hovertemplate": "Doi tac=Yên Bái<br>Nam=2015<br>So du an cap moi=%{marker.size}<br>latitude=%{lat}<br>longitude=%{lon}<extra></extra>",
           "lat": [
            21.69611
           ],
           "legendgroup": "Yên Bái",
           "lon": [
            104.8752392
           ],
           "marker": {
            "color": "#19d3f3",
            "size": [
             2
            ],
            "sizemode": "area",
            "sizeref": 3.3,
            "symbol": "circle"
           },
           "mode": "markers",
           "name": "Yên Bái",
           "showlegend": true,
           "type": "scattergeo"
          },
          {
           "geo": "geo",
           "hovertemplate": "Doi tac=Nam Định<br>Nam=2015<br>So du an cap moi=%{marker.size}<br>latitude=%{lat}<br>longitude=%{lon}<extra></extra>",
           "lat": [
            20.2686476
           ],
           "legendgroup": "Nam Định",
           "lon": [
            106.2289075
           ],
           "marker": {
            "color": "#FF6692",
            "size": [
             13
            ],
            "sizemode": "area",
            "sizeref": 3.3,
            "symbol": "circle"
           },
           "mode": "markers",
           "name": "Nam Định",
           "showlegend": true,
           "type": "scattergeo"
          },
          {
           "geo": "geo",
           "hovertemplate": "Doi tac=An Giang<br>Nam=2015<br>So du an cap moi=%{marker.size}<br>latitude=%{lat}<br>longitude=%{lon}<extra></extra>",
           "lat": [
            10.5392057
           ],
           "legendgroup": "An Giang",
           "lon": [
            105.2312822
           ],
           "marker": {
            "color": "#B6E880",
            "size": [
             8
            ],
            "sizemode": "area",
            "sizeref": 3.3,
            "symbol": "circle"
           },
           "mode": "markers",
           "name": "An Giang",
           "showlegend": true,
           "type": "scattergeo"
          },
          {
           "geo": "geo",
           "hovertemplate": "Doi tac=Bình Định<br>Nam=2015<br>So du an cap moi=%{marker.size}<br>latitude=%{lat}<br>longitude=%{lon}<extra></extra>",
           "lat": [
            14.0779378
           ],
           "legendgroup": "Bình Định",
           "lon": [
            108.9898798
           ],
           "marker": {
            "color": "#FF97FF",
            "size": [
             6
            ],
            "sizemode": "area",
            "sizeref": 3.3,
            "symbol": "circle"
           },
           "mode": "markers",
           "name": "Bình Định",
           "showlegend": true,
           "type": "scattergeo"
          },
          {
           "geo": "geo",
           "hovertemplate": "Doi tac=Khánh Hòa<br>Nam=2015<br>So du an cap moi=%{marker.size}<br>latitude=%{lat}<br>longitude=%{lon}<extra></extra>",
           "lat": [
            12.2980751
           ],
           "legendgroup": "Khánh Hòa",
           "lon": [
            108.9950386
           ],
           "marker": {
            "color": "#FECB52",
            "size": [
             6
            ],
            "sizemode": "area",
            "sizeref": 3.3,
            "symbol": "circle"
           },
           "mode": "markers",
           "name": "Khánh Hòa",
           "showlegend": true,
           "type": "scattergeo"
          },
          {
           "geo": "geo",
           "hovertemplate": "Doi tac=Thái Bình<br>Nam=2015<br>So du an cap moi=%{marker.size}<br>latitude=%{lat}<br>longitude=%{lon}<extra></extra>",
           "lat": [
            20.5296832
           ],
           "legendgroup": "Thái Bình",
           "lon": [
            106.3876068
           ],
           "marker": {
            "color": "#636efa",
            "size": [
             8
            ],
            "sizemode": "area",
            "sizeref": 3.3,
            "symbol": "circle"
           },
           "mode": "markers",
           "name": "Thái Bình",
           "showlegend": true,
           "type": "scattergeo"
          },
          {
           "geo": "geo",
           "hovertemplate": "Doi tac=Đà Nẵng<br>Nam=2015<br>So du an cap moi=%{marker.size}<br>latitude=%{lat}<br>longitude=%{lon}<extra></extra>",
           "lat": [
            16.068
           ],
           "legendgroup": "Đà Nẵng",
           "lon": [
            108.212
           ],
           "marker": {
            "color": "#EF553B",
            "size": [
             58
            ],
            "sizemode": "area",
            "sizeref": 3.3,
            "symbol": "circle"
           },
           "mode": "markers",
           "name": "Đà Nẵng",
           "showlegend": true,
           "type": "scattergeo"
          },
          {
           "geo": "geo",
           "hovertemplate": "Doi tac=Thanh Hóa<br>Nam=2015<br>So du an cap moi=%{marker.size}<br>latitude=%{lat}<br>longitude=%{lon}<extra></extra>",
           "lat": [
            19.9781573
           ],
           "legendgroup": "Thanh Hóa",
           "lon": [
            105.4816107
           ],
           "marker": {
            "color": "#00cc96",
            "size": [
             7
            ],
            "sizemode": "area",
            "sizeref": 3.3,
            "symbol": "circle"
           },
           "mode": "markers",
           "name": "Thanh Hóa",
           "showlegend": true,
           "type": "scattergeo"
          },
          {
           "geo": "geo",
           "hovertemplate": "Doi tac=Ninh Bình<br>Nam=2015<br>So du an cap moi=%{marker.size}<br>latitude=%{lat}<br>longitude=%{lon}<extra></extra>",
           "lat": [
            20.2545421
           ],
           "legendgroup": "Ninh Bình",
           "lon": [
            105.9764854
           ],
           "marker": {
            "color": "#ab63fa",
            "size": [
             7
            ],
            "sizemode": "area",
            "sizeref": 3.3,
            "symbol": "circle"
           },
           "mode": "markers",
           "name": "Ninh Bình",
           "showlegend": true,
           "type": "scattergeo"
          },
          {
           "geo": "geo",
           "hovertemplate": "Doi tac=Phú Yên<br>Nam=2015<br>So du an cap moi=%{marker.size}<br>latitude=%{lat}<br>longitude=%{lon}<extra></extra>",
           "lat": [
            13.1912633
           ],
           "legendgroup": "Phú Yên",
           "lon": [
            109.1273678
           ],
           "marker": {
            "color": "#FFA15A",
            "size": [
             4
            ],
            "sizemode": "area",
            "sizeref": 3.3,
            "symbol": "circle"
           },
           "mode": "markers",
           "name": "Phú Yên",
           "showlegend": true,
           "type": "scattergeo"
          },
          {
           "geo": "geo",
           "hovertemplate": "Doi tac=Kiên Giang<br>Nam=2015<br>So du an cap moi=%{marker.size}<br>latitude=%{lat}<br>longitude=%{lon}<extra></extra>",
           "lat": [
            9.9904962
           ],
           "legendgroup": "Kiên Giang",
           "lon": [
            105.2435248
           ],
           "marker": {
            "color": "#19d3f3",
            "size": [
             2
            ],
            "sizemode": "area",
            "sizeref": 3.3,
            "symbol": "circle"
           },
           "mode": "markers",
           "name": "Kiên Giang",
           "showlegend": true,
           "type": "scattergeo"
          },
          {
           "geo": "geo",
           "hovertemplate": "Doi tac=Đăk Lăk<br>Nam=2015<br>So du an cap moi=%{marker.size}<br>latitude=%{lat}<br>longitude=%{lon}<extra></extra>",
           "lat": [
            12.8292274
           ],
           "legendgroup": "Đăk Lăk",
           "lon": [
            108.2999058
           ],
           "marker": {
            "color": "#FF6692",
            "size": [
             3
            ],
            "sizemode": "area",
            "sizeref": 3.3,
            "symbol": "circle"
           },
           "mode": "markers",
           "name": "Đăk Lăk",
           "showlegend": true,
           "type": "scattergeo"
          },
          {
           "geo": "geo",
           "hovertemplate": "Doi tac=Quảng Bình<br>Nam=2015<br>So du an cap moi=%{marker.size}<br>latitude=%{lat}<br>longitude=%{lon}<extra></extra>",
           "lat": [
            17.509599
           ],
           "legendgroup": "Quảng Bình",
           "lon": [
            106.4004452
           ],
           "marker": {
            "color": "#B6E880",
            "size": [
             3
            ],
            "sizemode": "area",
            "sizeref": 3.3,
            "symbol": "circle"
           },
           "mode": "markers",
           "name": "Quảng Bình",
           "showlegend": true,
           "type": "scattergeo"
          },
          {
           "geo": "geo",
           "hovertemplate": "Doi tac=Bình Thuận<br>Nam=2015<br>So du an cap moi=%{marker.size}<br>latitude=%{lat}<br>longitude=%{lon}<extra></extra>",
           "lat": [
            11.1041572
           ],
           "legendgroup": "Bình Thuận",
           "lon": [
            108.1832931
           ],
           "marker": {
            "color": "#FF97FF",
            "size": [
             1
            ],
            "sizemode": "area",
            "sizeref": 3.3,
            "symbol": "circle"
           },
           "mode": "markers",
           "name": "Bình Thuận",
           "showlegend": true,
           "type": "scattergeo"
          },
          {
           "geo": "geo",
           "hovertemplate": "Doi tac=Hậu Giang<br>Nam=2015<br>So du an cap moi=%{marker.size}<br>latitude=%{lat}<br>longitude=%{lon}<extra></extra>",
           "lat": [
            9.7985063
           ],
           "legendgroup": "Hậu Giang",
           "lon": [
            105.6379524
           ],
           "marker": {
            "color": "#FECB52",
            "size": [
             1
            ],
            "sizemode": "area",
            "sizeref": 3.3,
            "symbol": "circle"
           },
           "mode": "markers",
           "name": "Hậu Giang",
           "showlegend": true,
           "type": "scattergeo"
          },
          {
           "geo": "geo",
           "hovertemplate": "Doi tac=Quảng Ngãi<br>Nam=2015<br>So du an cap moi=%{marker.size}<br>latitude=%{lat}<br>longitude=%{lon}<extra></extra>",
           "lat": [
            14.9953739
           ],
           "legendgroup": "Quảng Ngãi",
           "lon": [
            108.691729
           ],
           "marker": {
            "color": "#636efa",
            "size": [
             6
            ],
            "sizemode": "area",
            "sizeref": 3.3,
            "symbol": "circle"
           },
           "mode": "markers",
           "name": "Quảng Ngãi",
           "showlegend": true,
           "type": "scattergeo"
          },
          {
           "geo": "geo",
           "hovertemplate": "Doi tac=Cần Thơ<br>Nam=2015<br>So du an cap moi=%{marker.size}<br>latitude=%{lat}<br>longitude=%{lon}<extra></extra>",
           "lat": [
            10.0364216
           ],
           "legendgroup": "Cần Thơ",
           "lon": [
            105.7875219
           ],
           "marker": {
            "color": "#EF553B",
            "size": [
             5
            ],
            "sizemode": "area",
            "sizeref": 3.3,
            "symbol": "circle"
           },
           "mode": "markers",
           "name": "Cần Thơ",
           "showlegend": true,
           "type": "scattergeo"
          },
          {
           "geo": "geo",
           "hovertemplate": "Doi tac=Vĩnh Long<br>Nam=2015<br>So du an cap moi=%{marker.size}<br>latitude=%{lat}<br>longitude=%{lon}<extra></extra>",
           "lat": [
            10.1203043
           ],
           "legendgroup": "Vĩnh Long",
           "lon": [
            106.0125705
           ],
           "marker": {
            "color": "#00cc96",
            "size": [
             4
            ],
            "sizemode": "area",
            "sizeref": 3.3,
            "symbol": "circle"
           },
           "mode": "markers",
           "name": "Vĩnh Long",
           "showlegend": true,
           "type": "scattergeo"
          },
          {
           "geo": "geo",
           "hovertemplate": "Doi tac=Đồng Tháp<br>Nam=2015<br>So du an cap moi=%{marker.size}<br>latitude=%{lat}<br>longitude=%{lon}<extra></extra>",
           "lat": [
            10.590424
           ],
           "legendgroup": "Đồng Tháp",
           "lon": [
            105.6802341
           ],
           "marker": {
            "color": "#ab63fa",
            "size": [
             1
            ],
            "sizemode": "area",
            "sizeref": 3.3,
            "symbol": "circle"
           },
           "mode": "markers",
           "name": "Đồng Tháp",
           "showlegend": true,
           "type": "scattergeo"
          },
          {
           "geo": "geo",
           "hovertemplate": "Doi tac=Lâm Đồng<br>Nam=2015<br>So du an cap moi=%{marker.size}<br>latitude=%{lat}<br>longitude=%{lon}<extra></extra>",
           "lat": [
            11.6614957
           ],
           "legendgroup": "Lâm Đồng",
           "lon": [
            108.1335279
           ],
           "marker": {
            "color": "#FFA15A",
            "size": [
             5
            ],
            "sizemode": "area",
            "sizeref": 3.3,
            "symbol": "circle"
           },
           "mode": "markers",
           "name": "Lâm Đồng",
           "showlegend": true,
           "type": "scattergeo"
          },
          {
           "geo": "geo",
           "hovertemplate": "Doi tac=Sóc Trăng<br>Nam=2015<br>So du an cap moi=%{marker.size}<br>latitude=%{lat}<br>longitude=%{lon}<extra></extra>",
           "lat": [
            9.5628369
           ],
           "legendgroup": "Sóc Trăng",
           "lon": [
            105.9493991
           ],
           "marker": {
            "color": "#19d3f3",
            "size": [
             1
            ],
            "sizemode": "area",
            "sizeref": 3.3,
            "symbol": "circle"
           },
           "mode": "markers",
           "name": "Sóc Trăng",
           "showlegend": true,
           "type": "scattergeo"
          },
          {
           "geo": "geo",
           "hovertemplate": "Doi tac=Bạc Liêu<br>Nam=2015<br>So du an cap moi=%{marker.size}<br>latitude=%{lat}<br>longitude=%{lon}<extra></extra>",
           "lat": [
            9.3298341
           ],
           "legendgroup": "Bạc Liêu",
           "lon": [
            105.509946
           ],
           "marker": {
            "color": "#FF6692",
            "size": [
             1
            ],
            "sizemode": "area",
            "sizeref": 3.3,
            "symbol": "circle"
           },
           "mode": "markers",
           "name": "Bạc Liêu",
           "showlegend": true,
           "type": "scattergeo"
          },
          {
           "geo": "geo",
           "hovertemplate": "Doi tac=Tuyên Quang<br>Nam=2015<br>So du an cap moi=%{marker.size}<br>latitude=%{lat}<br>longitude=%{lon}<extra></extra>",
           "lat": [
            22.0747798
           ],
           "legendgroup": "Tuyên Quang",
           "lon": [
            105.258411
           ],
           "marker": {
            "color": "#B6E880",
            "size": [
             1
            ],
            "sizemode": "area",
            "sizeref": 3.3,
            "symbol": "circle"
           },
           "mode": "markers",
           "name": "Tuyên Quang",
           "showlegend": true,
           "type": "scattergeo"
          },
          {
           "geo": "geo",
           "hovertemplate": "Doi tac=Hòa Bình<br>Nam=2015<br>So du an cap moi=%{marker.size}<br>latitude=%{lat}<br>longitude=%{lon}<extra></extra>",
           "lat": [
            20.6763365
           ],
           "legendgroup": "Hòa Bình",
           "lon": [
            105.3759952
           ],
           "marker": {
            "color": "#FF97FF",
            "size": [
             5
            ],
            "sizemode": "area",
            "sizeref": 3.3,
            "symbol": "circle"
           },
           "mode": "markers",
           "name": "Hòa Bình",
           "showlegend": true,
           "type": "scattergeo"
          },
          {
           "geo": "geo",
           "hovertemplate": "Doi tac=Ninh Thuận<br>Nam=2015<br>So du an cap moi=%{marker.size}<br>latitude=%{lat}<br>longitude=%{lon}<extra></extra>",
           "lat": [
            11.6965639
           ],
           "legendgroup": "Ninh Thuận",
           "lon": [
            108.8928476
           ],
           "marker": {
            "color": "#FECB52",
            "size": [
             1
            ],
            "sizemode": "area",
            "sizeref": 3.3,
            "symbol": "circle"
           },
           "mode": "markers",
           "name": "Ninh Thuận",
           "showlegend": true,
           "type": "scattergeo"
          },
          {
           "geo": "geo",
           "hovertemplate": "Doi tac=Bắc Kạn<br>Nam=2015<br>So du an cap moi=%{marker.size}<br>latitude=%{lat}<br>longitude=%{lon}<extra></extra>",
           "lat": [
            22.2571701
           ],
           "legendgroup": "Bắc Kạn",
           "lon": [
            105.8204437
           ],
           "marker": {
            "color": "#636efa",
            "size": [
             1
            ],
            "sizemode": "area",
            "sizeref": 3.3,
            "symbol": "circle"
           },
           "mode": "markers",
           "name": "Bắc Kạn",
           "showlegend": true,
           "type": "scattergeo"
          }
         ],
         "name": "2015"
        },
        {
         "data": [
          {
           "geo": "geo",
           "hovertemplate": "Doi tac=Bắc Ninh<br>Nam=2016<br>So du an cap moi=%{marker.size}<br>latitude=%{lat}<br>longitude=%{lon}<extra></extra>",
           "lat": [
            21.0955822
           ],
           "legendgroup": "Bắc Ninh",
           "lon": [
            106.1264766
           ],
           "marker": {
            "color": "#636efa",
            "size": [
             185
            ],
            "sizemode": "area",
            "sizeref": 3.3,
            "symbol": "circle"
           },
           "mode": "markers",
           "name": "Bắc Ninh",
           "showlegend": true,
           "type": "scattergeo"
          },
          {
           "geo": "geo",
           "hovertemplate": "Doi tac=TP. Hồ Chí Minh<br>Nam=2016<br>So du an cap moi=%{marker.size}<br>latitude=%{lat}<br>longitude=%{lon}<extra></extra>",
           "lat": [
            10.7763897
           ],
           "legendgroup": "TP. Hồ Chí Minh",
           "lon": [
            106.7011391
           ],
           "marker": {
            "color": "#EF553B",
            "size": [
             836
            ],
            "sizemode": "area",
            "sizeref": 3.3,
            "symbol": "circle"
           },
           "mode": "markers",
           "name": "TP. Hồ Chí Minh",
           "showlegend": true,
           "type": "scattergeo"
          },
          {
           "geo": "geo",
           "hovertemplate": "Doi tac=Bình Dương<br>Nam=2016<br>So du an cap moi=%{marker.size}<br>latitude=%{lat}<br>longitude=%{lon}<extra></extra>",
           "lat": [
            11.1836551
           ],
           "legendgroup": "Bình Dương",
           "lon": [
            106.7031737
           ],
           "marker": {
            "color": "#00cc96",
            "size": [
             256
            ],
            "sizemode": "area",
            "sizeref": 3.3,
            "symbol": "circle"
           },
           "mode": "markers",
           "name": "Bình Dương",
           "showlegend": true,
           "type": "scattergeo"
          },
          {
           "geo": "geo",
           "hovertemplate": "Doi tac=Trà Vinh<br>Nam=2016<br>So du an cap moi=%{marker.size}<br>latitude=%{lat}<br>longitude=%{lon}<extra></extra>",
           "lat": [
            9.8037998
           ],
           "legendgroup": "Trà Vinh",
           "lon": [
            106.3256808
           ],
           "marker": {
            "color": "#ab63fa",
            "size": [
             7
            ],
            "sizemode": "area",
            "sizeref": 3.3,
            "symbol": "circle"
           },
           "mode": "markers",
           "name": "Trà Vinh",
           "showlegend": true,
           "type": "scattergeo"
          },
          {
           "geo": "geo",
           "hovertemplate": "Doi tac=Đồng Nai<br>Nam=2016<br>So du an cap moi=%{marker.size}<br>latitude=%{lat}<br>longitude=%{lon}<extra></extra>",
           "lat": [
            11.0355624
           ],
           "legendgroup": "Đồng Nai",
           "lon": [
            107.1881076
           ],
           "marker": {
            "color": "#FFA15A",
            "size": [
             91
            ],
            "sizemode": "area",
            "sizeref": 3.3,
            "symbol": "circle"
           },
           "mode": "markers",
           "name": "Đồng Nai",
           "showlegend": true,
           "type": "scattergeo"
          },
          {
           "geo": "geo",
           "hovertemplate": "Doi tac=Hà Nội<br>Nam=2016<br>So du an cap moi=%{marker.size}<br>latitude=%{lat}<br>longitude=%{lon}<extra></extra>",
           "lat": [
            21.0283207
           ],
           "legendgroup": "Hà Nội",
           "lon": [
            105.8540217
           ],
           "marker": {
            "color": "#19d3f3",
            "size": [
             453
            ],
            "sizemode": "area",
            "sizeref": 3.3,
            "symbol": "circle"
           },
           "mode": "markers",
           "name": "Hà Nội",
           "showlegend": true,
           "type": "scattergeo"
          },
          {
           "geo": "geo",
           "hovertemplate": "Doi tac=Hải Phòng<br>Nam=2016<br>So du an cap moi=%{marker.size}<br>latitude=%{lat}<br>longitude=%{lon}<extra></extra>",
           "lat": [
            20.858864
           ],
           "legendgroup": "Hải Phòng",
           "lon": [
            106.6749591
           ],
           "marker": {
            "color": "#FF6692",
            "size": [
             52
            ],
            "sizemode": "area",
            "sizeref": 3.3,
            "symbol": "circle"
           },
           "mode": "markers",
           "name": "Hải Phòng",
           "showlegend": true,
           "type": "scattergeo"
          },
          {
           "geo": "geo",
           "hovertemplate": "Doi tac=Bà Rịa - Vũng Tàu<br>Nam=2016<br>So du an cap moi=%{marker.size}<br>latitude=%{lat}<br>longitude=%{lon}<extra></extra>",
           "lat": [
            10.5738801
           ],
           "legendgroup": "Bà Rịa - Vũng Tàu",
           "lon": [
            107.3284362
           ],
           "marker": {
            "color": "#B6E880",
            "size": [
             18
            ],
            "sizemode": "area",
            "sizeref": 3.3,
            "symbol": "circle"
           },
           "mode": "markers",
           "name": "Bà Rịa - Vũng Tàu",
           "showlegend": true,
           "type": "scattergeo"
          },
          {
           "geo": "geo",
           "hovertemplate": "Doi tac=Long An<br>Nam=2016<br>So du an cap moi=%{marker.size}<br>latitude=%{lat}<br>longitude=%{lon}<extra></extra>",
           "lat": [
            10.6983968
           ],
           "legendgroup": "Long An",
           "lon": [
            106.1883517
           ],
           "marker": {
            "color": "#FF97FF",
            "size": [
             122
            ],
            "sizemode": "area",
            "sizeref": 3.3,
            "symbol": "circle"
           },
           "mode": "markers",
           "name": "Long An",
           "showlegend": true,
           "type": "scattergeo"
          },
          {
           "geo": "geo",
           "hovertemplate": "Doi tac=Tây Ninh<br>Nam=2016<br>So du an cap moi=%{marker.size}<br>latitude=%{lat}<br>longitude=%{lon}<extra></extra>",
           "lat": [
            11.4019366
           ],
           "legendgroup": "Tây Ninh",
           "lon": [
            106.1626927
           ],
           "marker": {
            "color": "#FECB52",
            "size": [
             24
            ],
            "sizemode": "area",
            "sizeref": 3.3,
            "symbol": "circle"
           },
           "mode": "markers",
           "name": "Tây Ninh",
           "showlegend": true,
           "type": "scattergeo"
          },
          {
           "geo": "geo",
           "hovertemplate": "Doi tac=Hải Dương<br>Nam=2016<br>So du an cap moi=%{marker.size}<br>latitude=%{lat}<br>longitude=%{lon}<extra></extra>",
           "lat": [
            20.8930571
           ],
           "legendgroup": "Hải Dương",
           "lon": [
            106.3725441
           ],
           "marker": {
            "color": "#636efa",
            "size": [
             29
            ],
            "sizemode": "area",
            "sizeref": 3.3,
            "symbol": "circle"
           },
           "mode": "markers",
           "name": "Hải Dương",
           "showlegend": true,
           "type": "scattergeo"
          },
          {
           "geo": "geo",
           "hovertemplate": "Doi tac=Bắc Giang<br>Nam=2016<br>So du an cap moi=%{marker.size}<br>latitude=%{lat}<br>longitude=%{lon}<extra></extra>",
           "lat": [
            21.3169625
           ],
           "legendgroup": "Bắc Giang",
           "lon": [
            106.437985
           ],
           "marker": {
            "color": "#EF553B",
            "size": [
             53
            ],
            "sizemode": "area",
            "sizeref": 3.3,
            "symbol": "circle"
           },
           "mode": "markers",
           "name": "Bắc Giang",
           "showlegend": true,
           "type": "scattergeo"
          },
          {
           "geo": "geo",
           "hovertemplate": "Doi tac=Quảng Ninh<br>Nam=2016<br>So du an cap moi=%{marker.size}<br>latitude=%{lat}<br>longitude=%{lon}<extra></extra>",
           "lat": [
            21.1718046
           ],
           "legendgroup": "Quảng Ninh",
           "lon": [
            107.2012742
           ],
           "marker": {
            "color": "#00cc96",
            "size": [
             10
            ],
            "sizemode": "area",
            "sizeref": 3.3,
            "symbol": "circle"
           },
           "mode": "markers",
           "name": "Quảng Ninh",
           "showlegend": true,
           "type": "scattergeo"
          },
          {
           "geo": "geo",
           "hovertemplate": "Doi tac=Vĩnh Phúc<br>Nam=2016<br>So du an cap moi=%{marker.size}<br>latitude=%{lat}<br>longitude=%{lon}<extra></extra>",
           "lat": [
            21.3778689
           ],
           "legendgroup": "Vĩnh Phúc",
           "lon": [
            105.5758286
           ],
           "marker": {
            "color": "#ab63fa",
            "size": [
             30
            ],
            "sizemode": "area",
            "sizeref": 3.3,
            "symbol": "circle"
           },
           "mode": "markers",
           "name": "Vĩnh Phúc",
           "showlegend": true,
           "type": "scattergeo"
          },
          {
           "geo": "geo",
           "hovertemplate": "Doi tac=Hà Nam<br>Nam=2016<br>So du an cap moi=%{marker.size}<br>latitude=%{lat}<br>longitude=%{lon}<extra></extra>",
           "lat": [
            34.0000001
           ],
           "legendgroup": "Hà Nam",
           "lon": [
            113.9999999
           ],
           "marker": {
            "color": "#FFA15A",
            "size": [
             31
            ],
            "sizemode": "area",
            "sizeref": 3.3,
            "symbol": "circle"
           },
           "mode": "markers",
           "name": "Hà Nam",
           "showlegend": true,
           "type": "scattergeo"
          },
          {
           "geo": "geo",
           "hovertemplate": "Doi tac=Hưng Yên<br>Nam=2016<br>So du an cap moi=%{marker.size}<br>latitude=%{lat}<br>longitude=%{lon}<extra></extra>",
           "lat": [
            20.7833912
           ],
           "legendgroup": "Hưng Yên",
           "lon": [
            106.0699025
           ],
           "marker": {
            "color": "#19d3f3",
            "size": [
             42
            ],
            "sizemode": "area",
            "sizeref": 3.3,
            "symbol": "circle"
           },
           "mode": "markers",
           "name": "Hưng Yên",
           "showlegend": true,
           "type": "scattergeo"
          },
          {
           "geo": "geo",
           "hovertemplate": "Doi tac=Bình Phước<br>Nam=2016<br>So du an cap moi=%{marker.size}<br>latitude=%{lat}<br>longitude=%{lon}<extra></extra>",
           "lat": [
            11.7332484
           ],
           "legendgroup": "Bình Phước",
           "lon": [
            106.906249
           ],
           "marker": {
            "color": "#FF6692",
            "size": [
             20
            ],
            "sizemode": "area",
            "sizeref": 3.3,
            "symbol": "circle"
           },
           "mode": "markers",
           "name": "Bình Phước",
           "showlegend": true,
           "type": "scattergeo"
          },
          {
           "geo": "geo",
           "hovertemplate": "Doi tac=Quảng Nam<br>Nam=2016<br>So du an cap moi=%{marker.size}<br>latitude=%{lat}<br>longitude=%{lon}<extra></extra>",
           "lat": [
            15.5761698
           ],
           "legendgroup": "Quảng Nam",
           "lon": [
            108.0527132
           ],
           "marker": {
            "color": "#B6E880",
            "size": [
             18
            ],
            "sizemode": "area",
            "sizeref": 3.3,
            "symbol": "circle"
           },
           "mode": "markers",
           "name": "Quảng Nam",
           "showlegend": true,
           "type": "scattergeo"
          },
          {
           "geo": "geo",
           "hovertemplate": "Doi tac=Thái Nguyên<br>Nam=2016<br>So du an cap moi=%{marker.size}<br>latitude=%{lat}<br>longitude=%{lon}<extra></extra>",
           "lat": [
            21.592477
           ],
           "legendgroup": "Thái Nguyên",
           "lon": [
            105.8435398
           ],
           "marker": {
            "color": "#FF97FF",
            "size": [
             23
            ],
            "sizemode": "area",
            "sizeref": 3.3,
            "symbol": "circle"
           },
           "mode": "markers",
           "name": "Thái Nguyên",
           "showlegend": true,
           "type": "scattergeo"
          },
          {
           "geo": "geo",
           "hovertemplate": "Doi tac=Nghệ An<br>Nam=2016<br>So du an cap moi=%{marker.size}<br>latitude=%{lat}<br>longitude=%{lon}<extra></extra>",
           "lat": [
            19.1976001
           ],
           "legendgroup": "Nghệ An",
           "lon": [
            105.060676
           ],
           "marker": {
            "color": "#FECB52",
            "size": [
             9
            ],
            "sizemode": "area",
            "sizeref": 3.3,
            "symbol": "circle"
           },
           "mode": "markers",
           "name": "Nghệ An",
           "showlegend": true,
           "type": "scattergeo"
          },
          {
           "geo": "geo",
           "hovertemplate": "Doi tac=Bến Tre<br>Nam=2016<br>So du an cap moi=%{marker.size}<br>latitude=%{lat}<br>longitude=%{lon}<extra></extra>",
           "lat": [
            10.1093637
           ],
           "legendgroup": "Bến Tre",
           "lon": [
            106.4811559
           ],
           "marker": {
            "color": "#636efa",
            "size": [
             6
            ],
            "sizemode": "area",
            "sizeref": 3.3,
            "symbol": "circle"
           },
           "mode": "markers",
           "name": "Bến Tre",
           "showlegend": true,
           "type": "scattergeo"
          },
          {
           "geo": "geo",
           "hovertemplate": "Doi tac=Hà Tĩnh<br>Nam=2016<br>So du an cap moi=%{marker.size}<br>latitude=%{lat}<br>longitude=%{lon}<extra></extra>",
           "lat": [
            18.3504832
           ],
           "legendgroup": "Hà Tĩnh",
           "lon": [
            105.7623047
           ],
           "marker": {
            "color": "#EF553B",
            "size": [
             9
            ],
            "sizemode": "area",
            "sizeref": 3.3,
            "symbol": "circle"
           },
           "mode": "markers",
           "name": "Hà Tĩnh",
           "showlegend": true,
           "type": "scattergeo"
          },
          {
           "geo": "geo",
           "hovertemplate": "Doi tac=Thừa Thiên Huế<br>Nam=2016<br>So du an cap moi=%{marker.size}<br>latitude=%{lat}<br>longitude=%{lon}<extra></extra>",
           "lat": [
            16.3480798
           ],
           "legendgroup": "Thừa Thiên Huế",
           "lon": [
            107.5398913
           ],
           "marker": {
            "color": "#00cc96",
            "size": [
             9
            ],
            "sizemode": "area",
            "sizeref": 3.3,
            "symbol": "circle"
           },
           "mode": "markers",
           "name": "Thừa Thiên Huế",
           "showlegend": true,
           "type": "scattergeo"
          },
          {
           "geo": "geo",
           "hovertemplate": "Doi tac=Phú Thọ<br>Nam=2016<br>So du an cap moi=%{marker.size}<br>latitude=%{lat}<br>longitude=%{lon}<extra></extra>",
           "lat": [
            21.3007538
           ],
           "legendgroup": "Phú Thọ",
           "lon": [
            105.1349604
           ],
           "marker": {
            "color": "#ab63fa",
            "size": [
             13
            ],
            "sizemode": "area",
            "sizeref": 3.3,
            "symbol": "circle"
           },
           "mode": "markers",
           "name": "Phú Thọ",
           "showlegend": true,
           "type": "scattergeo"
          },
          {
           "geo": "geo",
           "hovertemplate": "Doi tac=Tiền Giang<br>Nam=2016<br>So du an cap moi=%{marker.size}<br>latitude=%{lat}<br>longitude=%{lon}<extra></extra>",
           "lat": [
            10.4030368
           ],
           "legendgroup": "Tiền Giang",
           "lon": [
            106.361633
           ],
           "marker": {
            "color": "#FFA15A",
            "size": [
             14
            ],
            "sizemode": "area",
            "sizeref": 3.3,
            "symbol": "circle"
           },
           "mode": "markers",
           "name": "Tiền Giang",
           "showlegend": true,
           "type": "scattergeo"
          },
          {
           "geo": "geo",
           "hovertemplate": "Doi tac=Yên Bái<br>Nam=2016<br>So du an cap moi=%{marker.size}<br>latitude=%{lat}<br>longitude=%{lon}<extra></extra>",
           "lat": [
            21.69611
           ],
           "legendgroup": "Yên Bái",
           "lon": [
            104.8752392
           ],
           "marker": {
            "color": "#19d3f3",
            "size": [
             1
            ],
            "sizemode": "area",
            "sizeref": 3.3,
            "symbol": "circle"
           },
           "mode": "markers",
           "name": "Yên Bái",
           "showlegend": true,
           "type": "scattergeo"
          },
          {
           "geo": "geo",
           "hovertemplate": "Doi tac=Nam Định<br>Nam=2016<br>So du an cap moi=%{marker.size}<br>latitude=%{lat}<br>longitude=%{lon}<extra></extra>",
           "lat": [
            20.2686476
           ],
           "legendgroup": "Nam Định",
           "lon": [
            106.2289075
           ],
           "marker": {
            "color": "#FF6692",
            "size": [
             14
            ],
            "sizemode": "area",
            "sizeref": 3.3,
            "symbol": "circle"
           },
           "mode": "markers",
           "name": "Nam Định",
           "showlegend": true,
           "type": "scattergeo"
          },
          {
           "geo": "geo",
           "hovertemplate": "Doi tac=An Giang<br>Nam=2016<br>So du an cap moi=%{marker.size}<br>latitude=%{lat}<br>longitude=%{lon}<extra></extra>",
           "lat": [
            10.5392057
           ],
           "legendgroup": "An Giang",
           "lon": [
            105.2312822
           ],
           "marker": {
            "color": "#B6E880",
            "size": [
             1
            ],
            "sizemode": "area",
            "sizeref": 3.3,
            "symbol": "circle"
           },
           "mode": "markers",
           "name": "An Giang",
           "showlegend": true,
           "type": "scattergeo"
          },
          {
           "geo": "geo",
           "hovertemplate": "Doi tac=Bình Định<br>Nam=2016<br>So du an cap moi=%{marker.size}<br>latitude=%{lat}<br>longitude=%{lon}<extra></extra>",
           "lat": [
            14.0779378
           ],
           "legendgroup": "Bình Định",
           "lon": [
            108.9898798
           ],
           "marker": {
            "color": "#FF97FF",
            "size": [
             10
            ],
            "sizemode": "area",
            "sizeref": 3.3,
            "symbol": "circle"
           },
           "mode": "markers",
           "name": "Bình Định",
           "showlegend": true,
           "type": "scattergeo"
          },
          {
           "geo": "geo",
           "hovertemplate": "Doi tac=Khánh Hòa<br>Nam=2016<br>So du an cap moi=%{marker.size}<br>latitude=%{lat}<br>longitude=%{lon}<extra></extra>",
           "lat": [
            12.2980751
           ],
           "legendgroup": "Khánh Hòa",
           "lon": [
            108.9950386
           ],
           "marker": {
            "color": "#FECB52",
            "size": [
             8
            ],
            "sizemode": "area",
            "sizeref": 3.3,
            "symbol": "circle"
           },
           "mode": "markers",
           "name": "Khánh Hòa",
           "showlegend": true,
           "type": "scattergeo"
          },
          {
           "geo": "geo",
           "hovertemplate": "Doi tac=Thái Bình<br>Nam=2016<br>So du an cap moi=%{marker.size}<br>latitude=%{lat}<br>longitude=%{lon}<extra></extra>",
           "lat": [
            20.5296832
           ],
           "legendgroup": "Thái Bình",
           "lon": [
            106.3876068
           ],
           "marker": {
            "color": "#636efa",
            "size": [
             9
            ],
            "sizemode": "area",
            "sizeref": 3.3,
            "symbol": "circle"
           },
           "mode": "markers",
           "name": "Thái Bình",
           "showlegend": true,
           "type": "scattergeo"
          },
          {
           "geo": "geo",
           "hovertemplate": "Doi tac=Đà Nẵng<br>Nam=2016<br>So du an cap moi=%{marker.size}<br>latitude=%{lat}<br>longitude=%{lon}<extra></extra>",
           "lat": [
            16.068
           ],
           "legendgroup": "Đà Nẵng",
           "lon": [
            108.212
           ],
           "marker": {
            "color": "#EF553B",
            "size": [
             74
            ],
            "sizemode": "area",
            "sizeref": 3.3,
            "symbol": "circle"
           },
           "mode": "markers",
           "name": "Đà Nẵng",
           "showlegend": true,
           "type": "scattergeo"
          },
          {
           "geo": "geo",
           "hovertemplate": "Doi tac=Thanh Hóa<br>Nam=2016<br>So du an cap moi=%{marker.size}<br>latitude=%{lat}<br>longitude=%{lon}<extra></extra>",
           "lat": [
            19.9781573
           ],
           "legendgroup": "Thanh Hóa",
           "lon": [
            105.4816107
           ],
           "marker": {
            "color": "#00cc96",
            "size": [
             15
            ],
            "sizemode": "area",
            "sizeref": 3.3,
            "symbol": "circle"
           },
           "mode": "markers",
           "name": "Thanh Hóa",
           "showlegend": true,
           "type": "scattergeo"
          },
          {
           "geo": "geo",
           "hovertemplate": "Doi tac=Ninh Bình<br>Nam=2016<br>So du an cap moi=%{marker.size}<br>latitude=%{lat}<br>longitude=%{lon}<extra></extra>",
           "lat": [
            20.2545421
           ],
           "legendgroup": "Ninh Bình",
           "lon": [
            105.9764854
           ],
           "marker": {
            "color": "#ab63fa",
            "size": [
             5
            ],
            "sizemode": "area",
            "sizeref": 3.3,
            "symbol": "circle"
           },
           "mode": "markers",
           "name": "Ninh Bình",
           "showlegend": true,
           "type": "scattergeo"
          },
          {
           "geo": "geo",
           "hovertemplate": "Doi tac=Phú Yên<br>Nam=2016<br>So du an cap moi=%{marker.size}<br>latitude=%{lat}<br>longitude=%{lon}<extra></extra>",
           "lat": [
            13.1912633
           ],
           "legendgroup": "Phú Yên",
           "lon": [
            109.1273678
           ],
           "marker": {
            "color": "#FFA15A",
            "size": [
             2
            ],
            "sizemode": "area",
            "sizeref": 3.3,
            "symbol": "circle"
           },
           "mode": "markers",
           "name": "Phú Yên",
           "showlegend": true,
           "type": "scattergeo"
          },
          {
           "geo": "geo",
           "hovertemplate": "Doi tac=Kiên Giang<br>Nam=2016<br>So du an cap moi=%{marker.size}<br>latitude=%{lat}<br>longitude=%{lon}<extra></extra>",
           "lat": [
            9.9904962
           ],
           "legendgroup": "Kiên Giang",
           "lon": [
            105.2435248
           ],
           "marker": {
            "color": "#19d3f3",
            "size": [
             2
            ],
            "sizemode": "area",
            "sizeref": 3.3,
            "symbol": "circle"
           },
           "mode": "markers",
           "name": "Kiên Giang",
           "showlegend": true,
           "type": "scattergeo"
          },
          {
           "geo": "geo",
           "hovertemplate": "Doi tac=Đăk Lăk<br>Nam=2016<br>So du an cap moi=%{marker.size}<br>latitude=%{lat}<br>longitude=%{lon}<extra></extra>",
           "lat": [
            12.8292274
           ],
           "legendgroup": "Đăk Lăk",
           "lon": [
            108.2999058
           ],
           "marker": {
            "color": "#FF6692",
            "size": [
             1
            ],
            "sizemode": "area",
            "sizeref": 3.3,
            "symbol": "circle"
           },
           "mode": "markers",
           "name": "Đăk Lăk",
           "showlegend": true,
           "type": "scattergeo"
          },
          {
           "geo": "geo",
           "hovertemplate": "Doi tac=Quảng Bình<br>Nam=2016<br>So du an cap moi=%{marker.size}<br>latitude=%{lat}<br>longitude=%{lon}<extra></extra>",
           "lat": [
            17.509599
           ],
           "legendgroup": "Quảng Bình",
           "lon": [
            106.4004452
           ],
           "marker": {
            "color": "#B6E880",
            "size": [
             3
            ],
            "sizemode": "area",
            "sizeref": 3.3,
            "symbol": "circle"
           },
           "mode": "markers",
           "name": "Quảng Bình",
           "showlegend": true,
           "type": "scattergeo"
          },
          {
           "geo": "geo",
           "hovertemplate": "Doi tac=Bình Thuận<br>Nam=2016<br>So du an cap moi=%{marker.size}<br>latitude=%{lat}<br>longitude=%{lon}<extra></extra>",
           "lat": [
            11.1041572
           ],
           "legendgroup": "Bình Thuận",
           "lon": [
            108.1832931
           ],
           "marker": {
            "color": "#FF97FF",
            "size": [
             10
            ],
            "sizemode": "area",
            "sizeref": 3.3,
            "symbol": "circle"
           },
           "mode": "markers",
           "name": "Bình Thuận",
           "showlegend": true,
           "type": "scattergeo"
          },
          {
           "geo": "geo",
           "hovertemplate": "Doi tac=Hậu Giang<br>Nam=2016<br>So du an cap moi=%{marker.size}<br>latitude=%{lat}<br>longitude=%{lon}<extra></extra>",
           "lat": [
            9.7985063
           ],
           "legendgroup": "Hậu Giang",
           "lon": [
            105.6379524
           ],
           "marker": {
            "color": "#FECB52",
            "size": [
             1
            ],
            "sizemode": "area",
            "sizeref": 3.3,
            "symbol": "circle"
           },
           "mode": "markers",
           "name": "Hậu Giang",
           "showlegend": true,
           "type": "scattergeo"
          },
          {
           "geo": "geo",
           "hovertemplate": "Doi tac=Quảng Ngãi<br>Nam=2016<br>So du an cap moi=%{marker.size}<br>latitude=%{lat}<br>longitude=%{lon}<extra></extra>",
           "lat": [
            14.9953739
           ],
           "legendgroup": "Quảng Ngãi",
           "lon": [
            108.691729
           ],
           "marker": {
            "color": "#636efa",
            "size": [
             9
            ],
            "sizemode": "area",
            "sizeref": 3.3,
            "symbol": "circle"
           },
           "mode": "markers",
           "name": "Quảng Ngãi",
           "showlegend": true,
           "type": "scattergeo"
          },
          {
           "geo": "geo",
           "hovertemplate": "Doi tac=Cần Thơ<br>Nam=2016<br>So du an cap moi=%{marker.size}<br>latitude=%{lat}<br>longitude=%{lon}<extra></extra>",
           "lat": [
            10.0364216
           ],
           "legendgroup": "Cần Thơ",
           "lon": [
            105.7875219
           ],
           "marker": {
            "color": "#EF553B",
            "size": [
             8
            ],
            "sizemode": "area",
            "sizeref": 3.3,
            "symbol": "circle"
           },
           "mode": "markers",
           "name": "Cần Thơ",
           "showlegend": true,
           "type": "scattergeo"
          },
          {
           "geo": "geo",
           "hovertemplate": "Doi tac=Vĩnh Long<br>Nam=2016<br>So du an cap moi=%{marker.size}<br>latitude=%{lat}<br>longitude=%{lon}<extra></extra>",
           "lat": [
            10.1203043
           ],
           "legendgroup": "Vĩnh Long",
           "lon": [
            106.0125705
           ],
           "marker": {
            "color": "#00cc96",
            "size": [
             7
            ],
            "sizemode": "area",
            "sizeref": 3.3,
            "symbol": "circle"
           },
           "mode": "markers",
           "name": "Vĩnh Long",
           "showlegend": true,
           "type": "scattergeo"
          },
          {
           "geo": "geo",
           "hovertemplate": "Doi tac=Đồng Tháp<br>Nam=2016<br>So du an cap moi=%{marker.size}<br>latitude=%{lat}<br>longitude=%{lon}<extra></extra>",
           "lat": [
            10.590424
           ],
           "legendgroup": "Đồng Tháp",
           "lon": [
            105.6802341
           ],
           "marker": {
            "color": "#ab63fa",
            "size": [
             3
            ],
            "sizemode": "area",
            "sizeref": 3.3,
            "symbol": "circle"
           },
           "mode": "markers",
           "name": "Đồng Tháp",
           "showlegend": true,
           "type": "scattergeo"
          },
          {
           "geo": "geo",
           "hovertemplate": "Doi tac=Lâm Đồng<br>Nam=2016<br>So du an cap moi=%{marker.size}<br>latitude=%{lat}<br>longitude=%{lon}<extra></extra>",
           "lat": [
            11.6614957
           ],
           "legendgroup": "Lâm Đồng",
           "lon": [
            108.1335279
           ],
           "marker": {
            "color": "#FFA15A",
            "size": [
             1
            ],
            "sizemode": "area",
            "sizeref": 3.3,
            "symbol": "circle"
           },
           "mode": "markers",
           "name": "Lâm Đồng",
           "showlegend": true,
           "type": "scattergeo"
          },
          {
           "geo": "geo",
           "hovertemplate": "Doi tac=Sóc Trăng<br>Nam=2016<br>So du an cap moi=%{marker.size}<br>latitude=%{lat}<br>longitude=%{lon}<extra></extra>",
           "lat": [
            9.5628369
           ],
           "legendgroup": "Sóc Trăng",
           "lon": [
            105.9493991
           ],
           "marker": {
            "color": "#19d3f3",
            "size": [
             1
            ],
            "sizemode": "area",
            "sizeref": 3.3,
            "symbol": "circle"
           },
           "mode": "markers",
           "name": "Sóc Trăng",
           "showlegend": true,
           "type": "scattergeo"
          },
          {
           "geo": "geo",
           "hovertemplate": "Doi tac=Tuyên Quang<br>Nam=2016<br>So du an cap moi=%{marker.size}<br>latitude=%{lat}<br>longitude=%{lon}<extra></extra>",
           "lat": [
            22.0747798
           ],
           "legendgroup": "Tuyên Quang",
           "lon": [
            105.258411
           ],
           "marker": {
            "color": "#B6E880",
            "size": [
             1
            ],
            "sizemode": "area",
            "sizeref": 3.3,
            "symbol": "circle"
           },
           "mode": "markers",
           "name": "Tuyên Quang",
           "showlegend": true,
           "type": "scattergeo"
          },
          {
           "geo": "geo",
           "hovertemplate": "Doi tac=Hòa Bình<br>Nam=2016<br>So du an cap moi=%{marker.size}<br>latitude=%{lat}<br>longitude=%{lon}<extra></extra>",
           "lat": [
            20.6763365
           ],
           "legendgroup": "Hòa Bình",
           "lon": [
            105.3759952
           ],
           "marker": {
            "color": "#FF97FF",
            "size": [
             1
            ],
            "sizemode": "area",
            "sizeref": 3.3,
            "symbol": "circle"
           },
           "mode": "markers",
           "name": "Hòa Bình",
           "showlegend": true,
           "type": "scattergeo"
          },
          {
           "geo": "geo",
           "hovertemplate": "Doi tac=Ninh Thuận<br>Nam=2016<br>So du an cap moi=%{marker.size}<br>latitude=%{lat}<br>longitude=%{lon}<extra></extra>",
           "lat": [
            11.6965639
           ],
           "legendgroup": "Ninh Thuận",
           "lon": [
            108.8928476
           ],
           "marker": {
            "color": "#FECB52",
            "size": [
             3
            ],
            "sizemode": "area",
            "sizeref": 3.3,
            "symbol": "circle"
           },
           "mode": "markers",
           "name": "Ninh Thuận",
           "showlegend": true,
           "type": "scattergeo"
          },
          {
           "geo": "geo",
           "hovertemplate": "Doi tac=Dầu khí<br>Nam=2016<br>So du an cap moi=%{marker.size}<br>latitude=%{lat}<br>longitude=%{lon}<extra></extra>",
           "lat": [
            23.260954
           ],
           "legendgroup": "Dầu khí",
           "lon": [
            116.59406
           ],
           "marker": {
            "color": "#EF553B",
            "size": [
             1
            ],
            "sizemode": "area",
            "sizeref": 3.3,
            "symbol": "circle"
           },
           "mode": "markers",
           "name": "Dầu khí",
           "showlegend": true,
           "type": "scattergeo"
          },
          {
           "geo": "geo",
           "hovertemplate": "Doi tac=Lào Cai<br>Nam=2016<br>So du an cap moi=%{marker.size}<br>latitude=%{lat}<br>longitude=%{lon}<extra></extra>",
           "lat": [
            22.3069302
           ],
           "legendgroup": "Lào Cai",
           "lon": [
            104.1829592
           ],
           "marker": {
            "color": "#00cc96",
            "size": [
             2
            ],
            "sizemode": "area",
            "sizeref": 3.3,
            "symbol": "circle"
           },
           "mode": "markers",
           "name": "Lào Cai",
           "showlegend": true,
           "type": "scattergeo"
          },
          {
           "geo": "geo",
           "hovertemplate": "Doi tac=Hà Giang<br>Nam=2016<br>So du an cap moi=%{marker.size}<br>latitude=%{lat}<br>longitude=%{lon}<extra></extra>",
           "lat": [
            22.7336097
           ],
           "legendgroup": "Hà Giang",
           "lon": [
            105.0027271
           ],
           "marker": {
            "color": "#ab63fa",
            "size": [
             1
            ],
            "sizemode": "area",
            "sizeref": 3.3,
            "symbol": "circle"
           },
           "mode": "markers",
           "name": "Hà Giang",
           "showlegend": true,
           "type": "scattergeo"
          },
          {
           "geo": "geo",
           "hovertemplate": "Doi tac=Lạng Sơn<br>Nam=2016<br>So du an cap moi=%{marker.size}<br>latitude=%{lat}<br>longitude=%{lon}<extra></extra>",
           "lat": [
            21.7773599
           ],
           "legendgroup": "Lạng Sơn",
           "lon": [
            106.740412
           ],
           "marker": {
            "color": "#FFA15A",
            "size": [
             2
            ],
            "sizemode": "area",
            "sizeref": 3.3,
            "symbol": "circle"
           },
           "mode": "markers",
           "name": "Lạng Sơn",
           "showlegend": true,
           "type": "scattergeo"
          },
          {
           "geo": "geo",
           "hovertemplate": "Doi tac=Kon Tum<br>Nam=2016<br>So du an cap moi=%{marker.size}<br>latitude=%{lat}<br>longitude=%{lon}<extra></extra>",
           "lat": [
            14.6995372
           ],
           "legendgroup": "Kon Tum",
           "lon": [
            107.9323831
           ],
           "marker": {
            "color": "#19d3f3",
            "size": [
             3
            ],
            "sizemode": "area",
            "sizeref": 3.3,
            "symbol": "circle"
           },
           "mode": "markers",
           "name": "Kon Tum",
           "showlegend": true,
           "type": "scattergeo"
          },
          {
           "geo": "geo",
           "hovertemplate": "Doi tac=Quảng Trị<br>Nam=2016<br>So du an cap moi=%{marker.size}<br>latitude=%{lat}<br>longitude=%{lon}<extra></extra>",
           "lat": [
            16.7897806
           ],
           "legendgroup": "Quảng Trị",
           "lon": [
            106.9797431
           ],
           "marker": {
            "color": "#FF6692",
            "size": [
             1
            ],
            "sizemode": "area",
            "sizeref": 3.3,
            "symbol": "circle"
           },
           "mode": "markers",
           "name": "Quảng Trị",
           "showlegend": true,
           "type": "scattergeo"
          },
          {
           "geo": "geo",
           "hovertemplate": "Doi tac=Đăk Nông<br>Nam=2016<br>So du an cap moi=%{marker.size}<br>latitude=%{lat}<br>longitude=%{lon}<extra></extra>",
           "lat": [
            12.2818851
           ],
           "legendgroup": "Đăk Nông",
           "lon": [
            107.7302484
           ],
           "marker": {
            "color": "#B6E880",
            "size": [
             1
            ],
            "sizemode": "area",
            "sizeref": 3.3,
            "symbol": "circle"
           },
           "mode": "markers",
           "name": "Đăk Nông",
           "showlegend": true,
           "type": "scattergeo"
          },
          {
           "geo": "geo",
           "hovertemplate": "Doi tac=Gia Lai<br>Nam=2016<br>So du an cap moi=%{marker.size}<br>latitude=%{lat}<br>longitude=%{lon}<extra></extra>",
           "lat": [
            13.8177445
           ],
           "legendgroup": "Gia Lai",
           "lon": [
            108.2004015
           ],
           "marker": {
            "color": "#FF97FF",
            "size": [
             1
            ],
            "sizemode": "area",
            "sizeref": 3.3,
            "symbol": "circle"
           },
           "mode": "markers",
           "name": "Gia Lai",
           "showlegend": true,
           "type": "scattergeo"
          }
         ],
         "name": "2016"
        },
        {
         "data": [
          {
           "geo": "geo",
           "hovertemplate": "Doi tac=Bắc Ninh<br>Nam=2017<br>So du an cap moi=%{marker.size}<br>latitude=%{lat}<br>longitude=%{lon}<extra></extra>",
           "lat": [
            21.0955822
           ],
           "legendgroup": "Bắc Ninh",
           "lon": [
            106.1264766
           ],
           "marker": {
            "color": "#636efa",
            "size": [
             184
            ],
            "sizemode": "area",
            "sizeref": 3.3,
            "symbol": "circle"
           },
           "mode": "markers",
           "name": "Bắc Ninh",
           "showlegend": true,
           "type": "scattergeo"
          },
          {
           "geo": "geo",
           "hovertemplate": "Doi tac=TP. Hồ Chí Minh<br>Nam=2017<br>So du an cap moi=%{marker.size}<br>latitude=%{lat}<br>longitude=%{lon}<extra></extra>",
           "lat": [
            10.7763897
           ],
           "legendgroup": "TP. Hồ Chí Minh",
           "lon": [
            106.7011391
           ],
           "marker": {
            "color": "#EF553B",
            "size": [
             864
            ],
            "sizemode": "area",
            "sizeref": 3.3,
            "symbol": "circle"
           },
           "mode": "markers",
           "name": "TP. Hồ Chí Minh",
           "showlegend": true,
           "type": "scattergeo"
          },
          {
           "geo": "geo",
           "hovertemplate": "Doi tac=Bình Dương<br>Nam=2017<br>So du an cap moi=%{marker.size}<br>latitude=%{lat}<br>longitude=%{lon}<extra></extra>",
           "lat": [
            11.1836551
           ],
           "legendgroup": "Bình Dương",
           "lon": [
            106.7031737
           ],
           "marker": {
            "color": "#00cc96",
            "size": [
             189
            ],
            "sizemode": "area",
            "sizeref": 3.3,
            "symbol": "circle"
           },
           "mode": "markers",
           "name": "Bình Dương",
           "showlegend": true,
           "type": "scattergeo"
          },
          {
           "geo": "geo",
           "hovertemplate": "Doi tac=Trà Vinh<br>Nam=2017<br>So du an cap moi=%{marker.size}<br>latitude=%{lat}<br>longitude=%{lon}<extra></extra>",
           "lat": [
            9.8037998
           ],
           "legendgroup": "Trà Vinh",
           "lon": [
            106.3256808
           ],
           "marker": {
            "color": "#ab63fa",
            "size": [
             4
            ],
            "sizemode": "area",
            "sizeref": 3.3,
            "symbol": "circle"
           },
           "mode": "markers",
           "name": "Trà Vinh",
           "showlegend": true,
           "type": "scattergeo"
          },
          {
           "geo": "geo",
           "hovertemplate": "Doi tac=Đồng Nai<br>Nam=2017<br>So du an cap moi=%{marker.size}<br>latitude=%{lat}<br>longitude=%{lon}<extra></extra>",
           "lat": [
            11.0355624
           ],
           "legendgroup": "Đồng Nai",
           "lon": [
            107.1881076
           ],
           "marker": {
            "color": "#FFA15A",
            "size": [
             83
            ],
            "sizemode": "area",
            "sizeref": 3.3,
            "symbol": "circle"
           },
           "mode": "markers",
           "name": "Đồng Nai",
           "showlegend": true,
           "type": "scattergeo"
          },
          {
           "geo": "geo",
           "hovertemplate": "Doi tac=Hà Nội<br>Nam=2017<br>So du an cap moi=%{marker.size}<br>latitude=%{lat}<br>longitude=%{lon}<extra></extra>",
           "lat": [
            21.0283207
           ],
           "legendgroup": "Hà Nội",
           "lon": [
            105.8540217
           ],
           "marker": {
            "color": "#19d3f3",
            "size": [
             542
            ],
            "sizemode": "area",
            "sizeref": 3.3,
            "symbol": "circle"
           },
           "mode": "markers",
           "name": "Hà Nội",
           "showlegend": true,
           "type": "scattergeo"
          },
          {
           "geo": "geo",
           "hovertemplate": "Doi tac=Hải Phòng<br>Nam=2017<br>So du an cap moi=%{marker.size}<br>latitude=%{lat}<br>longitude=%{lon}<extra></extra>",
           "lat": [
            20.858864
           ],
           "legendgroup": "Hải Phòng",
           "lon": [
            106.6749591
           ],
           "marker": {
            "color": "#FF6692",
            "size": [
             57
            ],
            "sizemode": "area",
            "sizeref": 3.3,
            "symbol": "circle"
           },
           "mode": "markers",
           "name": "Hải Phòng",
           "showlegend": true,
           "type": "scattergeo"
          },
          {
           "geo": "geo",
           "hovertemplate": "Doi tac=Bà Rịa - Vũng Tàu<br>Nam=2017<br>So du an cap moi=%{marker.size}<br>latitude=%{lat}<br>longitude=%{lon}<extra></extra>",
           "lat": [
            10.5738801
           ],
           "legendgroup": "Bà Rịa - Vũng Tàu",
           "lon": [
            107.3284362
           ],
           "marker": {
            "color": "#B6E880",
            "size": [
             25
            ],
            "sizemode": "area",
            "sizeref": 3.3,
            "symbol": "circle"
           },
           "mode": "markers",
           "name": "Bà Rịa - Vũng Tàu",
           "showlegend": true,
           "type": "scattergeo"
          },
          {
           "geo": "geo",
           "hovertemplate": "Doi tac=Long An<br>Nam=2017<br>So du an cap moi=%{marker.size}<br>latitude=%{lat}<br>longitude=%{lon}<extra></extra>",
           "lat": [
            10.6983968
           ],
           "legendgroup": "Long An",
           "lon": [
            106.1883517
           ],
           "marker": {
            "color": "#FF97FF",
            "size": [
             97
            ],
            "sizemode": "area",
            "sizeref": 3.3,
            "symbol": "circle"
           },
           "mode": "markers",
           "name": "Long An",
           "showlegend": true,
           "type": "scattergeo"
          },
          {
           "geo": "geo",
           "hovertemplate": "Doi tac=Tây Ninh<br>Nam=2017<br>So du an cap moi=%{marker.size}<br>latitude=%{lat}<br>longitude=%{lon}<extra></extra>",
           "lat": [
            11.4019366
           ],
           "legendgroup": "Tây Ninh",
           "lon": [
            106.1626927
           ],
           "marker": {
            "color": "#FECB52",
            "size": [
             24
            ],
            "sizemode": "area",
            "sizeref": 3.3,
            "symbol": "circle"
           },
           "mode": "markers",
           "name": "Tây Ninh",
           "showlegend": true,
           "type": "scattergeo"
          },
          {
           "geo": "geo",
           "hovertemplate": "Doi tac=Hải Dương<br>Nam=2017<br>So du an cap moi=%{marker.size}<br>latitude=%{lat}<br>longitude=%{lon}<extra></extra>",
           "lat": [
            20.8930571
           ],
           "legendgroup": "Hải Dương",
           "lon": [
            106.3725441
           ],
           "marker": {
            "color": "#636efa",
            "size": [
             48
            ],
            "sizemode": "area",
            "sizeref": 3.3,
            "symbol": "circle"
           },
           "mode": "markers",
           "name": "Hải Dương",
           "showlegend": true,
           "type": "scattergeo"
          },
          {
           "geo": "geo",
           "hovertemplate": "Doi tac=Bắc Giang<br>Nam=2017<br>So du an cap moi=%{marker.size}<br>latitude=%{lat}<br>longitude=%{lon}<extra></extra>",
           "lat": [
            21.3169625
           ],
           "legendgroup": "Bắc Giang",
           "lon": [
            106.437985
           ],
           "marker": {
            "color": "#EF553B",
            "size": [
             69
            ],
            "sizemode": "area",
            "sizeref": 3.3,
            "symbol": "circle"
           },
           "mode": "markers",
           "name": "Bắc Giang",
           "showlegend": true,
           "type": "scattergeo"
          },
          {
           "geo": "geo",
           "hovertemplate": "Doi tac=Quảng Ninh<br>Nam=2017<br>So du an cap moi=%{marker.size}<br>latitude=%{lat}<br>longitude=%{lon}<extra></extra>",
           "lat": [
            21.1718046
           ],
           "legendgroup": "Quảng Ninh",
           "lon": [
            107.2012742
           ],
           "marker": {
            "color": "#00cc96",
            "size": [
             7
            ],
            "sizemode": "area",
            "sizeref": 3.3,
            "symbol": "circle"
           },
           "mode": "markers",
           "name": "Quảng Ninh",
           "showlegend": true,
           "type": "scattergeo"
          },
          {
           "geo": "geo",
           "hovertemplate": "Doi tac=Vĩnh Phúc<br>Nam=2017<br>So du an cap moi=%{marker.size}<br>latitude=%{lat}<br>longitude=%{lon}<extra></extra>",
           "lat": [
            21.3778689
           ],
           "legendgroup": "Vĩnh Phúc",
           "lon": [
            105.5758286
           ],
           "marker": {
            "color": "#ab63fa",
            "size": [
             44
            ],
            "sizemode": "area",
            "sizeref": 3.3,
            "symbol": "circle"
           },
           "mode": "markers",
           "name": "Vĩnh Phúc",
           "showlegend": true,
           "type": "scattergeo"
          },
          {
           "geo": "geo",
           "hovertemplate": "Doi tac=Hà Nam<br>Nam=2017<br>So du an cap moi=%{marker.size}<br>latitude=%{lat}<br>longitude=%{lon}<extra></extra>",
           "lat": [
            34.0000001
           ],
           "legendgroup": "Hà Nam",
           "lon": [
            113.9999999
           ],
           "marker": {
            "color": "#FFA15A",
            "size": [
             18
            ],
            "sizemode": "area",
            "sizeref": 3.3,
            "symbol": "circle"
           },
           "mode": "markers",
           "name": "Hà Nam",
           "showlegend": true,
           "type": "scattergeo"
          },
          {
           "geo": "geo",
           "hovertemplate": "Doi tac=Hưng Yên<br>Nam=2017<br>So du an cap moi=%{marker.size}<br>latitude=%{lat}<br>longitude=%{lon}<extra></extra>",
           "lat": [
            20.7833912
           ],
           "legendgroup": "Hưng Yên",
           "lon": [
            106.0699025
           ],
           "marker": {
            "color": "#19d3f3",
            "size": [
             37
            ],
            "sizemode": "area",
            "sizeref": 3.3,
            "symbol": "circle"
           },
           "mode": "markers",
           "name": "Hưng Yên",
           "showlegend": true,
           "type": "scattergeo"
          },
          {
           "geo": "geo",
           "hovertemplate": "Doi tac=Bình Phước<br>Nam=2017<br>So du an cap moi=%{marker.size}<br>latitude=%{lat}<br>longitude=%{lon}<extra></extra>",
           "lat": [
            11.7332484
           ],
           "legendgroup": "Bình Phước",
           "lon": [
            106.906249
           ],
           "marker": {
            "color": "#FF6692",
            "size": [
             24
            ],
            "sizemode": "area",
            "sizeref": 3.3,
            "symbol": "circle"
           },
           "mode": "markers",
           "name": "Bình Phước",
           "showlegend": true,
           "type": "scattergeo"
          },
          {
           "geo": "geo",
           "hovertemplate": "Doi tac=Quảng Nam<br>Nam=2017<br>So du an cap moi=%{marker.size}<br>latitude=%{lat}<br>longitude=%{lon}<extra></extra>",
           "lat": [
            15.5761698
           ],
           "legendgroup": "Quảng Nam",
           "lon": [
            108.0527132
           ],
           "marker": {
            "color": "#B6E880",
            "size": [
             18
            ],
            "sizemode": "area",
            "sizeref": 3.3,
            "symbol": "circle"
           },
           "mode": "markers",
           "name": "Quảng Nam",
           "showlegend": true,
           "type": "scattergeo"
          },
          {
           "geo": "geo",
           "hovertemplate": "Doi tac=Thái Nguyên<br>Nam=2017<br>So du an cap moi=%{marker.size}<br>latitude=%{lat}<br>longitude=%{lon}<extra></extra>",
           "lat": [
            21.592477
           ],
           "legendgroup": "Thái Nguyên",
           "lon": [
            105.8435398
           ],
           "marker": {
            "color": "#FF97FF",
            "size": [
             12
            ],
            "sizemode": "area",
            "sizeref": 3.3,
            "symbol": "circle"
           },
           "mode": "markers",
           "name": "Thái Nguyên",
           "showlegend": true,
           "type": "scattergeo"
          },
          {
           "geo": "geo",
           "hovertemplate": "Doi tac=Nghệ An<br>Nam=2017<br>So du an cap moi=%{marker.size}<br>latitude=%{lat}<br>longitude=%{lon}<extra></extra>",
           "lat": [
            19.1976001
           ],
           "legendgroup": "Nghệ An",
           "lon": [
            105.060676
           ],
           "marker": {
            "color": "#FECB52",
            "size": [
             4
            ],
            "sizemode": "area",
            "sizeref": 3.3,
            "symbol": "circle"
           },
           "mode": "markers",
           "name": "Nghệ An",
           "showlegend": true,
           "type": "scattergeo"
          },
          {
           "geo": "geo",
           "hovertemplate": "Doi tac=Bến Tre<br>Nam=2017<br>So du an cap moi=%{marker.size}<br>latitude=%{lat}<br>longitude=%{lon}<extra></extra>",
           "lat": [
            10.1093637
           ],
           "legendgroup": "Bến Tre",
           "lon": [
            106.4811559
           ],
           "marker": {
            "color": "#636efa",
            "size": [
             4
            ],
            "sizemode": "area",
            "sizeref": 3.3,
            "symbol": "circle"
           },
           "mode": "markers",
           "name": "Bến Tre",
           "showlegend": true,
           "type": "scattergeo"
          },
          {
           "geo": "geo",
           "hovertemplate": "Doi tac=Hà Tĩnh<br>Nam=2017<br>So du an cap moi=%{marker.size}<br>latitude=%{lat}<br>longitude=%{lon}<extra></extra>",
           "lat": [
            18.3504832
           ],
           "legendgroup": "Hà Tĩnh",
           "lon": [
            105.7623047
           ],
           "marker": {
            "color": "#EF553B",
            "size": [
             7
            ],
            "sizemode": "area",
            "sizeref": 3.3,
            "symbol": "circle"
           },
           "mode": "markers",
           "name": "Hà Tĩnh",
           "showlegend": true,
           "type": "scattergeo"
          },
          {
           "geo": "geo",
           "hovertemplate": "Doi tac=Thừa Thiên Huế<br>Nam=2017<br>So du an cap moi=%{marker.size}<br>latitude=%{lat}<br>longitude=%{lon}<extra></extra>",
           "lat": [
            16.3480798
           ],
           "legendgroup": "Thừa Thiên Huế",
           "lon": [
            107.5398913
           ],
           "marker": {
            "color": "#00cc96",
            "size": [
             5
            ],
            "sizemode": "area",
            "sizeref": 3.3,
            "symbol": "circle"
           },
           "mode": "markers",
           "name": "Thừa Thiên Huế",
           "showlegend": true,
           "type": "scattergeo"
          },
          {
           "geo": "geo",
           "hovertemplate": "Doi tac=Phú Thọ<br>Nam=2017<br>So du an cap moi=%{marker.size}<br>latitude=%{lat}<br>longitude=%{lon}<extra></extra>",
           "lat": [
            21.3007538
           ],
           "legendgroup": "Phú Thọ",
           "lon": [
            105.1349604
           ],
           "marker": {
            "color": "#ab63fa",
            "size": [
             15
            ],
            "sizemode": "area",
            "sizeref": 3.3,
            "symbol": "circle"
           },
           "mode": "markers",
           "name": "Phú Thọ",
           "showlegend": true,
           "type": "scattergeo"
          },
          {
           "geo": "geo",
           "hovertemplate": "Doi tac=Tiền Giang<br>Nam=2017<br>So du an cap moi=%{marker.size}<br>latitude=%{lat}<br>longitude=%{lon}<extra></extra>",
           "lat": [
            10.4030368
           ],
           "legendgroup": "Tiền Giang",
           "lon": [
            106.361633
           ],
           "marker": {
            "color": "#FFA15A",
            "size": [
             6
            ],
            "sizemode": "area",
            "sizeref": 3.3,
            "symbol": "circle"
           },
           "mode": "markers",
           "name": "Tiền Giang",
           "showlegend": true,
           "type": "scattergeo"
          },
          {
           "geo": "geo",
           "hovertemplate": "Doi tac=Yên Bái<br>Nam=2017<br>So du an cap moi=%{marker.size}<br>latitude=%{lat}<br>longitude=%{lon}<extra></extra>",
           "lat": [
            21.69611
           ],
           "legendgroup": "Yên Bái",
           "lon": [
            104.8752392
           ],
           "marker": {
            "color": "#19d3f3",
            "size": [
             4
            ],
            "sizemode": "area",
            "sizeref": 3.3,
            "symbol": "circle"
           },
           "mode": "markers",
           "name": "Yên Bái",
           "showlegend": true,
           "type": "scattergeo"
          },
          {
           "geo": "geo",
           "hovertemplate": "Doi tac=Nam Định<br>Nam=2017<br>So du an cap moi=%{marker.size}<br>latitude=%{lat}<br>longitude=%{lon}<extra></extra>",
           "lat": [
            20.2686476
           ],
           "legendgroup": "Nam Định",
           "lon": [
            106.2289075
           ],
           "marker": {
            "color": "#FF6692",
            "size": [
             16
            ],
            "sizemode": "area",
            "sizeref": 3.3,
            "symbol": "circle"
           },
           "mode": "markers",
           "name": "Nam Định",
           "showlegend": true,
           "type": "scattergeo"
          },
          {
           "geo": "geo",
           "hovertemplate": "Doi tac=An Giang<br>Nam=2017<br>So du an cap moi=%{marker.size}<br>latitude=%{lat}<br>longitude=%{lon}<extra></extra>",
           "lat": [
            10.5392057
           ],
           "legendgroup": "An Giang",
           "lon": [
            105.2312822
           ],
           "marker": {
            "color": "#B6E880",
            "size": [
             1
            ],
            "sizemode": "area",
            "sizeref": 3.3,
            "symbol": "circle"
           },
           "mode": "markers",
           "name": "An Giang",
           "showlegend": true,
           "type": "scattergeo"
          },
          {
           "geo": "geo",
           "hovertemplate": "Doi tac=Bình Định<br>Nam=2017<br>So du an cap moi=%{marker.size}<br>latitude=%{lat}<br>longitude=%{lon}<extra></extra>",
           "lat": [
            14.0779378
           ],
           "legendgroup": "Bình Định",
           "lon": [
            108.9898798
           ],
           "marker": {
            "color": "#FF97FF",
            "size": [
             9
            ],
            "sizemode": "area",
            "sizeref": 3.3,
            "symbol": "circle"
           },
           "mode": "markers",
           "name": "Bình Định",
           "showlegend": true,
           "type": "scattergeo"
          },
          {
           "geo": "geo",
           "hovertemplate": "Doi tac=Khánh Hòa<br>Nam=2017<br>So du an cap moi=%{marker.size}<br>latitude=%{lat}<br>longitude=%{lon}<extra></extra>",
           "lat": [
            12.2980751
           ],
           "legendgroup": "Khánh Hòa",
           "lon": [
            108.9950386
           ],
           "marker": {
            "color": "#FECB52",
            "size": [
             4
            ],
            "sizemode": "area",
            "sizeref": 3.3,
            "symbol": "circle"
           },
           "mode": "markers",
           "name": "Khánh Hòa",
           "showlegend": true,
           "type": "scattergeo"
          },
          {
           "geo": "geo",
           "hovertemplate": "Doi tac=Thái Bình<br>Nam=2017<br>So du an cap moi=%{marker.size}<br>latitude=%{lat}<br>longitude=%{lon}<extra></extra>",
           "lat": [
            20.5296832
           ],
           "legendgroup": "Thái Bình",
           "lon": [
            106.3876068
           ],
           "marker": {
            "color": "#636efa",
            "size": [
             11
            ],
            "sizemode": "area",
            "sizeref": 3.3,
            "symbol": "circle"
           },
           "mode": "markers",
           "name": "Thái Bình",
           "showlegend": true,
           "type": "scattergeo"
          },
          {
           "geo": "geo",
           "hovertemplate": "Doi tac=Đà Nẵng<br>Nam=2017<br>So du an cap moi=%{marker.size}<br>latitude=%{lat}<br>longitude=%{lon}<extra></extra>",
           "lat": [
            16.068
           ],
           "legendgroup": "Đà Nẵng",
           "lon": [
            108.212
           ],
           "marker": {
            "color": "#EF553B",
            "size": [
             66
            ],
            "sizemode": "area",
            "sizeref": 3.3,
            "symbol": "circle"
           },
           "mode": "markers",
           "name": "Đà Nẵng",
           "showlegend": true,
           "type": "scattergeo"
          },
          {
           "geo": "geo",
           "hovertemplate": "Doi tac=Thanh Hóa<br>Nam=2017<br>So du an cap moi=%{marker.size}<br>latitude=%{lat}<br>longitude=%{lon}<extra></extra>",
           "lat": [
            19.9781573
           ],
           "legendgroup": "Thanh Hóa",
           "lon": [
            105.4816107
           ],
           "marker": {
            "color": "#00cc96",
            "size": [
             15
            ],
            "sizemode": "area",
            "sizeref": 3.3,
            "symbol": "circle"
           },
           "mode": "markers",
           "name": "Thanh Hóa",
           "showlegend": true,
           "type": "scattergeo"
          },
          {
           "geo": "geo",
           "hovertemplate": "Doi tac=Ninh Bình<br>Nam=2017<br>So du an cap moi=%{marker.size}<br>latitude=%{lat}<br>longitude=%{lon}<extra></extra>",
           "lat": [
            20.2545421
           ],
           "legendgroup": "Ninh Bình",
           "lon": [
            105.9764854
           ],
           "marker": {
            "color": "#ab63fa",
            "size": [
             8
            ],
            "sizemode": "area",
            "sizeref": 3.3,
            "symbol": "circle"
           },
           "mode": "markers",
           "name": "Ninh Bình",
           "showlegend": true,
           "type": "scattergeo"
          },
          {
           "geo": "geo",
           "hovertemplate": "Doi tac=Phú Yên<br>Nam=2017<br>So du an cap moi=%{marker.size}<br>latitude=%{lat}<br>longitude=%{lon}<extra></extra>",
           "lat": [
            13.1912633
           ],
           "legendgroup": "Phú Yên",
           "lon": [
            109.1273678
           ],
           "marker": {
            "color": "#FFA15A",
            "size": [
             3
            ],
            "sizemode": "area",
            "sizeref": 3.3,
            "symbol": "circle"
           },
           "mode": "markers",
           "name": "Phú Yên",
           "showlegend": true,
           "type": "scattergeo"
          },
          {
           "geo": "geo",
           "hovertemplate": "Doi tac=Kiên Giang<br>Nam=2017<br>So du an cap moi=%{marker.size}<br>latitude=%{lat}<br>longitude=%{lon}<extra></extra>",
           "lat": [
            9.9904962
           ],
           "legendgroup": "Kiên Giang",
           "lon": [
            105.2435248
           ],
           "marker": {
            "color": "#19d3f3",
            "size": [
             7
            ],
            "sizemode": "area",
            "sizeref": 3.3,
            "symbol": "circle"
           },
           "mode": "markers",
           "name": "Kiên Giang",
           "showlegend": true,
           "type": "scattergeo"
          },
          {
           "geo": "geo",
           "hovertemplate": "Doi tac=Đăk Lăk<br>Nam=2017<br>So du an cap moi=%{marker.size}<br>latitude=%{lat}<br>longitude=%{lon}<extra></extra>",
           "lat": [
            12.8292274
           ],
           "legendgroup": "Đăk Lăk",
           "lon": [
            108.2999058
           ],
           "marker": {
            "color": "#FF6692",
            "size": [
             2
            ],
            "sizemode": "area",
            "sizeref": 3.3,
            "symbol": "circle"
           },
           "mode": "markers",
           "name": "Đăk Lăk",
           "showlegend": true,
           "type": "scattergeo"
          },
          {
           "geo": "geo",
           "hovertemplate": "Doi tac=Quảng Bình<br>Nam=2017<br>So du an cap moi=%{marker.size}<br>latitude=%{lat}<br>longitude=%{lon}<extra></extra>",
           "lat": [
            17.509599
           ],
           "legendgroup": "Quảng Bình",
           "lon": [
            106.4004452
           ],
           "marker": {
            "color": "#B6E880",
            "size": [
             2
            ],
            "sizemode": "area",
            "sizeref": 3.3,
            "symbol": "circle"
           },
           "mode": "markers",
           "name": "Quảng Bình",
           "showlegend": true,
           "type": "scattergeo"
          },
          {
           "geo": "geo",
           "hovertemplate": "Doi tac=Bình Thuận<br>Nam=2017<br>So du an cap moi=%{marker.size}<br>latitude=%{lat}<br>longitude=%{lon}<extra></extra>",
           "lat": [
            11.1041572
           ],
           "legendgroup": "Bình Thuận",
           "lon": [
            108.1832931
           ],
           "marker": {
            "color": "#FF97FF",
            "size": [
             6
            ],
            "sizemode": "area",
            "sizeref": 3.3,
            "symbol": "circle"
           },
           "mode": "markers",
           "name": "Bình Thuận",
           "showlegend": true,
           "type": "scattergeo"
          },
          {
           "geo": "geo",
           "hovertemplate": "Doi tac=Hậu Giang<br>Nam=2017<br>So du an cap moi=%{marker.size}<br>latitude=%{lat}<br>longitude=%{lon}<extra></extra>",
           "lat": [
            9.7985063
           ],
           "legendgroup": "Hậu Giang",
           "lon": [
            105.6379524
           ],
           "marker": {
            "color": "#FECB52",
            "size": [
             2
            ],
            "sizemode": "area",
            "sizeref": 3.3,
            "symbol": "circle"
           },
           "mode": "markers",
           "name": "Hậu Giang",
           "showlegend": true,
           "type": "scattergeo"
          },
          {
           "geo": "geo",
           "hovertemplate": "Doi tac=Quảng Ngãi<br>Nam=2017<br>So du an cap moi=%{marker.size}<br>latitude=%{lat}<br>longitude=%{lon}<extra></extra>",
           "lat": [
            14.9953739
           ],
           "legendgroup": "Quảng Ngãi",
           "lon": [
            108.691729
           ],
           "marker": {
            "color": "#636efa",
            "size": [
             7
            ],
            "sizemode": "area",
            "sizeref": 3.3,
            "symbol": "circle"
           },
           "mode": "markers",
           "name": "Quảng Ngãi",
           "showlegend": true,
           "type": "scattergeo"
          },
          {
           "geo": "geo",
           "hovertemplate": "Doi tac=Cần Thơ<br>Nam=2017<br>So du an cap moi=%{marker.size}<br>latitude=%{lat}<br>longitude=%{lon}<extra></extra>",
           "lat": [
            10.0364216
           ],
           "legendgroup": "Cần Thơ",
           "lon": [
            105.7875219
           ],
           "marker": {
            "color": "#EF553B",
            "size": [
             4
            ],
            "sizemode": "area",
            "sizeref": 3.3,
            "symbol": "circle"
           },
           "mode": "markers",
           "name": "Cần Thơ",
           "showlegend": true,
           "type": "scattergeo"
          },
          {
           "geo": "geo",
           "hovertemplate": "Doi tac=Vĩnh Long<br>Nam=2017<br>So du an cap moi=%{marker.size}<br>latitude=%{lat}<br>longitude=%{lon}<extra></extra>",
           "lat": [
            10.1203043
           ],
           "legendgroup": "Vĩnh Long",
           "lon": [
            106.0125705
           ],
           "marker": {
            "color": "#00cc96",
            "size": [
             3
            ],
            "sizemode": "area",
            "sizeref": 3.3,
            "symbol": "circle"
           },
           "mode": "markers",
           "name": "Vĩnh Long",
           "showlegend": true,
           "type": "scattergeo"
          },
          {
           "geo": "geo",
           "hovertemplate": "Doi tac=Đồng Tháp<br>Nam=2017<br>So du an cap moi=%{marker.size}<br>latitude=%{lat}<br>longitude=%{lon}<extra></extra>",
           "lat": [
            10.590424
           ],
           "legendgroup": "Đồng Tháp",
           "lon": [
            105.6802341
           ],
           "marker": {
            "color": "#ab63fa",
            "size": [
             4
            ],
            "sizemode": "area",
            "sizeref": 3.3,
            "symbol": "circle"
           },
           "mode": "markers",
           "name": "Đồng Tháp",
           "showlegend": true,
           "type": "scattergeo"
          },
          {
           "geo": "geo",
           "hovertemplate": "Doi tac=Lâm Đồng<br>Nam=2017<br>So du an cap moi=%{marker.size}<br>latitude=%{lat}<br>longitude=%{lon}<extra></extra>",
           "lat": [
            11.6614957
           ],
           "legendgroup": "Lâm Đồng",
           "lon": [
            108.1335279
           ],
           "marker": {
            "color": "#FFA15A",
            "size": [
             7
            ],
            "sizemode": "area",
            "sizeref": 3.3,
            "symbol": "circle"
           },
           "mode": "markers",
           "name": "Lâm Đồng",
           "showlegend": true,
           "type": "scattergeo"
          },
          {
           "geo": "geo",
           "hovertemplate": "Doi tac=Sóc Trăng<br>Nam=2017<br>So du an cap moi=%{marker.size}<br>latitude=%{lat}<br>longitude=%{lon}<extra></extra>",
           "lat": [
            9.5628369
           ],
           "legendgroup": "Sóc Trăng",
           "lon": [
            105.9493991
           ],
           "marker": {
            "color": "#19d3f3",
            "size": [
             1
            ],
            "sizemode": "area",
            "sizeref": 3.3,
            "symbol": "circle"
           },
           "mode": "markers",
           "name": "Sóc Trăng",
           "showlegend": true,
           "type": "scattergeo"
          },
          {
           "geo": "geo",
           "hovertemplate": "Doi tac=Tuyên Quang<br>Nam=2017<br>So du an cap moi=%{marker.size}<br>latitude=%{lat}<br>longitude=%{lon}<extra></extra>",
           "lat": [
            22.0747798
           ],
           "legendgroup": "Tuyên Quang",
           "lon": [
            105.258411
           ],
           "marker": {
            "color": "#B6E880",
            "size": [
             1
            ],
            "sizemode": "area",
            "sizeref": 3.3,
            "symbol": "circle"
           },
           "mode": "markers",
           "name": "Tuyên Quang",
           "showlegend": true,
           "type": "scattergeo"
          },
          {
           "geo": "geo",
           "hovertemplate": "Doi tac=Hòa Bình<br>Nam=2017<br>So du an cap moi=%{marker.size}<br>latitude=%{lat}<br>longitude=%{lon}<extra></extra>",
           "lat": [
            20.6763365
           ],
           "legendgroup": "Hòa Bình",
           "lon": [
            105.3759952
           ],
           "marker": {
            "color": "#FF97FF",
            "size": [
             4
            ],
            "sizemode": "area",
            "sizeref": 3.3,
            "symbol": "circle"
           },
           "mode": "markers",
           "name": "Hòa Bình",
           "showlegend": true,
           "type": "scattergeo"
          },
          {
           "geo": "geo",
           "hovertemplate": "Doi tac=Ninh Thuận<br>Nam=2017<br>So du an cap moi=%{marker.size}<br>latitude=%{lat}<br>longitude=%{lon}<extra></extra>",
           "lat": [
            11.6965639
           ],
           "legendgroup": "Ninh Thuận",
           "lon": [
            108.8928476
           ],
           "marker": {
            "color": "#FECB52",
            "size": [
             3
            ],
            "sizemode": "area",
            "sizeref": 3.3,
            "symbol": "circle"
           },
           "mode": "markers",
           "name": "Ninh Thuận",
           "showlegend": true,
           "type": "scattergeo"
          },
          {
           "geo": "geo",
           "hovertemplate": "Doi tac=Lào Cai<br>Nam=2017<br>So du an cap moi=%{marker.size}<br>latitude=%{lat}<br>longitude=%{lon}<extra></extra>",
           "lat": [
            22.3069302
           ],
           "legendgroup": "Lào Cai",
           "lon": [
            104.1829592
           ],
           "marker": {
            "color": "#00cc96",
            "size": [
             2
            ],
            "sizemode": "area",
            "sizeref": 3.3,
            "symbol": "circle"
           },
           "mode": "markers",
           "name": "Lào Cai",
           "showlegend": true,
           "type": "scattergeo"
          },
          {
           "geo": "geo",
           "hovertemplate": "Doi tac=Hà Giang<br>Nam=2017<br>So du an cap moi=%{marker.size}<br>latitude=%{lat}<br>longitude=%{lon}<extra></extra>",
           "lat": [
            22.7336097
           ],
           "legendgroup": "Hà Giang",
           "lon": [
            105.0027271
           ],
           "marker": {
            "color": "#ab63fa",
            "size": [
             3
            ],
            "sizemode": "area",
            "sizeref": 3.3,
            "symbol": "circle"
           },
           "mode": "markers",
           "name": "Hà Giang",
           "showlegend": true,
           "type": "scattergeo"
          },
          {
           "geo": "geo",
           "hovertemplate": "Doi tac=Lạng Sơn<br>Nam=2017<br>So du an cap moi=%{marker.size}<br>latitude=%{lat}<br>longitude=%{lon}<extra></extra>",
           "lat": [
            21.7773599
           ],
           "legendgroup": "Lạng Sơn",
           "lon": [
            106.740412
           ],
           "marker": {
            "color": "#FFA15A",
            "size": [
             1
            ],
            "sizemode": "area",
            "sizeref": 3.3,
            "symbol": "circle"
           },
           "mode": "markers",
           "name": "Lạng Sơn",
           "showlegend": true,
           "type": "scattergeo"
          },
          {
           "geo": "geo",
           "hovertemplate": "Doi tac=Kon Tum<br>Nam=2017<br>So du an cap moi=%{marker.size}<br>latitude=%{lat}<br>longitude=%{lon}<extra></extra>",
           "lat": [
            14.6995372
           ],
           "legendgroup": "Kon Tum",
           "lon": [
            107.9323831
           ],
           "marker": {
            "color": "#19d3f3",
            "size": [
             1
            ],
            "sizemode": "area",
            "sizeref": 3.3,
            "symbol": "circle"
           },
           "mode": "markers",
           "name": "Kon Tum",
           "showlegend": true,
           "type": "scattergeo"
          },
          {
           "geo": "geo",
           "hovertemplate": "Doi tac=Quảng Trị<br>Nam=2017<br>So du an cap moi=%{marker.size}<br>latitude=%{lat}<br>longitude=%{lon}<extra></extra>",
           "lat": [
            16.7897806
           ],
           "legendgroup": "Quảng Trị",
           "lon": [
            106.9797431
           ],
           "marker": {
            "color": "#FF6692",
            "size": [
             1
            ],
            "sizemode": "area",
            "sizeref": 3.3,
            "symbol": "circle"
           },
           "mode": "markers",
           "name": "Quảng Trị",
           "showlegend": true,
           "type": "scattergeo"
          },
          {
           "geo": "geo",
           "hovertemplate": "Doi tac=Đăk Nông<br>Nam=2017<br>So du an cap moi=%{marker.size}<br>latitude=%{lat}<br>longitude=%{lon}<extra></extra>",
           "lat": [
            12.2818851
           ],
           "legendgroup": "Đăk Nông",
           "lon": [
            107.7302484
           ],
           "marker": {
            "color": "#B6E880",
            "size": [
             1
            ],
            "sizemode": "area",
            "sizeref": 3.3,
            "symbol": "circle"
           },
           "mode": "markers",
           "name": "Đăk Nông",
           "showlegend": true,
           "type": "scattergeo"
          },
          {
           "geo": "geo",
           "hovertemplate": "Doi tac=Cà Mau<br>Nam=2017<br>So du an cap moi=%{marker.size}<br>latitude=%{lat}<br>longitude=%{lon}<extra></extra>",
           "lat": [
            9.0180177
           ],
           "legendgroup": "Cà Mau",
           "lon": [
            105.0869724
           ],
           "marker": {
            "color": "#FECB52",
            "size": [
             2
            ],
            "sizemode": "area",
            "sizeref": 3.3,
            "symbol": "circle"
           },
           "mode": "markers",
           "name": "Cà Mau",
           "showlegend": true,
           "type": "scattergeo"
          },
          {
           "geo": "geo",
           "hovertemplate": "Doi tac=Sơn La<br>Nam=2017<br>So du an cap moi=%{marker.size}<br>latitude=%{lat}<br>longitude=%{lon}<extra></extra>",
           "lat": [
            21.2276769
           ],
           "legendgroup": "Sơn La",
           "lon": [
            104.1575944
           ],
           "marker": {
            "color": "#636efa",
            "size": [
             2
            ],
            "sizemode": "area",
            "sizeref": 3.3,
            "symbol": "circle"
           },
           "mode": "markers",
           "name": "Sơn La",
           "showlegend": true,
           "type": "scattergeo"
          },
          {
           "geo": "geo",
           "hovertemplate": "Doi tac=Cao Bằng<br>Nam=2017<br>So du an cap moi=%{marker.size}<br>latitude=%{lat}<br>longitude=%{lon}<extra></extra>",
           "lat": [
            22.7730867
           ],
           "legendgroup": "Cao Bằng",
           "lon": [
            106.0017225
           ],
           "marker": {
            "color": "#EF553B",
            "size": [
             1
            ],
            "sizemode": "area",
            "sizeref": 3.3,
            "symbol": "circle"
           },
           "mode": "markers",
           "name": "Cao Bằng",
           "showlegend": true,
           "type": "scattergeo"
          },
          {
           "geo": "geo",
           "hovertemplate": "Doi tac=Điện Biên<br>Nam=2017<br>So du an cap moi=%{marker.size}<br>latitude=%{lat}<br>longitude=%{lon}<extra></extra>",
           "lat": [
            21.6546566
           ],
           "legendgroup": "Điện Biên",
           "lon": [
            103.2168632
           ],
           "marker": {
            "color": "#00cc96",
            "size": [
             1
            ],
            "sizemode": "area",
            "sizeref": 3.3,
            "symbol": "circle"
           },
           "mode": "markers",
           "name": "Điện Biên",
           "showlegend": true,
           "type": "scattergeo"
          }
         ],
         "name": "2017"
        },
        {
         "data": [
          {
           "geo": "geo",
           "hovertemplate": "Doi tac=Bắc Ninh<br>Nam=2018<br>So du an cap moi=%{marker.size}<br>latitude=%{lat}<br>longitude=%{lon}<extra></extra>",
           "lat": [
            21.0955822
           ],
           "legendgroup": "Bắc Ninh",
           "lon": [
            106.1264766
           ],
           "marker": {
            "color": "#636efa",
            "size": [
             173
            ],
            "sizemode": "area",
            "sizeref": 3.3,
            "symbol": "circle"
           },
           "mode": "markers",
           "name": "Bắc Ninh",
           "showlegend": true,
           "type": "scattergeo"
          },
          {
           "geo": "geo",
           "hovertemplate": "Doi tac=TP. Hồ Chí Minh<br>Nam=2018<br>So du an cap moi=%{marker.size}<br>latitude=%{lat}<br>longitude=%{lon}<extra></extra>",
           "lat": [
            10.7763897
           ],
           "legendgroup": "TP. Hồ Chí Minh",
           "lon": [
            106.7011391
           ],
           "marker": {
            "color": "#EF553B",
            "size": [
             1029
            ],
            "sizemode": "area",
            "sizeref": 3.3,
            "symbol": "circle"
           },
           "mode": "markers",
           "name": "TP. Hồ Chí Minh",
           "showlegend": true,
           "type": "scattergeo"
          },
          {
           "geo": "geo",
           "hovertemplate": "Doi tac=Bình Dương<br>Nam=2018<br>So du an cap moi=%{marker.size}<br>latitude=%{lat}<br>longitude=%{lon}<extra></extra>",
           "lat": [
            11.1836551
           ],
           "legendgroup": "Bình Dương",
           "lon": [
            106.7031737
           ],
           "marker": {
            "color": "#00cc96",
            "size": [
             215
            ],
            "sizemode": "area",
            "sizeref": 3.3,
            "symbol": "circle"
           },
           "mode": "markers",
           "name": "Bình Dương",
           "showlegend": true,
           "type": "scattergeo"
          },
          {
           "geo": "geo",
           "hovertemplate": "Doi tac=Trà Vinh<br>Nam=2018<br>So du an cap moi=%{marker.size}<br>latitude=%{lat}<br>longitude=%{lon}<extra></extra>",
           "lat": [
            9.8037998
           ],
           "legendgroup": "Trà Vinh",
           "lon": [
            106.3256808
           ],
           "marker": {
            "color": "#ab63fa",
            "size": [
             2
            ],
            "sizemode": "area",
            "sizeref": 3.3,
            "symbol": "circle"
           },
           "mode": "markers",
           "name": "Trà Vinh",
           "showlegend": true,
           "type": "scattergeo"
          },
          {
           "geo": "geo",
           "hovertemplate": "Doi tac=Đồng Nai<br>Nam=2018<br>So du an cap moi=%{marker.size}<br>latitude=%{lat}<br>longitude=%{lon}<extra></extra>",
           "lat": [
            11.0355624
           ],
           "legendgroup": "Đồng Nai",
           "lon": [
            107.1881076
           ],
           "marker": {
            "color": "#FFA15A",
            "size": [
             125
            ],
            "sizemode": "area",
            "sizeref": 3.3,
            "symbol": "circle"
           },
           "mode": "markers",
           "name": "Đồng Nai",
           "showlegend": true,
           "type": "scattergeo"
          },
          {
           "geo": "geo",
           "hovertemplate": "Doi tac=Hà Nội<br>Nam=2018<br>So du an cap moi=%{marker.size}<br>latitude=%{lat}<br>longitude=%{lon}<extra></extra>",
           "lat": [
            21.0283207
           ],
           "legendgroup": "Hà Nội",
           "lon": [
            105.8540217
           ],
           "marker": {
            "color": "#19d3f3",
            "size": [
             622
            ],
            "sizemode": "area",
            "sizeref": 3.3,
            "symbol": "circle"
           },
           "mode": "markers",
           "name": "Hà Nội",
           "showlegend": true,
           "type": "scattergeo"
          },
          {
           "geo": "geo",
           "hovertemplate": "Doi tac=Hải Phòng<br>Nam=2018<br>So du an cap moi=%{marker.size}<br>latitude=%{lat}<br>longitude=%{lon}<extra></extra>",
           "lat": [
            20.858864
           ],
           "legendgroup": "Hải Phòng",
           "lon": [
            106.6749591
           ],
           "marker": {
            "color": "#FF6692",
            "size": [
             111
            ],
            "sizemode": "area",
            "sizeref": 3.3,
            "symbol": "circle"
           },
           "mode": "markers",
           "name": "Hải Phòng",
           "showlegend": true,
           "type": "scattergeo"
          },
          {
           "geo": "geo",
           "hovertemplate": "Doi tac=Bà Rịa - Vũng Tàu<br>Nam=2018<br>So du an cap moi=%{marker.size}<br>latitude=%{lat}<br>longitude=%{lon}<extra></extra>",
           "lat": [
            10.5738801
           ],
           "legendgroup": "Bà Rịa - Vũng Tàu",
           "lon": [
            107.3284362
           ],
           "marker": {
            "color": "#B6E880",
            "size": [
             45
            ],
            "sizemode": "area",
            "sizeref": 3.3,
            "symbol": "circle"
           },
           "mode": "markers",
           "name": "Bà Rịa - Vũng Tàu",
           "showlegend": true,
           "type": "scattergeo"
          },
          {
           "geo": "geo",
           "hovertemplate": "Doi tac=Long An<br>Nam=2018<br>So du an cap moi=%{marker.size}<br>latitude=%{lat}<br>longitude=%{lon}<extra></extra>",
           "lat": [
            10.6983968
           ],
           "legendgroup": "Long An",
           "lon": [
            106.1883517
           ],
           "marker": {
            "color": "#FF97FF",
            "size": [
             86
            ],
            "sizemode": "area",
            "sizeref": 3.3,
            "symbol": "circle"
           },
           "mode": "markers",
           "name": "Long An",
           "showlegend": true,
           "type": "scattergeo"
          },
          {
           "geo": "geo",
           "hovertemplate": "Doi tac=Tây Ninh<br>Nam=2018<br>So du an cap moi=%{marker.size}<br>latitude=%{lat}<br>longitude=%{lon}<extra></extra>",
           "lat": [
            11.4019366
           ],
           "legendgroup": "Tây Ninh",
           "lon": [
            106.1626927
           ],
           "marker": {
            "color": "#FECB52",
            "size": [
             30
            ],
            "sizemode": "area",
            "sizeref": 3.3,
            "symbol": "circle"
           },
           "mode": "markers",
           "name": "Tây Ninh",
           "showlegend": true,
           "type": "scattergeo"
          },
          {
           "geo": "geo",
           "hovertemplate": "Doi tac=Hải Dương<br>Nam=2018<br>So du an cap moi=%{marker.size}<br>latitude=%{lat}<br>longitude=%{lon}<extra></extra>",
           "lat": [
            20.8930571
           ],
           "legendgroup": "Hải Dương",
           "lon": [
            106.3725441
           ],
           "marker": {
            "color": "#636efa",
            "size": [
             44
            ],
            "sizemode": "area",
            "sizeref": 3.3,
            "symbol": "circle"
           },
           "mode": "markers",
           "name": "Hải Dương",
           "showlegend": true,
           "type": "scattergeo"
          },
          {
           "geo": "geo",
           "hovertemplate": "Doi tac=Bắc Giang<br>Nam=2018<br>So du an cap moi=%{marker.size}<br>latitude=%{lat}<br>longitude=%{lon}<extra></extra>",
           "lat": [
            21.3169625
           ],
           "legendgroup": "Bắc Giang",
           "lon": [
            106.437985
           ],
           "marker": {
            "color": "#EF553B",
            "size": [
             67
            ],
            "sizemode": "area",
            "sizeref": 3.3,
            "symbol": "circle"
           },
           "mode": "markers",
           "name": "Bắc Giang",
           "showlegend": true,
           "type": "scattergeo"
          },
          {
           "geo": "geo",
           "hovertemplate": "Doi tac=Quảng Ninh<br>Nam=2018<br>So du an cap moi=%{marker.size}<br>latitude=%{lat}<br>longitude=%{lon}<extra></extra>",
           "lat": [
            21.1718046
           ],
           "legendgroup": "Quảng Ninh",
           "lon": [
            107.2012742
           ],
           "marker": {
            "color": "#00cc96",
            "size": [
             7
            ],
            "sizemode": "area",
            "sizeref": 3.3,
            "symbol": "circle"
           },
           "mode": "markers",
           "name": "Quảng Ninh",
           "showlegend": true,
           "type": "scattergeo"
          },
          {
           "geo": "geo",
           "hovertemplate": "Doi tac=Vĩnh Phúc<br>Nam=2018<br>So du an cap moi=%{marker.size}<br>latitude=%{lat}<br>longitude=%{lon}<extra></extra>",
           "lat": [
            21.3778689
           ],
           "legendgroup": "Vĩnh Phúc",
           "lon": [
            105.5758286
           ],
           "marker": {
            "color": "#ab63fa",
            "size": [
             59
            ],
            "sizemode": "area",
            "sizeref": 3.3,
            "symbol": "circle"
           },
           "mode": "markers",
           "name": "Vĩnh Phúc",
           "showlegend": true,
           "type": "scattergeo"
          },
          {
           "geo": "geo",
           "hovertemplate": "Doi tac=Hà Nam<br>Nam=2018<br>So du an cap moi=%{marker.size}<br>latitude=%{lat}<br>longitude=%{lon}<extra></extra>",
           "lat": [
            34.0000001
           ],
           "legendgroup": "Hà Nam",
           "lon": [
            113.9999999
           ],
           "marker": {
            "color": "#FFA15A",
            "size": [
             42
            ],
            "sizemode": "area",
            "sizeref": 3.3,
            "symbol": "circle"
           },
           "mode": "markers",
           "name": "Hà Nam",
           "showlegend": true,
           "type": "scattergeo"
          },
          {
           "geo": "geo",
           "hovertemplate": "Doi tac=Hưng Yên<br>Nam=2018<br>So du an cap moi=%{marker.size}<br>latitude=%{lat}<br>longitude=%{lon}<extra></extra>",
           "lat": [
            20.7833912
           ],
           "legendgroup": "Hưng Yên",
           "lon": [
            106.0699025
           ],
           "marker": {
            "color": "#19d3f3",
            "size": [
             29
            ],
            "sizemode": "area",
            "sizeref": 3.3,
            "symbol": "circle"
           },
           "mode": "markers",
           "name": "Hưng Yên",
           "showlegend": true,
           "type": "scattergeo"
          },
          {
           "geo": "geo",
           "hovertemplate": "Doi tac=Bình Phước<br>Nam=2018<br>So du an cap moi=%{marker.size}<br>latitude=%{lat}<br>longitude=%{lon}<extra></extra>",
           "lat": [
            11.7332484
           ],
           "legendgroup": "Bình Phước",
           "lon": [
            106.906249
           ],
           "marker": {
            "color": "#FF6692",
            "size": [
             29
            ],
            "sizemode": "area",
            "sizeref": 3.3,
            "symbol": "circle"
           },
           "mode": "markers",
           "name": "Bình Phước",
           "showlegend": true,
           "type": "scattergeo"
          },
          {
           "geo": "geo",
           "hovertemplate": "Doi tac=Quảng Nam<br>Nam=2018<br>So du an cap moi=%{marker.size}<br>latitude=%{lat}<br>longitude=%{lon}<extra></extra>",
           "lat": [
            15.5761698
           ],
           "legendgroup": "Quảng Nam",
           "lon": [
            108.0527132
           ],
           "marker": {
            "color": "#B6E880",
            "size": [
             29
            ],
            "sizemode": "area",
            "sizeref": 3.3,
            "symbol": "circle"
           },
           "mode": "markers",
           "name": "Quảng Nam",
           "showlegend": true,
           "type": "scattergeo"
          },
          {
           "geo": "geo",
           "hovertemplate": "Doi tac=Thái Nguyên<br>Nam=2018<br>So du an cap moi=%{marker.size}<br>latitude=%{lat}<br>longitude=%{lon}<extra></extra>",
           "lat": [
            21.592477
           ],
           "legendgroup": "Thái Nguyên",
           "lon": [
            105.8435398
           ],
           "marker": {
            "color": "#FF97FF",
            "size": [
             14
            ],
            "sizemode": "area",
            "sizeref": 3.3,
            "symbol": "circle"
           },
           "mode": "markers",
           "name": "Thái Nguyên",
           "showlegend": true,
           "type": "scattergeo"
          },
          {
           "geo": "geo",
           "hovertemplate": "Doi tac=Nghệ An<br>Nam=2018<br>So du an cap moi=%{marker.size}<br>latitude=%{lat}<br>longitude=%{lon}<extra></extra>",
           "lat": [
            19.1976001
           ],
           "legendgroup": "Nghệ An",
           "lon": [
            105.060676
           ],
           "marker": {
            "color": "#FECB52",
            "size": [
             5
            ],
            "sizemode": "area",
            "sizeref": 3.3,
            "symbol": "circle"
           },
           "mode": "markers",
           "name": "Nghệ An",
           "showlegend": true,
           "type": "scattergeo"
          },
          {
           "geo": "geo",
           "hovertemplate": "Doi tac=Bến Tre<br>Nam=2018<br>So du an cap moi=%{marker.size}<br>latitude=%{lat}<br>longitude=%{lon}<extra></extra>",
           "lat": [
            10.1093637
           ],
           "legendgroup": "Bến Tre",
           "lon": [
            106.4811559
           ],
           "marker": {
            "color": "#636efa",
            "size": [
             4
            ],
            "sizemode": "area",
            "sizeref": 3.3,
            "symbol": "circle"
           },
           "mode": "markers",
           "name": "Bến Tre",
           "showlegend": true,
           "type": "scattergeo"
          },
          {
           "geo": "geo",
           "hovertemplate": "Doi tac=Hà Tĩnh<br>Nam=2018<br>So du an cap moi=%{marker.size}<br>latitude=%{lat}<br>longitude=%{lon}<extra></extra>",
           "lat": [
            18.3504832
           ],
           "legendgroup": "Hà Tĩnh",
           "lon": [
            105.7623047
           ],
           "marker": {
            "color": "#EF553B",
            "size": [
             8
            ],
            "sizemode": "area",
            "sizeref": 3.3,
            "symbol": "circle"
           },
           "mode": "markers",
           "name": "Hà Tĩnh",
           "showlegend": true,
           "type": "scattergeo"
          },
          {
           "geo": "geo",
           "hovertemplate": "Doi tac=Thừa Thiên Huế<br>Nam=2018<br>So du an cap moi=%{marker.size}<br>latitude=%{lat}<br>longitude=%{lon}<extra></extra>",
           "lat": [
            16.3480798
           ],
           "legendgroup": "Thừa Thiên Huế",
           "lon": [
            107.5398913
           ],
           "marker": {
            "color": "#00cc96",
            "size": [
             8
            ],
            "sizemode": "area",
            "sizeref": 3.3,
            "symbol": "circle"
           },
           "mode": "markers",
           "name": "Thừa Thiên Huế",
           "showlegend": true,
           "type": "scattergeo"
          },
          {
           "geo": "geo",
           "hovertemplate": "Doi tac=Phú Thọ<br>Nam=2018<br>So du an cap moi=%{marker.size}<br>latitude=%{lat}<br>longitude=%{lon}<extra></extra>",
           "lat": [
            21.3007538
           ],
           "legendgroup": "Phú Thọ",
           "lon": [
            105.1349604
           ],
           "marker": {
            "color": "#ab63fa",
            "size": [
             13
            ],
            "sizemode": "area",
            "sizeref": 3.3,
            "symbol": "circle"
           },
           "mode": "markers",
           "name": "Phú Thọ",
           "showlegend": true,
           "type": "scattergeo"
          },
          {
           "geo": "geo",
           "hovertemplate": "Doi tac=Tiền Giang<br>Nam=2018<br>So du an cap moi=%{marker.size}<br>latitude=%{lat}<br>longitude=%{lon}<extra></extra>",
           "lat": [
            10.4030368
           ],
           "legendgroup": "Tiền Giang",
           "lon": [
            106.361633
           ],
           "marker": {
            "color": "#FFA15A",
            "size": [
             10
            ],
            "sizemode": "area",
            "sizeref": 3.3,
            "symbol": "circle"
           },
           "mode": "markers",
           "name": "Tiền Giang",
           "showlegend": true,
           "type": "scattergeo"
          },
          {
           "geo": "geo",
           "hovertemplate": "Doi tac=Yên Bái<br>Nam=2018<br>So du an cap moi=%{marker.size}<br>latitude=%{lat}<br>longitude=%{lon}<extra></extra>",
           "lat": [
            21.69611
           ],
           "legendgroup": "Yên Bái",
           "lon": [
            104.8752392
           ],
           "marker": {
            "color": "#19d3f3",
            "size": [
             1
            ],
            "sizemode": "area",
            "sizeref": 3.3,
            "symbol": "circle"
           },
           "mode": "markers",
           "name": "Yên Bái",
           "showlegend": true,
           "type": "scattergeo"
          },
          {
           "geo": "geo",
           "hovertemplate": "Doi tac=Nam Định<br>Nam=2018<br>So du an cap moi=%{marker.size}<br>latitude=%{lat}<br>longitude=%{lon}<extra></extra>",
           "lat": [
            20.2686476
           ],
           "legendgroup": "Nam Định",
           "lon": [
            106.2289075
           ],
           "marker": {
            "color": "#FF6692",
            "size": [
             15
            ],
            "sizemode": "area",
            "sizeref": 3.3,
            "symbol": "circle"
           },
           "mode": "markers",
           "name": "Nam Định",
           "showlegend": true,
           "type": "scattergeo"
          },
          {
           "geo": "geo",
           "hovertemplate": "Doi tac=An Giang<br>Nam=2018<br>So du an cap moi=%{marker.size}<br>latitude=%{lat}<br>longitude=%{lon}<extra></extra>",
           "lat": [
            10.5392057
           ],
           "legendgroup": "An Giang",
           "lon": [
            105.2312822
           ],
           "marker": {
            "color": "#B6E880",
            "size": [
             2
            ],
            "sizemode": "area",
            "sizeref": 3.3,
            "symbol": "circle"
           },
           "mode": "markers",
           "name": "An Giang",
           "showlegend": true,
           "type": "scattergeo"
          },
          {
           "geo": "geo",
           "hovertemplate": "Doi tac=Bình Định<br>Nam=2018<br>So du an cap moi=%{marker.size}<br>latitude=%{lat}<br>longitude=%{lon}<extra></extra>",
           "lat": [
            14.0779378
           ],
           "legendgroup": "Bình Định",
           "lon": [
            108.9898798
           ],
           "marker": {
            "color": "#FF97FF",
            "size": [
             9
            ],
            "sizemode": "area",
            "sizeref": 3.3,
            "symbol": "circle"
           },
           "mode": "markers",
           "name": "Bình Định",
           "showlegend": true,
           "type": "scattergeo"
          },
          {
           "geo": "geo",
           "hovertemplate": "Doi tac=Khánh Hòa<br>Nam=2018<br>So du an cap moi=%{marker.size}<br>latitude=%{lat}<br>longitude=%{lon}<extra></extra>",
           "lat": [
            12.2980751
           ],
           "legendgroup": "Khánh Hòa",
           "lon": [
            108.9950386
           ],
           "marker": {
            "color": "#FECB52",
            "size": [
             7
            ],
            "sizemode": "area",
            "sizeref": 3.3,
            "symbol": "circle"
           },
           "mode": "markers",
           "name": "Khánh Hòa",
           "showlegend": true,
           "type": "scattergeo"
          },
          {
           "geo": "geo",
           "hovertemplate": "Doi tac=Thái Bình<br>Nam=2018<br>So du an cap moi=%{marker.size}<br>latitude=%{lat}<br>longitude=%{lon}<extra></extra>",
           "lat": [
            20.5296832
           ],
           "legendgroup": "Thái Bình",
           "lon": [
            106.3876068
           ],
           "marker": {
            "color": "#636efa",
            "size": [
             6
            ],
            "sizemode": "area",
            "sizeref": 3.3,
            "symbol": "circle"
           },
           "mode": "markers",
           "name": "Thái Bình",
           "showlegend": true,
           "type": "scattergeo"
          },
          {
           "geo": "geo",
           "hovertemplate": "Doi tac=Đà Nẵng<br>Nam=2018<br>So du an cap moi=%{marker.size}<br>latitude=%{lat}<br>longitude=%{lon}<extra></extra>",
           "lat": [
            16.068
           ],
           "legendgroup": "Đà Nẵng",
           "lon": [
            108.212
           ],
           "marker": {
            "color": "#EF553B",
            "size": [
             102
            ],
            "sizemode": "area",
            "sizeref": 3.3,
            "symbol": "circle"
           },
           "mode": "markers",
           "name": "Đà Nẵng",
           "showlegend": true,
           "type": "scattergeo"
          },
          {
           "geo": "geo",
           "hovertemplate": "Doi tac=Thanh Hóa<br>Nam=2018<br>So du an cap moi=%{marker.size}<br>latitude=%{lat}<br>longitude=%{lon}<extra></extra>",
           "lat": [
            19.9781573
           ],
           "legendgroup": "Thanh Hóa",
           "lon": [
            105.4816107
           ],
           "marker": {
            "color": "#00cc96",
            "size": [
             16
            ],
            "sizemode": "area",
            "sizeref": 3.3,
            "symbol": "circle"
           },
           "mode": "markers",
           "name": "Thanh Hóa",
           "showlegend": true,
           "type": "scattergeo"
          },
          {
           "geo": "geo",
           "hovertemplate": "Doi tac=Ninh Bình<br>Nam=2018<br>So du an cap moi=%{marker.size}<br>latitude=%{lat}<br>longitude=%{lon}<extra></extra>",
           "lat": [
            20.2545421
           ],
           "legendgroup": "Ninh Bình",
           "lon": [
            105.9764854
           ],
           "marker": {
            "color": "#ab63fa",
            "size": [
             12
            ],
            "sizemode": "area",
            "sizeref": 3.3,
            "symbol": "circle"
           },
           "mode": "markers",
           "name": "Ninh Bình",
           "showlegend": true,
           "type": "scattergeo"
          },
          {
           "geo": "geo",
           "hovertemplate": "Doi tac=Phú Yên<br>Nam=2018<br>So du an cap moi=%{marker.size}<br>latitude=%{lat}<br>longitude=%{lon}<extra></extra>",
           "lat": [
            13.1912633
           ],
           "legendgroup": "Phú Yên",
           "lon": [
            109.1273678
           ],
           "marker": {
            "color": "#FFA15A",
            "size": [
             5
            ],
            "sizemode": "area",
            "sizeref": 3.3,
            "symbol": "circle"
           },
           "mode": "markers",
           "name": "Phú Yên",
           "showlegend": true,
           "type": "scattergeo"
          },
          {
           "geo": "geo",
           "hovertemplate": "Doi tac=Kiên Giang<br>Nam=2018<br>So du an cap moi=%{marker.size}<br>latitude=%{lat}<br>longitude=%{lon}<extra></extra>",
           "lat": [
            9.9904962
           ],
           "legendgroup": "Kiên Giang",
           "lon": [
            105.2435248
           ],
           "marker": {
            "color": "#19d3f3",
            "size": [
             4
            ],
            "sizemode": "area",
            "sizeref": 3.3,
            "symbol": "circle"
           },
           "mode": "markers",
           "name": "Kiên Giang",
           "showlegend": true,
           "type": "scattergeo"
          },
          {
           "geo": "geo",
           "hovertemplate": "Doi tac=Đăk Lăk<br>Nam=2018<br>So du an cap moi=%{marker.size}<br>latitude=%{lat}<br>longitude=%{lon}<extra></extra>",
           "lat": [
            12.8292274
           ],
           "legendgroup": "Đăk Lăk",
           "lon": [
            108.2999058
           ],
           "marker": {
            "color": "#FF6692",
            "size": [
             2
            ],
            "sizemode": "area",
            "sizeref": 3.3,
            "symbol": "circle"
           },
           "mode": "markers",
           "name": "Đăk Lăk",
           "showlegend": true,
           "type": "scattergeo"
          },
          {
           "geo": "geo",
           "hovertemplate": "Doi tac=Quảng Bình<br>Nam=2018<br>So du an cap moi=%{marker.size}<br>latitude=%{lat}<br>longitude=%{lon}<extra></extra>",
           "lat": [
            17.509599
           ],
           "legendgroup": "Quảng Bình",
           "lon": [
            106.4004452
           ],
           "marker": {
            "color": "#B6E880",
            "size": [
             2
            ],
            "sizemode": "area",
            "sizeref": 3.3,
            "symbol": "circle"
           },
           "mode": "markers",
           "name": "Quảng Bình",
           "showlegend": true,
           "type": "scattergeo"
          },
          {
           "geo": "geo",
           "hovertemplate": "Doi tac=Bình Thuận<br>Nam=2018<br>So du an cap moi=%{marker.size}<br>latitude=%{lat}<br>longitude=%{lon}<extra></extra>",
           "lat": [
            11.1041572
           ],
           "legendgroup": "Bình Thuận",
           "lon": [
            108.1832931
           ],
           "marker": {
            "color": "#FF97FF",
            "size": [
             1
            ],
            "sizemode": "area",
            "sizeref": 3.3,
            "symbol": "circle"
           },
           "mode": "markers",
           "name": "Bình Thuận",
           "showlegend": true,
           "type": "scattergeo"
          },
          {
           "geo": "geo",
           "hovertemplate": "Doi tac=Hậu Giang<br>Nam=2018<br>So du an cap moi=%{marker.size}<br>latitude=%{lat}<br>longitude=%{lon}<extra></extra>",
           "lat": [
            9.7985063
           ],
           "legendgroup": "Hậu Giang",
           "lon": [
            105.6379524
           ],
           "marker": {
            "color": "#FECB52",
            "size": [
             1
            ],
            "sizemode": "area",
            "sizeref": 3.3,
            "symbol": "circle"
           },
           "mode": "markers",
           "name": "Hậu Giang",
           "showlegend": true,
           "type": "scattergeo"
          },
          {
           "geo": "geo",
           "hovertemplate": "Doi tac=Quảng Ngãi<br>Nam=2018<br>So du an cap moi=%{marker.size}<br>latitude=%{lat}<br>longitude=%{lon}<extra></extra>",
           "lat": [
            14.9953739
           ],
           "legendgroup": "Quảng Ngãi",
           "lon": [
            108.691729
           ],
           "marker": {
            "color": "#636efa",
            "size": [
             14
            ],
            "sizemode": "area",
            "sizeref": 3.3,
            "symbol": "circle"
           },
           "mode": "markers",
           "name": "Quảng Ngãi",
           "showlegend": true,
           "type": "scattergeo"
          },
          {
           "geo": "geo",
           "hovertemplate": "Doi tac=Cần Thơ<br>Nam=2018<br>So du an cap moi=%{marker.size}<br>latitude=%{lat}<br>longitude=%{lon}<extra></extra>",
           "lat": [
            10.0364216
           ],
           "legendgroup": "Cần Thơ",
           "lon": [
            105.7875219
           ],
           "marker": {
            "color": "#EF553B",
            "size": [
             6
            ],
            "sizemode": "area",
            "sizeref": 3.3,
            "symbol": "circle"
           },
           "mode": "markers",
           "name": "Cần Thơ",
           "showlegend": true,
           "type": "scattergeo"
          },
          {
           "geo": "geo",
           "hovertemplate": "Doi tac=Vĩnh Long<br>Nam=2018<br>So du an cap moi=%{marker.size}<br>latitude=%{lat}<br>longitude=%{lon}<extra></extra>",
           "lat": [
            10.1203043
           ],
           "legendgroup": "Vĩnh Long",
           "lon": [
            106.0125705
           ],
           "marker": {
            "color": "#00cc96",
            "size": [
             11
            ],
            "sizemode": "area",
            "sizeref": 3.3,
            "symbol": "circle"
           },
           "mode": "markers",
           "name": "Vĩnh Long",
           "showlegend": true,
           "type": "scattergeo"
          },
          {
           "geo": "geo",
           "hovertemplate": "Doi tac=Đồng Tháp<br>Nam=2018<br>So du an cap moi=%{marker.size}<br>latitude=%{lat}<br>longitude=%{lon}<extra></extra>",
           "lat": [
            10.590424
           ],
           "legendgroup": "Đồng Tháp",
           "lon": [
            105.6802341
           ],
           "marker": {
            "color": "#ab63fa",
            "size": [
             1
            ],
            "sizemode": "area",
            "sizeref": 3.3,
            "symbol": "circle"
           },
           "mode": "markers",
           "name": "Đồng Tháp",
           "showlegend": true,
           "type": "scattergeo"
          },
          {
           "geo": "geo",
           "hovertemplate": "Doi tac=Lâm Đồng<br>Nam=2018<br>So du an cap moi=%{marker.size}<br>latitude=%{lat}<br>longitude=%{lon}<extra></extra>",
           "lat": [
            11.6614957
           ],
           "legendgroup": "Lâm Đồng",
           "lon": [
            108.1335279
           ],
           "marker": {
            "color": "#FFA15A",
            "size": [
             2
            ],
            "sizemode": "area",
            "sizeref": 3.3,
            "symbol": "circle"
           },
           "mode": "markers",
           "name": "Lâm Đồng",
           "showlegend": true,
           "type": "scattergeo"
          },
          {
           "geo": "geo",
           "hovertemplate": "Doi tac=Sóc Trăng<br>Nam=2018<br>So du an cap moi=%{marker.size}<br>latitude=%{lat}<br>longitude=%{lon}<extra></extra>",
           "lat": [
            9.5628369
           ],
           "legendgroup": "Sóc Trăng",
           "lon": [
            105.9493991
           ],
           "marker": {
            "color": "#19d3f3",
            "size": [
             3
            ],
            "sizemode": "area",
            "sizeref": 3.3,
            "symbol": "circle"
           },
           "mode": "markers",
           "name": "Sóc Trăng",
           "showlegend": true,
           "type": "scattergeo"
          },
          {
           "geo": "geo",
           "hovertemplate": "Doi tac=Bạc Liêu<br>Nam=2018<br>So du an cap moi=%{marker.size}<br>latitude=%{lat}<br>longitude=%{lon}<extra></extra>",
           "lat": [
            9.3298341
           ],
           "legendgroup": "Bạc Liêu",
           "lon": [
            105.509946
           ],
           "marker": {
            "color": "#FF6692",
            "size": [
             1
            ],
            "sizemode": "area",
            "sizeref": 3.3,
            "symbol": "circle"
           },
           "mode": "markers",
           "name": "Bạc Liêu",
           "showlegend": true,
           "type": "scattergeo"
          },
          {
           "geo": "geo",
           "hovertemplate": "Doi tac=Tuyên Quang<br>Nam=2018<br>So du an cap moi=%{marker.size}<br>latitude=%{lat}<br>longitude=%{lon}<extra></extra>",
           "lat": [
            22.0747798
           ],
           "legendgroup": "Tuyên Quang",
           "lon": [
            105.258411
           ],
           "marker": {
            "color": "#B6E880",
            "size": [
             1
            ],
            "sizemode": "area",
            "sizeref": 3.3,
            "symbol": "circle"
           },
           "mode": "markers",
           "name": "Tuyên Quang",
           "showlegend": true,
           "type": "scattergeo"
          },
          {
           "geo": "geo",
           "hovertemplate": "Doi tac=Hòa Bình<br>Nam=2018<br>So du an cap moi=%{marker.size}<br>latitude=%{lat}<br>longitude=%{lon}<extra></extra>",
           "lat": [
            20.6763365
           ],
           "legendgroup": "Hòa Bình",
           "lon": [
            105.3759952
           ],
           "marker": {
            "color": "#FF97FF",
            "size": [
             2
            ],
            "sizemode": "area",
            "sizeref": 3.3,
            "symbol": "circle"
           },
           "mode": "markers",
           "name": "Hòa Bình",
           "showlegend": true,
           "type": "scattergeo"
          },
          {
           "geo": "geo",
           "hovertemplate": "Doi tac=Ninh Thuận<br>Nam=2018<br>So du an cap moi=%{marker.size}<br>latitude=%{lat}<br>longitude=%{lon}<extra></extra>",
           "lat": [
            11.6965639
           ],
           "legendgroup": "Ninh Thuận",
           "lon": [
            108.8928476
           ],
           "marker": {
            "color": "#FECB52",
            "size": [
             8
            ],
            "sizemode": "area",
            "sizeref": 3.3,
            "symbol": "circle"
           },
           "mode": "markers",
           "name": "Ninh Thuận",
           "showlegend": true,
           "type": "scattergeo"
          },
          {
           "geo": "geo",
           "hovertemplate": "Doi tac=Bắc Kạn<br>Nam=2018<br>So du an cap moi=%{marker.size}<br>latitude=%{lat}<br>longitude=%{lon}<extra></extra>",
           "lat": [
            22.2571701
           ],
           "legendgroup": "Bắc Kạn",
           "lon": [
            105.8204437
           ],
           "marker": {
            "color": "#636efa",
            "size": [
             1
            ],
            "sizemode": "area",
            "sizeref": 3.3,
            "symbol": "circle"
           },
           "mode": "markers",
           "name": "Bắc Kạn",
           "showlegend": true,
           "type": "scattergeo"
          },
          {
           "geo": "geo",
           "hovertemplate": "Doi tac=Lào Cai<br>Nam=2018<br>So du an cap moi=%{marker.size}<br>latitude=%{lat}<br>longitude=%{lon}<extra></extra>",
           "lat": [
            22.3069302
           ],
           "legendgroup": "Lào Cai",
           "lon": [
            104.1829592
           ],
           "marker": {
            "color": "#00cc96",
            "size": [
             1
            ],
            "sizemode": "area",
            "sizeref": 3.3,
            "symbol": "circle"
           },
           "mode": "markers",
           "name": "Lào Cai",
           "showlegend": true,
           "type": "scattergeo"
          },
          {
           "geo": "geo",
           "hovertemplate": "Doi tac=Hà Giang<br>Nam=2018<br>So du an cap moi=%{marker.size}<br>latitude=%{lat}<br>longitude=%{lon}<extra></extra>",
           "lat": [
            22.7336097
           ],
           "legendgroup": "Hà Giang",
           "lon": [
            105.0027271
           ],
           "marker": {
            "color": "#ab63fa",
            "size": [
             2
            ],
            "sizemode": "area",
            "sizeref": 3.3,
            "symbol": "circle"
           },
           "mode": "markers",
           "name": "Hà Giang",
           "showlegend": true,
           "type": "scattergeo"
          },
          {
           "geo": "geo",
           "hovertemplate": "Doi tac=Lạng Sơn<br>Nam=2018<br>So du an cap moi=%{marker.size}<br>latitude=%{lat}<br>longitude=%{lon}<extra></extra>",
           "lat": [
            21.7773599
           ],
           "legendgroup": "Lạng Sơn",
           "lon": [
            106.740412
           ],
           "marker": {
            "color": "#FFA15A",
            "size": [
             1
            ],
            "sizemode": "area",
            "sizeref": 3.3,
            "symbol": "circle"
           },
           "mode": "markers",
           "name": "Lạng Sơn",
           "showlegend": true,
           "type": "scattergeo"
          },
          {
           "geo": "geo",
           "hovertemplate": "Doi tac=Kon Tum<br>Nam=2018<br>So du an cap moi=%{marker.size}<br>latitude=%{lat}<br>longitude=%{lon}<extra></extra>",
           "lat": [
            14.6995372
           ],
           "legendgroup": "Kon Tum",
           "lon": [
            107.9323831
           ],
           "marker": {
            "color": "#19d3f3",
            "size": [
             1
            ],
            "sizemode": "area",
            "sizeref": 3.3,
            "symbol": "circle"
           },
           "mode": "markers",
           "name": "Kon Tum",
           "showlegend": true,
           "type": "scattergeo"
          },
          {
           "geo": "geo",
           "hovertemplate": "Doi tac=Quảng Trị<br>Nam=2018<br>So du an cap moi=%{marker.size}<br>latitude=%{lat}<br>longitude=%{lon}<extra></extra>",
           "lat": [
            16.7897806
           ],
           "legendgroup": "Quảng Trị",
           "lon": [
            106.9797431
           ],
           "marker": {
            "color": "#FF6692",
            "size": [
             1
            ],
            "sizemode": "area",
            "sizeref": 3.3,
            "symbol": "circle"
           },
           "mode": "markers",
           "name": "Quảng Trị",
           "showlegend": true,
           "type": "scattergeo"
          },
          {
           "geo": "geo",
           "hovertemplate": "Doi tac=Đăk Nông<br>Nam=2018<br>So du an cap moi=%{marker.size}<br>latitude=%{lat}<br>longitude=%{lon}<extra></extra>",
           "lat": [
            12.2818851
           ],
           "legendgroup": "Đăk Nông",
           "lon": [
            107.7302484
           ],
           "marker": {
            "color": "#B6E880",
            "size": [
             1
            ],
            "sizemode": "area",
            "sizeref": 3.3,
            "symbol": "circle"
           },
           "mode": "markers",
           "name": "Đăk Nông",
           "showlegend": true,
           "type": "scattergeo"
          },
          {
           "geo": "geo",
           "hovertemplate": "Doi tac=Cà Mau<br>Nam=2018<br>So du an cap moi=%{marker.size}<br>latitude=%{lat}<br>longitude=%{lon}<extra></extra>",
           "lat": [
            9.0180177
           ],
           "legendgroup": "Cà Mau",
           "lon": [
            105.0869724
           ],
           "marker": {
            "color": "#FECB52",
            "size": [
             2
            ],
            "sizemode": "area",
            "sizeref": 3.3,
            "symbol": "circle"
           },
           "mode": "markers",
           "name": "Cà Mau",
           "showlegend": true,
           "type": "scattergeo"
          },
          {
           "geo": "geo",
           "hovertemplate": "Doi tac=Sơn La<br>Nam=2018<br>So du an cap moi=%{marker.size}<br>latitude=%{lat}<br>longitude=%{lon}<extra></extra>",
           "lat": [
            21.2276769
           ],
           "legendgroup": "Sơn La",
           "lon": [
            104.1575944
           ],
           "marker": {
            "color": "#636efa",
            "size": [
             1
            ],
            "sizemode": "area",
            "sizeref": 3.3,
            "symbol": "circle"
           },
           "mode": "markers",
           "name": "Sơn La",
           "showlegend": true,
           "type": "scattergeo"
          }
         ],
         "name": "2018"
        },
        {
         "data": [
          {
           "geo": "geo",
           "hovertemplate": "Doi tac=Bắc Ninh<br>Nam=2019<br>So du an cap moi=%{marker.size}<br>latitude=%{lat}<br>longitude=%{lon}<extra></extra>",
           "lat": [
            21.0955822
           ],
           "legendgroup": "Bắc Ninh",
           "lon": [
            106.1264766
           ],
           "marker": {
            "color": "#636efa",
            "size": [
             247
            ],
            "sizemode": "area",
            "sizeref": 3.3,
            "symbol": "circle"
           },
           "mode": "markers",
           "name": "Bắc Ninh",
           "showlegend": true,
           "type": "scattergeo"
          },
          {
           "geo": "geo",
           "hovertemplate": "Doi tac=TP. Hồ Chí Minh<br>Nam=2019<br>So du an cap moi=%{marker.size}<br>latitude=%{lat}<br>longitude=%{lon}<extra></extra>",
           "lat": [
            10.7763897
           ],
           "legendgroup": "TP. Hồ Chí Minh",
           "lon": [
            106.7011391
           ],
           "marker": {
            "color": "#EF553B",
            "size": [
             1320
            ],
            "sizemode": "area",
            "sizeref": 3.3,
            "symbol": "circle"
           },
           "mode": "markers",
           "name": "TP. Hồ Chí Minh",
           "showlegend": true,
           "type": "scattergeo"
          },
          {
           "geo": "geo",
           "hovertemplate": "Doi tac=Bình Dương<br>Nam=2019<br>So du an cap moi=%{marker.size}<br>latitude=%{lat}<br>longitude=%{lon}<extra></extra>",
           "lat": [
            11.1836551
           ],
           "legendgroup": "Bình Dương",
           "lon": [
            106.7031737
           ],
           "marker": {
            "color": "#00cc96",
            "size": [
             243
            ],
            "sizemode": "area",
            "sizeref": 3.3,
            "symbol": "circle"
           },
           "mode": "markers",
           "name": "Bình Dương",
           "showlegend": true,
           "type": "scattergeo"
          },
          {
           "geo": "geo",
           "hovertemplate": "Doi tac=Trà Vinh<br>Nam=2019<br>So du an cap moi=%{marker.size}<br>latitude=%{lat}<br>longitude=%{lon}<extra></extra>",
           "lat": [
            9.8037998
           ],
           "legendgroup": "Trà Vinh",
           "lon": [
            106.3256808
           ],
           "marker": {
            "color": "#ab63fa",
            "size": [
             4
            ],
            "sizemode": "area",
            "sizeref": 3.3,
            "symbol": "circle"
           },
           "mode": "markers",
           "name": "Trà Vinh",
           "showlegend": true,
           "type": "scattergeo"
          },
          {
           "geo": "geo",
           "hovertemplate": "Doi tac=Đồng Nai<br>Nam=2019<br>So du an cap moi=%{marker.size}<br>latitude=%{lat}<br>longitude=%{lon}<extra></extra>",
           "lat": [
            11.0355624
           ],
           "legendgroup": "Đồng Nai",
           "lon": [
            107.1881076
           ],
           "marker": {
            "color": "#FFA15A",
            "size": [
             121
            ],
            "sizemode": "area",
            "sizeref": 3.3,
            "symbol": "circle"
           },
           "mode": "markers",
           "name": "Đồng Nai",
           "showlegend": true,
           "type": "scattergeo"
          },
          {
           "geo": "geo",
           "hovertemplate": "Doi tac=Hà Nội<br>Nam=2019<br>So du an cap moi=%{marker.size}<br>latitude=%{lat}<br>longitude=%{lon}<extra></extra>",
           "lat": [
            21.0283207
           ],
           "legendgroup": "Hà Nội",
           "lon": [
            105.8540217
           ],
           "marker": {
            "color": "#19d3f3",
            "size": [
             879
            ],
            "sizemode": "area",
            "sizeref": 3.3,
            "symbol": "circle"
           },
           "mode": "markers",
           "name": "Hà Nội",
           "showlegend": true,
           "type": "scattergeo"
          },
          {
           "geo": "geo",
           "hovertemplate": "Doi tac=Hải Phòng<br>Nam=2019<br>So du an cap moi=%{marker.size}<br>latitude=%{lat}<br>longitude=%{lon}<extra></extra>",
           "lat": [
            20.858864
           ],
           "legendgroup": "Hải Phòng",
           "lon": [
            106.6749591
           ],
           "marker": {
            "color": "#FF6692",
            "size": [
             87
            ],
            "sizemode": "area",
            "sizeref": 3.3,
            "symbol": "circle"
           },
           "mode": "markers",
           "name": "Hải Phòng",
           "showlegend": true,
           "type": "scattergeo"
          },
          {
           "geo": "geo",
           "hovertemplate": "Doi tac=Bà Rịa - Vũng Tàu<br>Nam=2019<br>So du an cap moi=%{marker.size}<br>latitude=%{lat}<br>longitude=%{lon}<extra></extra>",
           "lat": [
            10.5738801
           ],
           "legendgroup": "Bà Rịa - Vũng Tàu",
           "lon": [
            107.3284362
           ],
           "marker": {
            "color": "#B6E880",
            "size": [
             49
            ],
            "sizemode": "area",
            "sizeref": 3.3,
            "symbol": "circle"
           },
           "mode": "markers",
           "name": "Bà Rịa - Vũng Tàu",
           "showlegend": true,
           "type": "scattergeo"
          },
          {
           "geo": "geo",
           "hovertemplate": "Doi tac=Long An<br>Nam=2019<br>So du an cap moi=%{marker.size}<br>latitude=%{lat}<br>longitude=%{lon}<extra></extra>",
           "lat": [
            10.6983968
           ],
           "legendgroup": "Long An",
           "lon": [
            106.1883517
           ],
           "marker": {
            "color": "#FF97FF",
            "size": [
             146
            ],
            "sizemode": "area",
            "sizeref": 3.3,
            "symbol": "circle"
           },
           "mode": "markers",
           "name": "Long An",
           "showlegend": true,
           "type": "scattergeo"
          },
          {
           "geo": "geo",
           "hovertemplate": "Doi tac=Tây Ninh<br>Nam=2019<br>So du an cap moi=%{marker.size}<br>latitude=%{lat}<br>longitude=%{lon}<extra></extra>",
           "lat": [
            11.4019366
           ],
           "legendgroup": "Tây Ninh",
           "lon": [
            106.1626927
           ],
           "marker": {
            "color": "#FECB52",
            "size": [
             35
            ],
            "sizemode": "area",
            "sizeref": 3.3,
            "symbol": "circle"
           },
           "mode": "markers",
           "name": "Tây Ninh",
           "showlegend": true,
           "type": "scattergeo"
          },
          {
           "geo": "geo",
           "hovertemplate": "Doi tac=Hải Dương<br>Nam=2019<br>So du an cap moi=%{marker.size}<br>latitude=%{lat}<br>longitude=%{lon}<extra></extra>",
           "lat": [
            20.8930571
           ],
           "legendgroup": "Hải Dương",
           "lon": [
            106.3725441
           ],
           "marker": {
            "color": "#636efa",
            "size": [
             67
            ],
            "sizemode": "area",
            "sizeref": 3.3,
            "symbol": "circle"
           },
           "mode": "markers",
           "name": "Hải Dương",
           "showlegend": true,
           "type": "scattergeo"
          },
          {
           "geo": "geo",
           "hovertemplate": "Doi tac=Bắc Giang<br>Nam=2019<br>So du an cap moi=%{marker.size}<br>latitude=%{lat}<br>longitude=%{lon}<extra></extra>",
           "lat": [
            21.3169625
           ],
           "legendgroup": "Bắc Giang",
           "lon": [
            106.437985
           ],
           "marker": {
            "color": "#EF553B",
            "size": [
             76
            ],
            "sizemode": "area",
            "sizeref": 3.3,
            "symbol": "circle"
           },
           "mode": "markers",
           "name": "Bắc Giang",
           "showlegend": true,
           "type": "scattergeo"
          },
          {
           "geo": "geo",
           "hovertemplate": "Doi tac=Quảng Ninh<br>Nam=2019<br>So du an cap moi=%{marker.size}<br>latitude=%{lat}<br>longitude=%{lon}<extra></extra>",
           "lat": [
            21.1718046
           ],
           "legendgroup": "Quảng Ninh",
           "lon": [
            107.2012742
           ],
           "marker": {
            "color": "#00cc96",
            "size": [
             16
            ],
            "sizemode": "area",
            "sizeref": 3.3,
            "symbol": "circle"
           },
           "mode": "markers",
           "name": "Quảng Ninh",
           "showlegend": true,
           "type": "scattergeo"
          },
          {
           "geo": "geo",
           "hovertemplate": "Doi tac=Vĩnh Phúc<br>Nam=2019<br>So du an cap moi=%{marker.size}<br>latitude=%{lat}<br>longitude=%{lon}<extra></extra>",
           "lat": [
            21.3778689
           ],
           "legendgroup": "Vĩnh Phúc",
           "lon": [
            105.5758286
           ],
           "marker": {
            "color": "#ab63fa",
            "size": [
             60
            ],
            "sizemode": "area",
            "sizeref": 3.3,
            "symbol": "circle"
           },
           "mode": "markers",
           "name": "Vĩnh Phúc",
           "showlegend": true,
           "type": "scattergeo"
          },
          {
           "geo": "geo",
           "hovertemplate": "Doi tac=Hà Nam<br>Nam=2019<br>So du an cap moi=%{marker.size}<br>latitude=%{lat}<br>longitude=%{lon}<extra></extra>",
           "lat": [
            34.0000001
           ],
           "legendgroup": "Hà Nam",
           "lon": [
            113.9999999
           ],
           "marker": {
            "color": "#FFA15A",
            "size": [
             61
            ],
            "sizemode": "area",
            "sizeref": 3.3,
            "symbol": "circle"
           },
           "mode": "markers",
           "name": "Hà Nam",
           "showlegend": true,
           "type": "scattergeo"
          },
          {
           "geo": "geo",
           "hovertemplate": "Doi tac=Hưng Yên<br>Nam=2019<br>So du an cap moi=%{marker.size}<br>latitude=%{lat}<br>longitude=%{lon}<extra></extra>",
           "lat": [
            20.7833912
           ],
           "legendgroup": "Hưng Yên",
           "lon": [
            106.0699025
           ],
           "marker": {
            "color": "#19d3f3",
            "size": [
             44
            ],
            "sizemode": "area",
            "sizeref": 3.3,
            "symbol": "circle"
           },
           "mode": "markers",
           "name": "Hưng Yên",
           "showlegend": true,
           "type": "scattergeo"
          },
          {
           "geo": "geo",
           "hovertemplate": "Doi tac=Bình Phước<br>Nam=2019<br>So du an cap moi=%{marker.size}<br>latitude=%{lat}<br>longitude=%{lon}<extra></extra>",
           "lat": [
            11.7332484
           ],
           "legendgroup": "Bình Phước",
           "lon": [
            106.906249
           ],
           "marker": {
            "color": "#FF6692",
            "size": [
             41
            ],
            "sizemode": "area",
            "sizeref": 3.3,
            "symbol": "circle"
           },
           "mode": "markers",
           "name": "Bình Phước",
           "showlegend": true,
           "type": "scattergeo"
          },
          {
           "geo": "geo",
           "hovertemplate": "Doi tac=Quảng Nam<br>Nam=2019<br>So du an cap moi=%{marker.size}<br>latitude=%{lat}<br>longitude=%{lon}<extra></extra>",
           "lat": [
            15.5761698
           ],
           "legendgroup": "Quảng Nam",
           "lon": [
            108.0527132
           ],
           "marker": {
            "color": "#B6E880",
            "size": [
             26
            ],
            "sizemode": "area",
            "sizeref": 3.3,
            "symbol": "circle"
           },
           "mode": "markers",
           "name": "Quảng Nam",
           "showlegend": true,
           "type": "scattergeo"
          },
          {
           "geo": "geo",
           "hovertemplate": "Doi tac=Thái Nguyên<br>Nam=2019<br>So du an cap moi=%{marker.size}<br>latitude=%{lat}<br>longitude=%{lon}<extra></extra>",
           "lat": [
            21.592477
           ],
           "legendgroup": "Thái Nguyên",
           "lon": [
            105.8435398
           ],
           "marker": {
            "color": "#FF97FF",
            "size": [
             18
            ],
            "sizemode": "area",
            "sizeref": 3.3,
            "symbol": "circle"
           },
           "mode": "markers",
           "name": "Thái Nguyên",
           "showlegend": true,
           "type": "scattergeo"
          },
          {
           "geo": "geo",
           "hovertemplate": "Doi tac=Nghệ An<br>Nam=2019<br>So du an cap moi=%{marker.size}<br>latitude=%{lat}<br>longitude=%{lon}<extra></extra>",
           "lat": [
            19.1976001
           ],
           "legendgroup": "Nghệ An",
           "lon": [
            105.060676
           ],
           "marker": {
            "color": "#FECB52",
            "size": [
             11
            ],
            "sizemode": "area",
            "sizeref": 3.3,
            "symbol": "circle"
           },
           "mode": "markers",
           "name": "Nghệ An",
           "showlegend": true,
           "type": "scattergeo"
          },
          {
           "geo": "geo",
           "hovertemplate": "Doi tac=Bến Tre<br>Nam=2019<br>So du an cap moi=%{marker.size}<br>latitude=%{lat}<br>longitude=%{lon}<extra></extra>",
           "lat": [
            10.1093637
           ],
           "legendgroup": "Bến Tre",
           "lon": [
            106.4811559
           ],
           "marker": {
            "color": "#636efa",
            "size": [
             3
            ],
            "sizemode": "area",
            "sizeref": 3.3,
            "symbol": "circle"
           },
           "mode": "markers",
           "name": "Bến Tre",
           "showlegend": true,
           "type": "scattergeo"
          },
          {
           "geo": "geo",
           "hovertemplate": "Doi tac=Hà Tĩnh<br>Nam=2019<br>So du an cap moi=%{marker.size}<br>latitude=%{lat}<br>longitude=%{lon}<extra></extra>",
           "lat": [
            18.3504832
           ],
           "legendgroup": "Hà Tĩnh",
           "lon": [
            105.7623047
           ],
           "marker": {
            "color": "#EF553B",
            "size": [
             7
            ],
            "sizemode": "area",
            "sizeref": 3.3,
            "symbol": "circle"
           },
           "mode": "markers",
           "name": "Hà Tĩnh",
           "showlegend": true,
           "type": "scattergeo"
          },
          {
           "geo": "geo",
           "hovertemplate": "Doi tac=Thừa Thiên Huế<br>Nam=2019<br>So du an cap moi=%{marker.size}<br>latitude=%{lat}<br>longitude=%{lon}<extra></extra>",
           "lat": [
            16.3480798
           ],
           "legendgroup": "Thừa Thiên Huế",
           "lon": [
            107.5398913
           ],
           "marker": {
            "color": "#00cc96",
            "size": [
             12
            ],
            "sizemode": "area",
            "sizeref": 3.3,
            "symbol": "circle"
           },
           "mode": "markers",
           "name": "Thừa Thiên Huế",
           "showlegend": true,
           "type": "scattergeo"
          },
          {
           "geo": "geo",
           "hovertemplate": "Doi tac=Phú Thọ<br>Nam=2019<br>So du an cap moi=%{marker.size}<br>latitude=%{lat}<br>longitude=%{lon}<extra></extra>",
           "lat": [
            21.3007538
           ],
           "legendgroup": "Phú Thọ",
           "lon": [
            105.1349604
           ],
           "marker": {
            "color": "#ab63fa",
            "size": [
             33
            ],
            "sizemode": "area",
            "sizeref": 3.3,
            "symbol": "circle"
           },
           "mode": "markers",
           "name": "Phú Thọ",
           "showlegend": true,
           "type": "scattergeo"
          },
          {
           "geo": "geo",
           "hovertemplate": "Doi tac=Tiền Giang<br>Nam=2019<br>So du an cap moi=%{marker.size}<br>latitude=%{lat}<br>longitude=%{lon}<extra></extra>",
           "lat": [
            10.4030368
           ],
           "legendgroup": "Tiền Giang",
           "lon": [
            106.361633
           ],
           "marker": {
            "color": "#FFA15A",
            "size": [
             4
            ],
            "sizemode": "area",
            "sizeref": 3.3,
            "symbol": "circle"
           },
           "mode": "markers",
           "name": "Tiền Giang",
           "showlegend": true,
           "type": "scattergeo"
          },
          {
           "geo": "geo",
           "hovertemplate": "Doi tac=Yên Bái<br>Nam=2019<br>So du an cap moi=%{marker.size}<br>latitude=%{lat}<br>longitude=%{lon}<extra></extra>",
           "lat": [
            21.69611
           ],
           "legendgroup": "Yên Bái",
           "lon": [
            104.8752392
           ],
           "marker": {
            "color": "#19d3f3",
            "size": [
             3
            ],
            "sizemode": "area",
            "sizeref": 3.3,
            "symbol": "circle"
           },
           "mode": "markers",
           "name": "Yên Bái",
           "showlegend": true,
           "type": "scattergeo"
          },
          {
           "geo": "geo",
           "hovertemplate": "Doi tac=Nam Định<br>Nam=2019<br>So du an cap moi=%{marker.size}<br>latitude=%{lat}<br>longitude=%{lon}<extra></extra>",
           "lat": [
            20.2686476
           ],
           "legendgroup": "Nam Định",
           "lon": [
            106.2289075
           ],
           "marker": {
            "color": "#FF6692",
            "size": [
             9
            ],
            "sizemode": "area",
            "sizeref": 3.3,
            "symbol": "circle"
           },
           "mode": "markers",
           "name": "Nam Định",
           "showlegend": true,
           "type": "scattergeo"
          },
          {
           "geo": "geo",
           "hovertemplate": "Doi tac=An Giang<br>Nam=2019<br>So du an cap moi=%{marker.size}<br>latitude=%{lat}<br>longitude=%{lon}<extra></extra>",
           "lat": [
            10.5392057
           ],
           "legendgroup": "An Giang",
           "lon": [
            105.2312822
           ],
           "marker": {
            "color": "#B6E880",
            "size": [
             2
            ],
            "sizemode": "area",
            "sizeref": 3.3,
            "symbol": "circle"
           },
           "mode": "markers",
           "name": "An Giang",
           "showlegend": true,
           "type": "scattergeo"
          },
          {
           "geo": "geo",
           "hovertemplate": "Doi tac=Bình Định<br>Nam=2019<br>So du an cap moi=%{marker.size}<br>latitude=%{lat}<br>longitude=%{lon}<extra></extra>",
           "lat": [
            14.0779378
           ],
           "legendgroup": "Bình Định",
           "lon": [
            108.9898798
           ],
           "marker": {
            "color": "#FF97FF",
            "size": [
             6
            ],
            "sizemode": "area",
            "sizeref": 3.3,
            "symbol": "circle"
           },
           "mode": "markers",
           "name": "Bình Định",
           "showlegend": true,
           "type": "scattergeo"
          },
          {
           "geo": "geo",
           "hovertemplate": "Doi tac=Khánh Hòa<br>Nam=2019<br>So du an cap moi=%{marker.size}<br>latitude=%{lat}<br>longitude=%{lon}<extra></extra>",
           "lat": [
            12.2980751
           ],
           "legendgroup": "Khánh Hòa",
           "lon": [
            108.9950386
           ],
           "marker": {
            "color": "#FECB52",
            "size": [
             8
            ],
            "sizemode": "area",
            "sizeref": 3.3,
            "symbol": "circle"
           },
           "mode": "markers",
           "name": "Khánh Hòa",
           "showlegend": true,
           "type": "scattergeo"
          },
          {
           "geo": "geo",
           "hovertemplate": "Doi tac=Thái Bình<br>Nam=2019<br>So du an cap moi=%{marker.size}<br>latitude=%{lat}<br>longitude=%{lon}<extra></extra>",
           "lat": [
            20.5296832
           ],
           "legendgroup": "Thái Bình",
           "lon": [
            106.3876068
           ],
           "marker": {
            "color": "#636efa",
            "size": [
             7
            ],
            "sizemode": "area",
            "sizeref": 3.3,
            "symbol": "circle"
           },
           "mode": "markers",
           "name": "Thái Bình",
           "showlegend": true,
           "type": "scattergeo"
          },
          {
           "geo": "geo",
           "hovertemplate": "Doi tac=Đà Nẵng<br>Nam=2019<br>So du an cap moi=%{marker.size}<br>latitude=%{lat}<br>longitude=%{lon}<extra></extra>",
           "lat": [
            16.068
           ],
           "legendgroup": "Đà Nẵng",
           "lon": [
            108.212
           ],
           "marker": {
            "color": "#EF553B",
            "size": [
             131
            ],
            "sizemode": "area",
            "sizeref": 3.3,
            "symbol": "circle"
           },
           "mode": "markers",
           "name": "Đà Nẵng",
           "showlegend": true,
           "type": "scattergeo"
          },
          {
           "geo": "geo",
           "hovertemplate": "Doi tac=Thanh Hóa<br>Nam=2019<br>So du an cap moi=%{marker.size}<br>latitude=%{lat}<br>longitude=%{lon}<extra></extra>",
           "lat": [
            19.9781573
           ],
           "legendgroup": "Thanh Hóa",
           "lon": [
            105.4816107
           ],
           "marker": {
            "color": "#00cc96",
            "size": [
             25
            ],
            "sizemode": "area",
            "sizeref": 3.3,
            "symbol": "circle"
           },
           "mode": "markers",
           "name": "Thanh Hóa",
           "showlegend": true,
           "type": "scattergeo"
          },
          {
           "geo": "geo",
           "hovertemplate": "Doi tac=Ninh Bình<br>Nam=2019<br>So du an cap moi=%{marker.size}<br>latitude=%{lat}<br>longitude=%{lon}<extra></extra>",
           "lat": [
            20.2545421
           ],
           "legendgroup": "Ninh Bình",
           "lon": [
            105.9764854
           ],
           "marker": {
            "color": "#ab63fa",
            "size": [
             7
            ],
            "sizemode": "area",
            "sizeref": 3.3,
            "symbol": "circle"
           },
           "mode": "markers",
           "name": "Ninh Bình",
           "showlegend": true,
           "type": "scattergeo"
          },
          {
           "geo": "geo",
           "hovertemplate": "Doi tac=Phú Yên<br>Nam=2019<br>So du an cap moi=%{marker.size}<br>latitude=%{lat}<br>longitude=%{lon}<extra></extra>",
           "lat": [
            13.1912633
           ],
           "legendgroup": "Phú Yên",
           "lon": [
            109.1273678
           ],
           "marker": {
            "color": "#FFA15A",
            "size": [
             1
            ],
            "sizemode": "area",
            "sizeref": 3.3,
            "symbol": "circle"
           },
           "mode": "markers",
           "name": "Phú Yên",
           "showlegend": true,
           "type": "scattergeo"
          },
          {
           "geo": "geo",
           "hovertemplate": "Doi tac=Kiên Giang<br>Nam=2019<br>So du an cap moi=%{marker.size}<br>latitude=%{lat}<br>longitude=%{lon}<extra></extra>",
           "lat": [
            9.9904962
           ],
           "legendgroup": "Kiên Giang",
           "lon": [
            105.2435248
           ],
           "marker": {
            "color": "#19d3f3",
            "size": [
             5
            ],
            "sizemode": "area",
            "sizeref": 3.3,
            "symbol": "circle"
           },
           "mode": "markers",
           "name": "Kiên Giang",
           "showlegend": true,
           "type": "scattergeo"
          },
          {
           "geo": "geo",
           "hovertemplate": "Doi tac=Đăk Lăk<br>Nam=2019<br>So du an cap moi=%{marker.size}<br>latitude=%{lat}<br>longitude=%{lon}<extra></extra>",
           "lat": [
            12.8292274
           ],
           "legendgroup": "Đăk Lăk",
           "lon": [
            108.2999058
           ],
           "marker": {
            "color": "#FF6692",
            "size": [
             1
            ],
            "sizemode": "area",
            "sizeref": 3.3,
            "symbol": "circle"
           },
           "mode": "markers",
           "name": "Đăk Lăk",
           "showlegend": true,
           "type": "scattergeo"
          },
          {
           "geo": "geo",
           "hovertemplate": "Doi tac=Quảng Bình<br>Nam=2019<br>So du an cap moi=%{marker.size}<br>latitude=%{lat}<br>longitude=%{lon}<extra></extra>",
           "lat": [
            17.509599
           ],
           "legendgroup": "Quảng Bình",
           "lon": [
            106.4004452
           ],
           "marker": {
            "color": "#B6E880",
            "size": [
             1
            ],
            "sizemode": "area",
            "sizeref": 3.3,
            "symbol": "circle"
           },
           "mode": "markers",
           "name": "Quảng Bình",
           "showlegend": true,
           "type": "scattergeo"
          },
          {
           "geo": "geo",
           "hovertemplate": "Doi tac=Bình Thuận<br>Nam=2019<br>So du an cap moi=%{marker.size}<br>latitude=%{lat}<br>longitude=%{lon}<extra></extra>",
           "lat": [
            11.1041572
           ],
           "legendgroup": "Bình Thuận",
           "lon": [
            108.1832931
           ],
           "marker": {
            "color": "#FF97FF",
            "size": [
             8
            ],
            "sizemode": "area",
            "sizeref": 3.3,
            "symbol": "circle"
           },
           "mode": "markers",
           "name": "Bình Thuận",
           "showlegend": true,
           "type": "scattergeo"
          },
          {
           "geo": "geo",
           "hovertemplate": "Doi tac=Hậu Giang<br>Nam=2019<br>So du an cap moi=%{marker.size}<br>latitude=%{lat}<br>longitude=%{lon}<extra></extra>",
           "lat": [
            9.7985063
           ],
           "legendgroup": "Hậu Giang",
           "lon": [
            105.6379524
           ],
           "marker": {
            "color": "#FECB52",
            "size": [
             2
            ],
            "sizemode": "area",
            "sizeref": 3.3,
            "symbol": "circle"
           },
           "mode": "markers",
           "name": "Hậu Giang",
           "showlegend": true,
           "type": "scattergeo"
          },
          {
           "geo": "geo",
           "hovertemplate": "Doi tac=Quảng Ngãi<br>Nam=2019<br>So du an cap moi=%{marker.size}<br>latitude=%{lat}<br>longitude=%{lon}<extra></extra>",
           "lat": [
            14.9953739
           ],
           "legendgroup": "Quảng Ngãi",
           "lon": [
            108.691729
           ],
           "marker": {
            "color": "#636efa",
            "size": [
             4
            ],
            "sizemode": "area",
            "sizeref": 3.3,
            "symbol": "circle"
           },
           "mode": "markers",
           "name": "Quảng Ngãi",
           "showlegend": true,
           "type": "scattergeo"
          },
          {
           "geo": "geo",
           "hovertemplate": "Doi tac=Cần Thơ<br>Nam=2019<br>So du an cap moi=%{marker.size}<br>latitude=%{lat}<br>longitude=%{lon}<extra></extra>",
           "lat": [
            10.0364216
           ],
           "legendgroup": "Cần Thơ",
           "lon": [
            105.7875219
           ],
           "marker": {
            "color": "#EF553B",
            "size": [
             7
            ],
            "sizemode": "area",
            "sizeref": 3.3,
            "symbol": "circle"
           },
           "mode": "markers",
           "name": "Cần Thơ",
           "showlegend": true,
           "type": "scattergeo"
          },
          {
           "geo": "geo",
           "hovertemplate": "Doi tac=Vĩnh Long<br>Nam=2019<br>So du an cap moi=%{marker.size}<br>latitude=%{lat}<br>longitude=%{lon}<extra></extra>",
           "lat": [
            10.1203043
           ],
           "legendgroup": "Vĩnh Long",
           "lon": [
            106.0125705
           ],
           "marker": {
            "color": "#00cc96",
            "size": [
             18
            ],
            "sizemode": "area",
            "sizeref": 3.3,
            "symbol": "circle"
           },
           "mode": "markers",
           "name": "Vĩnh Long",
           "showlegend": true,
           "type": "scattergeo"
          },
          {
           "geo": "geo",
           "hovertemplate": "Doi tac=Đồng Tháp<br>Nam=2019<br>So du an cap moi=%{marker.size}<br>latitude=%{lat}<br>longitude=%{lon}<extra></extra>",
           "lat": [
            10.590424
           ],
           "legendgroup": "Đồng Tháp",
           "lon": [
            105.6802341
           ],
           "marker": {
            "color": "#ab63fa",
            "size": [
             2
            ],
            "sizemode": "area",
            "sizeref": 3.3,
            "symbol": "circle"
           },
           "mode": "markers",
           "name": "Đồng Tháp",
           "showlegend": true,
           "type": "scattergeo"
          },
          {
           "geo": "geo",
           "hovertemplate": "Doi tac=Lâm Đồng<br>Nam=2019<br>So du an cap moi=%{marker.size}<br>latitude=%{lat}<br>longitude=%{lon}<extra></extra>",
           "lat": [
            11.6614957
           ],
           "legendgroup": "Lâm Đồng",
           "lon": [
            108.1335279
           ],
           "marker": {
            "color": "#FFA15A",
            "size": [
             3
            ],
            "sizemode": "area",
            "sizeref": 3.3,
            "symbol": "circle"
           },
           "mode": "markers",
           "name": "Lâm Đồng",
           "showlegend": true,
           "type": "scattergeo"
          },
          {
           "geo": "geo",
           "hovertemplate": "Doi tac=Sóc Trăng<br>Nam=2019<br>So du an cap moi=%{marker.size}<br>latitude=%{lat}<br>longitude=%{lon}<extra></extra>",
           "lat": [
            9.5628369
           ],
           "legendgroup": "Sóc Trăng",
           "lon": [
            105.9493991
           ],
           "marker": {
            "color": "#19d3f3",
            "size": [
             5
            ],
            "sizemode": "area",
            "sizeref": 3.3,
            "symbol": "circle"
           },
           "mode": "markers",
           "name": "Sóc Trăng",
           "showlegend": true,
           "type": "scattergeo"
          },
          {
           "geo": "geo",
           "hovertemplate": "Doi tac=Bạc Liêu<br>Nam=2019<br>So du an cap moi=%{marker.size}<br>latitude=%{lat}<br>longitude=%{lon}<extra></extra>",
           "lat": [
            9.3298341
           ],
           "legendgroup": "Bạc Liêu",
           "lon": [
            105.509946
           ],
           "marker": {
            "color": "#FF6692",
            "size": [
             2
            ],
            "sizemode": "area",
            "sizeref": 3.3,
            "symbol": "circle"
           },
           "mode": "markers",
           "name": "Bạc Liêu",
           "showlegend": true,
           "type": "scattergeo"
          },
          {
           "geo": "geo",
           "hovertemplate": "Doi tac=Tuyên Quang<br>Nam=2019<br>So du an cap moi=%{marker.size}<br>latitude=%{lat}<br>longitude=%{lon}<extra></extra>",
           "lat": [
            22.0747798
           ],
           "legendgroup": "Tuyên Quang",
           "lon": [
            105.258411
           ],
           "marker": {
            "color": "#B6E880",
            "size": [
             6
            ],
            "sizemode": "area",
            "sizeref": 3.3,
            "symbol": "circle"
           },
           "mode": "markers",
           "name": "Tuyên Quang",
           "showlegend": true,
           "type": "scattergeo"
          },
          {
           "geo": "geo",
           "hovertemplate": "Doi tac=Hòa Bình<br>Nam=2019<br>So du an cap moi=%{marker.size}<br>latitude=%{lat}<br>longitude=%{lon}<extra></extra>",
           "lat": [
            20.6763365
           ],
           "legendgroup": "Hòa Bình",
           "lon": [
            105.3759952
           ],
           "marker": {
            "color": "#FF97FF",
            "size": [
             3
            ],
            "sizemode": "area",
            "sizeref": 3.3,
            "symbol": "circle"
           },
           "mode": "markers",
           "name": "Hòa Bình",
           "showlegend": true,
           "type": "scattergeo"
          },
          {
           "geo": "geo",
           "hovertemplate": "Doi tac=Ninh Thuận<br>Nam=2019<br>So du an cap moi=%{marker.size}<br>latitude=%{lat}<br>longitude=%{lon}<extra></extra>",
           "lat": [
            11.6965639
           ],
           "legendgroup": "Ninh Thuận",
           "lon": [
            108.8928476
           ],
           "marker": {
            "color": "#FECB52",
            "size": [
             3
            ],
            "sizemode": "area",
            "sizeref": 3.3,
            "symbol": "circle"
           },
           "mode": "markers",
           "name": "Ninh Thuận",
           "showlegend": true,
           "type": "scattergeo"
          },
          {
           "geo": "geo",
           "hovertemplate": "Doi tac=Bắc Kạn<br>Nam=2019<br>So du an cap moi=%{marker.size}<br>latitude=%{lat}<br>longitude=%{lon}<extra></extra>",
           "lat": [
            22.2571701
           ],
           "legendgroup": "Bắc Kạn",
           "lon": [
            105.8204437
           ],
           "marker": {
            "color": "#636efa",
            "size": [
             1
            ],
            "sizemode": "area",
            "sizeref": 3.3,
            "symbol": "circle"
           },
           "mode": "markers",
           "name": "Bắc Kạn",
           "showlegend": true,
           "type": "scattergeo"
          },
          {
           "geo": "geo",
           "hovertemplate": "Doi tac=Lào Cai<br>Nam=2019<br>So du an cap moi=%{marker.size}<br>latitude=%{lat}<br>longitude=%{lon}<extra></extra>",
           "lat": [
            22.3069302
           ],
           "legendgroup": "Lào Cai",
           "lon": [
            104.1829592
           ],
           "marker": {
            "color": "#00cc96",
            "size": [
             1
            ],
            "sizemode": "area",
            "sizeref": 3.3,
            "symbol": "circle"
           },
           "mode": "markers",
           "name": "Lào Cai",
           "showlegend": true,
           "type": "scattergeo"
          },
          {
           "geo": "geo",
           "hovertemplate": "Doi tac=Hà Giang<br>Nam=2019<br>So du an cap moi=%{marker.size}<br>latitude=%{lat}<br>longitude=%{lon}<extra></extra>",
           "lat": [
            22.7336097
           ],
           "legendgroup": "Hà Giang",
           "lon": [
            105.0027271
           ],
           "marker": {
            "color": "#ab63fa",
            "size": [
             1
            ],
            "sizemode": "area",
            "sizeref": 3.3,
            "symbol": "circle"
           },
           "mode": "markers",
           "name": "Hà Giang",
           "showlegend": true,
           "type": "scattergeo"
          },
          {
           "geo": "geo",
           "hovertemplate": "Doi tac=Lạng Sơn<br>Nam=2019<br>So du an cap moi=%{marker.size}<br>latitude=%{lat}<br>longitude=%{lon}<extra></extra>",
           "lat": [
            21.7773599
           ],
           "legendgroup": "Lạng Sơn",
           "lon": [
            106.740412
           ],
           "marker": {
            "color": "#FFA15A",
            "size": [
             1
            ],
            "sizemode": "area",
            "sizeref": 3.3,
            "symbol": "circle"
           },
           "mode": "markers",
           "name": "Lạng Sơn",
           "showlegend": true,
           "type": "scattergeo"
          },
          {
           "geo": "geo",
           "hovertemplate": "Doi tac=Kon Tum<br>Nam=2019<br>So du an cap moi=%{marker.size}<br>latitude=%{lat}<br>longitude=%{lon}<extra></extra>",
           "lat": [
            14.6995372
           ],
           "legendgroup": "Kon Tum",
           "lon": [
            107.9323831
           ],
           "marker": {
            "color": "#19d3f3",
            "size": [
             1
            ],
            "sizemode": "area",
            "sizeref": 3.3,
            "symbol": "circle"
           },
           "mode": "markers",
           "name": "Kon Tum",
           "showlegend": true,
           "type": "scattergeo"
          },
          {
           "geo": "geo",
           "hovertemplate": "Doi tac=Quảng Trị<br>Nam=2019<br>So du an cap moi=%{marker.size}<br>latitude=%{lat}<br>longitude=%{lon}<extra></extra>",
           "lat": [
            16.7897806
           ],
           "legendgroup": "Quảng Trị",
           "lon": [
            106.9797431
           ],
           "marker": {
            "color": "#FF6692",
            "size": [
             1
            ],
            "sizemode": "area",
            "sizeref": 3.3,
            "symbol": "circle"
           },
           "mode": "markers",
           "name": "Quảng Trị",
           "showlegend": true,
           "type": "scattergeo"
          },
          {
           "geo": "geo",
           "hovertemplate": "Doi tac=Đăk Nông<br>Nam=2019<br>So du an cap moi=%{marker.size}<br>latitude=%{lat}<br>longitude=%{lon}<extra></extra>",
           "lat": [
            12.2818851
           ],
           "legendgroup": "Đăk Nông",
           "lon": [
            107.7302484
           ],
           "marker": {
            "color": "#B6E880",
            "size": [
             1
            ],
            "sizemode": "area",
            "sizeref": 3.3,
            "symbol": "circle"
           },
           "mode": "markers",
           "name": "Đăk Nông",
           "showlegend": true,
           "type": "scattergeo"
          },
          {
           "geo": "geo",
           "hovertemplate": "Doi tac=Cà Mau<br>Nam=2019<br>So du an cap moi=%{marker.size}<br>latitude=%{lat}<br>longitude=%{lon}<extra></extra>",
           "lat": [
            9.0180177
           ],
           "legendgroup": "Cà Mau",
           "lon": [
            105.0869724
           ],
           "marker": {
            "color": "#FECB52",
            "size": [
             2
            ],
            "sizemode": "area",
            "sizeref": 3.3,
            "symbol": "circle"
           },
           "mode": "markers",
           "name": "Cà Mau",
           "showlegend": true,
           "type": "scattergeo"
          },
          {
           "geo": "geo",
           "hovertemplate": "Doi tac=Sơn La<br>Nam=2019<br>So du an cap moi=%{marker.size}<br>latitude=%{lat}<br>longitude=%{lon}<extra></extra>",
           "lat": [
            21.2276769
           ],
           "legendgroup": "Sơn La",
           "lon": [
            104.1575944
           ],
           "marker": {
            "color": "#636efa",
            "size": [
             1
            ],
            "sizemode": "area",
            "sizeref": 3.3,
            "symbol": "circle"
           },
           "mode": "markers",
           "name": "Sơn La",
           "showlegend": true,
           "type": "scattergeo"
          },
          {
           "geo": "geo",
           "hovertemplate": "Doi tac=Cao Bằng<br>Nam=2019<br>So du an cap moi=%{marker.size}<br>latitude=%{lat}<br>longitude=%{lon}<extra></extra>",
           "lat": [
            22.7730867
           ],
           "legendgroup": "Cao Bằng",
           "lon": [
            106.0017225
           ],
           "marker": {
            "color": "#EF553B",
            "size": [
             1
            ],
            "sizemode": "area",
            "sizeref": 3.3,
            "symbol": "circle"
           },
           "mode": "markers",
           "name": "Cao Bằng",
           "showlegend": true,
           "type": "scattergeo"
          },
          {
           "geo": "geo",
           "hovertemplate": "Doi tac=Điện Biên<br>Nam=2019<br>So du an cap moi=%{marker.size}<br>latitude=%{lat}<br>longitude=%{lon}<extra></extra>",
           "lat": [
            21.6546566
           ],
           "legendgroup": "Điện Biên",
           "lon": [
            103.2168632
           ],
           "marker": {
            "color": "#00cc96",
            "size": [
             1
            ],
            "sizemode": "area",
            "sizeref": 3.3,
            "symbol": "circle"
           },
           "mode": "markers",
           "name": "Điện Biên",
           "showlegend": true,
           "type": "scattergeo"
          },
          {
           "geo": "geo",
           "hovertemplate": "Doi tac=Lai Châu<br>Nam=2019<br>So du an cap moi=%{marker.size}<br>latitude=%{lat}<br>longitude=%{lon}<extra></extra>",
           "lat": [
            22.2921668
           ],
           "legendgroup": "Lai Châu",
           "lon": [
            103.1798662
           ],
           "marker": {
            "color": "#ab63fa",
            "size": [
             1
            ],
            "sizemode": "area",
            "sizeref": 3.3,
            "symbol": "circle"
           },
           "mode": "markers",
           "name": "Lai Châu",
           "showlegend": true,
           "type": "scattergeo"
          }
         ],
         "name": "2019"
        },
        {
         "data": [
          {
           "geo": "geo",
           "hovertemplate": "Doi tac=Bắc Ninh<br>Nam=2020<br>So du an cap moi=%{marker.size}<br>latitude=%{lat}<br>longitude=%{lon}<extra></extra>",
           "lat": [
            21.0955822
           ],
           "legendgroup": "Bắc Ninh",
           "lon": [
            106.1264766
           ],
           "marker": {
            "color": "#636efa",
            "size": [
             153
            ],
            "sizemode": "area",
            "sizeref": 3.3,
            "symbol": "circle"
           },
           "mode": "markers",
           "name": "Bắc Ninh",
           "showlegend": true,
           "type": "scattergeo"
          },
          {
           "geo": "geo",
           "hovertemplate": "Doi tac=TP. Hồ Chí Minh<br>Nam=2020<br>So du an cap moi=%{marker.size}<br>latitude=%{lat}<br>longitude=%{lon}<extra></extra>",
           "lat": [
            10.7763897
           ],
           "legendgroup": "TP. Hồ Chí Minh",
           "lon": [
            106.7011391
           ],
           "marker": {
            "color": "#EF553B",
            "size": [
             950
            ],
            "sizemode": "area",
            "sizeref": 3.3,
            "symbol": "circle"
           },
           "mode": "markers",
           "name": "TP. Hồ Chí Minh",
           "showlegend": true,
           "type": "scattergeo"
          },
          {
           "geo": "geo",
           "hovertemplate": "Doi tac=Bình Dương<br>Nam=2020<br>So du an cap moi=%{marker.size}<br>latitude=%{lat}<br>longitude=%{lon}<extra></extra>",
           "lat": [
            11.1836551
           ],
           "legendgroup": "Bình Dương",
           "lon": [
            106.7031737
           ],
           "marker": {
            "color": "#00cc96",
            "size": [
             133
            ],
            "sizemode": "area",
            "sizeref": 3.3,
            "symbol": "circle"
           },
           "mode": "markers",
           "name": "Bình Dương",
           "showlegend": true,
           "type": "scattergeo"
          },
          {
           "geo": "geo",
           "hovertemplate": "Doi tac=Trà Vinh<br>Nam=2020<br>So du an cap moi=%{marker.size}<br>latitude=%{lat}<br>longitude=%{lon}<extra></extra>",
           "lat": [
            9.8037998
           ],
           "legendgroup": "Trà Vinh",
           "lon": [
            106.3256808
           ],
           "marker": {
            "color": "#ab63fa",
            "size": [
             3
            ],
            "sizemode": "area",
            "sizeref": 3.3,
            "symbol": "circle"
           },
           "mode": "markers",
           "name": "Trà Vinh",
           "showlegend": true,
           "type": "scattergeo"
          },
          {
           "geo": "geo",
           "hovertemplate": "Doi tac=Đồng Nai<br>Nam=2020<br>So du an cap moi=%{marker.size}<br>latitude=%{lat}<br>longitude=%{lon}<extra></extra>",
           "lat": [
            11.0355624
           ],
           "legendgroup": "Đồng Nai",
           "lon": [
            107.1881076
           ],
           "marker": {
            "color": "#FFA15A",
            "size": [
             69
            ],
            "sizemode": "area",
            "sizeref": 3.3,
            "symbol": "circle"
           },
           "mode": "markers",
           "name": "Đồng Nai",
           "showlegend": true,
           "type": "scattergeo"
          },
          {
           "geo": "geo",
           "hovertemplate": "Doi tac=Hà Nội<br>Nam=2020<br>So du an cap moi=%{marker.size}<br>latitude=%{lat}<br>longitude=%{lon}<extra></extra>",
           "lat": [
            21.0283207
           ],
           "legendgroup": "Hà Nội",
           "lon": [
            105.8540217
           ],
           "marker": {
            "color": "#19d3f3",
            "size": [
             496
            ],
            "sizemode": "area",
            "sizeref": 3.3,
            "symbol": "circle"
           },
           "mode": "markers",
           "name": "Hà Nội",
           "showlegend": true,
           "type": "scattergeo"
          },
          {
           "geo": "geo",
           "hovertemplate": "Doi tac=Hải Phòng<br>Nam=2020<br>So du an cap moi=%{marker.size}<br>latitude=%{lat}<br>longitude=%{lon}<extra></extra>",
           "lat": [
            20.858864
           ],
           "legendgroup": "Hải Phòng",
           "lon": [
            106.6749591
           ],
           "marker": {
            "color": "#FF6692",
            "size": [
             79
            ],
            "sizemode": "area",
            "sizeref": 3.3,
            "symbol": "circle"
           },
           "mode": "markers",
           "name": "Hải Phòng",
           "showlegend": true,
           "type": "scattergeo"
          },
          {
           "geo": "geo",
           "hovertemplate": "Doi tac=Bà Rịa - Vũng Tàu<br>Nam=2020<br>So du an cap moi=%{marker.size}<br>latitude=%{lat}<br>longitude=%{lon}<extra></extra>",
           "lat": [
            10.5738801
           ],
           "legendgroup": "Bà Rịa - Vũng Tàu",
           "lon": [
            107.3284362
           ],
           "marker": {
            "color": "#B6E880",
            "size": [
             31
            ],
            "sizemode": "area",
            "sizeref": 3.3,
            "symbol": "circle"
           },
           "mode": "markers",
           "name": "Bà Rịa - Vũng Tàu",
           "showlegend": true,
           "type": "scattergeo"
          },
          {
           "geo": "geo",
           "hovertemplate": "Doi tac=Long An<br>Nam=2020<br>So du an cap moi=%{marker.size}<br>latitude=%{lat}<br>longitude=%{lon}<extra></extra>",
           "lat": [
            10.6983968
           ],
           "legendgroup": "Long An",
           "lon": [
            106.1883517
           ],
           "marker": {
            "color": "#FF97FF",
            "size": [
             113
            ],
            "sizemode": "area",
            "sizeref": 3.3,
            "symbol": "circle"
           },
           "mode": "markers",
           "name": "Long An",
           "showlegend": true,
           "type": "scattergeo"
          },
          {
           "geo": "geo",
           "hovertemplate": "Doi tac=Tây Ninh<br>Nam=2020<br>So du an cap moi=%{marker.size}<br>latitude=%{lat}<br>longitude=%{lon}<extra></extra>",
           "lat": [
            11.4019366
           ],
           "legendgroup": "Tây Ninh",
           "lon": [
            106.1626927
           ],
           "marker": {
            "color": "#FECB52",
            "size": [
             15
            ],
            "sizemode": "area",
            "sizeref": 3.3,
            "symbol": "circle"
           },
           "mode": "markers",
           "name": "Tây Ninh",
           "showlegend": true,
           "type": "scattergeo"
          },
          {
           "geo": "geo",
           "hovertemplate": "Doi tac=Hải Dương<br>Nam=2020<br>So du an cap moi=%{marker.size}<br>latitude=%{lat}<br>longitude=%{lon}<extra></extra>",
           "lat": [
            20.8930571
           ],
           "legendgroup": "Hải Dương",
           "lon": [
            106.3725441
           ],
           "marker": {
            "color": "#636efa",
            "size": [
             32
            ],
            "sizemode": "area",
            "sizeref": 3.3,
            "symbol": "circle"
           },
           "mode": "markers",
           "name": "Hải Dương",
           "showlegend": true,
           "type": "scattergeo"
          },
          {
           "geo": "geo",
           "hovertemplate": "Doi tac=Bắc Giang<br>Nam=2020<br>So du an cap moi=%{marker.size}<br>latitude=%{lat}<br>longitude=%{lon}<extra></extra>",
           "lat": [
            21.3169625
           ],
           "legendgroup": "Bắc Giang",
           "lon": [
            106.437985
           ],
           "marker": {
            "color": "#EF553B",
            "size": [
             35
            ],
            "sizemode": "area",
            "sizeref": 3.3,
            "symbol": "circle"
           },
           "mode": "markers",
           "name": "Bắc Giang",
           "showlegend": true,
           "type": "scattergeo"
          },
          {
           "geo": "geo",
           "hovertemplate": "Doi tac=Quảng Ninh<br>Nam=2020<br>So du an cap moi=%{marker.size}<br>latitude=%{lat}<br>longitude=%{lon}<extra></extra>",
           "lat": [
            21.1718046
           ],
           "legendgroup": "Quảng Ninh",
           "lon": [
            107.2012742
           ],
           "marker": {
            "color": "#00cc96",
            "size": [
             16
            ],
            "sizemode": "area",
            "sizeref": 3.3,
            "symbol": "circle"
           },
           "mode": "markers",
           "name": "Quảng Ninh",
           "showlegend": true,
           "type": "scattergeo"
          },
          {
           "geo": "geo",
           "hovertemplate": "Doi tac=Vĩnh Phúc<br>Nam=2020<br>So du an cap moi=%{marker.size}<br>latitude=%{lat}<br>longitude=%{lon}<extra></extra>",
           "lat": [
            21.3778689
           ],
           "legendgroup": "Vĩnh Phúc",
           "lon": [
            105.5758286
           ],
           "marker": {
            "color": "#ab63fa",
            "size": [
             28
            ],
            "sizemode": "area",
            "sizeref": 3.3,
            "symbol": "circle"
           },
           "mode": "markers",
           "name": "Vĩnh Phúc",
           "showlegend": true,
           "type": "scattergeo"
          },
          {
           "geo": "geo",
           "hovertemplate": "Doi tac=Hà Nam<br>Nam=2020<br>So du an cap moi=%{marker.size}<br>latitude=%{lat}<br>longitude=%{lon}<extra></extra>",
           "lat": [
            34.0000001
           ],
           "legendgroup": "Hà Nam",
           "lon": [
            113.9999999
           ],
           "marker": {
            "color": "#FFA15A",
            "size": [
             33
            ],
            "sizemode": "area",
            "sizeref": 3.3,
            "symbol": "circle"
           },
           "mode": "markers",
           "name": "Hà Nam",
           "showlegend": true,
           "type": "scattergeo"
          },
          {
           "geo": "geo",
           "hovertemplate": "Doi tac=Hưng Yên<br>Nam=2020<br>So du an cap moi=%{marker.size}<br>latitude=%{lat}<br>longitude=%{lon}<extra></extra>",
           "lat": [
            20.7833912
           ],
           "legendgroup": "Hưng Yên",
           "lon": [
            106.0699025
           ],
           "marker": {
            "color": "#19d3f3",
            "size": [
             22
            ],
            "sizemode": "area",
            "sizeref": 3.3,
            "symbol": "circle"
           },
           "mode": "markers",
           "name": "Hưng Yên",
           "showlegend": true,
           "type": "scattergeo"
          },
          {
           "geo": "geo",
           "hovertemplate": "Doi tac=Bình Phước<br>Nam=2020<br>So du an cap moi=%{marker.size}<br>latitude=%{lat}<br>longitude=%{lon}<extra></extra>",
           "lat": [
            11.7332484
           ],
           "legendgroup": "Bình Phước",
           "lon": [
            106.906249
           ],
           "marker": {
            "color": "#FF6692",
            "size": [
             48
            ],
            "sizemode": "area",
            "sizeref": 3.3,
            "symbol": "circle"
           },
           "mode": "markers",
           "name": "Bình Phước",
           "showlegend": true,
           "type": "scattergeo"
          },
          {
           "geo": "geo",
           "hovertemplate": "Doi tac=Quảng Nam<br>Nam=2020<br>So du an cap moi=%{marker.size}<br>latitude=%{lat}<br>longitude=%{lon}<extra></extra>",
           "lat": [
            15.5761698
           ],
           "legendgroup": "Quảng Nam",
           "lon": [
            108.0527132
           ],
           "marker": {
            "color": "#B6E880",
            "size": [
             8
            ],
            "sizemode": "area",
            "sizeref": 3.3,
            "symbol": "circle"
           },
           "mode": "markers",
           "name": "Quảng Nam",
           "showlegend": true,
           "type": "scattergeo"
          },
          {
           "geo": "geo",
           "hovertemplate": "Doi tac=Thái Nguyên<br>Nam=2020<br>So du an cap moi=%{marker.size}<br>latitude=%{lat}<br>longitude=%{lon}<extra></extra>",
           "lat": [
            21.592477
           ],
           "legendgroup": "Thái Nguyên",
           "lon": [
            105.8435398
           ],
           "marker": {
            "color": "#FF97FF",
            "size": [
             20
            ],
            "sizemode": "area",
            "sizeref": 3.3,
            "symbol": "circle"
           },
           "mode": "markers",
           "name": "Thái Nguyên",
           "showlegend": true,
           "type": "scattergeo"
          },
          {
           "geo": "geo",
           "hovertemplate": "Doi tac=Nghệ An<br>Nam=2020<br>So du an cap moi=%{marker.size}<br>latitude=%{lat}<br>longitude=%{lon}<extra></extra>",
           "lat": [
            19.1976001
           ],
           "legendgroup": "Nghệ An",
           "lon": [
            105.060676
           ],
           "marker": {
            "color": "#FECB52",
            "size": [
             10
            ],
            "sizemode": "area",
            "sizeref": 3.3,
            "symbol": "circle"
           },
           "mode": "markers",
           "name": "Nghệ An",
           "showlegend": true,
           "type": "scattergeo"
          },
          {
           "geo": "geo",
           "hovertemplate": "Doi tac=Bến Tre<br>Nam=2020<br>So du an cap moi=%{marker.size}<br>latitude=%{lat}<br>longitude=%{lon}<extra></extra>",
           "lat": [
            10.1093637
           ],
           "legendgroup": "Bến Tre",
           "lon": [
            106.4811559
           ],
           "marker": {
            "color": "#636efa",
            "size": [
             8
            ],
            "sizemode": "area",
            "sizeref": 3.3,
            "symbol": "circle"
           },
           "mode": "markers",
           "name": "Bến Tre",
           "showlegend": true,
           "type": "scattergeo"
          },
          {
           "geo": "geo",
           "hovertemplate": "Doi tac=Hà Tĩnh<br>Nam=2020<br>So du an cap moi=%{marker.size}<br>latitude=%{lat}<br>longitude=%{lon}<extra></extra>",
           "lat": [
            18.3504832
           ],
           "legendgroup": "Hà Tĩnh",
           "lon": [
            105.7623047
           ],
           "marker": {
            "color": "#EF553B",
            "size": [
             2
            ],
            "sizemode": "area",
            "sizeref": 3.3,
            "symbol": "circle"
           },
           "mode": "markers",
           "name": "Hà Tĩnh",
           "showlegend": true,
           "type": "scattergeo"
          },
          {
           "geo": "geo",
           "hovertemplate": "Doi tac=Thừa Thiên Huế<br>Nam=2020<br>So du an cap moi=%{marker.size}<br>latitude=%{lat}<br>longitude=%{lon}<extra></extra>",
           "lat": [
            16.3480798
           ],
           "legendgroup": "Thừa Thiên Huế",
           "lon": [
            107.5398913
           ],
           "marker": {
            "color": "#00cc96",
            "size": [
             6
            ],
            "sizemode": "area",
            "sizeref": 3.3,
            "symbol": "circle"
           },
           "mode": "markers",
           "name": "Thừa Thiên Huế",
           "showlegend": true,
           "type": "scattergeo"
          },
          {
           "geo": "geo",
           "hovertemplate": "Doi tac=Phú Thọ<br>Nam=2020<br>So du an cap moi=%{marker.size}<br>latitude=%{lat}<br>longitude=%{lon}<extra></extra>",
           "lat": [
            21.3007538
           ],
           "legendgroup": "Phú Thọ",
           "lon": [
            105.1349604
           ],
           "marker": {
            "color": "#ab63fa",
            "size": [
             19
            ],
            "sizemode": "area",
            "sizeref": 3.3,
            "symbol": "circle"
           },
           "mode": "markers",
           "name": "Phú Thọ",
           "showlegend": true,
           "type": "scattergeo"
          },
          {
           "geo": "geo",
           "hovertemplate": "Doi tac=Tiền Giang<br>Nam=2020<br>So du an cap moi=%{marker.size}<br>latitude=%{lat}<br>longitude=%{lon}<extra></extra>",
           "lat": [
            10.4030368
           ],
           "legendgroup": "Tiền Giang",
           "lon": [
            106.361633
           ],
           "marker": {
            "color": "#FFA15A",
            "size": [
             9
            ],
            "sizemode": "area",
            "sizeref": 3.3,
            "symbol": "circle"
           },
           "mode": "markers",
           "name": "Tiền Giang",
           "showlegend": true,
           "type": "scattergeo"
          },
          {
           "geo": "geo",
           "hovertemplate": "Doi tac=Yên Bái<br>Nam=2020<br>So du an cap moi=%{marker.size}<br>latitude=%{lat}<br>longitude=%{lon}<extra></extra>",
           "lat": [
            21.69611
           ],
           "legendgroup": "Yên Bái",
           "lon": [
            104.8752392
           ],
           "marker": {
            "color": "#19d3f3",
            "size": [
             1
            ],
            "sizemode": "area",
            "sizeref": 3.3,
            "symbol": "circle"
           },
           "mode": "markers",
           "name": "Yên Bái",
           "showlegend": true,
           "type": "scattergeo"
          },
          {
           "geo": "geo",
           "hovertemplate": "Doi tac=Nam Định<br>Nam=2020<br>So du an cap moi=%{marker.size}<br>latitude=%{lat}<br>longitude=%{lon}<extra></extra>",
           "lat": [
            20.2686476
           ],
           "legendgroup": "Nam Định",
           "lon": [
            106.2289075
           ],
           "marker": {
            "color": "#FF6692",
            "size": [
             16
            ],
            "sizemode": "area",
            "sizeref": 3.3,
            "symbol": "circle"
           },
           "mode": "markers",
           "name": "Nam Định",
           "showlegend": true,
           "type": "scattergeo"
          },
          {
           "geo": "geo",
           "hovertemplate": "Doi tac=An Giang<br>Nam=2020<br>So du an cap moi=%{marker.size}<br>latitude=%{lat}<br>longitude=%{lon}<extra></extra>",
           "lat": [
            10.5392057
           ],
           "legendgroup": "An Giang",
           "lon": [
            105.2312822
           ],
           "marker": {
            "color": "#B6E880",
            "size": [
             1
            ],
            "sizemode": "area",
            "sizeref": 3.3,
            "symbol": "circle"
           },
           "mode": "markers",
           "name": "An Giang",
           "showlegend": true,
           "type": "scattergeo"
          },
          {
           "geo": "geo",
           "hovertemplate": "Doi tac=Bình Định<br>Nam=2020<br>So du an cap moi=%{marker.size}<br>latitude=%{lat}<br>longitude=%{lon}<extra></extra>",
           "lat": [
            14.0779378
           ],
           "legendgroup": "Bình Định",
           "lon": [
            108.9898798
           ],
           "marker": {
            "color": "#FF97FF",
            "size": [
             4
            ],
            "sizemode": "area",
            "sizeref": 3.3,
            "symbol": "circle"
           },
           "mode": "markers",
           "name": "Bình Định",
           "showlegend": true,
           "type": "scattergeo"
          },
          {
           "geo": "geo",
           "hovertemplate": "Doi tac=Khánh Hòa<br>Nam=2020<br>So du an cap moi=%{marker.size}<br>latitude=%{lat}<br>longitude=%{lon}<extra></extra>",
           "lat": [
            12.2980751
           ],
           "legendgroup": "Khánh Hòa",
           "lon": [
            108.9950386
           ],
           "marker": {
            "color": "#FECB52",
            "size": [
             5
            ],
            "sizemode": "area",
            "sizeref": 3.3,
            "symbol": "circle"
           },
           "mode": "markers",
           "name": "Khánh Hòa",
           "showlegend": true,
           "type": "scattergeo"
          },
          {
           "geo": "geo",
           "hovertemplate": "Doi tac=Thái Bình<br>Nam=2020<br>So du an cap moi=%{marker.size}<br>latitude=%{lat}<br>longitude=%{lon}<extra></extra>",
           "lat": [
            20.5296832
           ],
           "legendgroup": "Thái Bình",
           "lon": [
            106.3876068
           ],
           "marker": {
            "color": "#636efa",
            "size": [
             11
            ],
            "sizemode": "area",
            "sizeref": 3.3,
            "symbol": "circle"
           },
           "mode": "markers",
           "name": "Thái Bình",
           "showlegend": true,
           "type": "scattergeo"
          },
          {
           "geo": "geo",
           "hovertemplate": "Doi tac=Đà Nẵng<br>Nam=2020<br>So du an cap moi=%{marker.size}<br>latitude=%{lat}<br>longitude=%{lon}<extra></extra>",
           "lat": [
            16.068
           ],
           "legendgroup": "Đà Nẵng",
           "lon": [
            108.212
           ],
           "marker": {
            "color": "#EF553B",
            "size": [
             83
            ],
            "sizemode": "area",
            "sizeref": 3.3,
            "symbol": "circle"
           },
           "mode": "markers",
           "name": "Đà Nẵng",
           "showlegend": true,
           "type": "scattergeo"
          },
          {
           "geo": "geo",
           "hovertemplate": "Doi tac=Thanh Hóa<br>Nam=2020<br>So du an cap moi=%{marker.size}<br>latitude=%{lat}<br>longitude=%{lon}<extra></extra>",
           "lat": [
            19.9781573
           ],
           "legendgroup": "Thanh Hóa",
           "lon": [
            105.4816107
           ],
           "marker": {
            "color": "#00cc96",
            "size": [
             14
            ],
            "sizemode": "area",
            "sizeref": 3.3,
            "symbol": "circle"
           },
           "mode": "markers",
           "name": "Thanh Hóa",
           "showlegend": true,
           "type": "scattergeo"
          },
          {
           "geo": "geo",
           "hovertemplate": "Doi tac=Ninh Bình<br>Nam=2020<br>So du an cap moi=%{marker.size}<br>latitude=%{lat}<br>longitude=%{lon}<extra></extra>",
           "lat": [
            20.2545421
           ],
           "legendgroup": "Ninh Bình",
           "lon": [
            105.9764854
           ],
           "marker": {
            "color": "#ab63fa",
            "size": [
             7
            ],
            "sizemode": "area",
            "sizeref": 3.3,
            "symbol": "circle"
           },
           "mode": "markers",
           "name": "Ninh Bình",
           "showlegend": true,
           "type": "scattergeo"
          },
          {
           "geo": "geo",
           "hovertemplate": "Doi tac=Phú Yên<br>Nam=2020<br>So du an cap moi=%{marker.size}<br>latitude=%{lat}<br>longitude=%{lon}<extra></extra>",
           "lat": [
            13.1912633
           ],
           "legendgroup": "Phú Yên",
           "lon": [
            109.1273678
           ],
           "marker": {
            "color": "#FFA15A",
            "size": [
             1
            ],
            "sizemode": "area",
            "sizeref": 3.3,
            "symbol": "circle"
           },
           "mode": "markers",
           "name": "Phú Yên",
           "showlegend": true,
           "type": "scattergeo"
          },
          {
           "geo": "geo",
           "hovertemplate": "Doi tac=Kiên Giang<br>Nam=2020<br>So du an cap moi=%{marker.size}<br>latitude=%{lat}<br>longitude=%{lon}<extra></extra>",
           "lat": [
            9.9904962
           ],
           "legendgroup": "Kiên Giang",
           "lon": [
            105.2435248
           ],
           "marker": {
            "color": "#19d3f3",
            "size": [
             1
            ],
            "sizemode": "area",
            "sizeref": 3.3,
            "symbol": "circle"
           },
           "mode": "markers",
           "name": "Kiên Giang",
           "showlegend": true,
           "type": "scattergeo"
          },
          {
           "geo": "geo",
           "hovertemplate": "Doi tac=Đăk Lăk<br>Nam=2020<br>So du an cap moi=%{marker.size}<br>latitude=%{lat}<br>longitude=%{lon}<extra></extra>",
           "lat": [
            12.8292274
           ],
           "legendgroup": "Đăk Lăk",
           "lon": [
            108.2999058
           ],
           "marker": {
            "color": "#FF6692",
            "size": [
             1
            ],
            "sizemode": "area",
            "sizeref": 3.3,
            "symbol": "circle"
           },
           "mode": "markers",
           "name": "Đăk Lăk",
           "showlegend": true,
           "type": "scattergeo"
          },
          {
           "geo": "geo",
           "hovertemplate": "Doi tac=Quảng Bình<br>Nam=2020<br>So du an cap moi=%{marker.size}<br>latitude=%{lat}<br>longitude=%{lon}<extra></extra>",
           "lat": [
            17.509599
           ],
           "legendgroup": "Quảng Bình",
           "lon": [
            106.4004452
           ],
           "marker": {
            "color": "#B6E880",
            "size": [
             3
            ],
            "sizemode": "area",
            "sizeref": 3.3,
            "symbol": "circle"
           },
           "mode": "markers",
           "name": "Quảng Bình",
           "showlegend": true,
           "type": "scattergeo"
          },
          {
           "geo": "geo",
           "hovertemplate": "Doi tac=Bình Thuận<br>Nam=2020<br>So du an cap moi=%{marker.size}<br>latitude=%{lat}<br>longitude=%{lon}<extra></extra>",
           "lat": [
            11.1041572
           ],
           "legendgroup": "Bình Thuận",
           "lon": [
            108.1832931
           ],
           "marker": {
            "color": "#FF97FF",
            "size": [
             6
            ],
            "sizemode": "area",
            "sizeref": 3.3,
            "symbol": "circle"
           },
           "mode": "markers",
           "name": "Bình Thuận",
           "showlegend": true,
           "type": "scattergeo"
          },
          {
           "geo": "geo",
           "hovertemplate": "Doi tac=Hậu Giang<br>Nam=2020<br>So du an cap moi=%{marker.size}<br>latitude=%{lat}<br>longitude=%{lon}<extra></extra>",
           "lat": [
            9.7985063
           ],
           "legendgroup": "Hậu Giang",
           "lon": [
            105.6379524
           ],
           "marker": {
            "color": "#FECB52",
            "size": [
             1
            ],
            "sizemode": "area",
            "sizeref": 3.3,
            "symbol": "circle"
           },
           "mode": "markers",
           "name": "Hậu Giang",
           "showlegend": true,
           "type": "scattergeo"
          },
          {
           "geo": "geo",
           "hovertemplate": "Doi tac=Quảng Ngãi<br>Nam=2020<br>So du an cap moi=%{marker.size}<br>latitude=%{lat}<br>longitude=%{lon}<extra></extra>",
           "lat": [
            14.9953739
           ],
           "legendgroup": "Quảng Ngãi",
           "lon": [
            108.691729
           ],
           "marker": {
            "color": "#636efa",
            "size": [
             3
            ],
            "sizemode": "area",
            "sizeref": 3.3,
            "symbol": "circle"
           },
           "mode": "markers",
           "name": "Quảng Ngãi",
           "showlegend": true,
           "type": "scattergeo"
          },
          {
           "geo": "geo",
           "hovertemplate": "Doi tac=Cần Thơ<br>Nam=2020<br>So du an cap moi=%{marker.size}<br>latitude=%{lat}<br>longitude=%{lon}<extra></extra>",
           "lat": [
            10.0364216
           ],
           "legendgroup": "Cần Thơ",
           "lon": [
            105.7875219
           ],
           "marker": {
            "color": "#EF553B",
            "size": [
             5
            ],
            "sizemode": "area",
            "sizeref": 3.3,
            "symbol": "circle"
           },
           "mode": "markers",
           "name": "Cần Thơ",
           "showlegend": true,
           "type": "scattergeo"
          },
          {
           "geo": "geo",
           "hovertemplate": "Doi tac=Vĩnh Long<br>Nam=2020<br>So du an cap moi=%{marker.size}<br>latitude=%{lat}<br>longitude=%{lon}<extra></extra>",
           "lat": [
            10.1203043
           ],
           "legendgroup": "Vĩnh Long",
           "lon": [
            106.0125705
           ],
           "marker": {
            "color": "#00cc96",
            "size": [
             6
            ],
            "sizemode": "area",
            "sizeref": 3.3,
            "symbol": "circle"
           },
           "mode": "markers",
           "name": "Vĩnh Long",
           "showlegend": true,
           "type": "scattergeo"
          },
          {
           "geo": "geo",
           "hovertemplate": "Doi tac=Đồng Tháp<br>Nam=2020<br>So du an cap moi=%{marker.size}<br>latitude=%{lat}<br>longitude=%{lon}<extra></extra>",
           "lat": [
            10.590424
           ],
           "legendgroup": "Đồng Tháp",
           "lon": [
            105.6802341
           ],
           "marker": {
            "color": "#ab63fa",
            "size": [
             1
            ],
            "sizemode": "area",
            "sizeref": 3.3,
            "symbol": "circle"
           },
           "mode": "markers",
           "name": "Đồng Tháp",
           "showlegend": true,
           "type": "scattergeo"
          },
          {
           "geo": "geo",
           "hovertemplate": "Doi tac=Lâm Đồng<br>Nam=2020<br>So du an cap moi=%{marker.size}<br>latitude=%{lat}<br>longitude=%{lon}<extra></extra>",
           "lat": [
            11.6614957
           ],
           "legendgroup": "Lâm Đồng",
           "lon": [
            108.1335279
           ],
           "marker": {
            "color": "#FFA15A",
            "size": [
             3
            ],
            "sizemode": "area",
            "sizeref": 3.3,
            "symbol": "circle"
           },
           "mode": "markers",
           "name": "Lâm Đồng",
           "showlegend": true,
           "type": "scattergeo"
          },
          {
           "geo": "geo",
           "hovertemplate": "Doi tac=Sóc Trăng<br>Nam=2020<br>So du an cap moi=%{marker.size}<br>latitude=%{lat}<br>longitude=%{lon}<extra></extra>",
           "lat": [
            9.5628369
           ],
           "legendgroup": "Sóc Trăng",
           "lon": [
            105.9493991
           ],
           "marker": {
            "color": "#19d3f3",
            "size": [
             2
            ],
            "sizemode": "area",
            "sizeref": 3.3,
            "symbol": "circle"
           },
           "mode": "markers",
           "name": "Sóc Trăng",
           "showlegend": true,
           "type": "scattergeo"
          },
          {
           "geo": "geo",
           "hovertemplate": "Doi tac=Bạc Liêu<br>Nam=2020<br>So du an cap moi=%{marker.size}<br>latitude=%{lat}<br>longitude=%{lon}<extra></extra>",
           "lat": [
            9.3298341
           ],
           "legendgroup": "Bạc Liêu",
           "lon": [
            105.509946
           ],
           "marker": {
            "color": "#FF6692",
            "size": [
             1
            ],
            "sizemode": "area",
            "sizeref": 3.3,
            "symbol": "circle"
           },
           "mode": "markers",
           "name": "Bạc Liêu",
           "showlegend": true,
           "type": "scattergeo"
          },
          {
           "geo": "geo",
           "hovertemplate": "Doi tac=Tuyên Quang<br>Nam=2020<br>So du an cap moi=%{marker.size}<br>latitude=%{lat}<br>longitude=%{lon}<extra></extra>",
           "lat": [
            22.0747798
           ],
           "legendgroup": "Tuyên Quang",
           "lon": [
            105.258411
           ],
           "marker": {
            "color": "#B6E880",
            "size": [
             1
            ],
            "sizemode": "area",
            "sizeref": 3.3,
            "symbol": "circle"
           },
           "mode": "markers",
           "name": "Tuyên Quang",
           "showlegend": true,
           "type": "scattergeo"
          },
          {
           "geo": "geo",
           "hovertemplate": "Doi tac=Hòa Bình<br>Nam=2020<br>So du an cap moi=%{marker.size}<br>latitude=%{lat}<br>longitude=%{lon}<extra></extra>",
           "lat": [
            20.6763365
           ],
           "legendgroup": "Hòa Bình",
           "lon": [
            105.3759952
           ],
           "marker": {
            "color": "#FF97FF",
            "size": [
             2
            ],
            "sizemode": "area",
            "sizeref": 3.3,
            "symbol": "circle"
           },
           "mode": "markers",
           "name": "Hòa Bình",
           "showlegend": true,
           "type": "scattergeo"
          },
          {
           "geo": "geo",
           "hovertemplate": "Doi tac=Ninh Thuận<br>Nam=2020<br>So du an cap moi=%{marker.size}<br>latitude=%{lat}<br>longitude=%{lon}<extra></extra>",
           "lat": [
            11.6965639
           ],
           "legendgroup": "Ninh Thuận",
           "lon": [
            108.8928476
           ],
           "marker": {
            "color": "#FECB52",
            "size": [
             1
            ],
            "sizemode": "area",
            "sizeref": 3.3,
            "symbol": "circle"
           },
           "mode": "markers",
           "name": "Ninh Thuận",
           "showlegend": true,
           "type": "scattergeo"
          },
          {
           "geo": "geo",
           "hovertemplate": "Doi tac=Lào Cai<br>Nam=2020<br>So du an cap moi=%{marker.size}<br>latitude=%{lat}<br>longitude=%{lon}<extra></extra>",
           "lat": [
            22.3069302
           ],
           "legendgroup": "Lào Cai",
           "lon": [
            104.1829592
           ],
           "marker": {
            "color": "#00cc96",
            "size": [
             1
            ],
            "sizemode": "area",
            "sizeref": 3.3,
            "symbol": "circle"
           },
           "mode": "markers",
           "name": "Lào Cai",
           "showlegend": true,
           "type": "scattergeo"
          },
          {
           "geo": "geo",
           "hovertemplate": "Doi tac=Kon Tum<br>Nam=2020<br>So du an cap moi=%{marker.size}<br>latitude=%{lat}<br>longitude=%{lon}<extra></extra>",
           "lat": [
            14.6995372
           ],
           "legendgroup": "Kon Tum",
           "lon": [
            107.9323831
           ],
           "marker": {
            "color": "#19d3f3",
            "size": [
             1
            ],
            "sizemode": "area",
            "sizeref": 3.3,
            "symbol": "circle"
           },
           "mode": "markers",
           "name": "Kon Tum",
           "showlegend": true,
           "type": "scattergeo"
          },
          {
           "geo": "geo",
           "hovertemplate": "Doi tac=Quảng Trị<br>Nam=2020<br>So du an cap moi=%{marker.size}<br>latitude=%{lat}<br>longitude=%{lon}<extra></extra>",
           "lat": [
            16.7897806
           ],
           "legendgroup": "Quảng Trị",
           "lon": [
            106.9797431
           ],
           "marker": {
            "color": "#FF6692",
            "size": [
             1
            ],
            "sizemode": "area",
            "sizeref": 3.3,
            "symbol": "circle"
           },
           "mode": "markers",
           "name": "Quảng Trị",
           "showlegend": true,
           "type": "scattergeo"
          },
          {
           "geo": "geo",
           "hovertemplate": "Doi tac=Đăk Nông<br>Nam=2020<br>So du an cap moi=%{marker.size}<br>latitude=%{lat}<br>longitude=%{lon}<extra></extra>",
           "lat": [
            12.2818851
           ],
           "legendgroup": "Đăk Nông",
           "lon": [
            107.7302484
           ],
           "marker": {
            "color": "#B6E880",
            "size": [
             4
            ],
            "sizemode": "area",
            "sizeref": 3.3,
            "symbol": "circle"
           },
           "mode": "markers",
           "name": "Đăk Nông",
           "showlegend": true,
           "type": "scattergeo"
          },
          {
           "geo": "geo",
           "hovertemplate": "Doi tac=Gia Lai<br>Nam=2020<br>So du an cap moi=%{marker.size}<br>latitude=%{lat}<br>longitude=%{lon}<extra></extra>",
           "lat": [
            13.8177445
           ],
           "legendgroup": "Gia Lai",
           "lon": [
            108.2004015
           ],
           "marker": {
            "color": "#FF97FF",
            "size": [
             1
            ],
            "sizemode": "area",
            "sizeref": 3.3,
            "symbol": "circle"
           },
           "mode": "markers",
           "name": "Gia Lai",
           "showlegend": true,
           "type": "scattergeo"
          },
          {
           "geo": "geo",
           "hovertemplate": "Doi tac=Cà Mau<br>Nam=2020<br>So du an cap moi=%{marker.size}<br>latitude=%{lat}<br>longitude=%{lon}<extra></extra>",
           "lat": [
            9.0180177
           ],
           "legendgroup": "Cà Mau",
           "lon": [
            105.0869724
           ],
           "marker": {
            "color": "#FECB52",
            "size": [
             1
            ],
            "sizemode": "area",
            "sizeref": 3.3,
            "symbol": "circle"
           },
           "mode": "markers",
           "name": "Cà Mau",
           "showlegend": true,
           "type": "scattergeo"
          },
          {
           "geo": "geo",
           "hovertemplate": "Doi tac=Sơn La<br>Nam=2020<br>So du an cap moi=%{marker.size}<br>latitude=%{lat}<br>longitude=%{lon}<extra></extra>",
           "lat": [
            21.2276769
           ],
           "legendgroup": "Sơn La",
           "lon": [
            104.1575944
           ],
           "marker": {
            "color": "#636efa",
            "size": [
             1
            ],
            "sizemode": "area",
            "sizeref": 3.3,
            "symbol": "circle"
           },
           "mode": "markers",
           "name": "Sơn La",
           "showlegend": true,
           "type": "scattergeo"
          },
          {
           "geo": "geo",
           "hovertemplate": "Doi tac=Cao Bằng<br>Nam=2020<br>So du an cap moi=%{marker.size}<br>latitude=%{lat}<br>longitude=%{lon}<extra></extra>",
           "lat": [
            22.7730867
           ],
           "legendgroup": "Cao Bằng",
           "lon": [
            106.0017225
           ],
           "marker": {
            "color": "#EF553B",
            "size": [
             1
            ],
            "sizemode": "area",
            "sizeref": 3.3,
            "symbol": "circle"
           },
           "mode": "markers",
           "name": "Cao Bằng",
           "showlegend": true,
           "type": "scattergeo"
          },
          {
           "geo": "geo",
           "hovertemplate": "Doi tac=Điện Biên<br>Nam=2020<br>So du an cap moi=%{marker.size}<br>latitude=%{lat}<br>longitude=%{lon}<extra></extra>",
           "lat": [
            21.6546566
           ],
           "legendgroup": "Điện Biên",
           "lon": [
            103.2168632
           ],
           "marker": {
            "color": "#00cc96",
            "size": [
             1
            ],
            "sizemode": "area",
            "sizeref": 3.3,
            "symbol": "circle"
           },
           "mode": "markers",
           "name": "Điện Biên",
           "showlegend": true,
           "type": "scattergeo"
          }
         ],
         "name": "2020"
        },
        {
         "data": [
          {
           "geo": "geo",
           "hovertemplate": "Doi tac=Bắc Ninh<br>Nam=2021<br>So du an cap moi=%{marker.size}<br>latitude=%{lat}<br>longitude=%{lon}<extra></extra>",
           "lat": [
            21.0955822
           ],
           "legendgroup": "Bắc Ninh",
           "lon": [
            106.1264766
           ],
           "marker": {
            "color": "#636efa",
            "size": [
             126
            ],
            "sizemode": "area",
            "sizeref": 3.3,
            "symbol": "circle"
           },
           "mode": "markers",
           "name": "Bắc Ninh",
           "showlegend": true,
           "type": "scattergeo"
          },
          {
           "geo": "geo",
           "hovertemplate": "Doi tac=TP. Hồ Chí Minh<br>Nam=2021<br>So du an cap moi=%{marker.size}<br>latitude=%{lat}<br>longitude=%{lon}<extra></extra>",
           "lat": [
            10.7763897
           ],
           "legendgroup": "TP. Hồ Chí Minh",
           "lon": [
            106.7011391
           ],
           "marker": {
            "color": "#EF553B",
            "size": [
             633
            ],
            "sizemode": "area",
            "sizeref": 3.3,
            "symbol": "circle"
           },
           "mode": "markers",
           "name": "TP. Hồ Chí Minh",
           "showlegend": true,
           "type": "scattergeo"
          },
          {
           "geo": "geo",
           "hovertemplate": "Doi tac=Bình Dương<br>Nam=2021<br>So du an cap moi=%{marker.size}<br>latitude=%{lat}<br>longitude=%{lon}<extra></extra>",
           "lat": [
            11.1836551
           ],
           "legendgroup": "Bình Dương",
           "lon": [
            106.7031737
           ],
           "marker": {
            "color": "#00cc96",
            "size": [
             75
            ],
            "sizemode": "area",
            "sizeref": 3.3,
            "symbol": "circle"
           },
           "mode": "markers",
           "name": "Bình Dương",
           "showlegend": true,
           "type": "scattergeo"
          },
          {
           "geo": "geo",
           "hovertemplate": "Doi tac=Trà Vinh<br>Nam=2021<br>So du an cap moi=%{marker.size}<br>latitude=%{lat}<br>longitude=%{lon}<extra></extra>",
           "lat": [
            9.8037998
           ],
           "legendgroup": "Trà Vinh",
           "lon": [
            106.3256808
           ],
           "marker": {
            "color": "#ab63fa",
            "size": [
             1
            ],
            "sizemode": "area",
            "sizeref": 3.3,
            "symbol": "circle"
           },
           "mode": "markers",
           "name": "Trà Vinh",
           "showlegend": true,
           "type": "scattergeo"
          },
          {
           "geo": "geo",
           "hovertemplate": "Doi tac=Đồng Nai<br>Nam=2021<br>So du an cap moi=%{marker.size}<br>latitude=%{lat}<br>longitude=%{lon}<extra></extra>",
           "lat": [
            11.0355624
           ],
           "legendgroup": "Đồng Nai",
           "lon": [
            107.1881076
           ],
           "marker": {
            "color": "#FFA15A",
            "size": [
             51
            ],
            "sizemode": "area",
            "sizeref": 3.3,
            "symbol": "circle"
           },
           "mode": "markers",
           "name": "Đồng Nai",
           "showlegend": true,
           "type": "scattergeo"
          },
          {
           "geo": "geo",
           "hovertemplate": "Doi tac=Hà Nội<br>Nam=2021<br>So du an cap moi=%{marker.size}<br>latitude=%{lat}<br>longitude=%{lon}<extra></extra>",
           "lat": [
            21.0283207
           ],
           "legendgroup": "Hà Nội",
           "lon": [
            105.8540217
           ],
           "marker": {
            "color": "#19d3f3",
            "size": [
             362
            ],
            "sizemode": "area",
            "sizeref": 3.3,
            "symbol": "circle"
           },
           "mode": "markers",
           "name": "Hà Nội",
           "showlegend": true,
           "type": "scattergeo"
          },
          {
           "geo": "geo",
           "hovertemplate": "Doi tac=Hải Phòng<br>Nam=2021<br>So du an cap moi=%{marker.size}<br>latitude=%{lat}<br>longitude=%{lon}<extra></extra>",
           "lat": [
            20.858864
           ],
           "legendgroup": "Hải Phòng",
           "lon": [
            106.6749591
           ],
           "marker": {
            "color": "#FF6692",
            "size": [
             48
            ],
            "sizemode": "area",
            "sizeref": 3.3,
            "symbol": "circle"
           },
           "mode": "markers",
           "name": "Hải Phòng",
           "showlegend": true,
           "type": "scattergeo"
          },
          {
           "geo": "geo",
           "hovertemplate": "Doi tac=Bà Rịa - Vũng Tàu<br>Nam=2021<br>So du an cap moi=%{marker.size}<br>latitude=%{lat}<br>longitude=%{lon}<extra></extra>",
           "lat": [
            10.5738801
           ],
           "legendgroup": "Bà Rịa - Vũng Tàu",
           "lon": [
            107.3284362
           ],
           "marker": {
            "color": "#B6E880",
            "size": [
             21
            ],
            "sizemode": "area",
            "sizeref": 3.3,
            "symbol": "circle"
           },
           "mode": "markers",
           "name": "Bà Rịa - Vũng Tàu",
           "showlegend": true,
           "type": "scattergeo"
          },
          {
           "geo": "geo",
           "hovertemplate": "Doi tac=Long An<br>Nam=2021<br>So du an cap moi=%{marker.size}<br>latitude=%{lat}<br>longitude=%{lon}<extra></extra>",
           "lat": [
            10.6983968
           ],
           "legendgroup": "Long An",
           "lon": [
            106.1883517
           ],
           "marker": {
            "color": "#FF97FF",
            "size": [
             54
            ],
            "sizemode": "area",
            "sizeref": 3.3,
            "symbol": "circle"
           },
           "mode": "markers",
           "name": "Long An",
           "showlegend": true,
           "type": "scattergeo"
          },
          {
           "geo": "geo",
           "hovertemplate": "Doi tac=Tây Ninh<br>Nam=2021<br>So du an cap moi=%{marker.size}<br>latitude=%{lat}<br>longitude=%{lon}<extra></extra>",
           "lat": [
            11.4019366
           ],
           "legendgroup": "Tây Ninh",
           "lon": [
            106.1626927
           ],
           "marker": {
            "color": "#FECB52",
            "size": [
             16
            ],
            "sizemode": "area",
            "sizeref": 3.3,
            "symbol": "circle"
           },
           "mode": "markers",
           "name": "Tây Ninh",
           "showlegend": true,
           "type": "scattergeo"
          },
          {
           "geo": "geo",
           "hovertemplate": "Doi tac=Hải Dương<br>Nam=2021<br>So du an cap moi=%{marker.size}<br>latitude=%{lat}<br>longitude=%{lon}<extra></extra>",
           "lat": [
            20.8930571
           ],
           "legendgroup": "Hải Dương",
           "lon": [
            106.3725441
           ],
           "marker": {
            "color": "#636efa",
            "size": [
             17
            ],
            "sizemode": "area",
            "sizeref": 3.3,
            "symbol": "circle"
           },
           "mode": "markers",
           "name": "Hải Dương",
           "showlegend": true,
           "type": "scattergeo"
          },
          {
           "geo": "geo",
           "hovertemplate": "Doi tac=Bắc Giang<br>Nam=2021<br>So du an cap moi=%{marker.size}<br>latitude=%{lat}<br>longitude=%{lon}<extra></extra>",
           "lat": [
            21.3169625
           ],
           "legendgroup": "Bắc Giang",
           "lon": [
            106.437985
           ],
           "marker": {
            "color": "#EF553B",
            "size": [
             21
            ],
            "sizemode": "area",
            "sizeref": 3.3,
            "symbol": "circle"
           },
           "mode": "markers",
           "name": "Bắc Giang",
           "showlegend": true,
           "type": "scattergeo"
          },
          {
           "geo": "geo",
           "hovertemplate": "Doi tac=Quảng Ninh<br>Nam=2021<br>So du an cap moi=%{marker.size}<br>latitude=%{lat}<br>longitude=%{lon}<extra></extra>",
           "lat": [
            21.1718046
           ],
           "legendgroup": "Quảng Ninh",
           "lon": [
            107.2012742
           ],
           "marker": {
            "color": "#00cc96",
            "size": [
             10
            ],
            "sizemode": "area",
            "sizeref": 3.3,
            "symbol": "circle"
           },
           "mode": "markers",
           "name": "Quảng Ninh",
           "showlegend": true,
           "type": "scattergeo"
          },
          {
           "geo": "geo",
           "hovertemplate": "Doi tac=Vĩnh Phúc<br>Nam=2021<br>So du an cap moi=%{marker.size}<br>latitude=%{lat}<br>longitude=%{lon}<extra></extra>",
           "lat": [
            21.3778689
           ],
           "legendgroup": "Vĩnh Phúc",
           "lon": [
            105.5758286
           ],
           "marker": {
            "color": "#ab63fa",
            "size": [
             27
            ],
            "sizemode": "area",
            "sizeref": 3.3,
            "symbol": "circle"
           },
           "mode": "markers",
           "name": "Vĩnh Phúc",
           "showlegend": true,
           "type": "scattergeo"
          },
          {
           "geo": "geo",
           "hovertemplate": "Doi tac=Hà Nam<br>Nam=2021<br>So du an cap moi=%{marker.size}<br>latitude=%{lat}<br>longitude=%{lon}<extra></extra>",
           "lat": [
            34.0000001
           ],
           "legendgroup": "Hà Nam",
           "lon": [
            113.9999999
           ],
           "marker": {
            "color": "#FFA15A",
            "size": [
             20
            ],
            "sizemode": "area",
            "sizeref": 3.3,
            "symbol": "circle"
           },
           "mode": "markers",
           "name": "Hà Nam",
           "showlegend": true,
           "type": "scattergeo"
          },
          {
           "geo": "geo",
           "hovertemplate": "Doi tac=Hưng Yên<br>Nam=2021<br>So du an cap moi=%{marker.size}<br>latitude=%{lat}<br>longitude=%{lon}<extra></extra>",
           "lat": [
            20.7833912
           ],
           "legendgroup": "Hưng Yên",
           "lon": [
            106.0699025
           ],
           "marker": {
            "color": "#19d3f3",
            "size": [
             28
            ],
            "sizemode": "area",
            "sizeref": 3.3,
            "symbol": "circle"
           },
           "mode": "markers",
           "name": "Hưng Yên",
           "showlegend": true,
           "type": "scattergeo"
          },
          {
           "geo": "geo",
           "hovertemplate": "Doi tac=Bình Phước<br>Nam=2021<br>So du an cap moi=%{marker.size}<br>latitude=%{lat}<br>longitude=%{lon}<extra></extra>",
           "lat": [
            11.7332484
           ],
           "legendgroup": "Bình Phước",
           "lon": [
            106.906249
           ],
           "marker": {
            "color": "#FF6692",
            "size": [
             49
            ],
            "sizemode": "area",
            "sizeref": 3.3,
            "symbol": "circle"
           },
           "mode": "markers",
           "name": "Bình Phước",
           "showlegend": true,
           "type": "scattergeo"
          },
          {
           "geo": "geo",
           "hovertemplate": "Doi tac=Quảng Nam<br>Nam=2021<br>So du an cap moi=%{marker.size}<br>latitude=%{lat}<br>longitude=%{lon}<extra></extra>",
           "lat": [
            15.5761698
           ],
           "legendgroup": "Quảng Nam",
           "lon": [
            108.0527132
           ],
           "marker": {
            "color": "#B6E880",
            "size": [
             7
            ],
            "sizemode": "area",
            "sizeref": 3.3,
            "symbol": "circle"
           },
           "mode": "markers",
           "name": "Quảng Nam",
           "showlegend": true,
           "type": "scattergeo"
          },
          {
           "geo": "geo",
           "hovertemplate": "Doi tac=Thái Nguyên<br>Nam=2021<br>So du an cap moi=%{marker.size}<br>latitude=%{lat}<br>longitude=%{lon}<extra></extra>",
           "lat": [
            21.592477
           ],
           "legendgroup": "Thái Nguyên",
           "lon": [
            105.8435398
           ],
           "marker": {
            "color": "#FF97FF",
            "size": [
             15
            ],
            "sizemode": "area",
            "sizeref": 3.3,
            "symbol": "circle"
           },
           "mode": "markers",
           "name": "Thái Nguyên",
           "showlegend": true,
           "type": "scattergeo"
          },
          {
           "geo": "geo",
           "hovertemplate": "Doi tac=Nghệ An<br>Nam=2021<br>So du an cap moi=%{marker.size}<br>latitude=%{lat}<br>longitude=%{lon}<extra></extra>",
           "lat": [
            19.1976001
           ],
           "legendgroup": "Nghệ An",
           "lon": [
            105.060676
           ],
           "marker": {
            "color": "#FECB52",
            "size": [
             9
            ],
            "sizemode": "area",
            "sizeref": 3.3,
            "symbol": "circle"
           },
           "mode": "markers",
           "name": "Nghệ An",
           "showlegend": true,
           "type": "scattergeo"
          },
          {
           "geo": "geo",
           "hovertemplate": "Doi tac=Bến Tre<br>Nam=2021<br>So du an cap moi=%{marker.size}<br>latitude=%{lat}<br>longitude=%{lon}<extra></extra>",
           "lat": [
            10.1093637
           ],
           "legendgroup": "Bến Tre",
           "lon": [
            106.4811559
           ],
           "marker": {
            "color": "#636efa",
            "size": [
             3
            ],
            "sizemode": "area",
            "sizeref": 3.3,
            "symbol": "circle"
           },
           "mode": "markers",
           "name": "Bến Tre",
           "showlegend": true,
           "type": "scattergeo"
          },
          {
           "geo": "geo",
           "hovertemplate": "Doi tac=Hà Tĩnh<br>Nam=2021<br>So du an cap moi=%{marker.size}<br>latitude=%{lat}<br>longitude=%{lon}<extra></extra>",
           "lat": [
            18.3504832
           ],
           "legendgroup": "Hà Tĩnh",
           "lon": [
            105.7623047
           ],
           "marker": {
            "color": "#EF553B",
            "size": [
             1
            ],
            "sizemode": "area",
            "sizeref": 3.3,
            "symbol": "circle"
           },
           "mode": "markers",
           "name": "Hà Tĩnh",
           "showlegend": true,
           "type": "scattergeo"
          },
          {
           "geo": "geo",
           "hovertemplate": "Doi tac=Thừa Thiên Huế<br>Nam=2021<br>So du an cap moi=%{marker.size}<br>latitude=%{lat}<br>longitude=%{lon}<extra></extra>",
           "lat": [
            16.3480798
           ],
           "legendgroup": "Thừa Thiên Huế",
           "lon": [
            107.5398913
           ],
           "marker": {
            "color": "#00cc96",
            "size": [
             3
            ],
            "sizemode": "area",
            "sizeref": 3.3,
            "symbol": "circle"
           },
           "mode": "markers",
           "name": "Thừa Thiên Huế",
           "showlegend": true,
           "type": "scattergeo"
          },
          {
           "geo": "geo",
           "hovertemplate": "Doi tac=Phú Thọ<br>Nam=2021<br>So du an cap moi=%{marker.size}<br>latitude=%{lat}<br>longitude=%{lon}<extra></extra>",
           "lat": [
            21.3007538
           ],
           "legendgroup": "Phú Thọ",
           "lon": [
            105.1349604
           ],
           "marker": {
            "color": "#ab63fa",
            "size": [
             15
            ],
            "sizemode": "area",
            "sizeref": 3.3,
            "symbol": "circle"
           },
           "mode": "markers",
           "name": "Phú Thọ",
           "showlegend": true,
           "type": "scattergeo"
          },
          {
           "geo": "geo",
           "hovertemplate": "Doi tac=Tiền Giang<br>Nam=2021<br>So du an cap moi=%{marker.size}<br>latitude=%{lat}<br>longitude=%{lon}<extra></extra>",
           "lat": [
            10.4030368
           ],
           "legendgroup": "Tiền Giang",
           "lon": [
            106.361633
           ],
           "marker": {
            "color": "#FFA15A",
            "size": [
             2
            ],
            "sizemode": "area",
            "sizeref": 3.3,
            "symbol": "circle"
           },
           "mode": "markers",
           "name": "Tiền Giang",
           "showlegend": true,
           "type": "scattergeo"
          },
          {
           "geo": "geo",
           "hovertemplate": "Doi tac=Yên Bái<br>Nam=2021<br>So du an cap moi=%{marker.size}<br>latitude=%{lat}<br>longitude=%{lon}<extra></extra>",
           "lat": [
            21.69611
           ],
           "legendgroup": "Yên Bái",
           "lon": [
            104.8752392
           ],
           "marker": {
            "color": "#19d3f3",
            "size": [
             7
            ],
            "sizemode": "area",
            "sizeref": 3.3,
            "symbol": "circle"
           },
           "mode": "markers",
           "name": "Yên Bái",
           "showlegend": true,
           "type": "scattergeo"
          },
          {
           "geo": "geo",
           "hovertemplate": "Doi tac=Nam Định<br>Nam=2021<br>So du an cap moi=%{marker.size}<br>latitude=%{lat}<br>longitude=%{lon}<extra></extra>",
           "lat": [
            20.2686476
           ],
           "legendgroup": "Nam Định",
           "lon": [
            106.2289075
           ],
           "marker": {
            "color": "#FF6692",
            "size": [
             3
            ],
            "sizemode": "area",
            "sizeref": 3.3,
            "symbol": "circle"
           },
           "mode": "markers",
           "name": "Nam Định",
           "showlegend": true,
           "type": "scattergeo"
          },
          {
           "geo": "geo",
           "hovertemplate": "Doi tac=An Giang<br>Nam=2021<br>So du an cap moi=%{marker.size}<br>latitude=%{lat}<br>longitude=%{lon}<extra></extra>",
           "lat": [
            10.5392057
           ],
           "legendgroup": "An Giang",
           "lon": [
            105.2312822
           ],
           "marker": {
            "color": "#B6E880",
            "size": [
             1
            ],
            "sizemode": "area",
            "sizeref": 3.3,
            "symbol": "circle"
           },
           "mode": "markers",
           "name": "An Giang",
           "showlegend": true,
           "type": "scattergeo"
          },
          {
           "geo": "geo",
           "hovertemplate": "Doi tac=Bình Định<br>Nam=2021<br>So du an cap moi=%{marker.size}<br>latitude=%{lat}<br>longitude=%{lon}<extra></extra>",
           "lat": [
            14.0779378
           ],
           "legendgroup": "Bình Định",
           "lon": [
            108.9898798
           ],
           "marker": {
            "color": "#FF97FF",
            "size": [
             4
            ],
            "sizemode": "area",
            "sizeref": 3.3,
            "symbol": "circle"
           },
           "mode": "markers",
           "name": "Bình Định",
           "showlegend": true,
           "type": "scattergeo"
          },
          {
           "geo": "geo",
           "hovertemplate": "Doi tac=Khánh Hòa<br>Nam=2021<br>So du an cap moi=%{marker.size}<br>latitude=%{lat}<br>longitude=%{lon}<extra></extra>",
           "lat": [
            12.2980751
           ],
           "legendgroup": "Khánh Hòa",
           "lon": [
            108.9950386
           ],
           "marker": {
            "color": "#FECB52",
            "size": [
             1
            ],
            "sizemode": "area",
            "sizeref": 3.3,
            "symbol": "circle"
           },
           "mode": "markers",
           "name": "Khánh Hòa",
           "showlegend": true,
           "type": "scattergeo"
          },
          {
           "geo": "geo",
           "hovertemplate": "Doi tac=Thái Bình<br>Nam=2021<br>So du an cap moi=%{marker.size}<br>latitude=%{lat}<br>longitude=%{lon}<extra></extra>",
           "lat": [
            20.5296832
           ],
           "legendgroup": "Thái Bình",
           "lon": [
            106.3876068
           ],
           "marker": {
            "color": "#636efa",
            "size": [
             6
            ],
            "sizemode": "area",
            "sizeref": 3.3,
            "symbol": "circle"
           },
           "mode": "markers",
           "name": "Thái Bình",
           "showlegend": true,
           "type": "scattergeo"
          },
          {
           "geo": "geo",
           "hovertemplate": "Doi tac=Đà Nẵng<br>Nam=2021<br>So du an cap moi=%{marker.size}<br>latitude=%{lat}<br>longitude=%{lon}<extra></extra>",
           "lat": [
            16.068
           ],
           "legendgroup": "Đà Nẵng",
           "lon": [
            108.212
           ],
           "marker": {
            "color": "#EF553B",
            "size": [
             40
            ],
            "sizemode": "area",
            "sizeref": 3.3,
            "symbol": "circle"
           },
           "mode": "markers",
           "name": "Đà Nẵng",
           "showlegend": true,
           "type": "scattergeo"
          },
          {
           "geo": "geo",
           "hovertemplate": "Doi tac=Thanh Hóa<br>Nam=2021<br>So du an cap moi=%{marker.size}<br>latitude=%{lat}<br>longitude=%{lon}<extra></extra>",
           "lat": [
            19.9781573
           ],
           "legendgroup": "Thanh Hóa",
           "lon": [
            105.4816107
           ],
           "marker": {
            "color": "#00cc96",
            "size": [
             11
            ],
            "sizemode": "area",
            "sizeref": 3.3,
            "symbol": "circle"
           },
           "mode": "markers",
           "name": "Thanh Hóa",
           "showlegend": true,
           "type": "scattergeo"
          },
          {
           "geo": "geo",
           "hovertemplate": "Doi tac=Ninh Bình<br>Nam=2021<br>So du an cap moi=%{marker.size}<br>latitude=%{lat}<br>longitude=%{lon}<extra></extra>",
           "lat": [
            20.2545421
           ],
           "legendgroup": "Ninh Bình",
           "lon": [
            105.9764854
           ],
           "marker": {
            "color": "#ab63fa",
            "size": [
             7
            ],
            "sizemode": "area",
            "sizeref": 3.3,
            "symbol": "circle"
           },
           "mode": "markers",
           "name": "Ninh Bình",
           "showlegend": true,
           "type": "scattergeo"
          },
          {
           "geo": "geo",
           "hovertemplate": "Doi tac=Phú Yên<br>Nam=2021<br>So du an cap moi=%{marker.size}<br>latitude=%{lat}<br>longitude=%{lon}<extra></extra>",
           "lat": [
            13.1912633
           ],
           "legendgroup": "Phú Yên",
           "lon": [
            109.1273678
           ],
           "marker": {
            "color": "#FFA15A",
            "size": [
             1
            ],
            "sizemode": "area",
            "sizeref": 3.3,
            "symbol": "circle"
           },
           "mode": "markers",
           "name": "Phú Yên",
           "showlegend": true,
           "type": "scattergeo"
          },
          {
           "geo": "geo",
           "hovertemplate": "Doi tac=Kiên Giang<br>Nam=2021<br>So du an cap moi=%{marker.size}<br>latitude=%{lat}<br>longitude=%{lon}<extra></extra>",
           "lat": [
            9.9904962
           ],
           "legendgroup": "Kiên Giang",
           "lon": [
            105.2435248
           ],
           "marker": {
            "color": "#19d3f3",
            "size": [
             1
            ],
            "sizemode": "area",
            "sizeref": 3.3,
            "symbol": "circle"
           },
           "mode": "markers",
           "name": "Kiên Giang",
           "showlegend": true,
           "type": "scattergeo"
          },
          {
           "geo": "geo",
           "hovertemplate": "Doi tac=Đăk Lăk<br>Nam=2021<br>So du an cap moi=%{marker.size}<br>latitude=%{lat}<br>longitude=%{lon}<extra></extra>",
           "lat": [
            12.8292274
           ],
           "legendgroup": "Đăk Lăk",
           "lon": [
            108.2999058
           ],
           "marker": {
            "color": "#FF6692",
            "size": [
             8
            ],
            "sizemode": "area",
            "sizeref": 3.3,
            "symbol": "circle"
           },
           "mode": "markers",
           "name": "Đăk Lăk",
           "showlegend": true,
           "type": "scattergeo"
          },
          {
           "geo": "geo",
           "hovertemplate": "Doi tac=Quảng Bình<br>Nam=2021<br>So du an cap moi=%{marker.size}<br>latitude=%{lat}<br>longitude=%{lon}<extra></extra>",
           "lat": [
            17.509599
           ],
           "legendgroup": "Quảng Bình",
           "lon": [
            106.4004452
           ],
           "marker": {
            "color": "#B6E880",
            "size": [
             1
            ],
            "sizemode": "area",
            "sizeref": 3.3,
            "symbol": "circle"
           },
           "mode": "markers",
           "name": "Quảng Bình",
           "showlegend": true,
           "type": "scattergeo"
          },
          {
           "geo": "geo",
           "hovertemplate": "Doi tac=Bình Thuận<br>Nam=2021<br>So du an cap moi=%{marker.size}<br>latitude=%{lat}<br>longitude=%{lon}<extra></extra>",
           "lat": [
            11.1041572
           ],
           "legendgroup": "Bình Thuận",
           "lon": [
            108.1832931
           ],
           "marker": {
            "color": "#FF97FF",
            "size": [
             2
            ],
            "sizemode": "area",
            "sizeref": 3.3,
            "symbol": "circle"
           },
           "mode": "markers",
           "name": "Bình Thuận",
           "showlegend": true,
           "type": "scattergeo"
          },
          {
           "geo": "geo",
           "hovertemplate": "Doi tac=Hậu Giang<br>Nam=2021<br>So du an cap moi=%{marker.size}<br>latitude=%{lat}<br>longitude=%{lon}<extra></extra>",
           "lat": [
            9.7985063
           ],
           "legendgroup": "Hậu Giang",
           "lon": [
            105.6379524
           ],
           "marker": {
            "color": "#FECB52",
            "size": [
             6
            ],
            "sizemode": "area",
            "sizeref": 3.3,
            "symbol": "circle"
           },
           "mode": "markers",
           "name": "Hậu Giang",
           "showlegend": true,
           "type": "scattergeo"
          },
          {
           "geo": "geo",
           "hovertemplate": "Doi tac=Quảng Ngãi<br>Nam=2021<br>So du an cap moi=%{marker.size}<br>latitude=%{lat}<br>longitude=%{lon}<extra></extra>",
           "lat": [
            14.9953739
           ],
           "legendgroup": "Quảng Ngãi",
           "lon": [
            108.691729
           ],
           "marker": {
            "color": "#636efa",
            "size": [
             2
            ],
            "sizemode": "area",
            "sizeref": 3.3,
            "symbol": "circle"
           },
           "mode": "markers",
           "name": "Quảng Ngãi",
           "showlegend": true,
           "type": "scattergeo"
          },
          {
           "geo": "geo",
           "hovertemplate": "Doi tac=Cần Thơ<br>Nam=2021<br>So du an cap moi=%{marker.size}<br>latitude=%{lat}<br>longitude=%{lon}<extra></extra>",
           "lat": [
            10.0364216
           ],
           "legendgroup": "Cần Thơ",
           "lon": [
            105.7875219
           ],
           "marker": {
            "color": "#EF553B",
            "size": [
             5
            ],
            "sizemode": "area",
            "sizeref": 3.3,
            "symbol": "circle"
           },
           "mode": "markers",
           "name": "Cần Thơ",
           "showlegend": true,
           "type": "scattergeo"
          },
          {
           "geo": "geo",
           "hovertemplate": "Doi tac=Vĩnh Long<br>Nam=2021<br>So du an cap moi=%{marker.size}<br>latitude=%{lat}<br>longitude=%{lon}<extra></extra>",
           "lat": [
            10.1203043
           ],
           "legendgroup": "Vĩnh Long",
           "lon": [
            106.0125705
           ],
           "marker": {
            "color": "#00cc96",
            "size": [
             6
            ],
            "sizemode": "area",
            "sizeref": 3.3,
            "symbol": "circle"
           },
           "mode": "markers",
           "name": "Vĩnh Long",
           "showlegend": true,
           "type": "scattergeo"
          },
          {
           "geo": "geo",
           "hovertemplate": "Doi tac=Đồng Tháp<br>Nam=2021<br>So du an cap moi=%{marker.size}<br>latitude=%{lat}<br>longitude=%{lon}<extra></extra>",
           "lat": [
            10.590424
           ],
           "legendgroup": "Đồng Tháp",
           "lon": [
            105.6802341
           ],
           "marker": {
            "color": "#ab63fa",
            "size": [
             4
            ],
            "sizemode": "area",
            "sizeref": 3.3,
            "symbol": "circle"
           },
           "mode": "markers",
           "name": "Đồng Tháp",
           "showlegend": true,
           "type": "scattergeo"
          },
          {
           "geo": "geo",
           "hovertemplate": "Doi tac=Lâm Đồng<br>Nam=2021<br>So du an cap moi=%{marker.size}<br>latitude=%{lat}<br>longitude=%{lon}<extra></extra>",
           "lat": [
            11.6614957
           ],
           "legendgroup": "Lâm Đồng",
           "lon": [
            108.1335279
           ],
           "marker": {
            "color": "#FFA15A",
            "size": [
             1
            ],
            "sizemode": "area",
            "sizeref": 3.3,
            "symbol": "circle"
           },
           "mode": "markers",
           "name": "Lâm Đồng",
           "showlegend": true,
           "type": "scattergeo"
          },
          {
           "geo": "geo",
           "hovertemplate": "Doi tac=Sóc Trăng<br>Nam=2021<br>So du an cap moi=%{marker.size}<br>latitude=%{lat}<br>longitude=%{lon}<extra></extra>",
           "lat": [
            9.5628369
           ],
           "legendgroup": "Sóc Trăng",
           "lon": [
            105.9493991
           ],
           "marker": {
            "color": "#19d3f3",
            "size": [
             1
            ],
            "sizemode": "area",
            "sizeref": 3.3,
            "symbol": "circle"
           },
           "mode": "markers",
           "name": "Sóc Trăng",
           "showlegend": true,
           "type": "scattergeo"
          },
          {
           "geo": "geo",
           "hovertemplate": "Doi tac=Bạc Liêu<br>Nam=2021<br>So du an cap moi=%{marker.size}<br>latitude=%{lat}<br>longitude=%{lon}<extra></extra>",
           "lat": [
            9.3298341
           ],
           "legendgroup": "Bạc Liêu",
           "lon": [
            105.509946
           ],
           "marker": {
            "color": "#FF6692",
            "size": [
             1
            ],
            "sizemode": "area",
            "sizeref": 3.3,
            "symbol": "circle"
           },
           "mode": "markers",
           "name": "Bạc Liêu",
           "showlegend": true,
           "type": "scattergeo"
          },
          {
           "geo": "geo",
           "hovertemplate": "Doi tac=Tuyên Quang<br>Nam=2021<br>So du an cap moi=%{marker.size}<br>latitude=%{lat}<br>longitude=%{lon}<extra></extra>",
           "lat": [
            22.0747798
           ],
           "legendgroup": "Tuyên Quang",
           "lon": [
            105.258411
           ],
           "marker": {
            "color": "#B6E880",
            "size": [
             1
            ],
            "sizemode": "area",
            "sizeref": 3.3,
            "symbol": "circle"
           },
           "mode": "markers",
           "name": "Tuyên Quang",
           "showlegend": true,
           "type": "scattergeo"
          },
          {
           "geo": "geo",
           "hovertemplate": "Doi tac=Hòa Bình<br>Nam=2021<br>So du an cap moi=%{marker.size}<br>latitude=%{lat}<br>longitude=%{lon}<extra></extra>",
           "lat": [
            20.6763365
           ],
           "legendgroup": "Hòa Bình",
           "lon": [
            105.3759952
           ],
           "marker": {
            "color": "#FF97FF",
            "size": [
             1
            ],
            "sizemode": "area",
            "sizeref": 3.3,
            "symbol": "circle"
           },
           "mode": "markers",
           "name": "Hòa Bình",
           "showlegend": true,
           "type": "scattergeo"
          },
          {
           "geo": "geo",
           "hovertemplate": "Doi tac=Ninh Thuận<br>Nam=2021<br>So du an cap moi=%{marker.size}<br>latitude=%{lat}<br>longitude=%{lon}<extra></extra>",
           "lat": [
            11.6965639
           ],
           "legendgroup": "Ninh Thuận",
           "lon": [
            108.8928476
           ],
           "marker": {
            "color": "#FECB52",
            "size": [
             1
            ],
            "sizemode": "area",
            "sizeref": 3.3,
            "symbol": "circle"
           },
           "mode": "markers",
           "name": "Ninh Thuận",
           "showlegend": true,
           "type": "scattergeo"
          },
          {
           "geo": "geo",
           "hovertemplate": "Doi tac=Lào Cai<br>Nam=2021<br>So du an cap moi=%{marker.size}<br>latitude=%{lat}<br>longitude=%{lon}<extra></extra>",
           "lat": [
            22.3069302
           ],
           "legendgroup": "Lào Cai",
           "lon": [
            104.1829592
           ],
           "marker": {
            "color": "#00cc96",
            "size": [
             1
            ],
            "sizemode": "area",
            "sizeref": 3.3,
            "symbol": "circle"
           },
           "mode": "markers",
           "name": "Lào Cai",
           "showlegend": true,
           "type": "scattergeo"
          },
          {
           "geo": "geo",
           "hovertemplate": "Doi tac=Lạng Sơn<br>Nam=2021<br>So du an cap moi=%{marker.size}<br>latitude=%{lat}<br>longitude=%{lon}<extra></extra>",
           "lat": [
            21.7773599
           ],
           "legendgroup": "Lạng Sơn",
           "lon": [
            106.740412
           ],
           "marker": {
            "color": "#FFA15A",
            "size": [
             1
            ],
            "sizemode": "area",
            "sizeref": 3.3,
            "symbol": "circle"
           },
           "mode": "markers",
           "name": "Lạng Sơn",
           "showlegend": true,
           "type": "scattergeo"
          },
          {
           "geo": "geo",
           "hovertemplate": "Doi tac=Kon Tum<br>Nam=2021<br>So du an cap moi=%{marker.size}<br>latitude=%{lat}<br>longitude=%{lon}<extra></extra>",
           "lat": [
            14.6995372
           ],
           "legendgroup": "Kon Tum",
           "lon": [
            107.9323831
           ],
           "marker": {
            "color": "#19d3f3",
            "size": [
             1
            ],
            "sizemode": "area",
            "sizeref": 3.3,
            "symbol": "circle"
           },
           "mode": "markers",
           "name": "Kon Tum",
           "showlegend": true,
           "type": "scattergeo"
          },
          {
           "geo": "geo",
           "hovertemplate": "Doi tac=Quảng Trị<br>Nam=2021<br>So du an cap moi=%{marker.size}<br>latitude=%{lat}<br>longitude=%{lon}<extra></extra>",
           "lat": [
            16.7897806
           ],
           "legendgroup": "Quảng Trị",
           "lon": [
            106.9797431
           ],
           "marker": {
            "color": "#FF6692",
            "size": [
             2
            ],
            "sizemode": "area",
            "sizeref": 3.3,
            "symbol": "circle"
           },
           "mode": "markers",
           "name": "Quảng Trị",
           "showlegend": true,
           "type": "scattergeo"
          },
          {
           "geo": "geo",
           "hovertemplate": "Doi tac=Đăk Nông<br>Nam=2021<br>So du an cap moi=%{marker.size}<br>latitude=%{lat}<br>longitude=%{lon}<extra></extra>",
           "lat": [
            12.2818851
           ],
           "legendgroup": "Đăk Nông",
           "lon": [
            107.7302484
           ],
           "marker": {
            "color": "#B6E880",
            "size": [
             1
            ],
            "sizemode": "area",
            "sizeref": 3.3,
            "symbol": "circle"
           },
           "mode": "markers",
           "name": "Đăk Nông",
           "showlegend": true,
           "type": "scattergeo"
          },
          {
           "geo": "geo",
           "hovertemplate": "Doi tac=Gia Lai<br>Nam=2021<br>So du an cap moi=%{marker.size}<br>latitude=%{lat}<br>longitude=%{lon}<extra></extra>",
           "lat": [
            13.8177445
           ],
           "legendgroup": "Gia Lai",
           "lon": [
            108.2004015
           ],
           "marker": {
            "color": "#FF97FF",
            "size": [
             1
            ],
            "sizemode": "area",
            "sizeref": 3.3,
            "symbol": "circle"
           },
           "mode": "markers",
           "name": "Gia Lai",
           "showlegend": true,
           "type": "scattergeo"
          },
          {
           "geo": "geo",
           "hovertemplate": "Doi tac=Cà Mau<br>Nam=2021<br>So du an cap moi=%{marker.size}<br>latitude=%{lat}<br>longitude=%{lon}<extra></extra>",
           "lat": [
            9.0180177
           ],
           "legendgroup": "Cà Mau",
           "lon": [
            105.0869724
           ],
           "marker": {
            "color": "#FECB52",
            "size": [
             1
            ],
            "sizemode": "area",
            "sizeref": 3.3,
            "symbol": "circle"
           },
           "mode": "markers",
           "name": "Cà Mau",
           "showlegend": true,
           "type": "scattergeo"
          },
          {
           "geo": "geo",
           "hovertemplate": "Doi tac=Cao Bằng<br>Nam=2021<br>So du an cap moi=%{marker.size}<br>latitude=%{lat}<br>longitude=%{lon}<extra></extra>",
           "lat": [
            22.7730867
           ],
           "legendgroup": "Cao Bằng",
           "lon": [
            106.0017225
           ],
           "marker": {
            "color": "#EF553B",
            "size": [
             1
            ],
            "sizemode": "area",
            "sizeref": 3.3,
            "symbol": "circle"
           },
           "mode": "markers",
           "name": "Cao Bằng",
           "showlegend": true,
           "type": "scattergeo"
          },
          {
           "geo": "geo",
           "hovertemplate": "Doi tac=Lai Châu<br>Nam=2021<br>So du an cap moi=%{marker.size}<br>latitude=%{lat}<br>longitude=%{lon}<extra></extra>",
           "lat": [
            22.2921668
           ],
           "legendgroup": "Lai Châu",
           "lon": [
            103.1798662
           ],
           "marker": {
            "color": "#ab63fa",
            "size": [
             1
            ],
            "sizemode": "area",
            "sizeref": 3.3,
            "symbol": "circle"
           },
           "mode": "markers",
           "name": "Lai Châu",
           "showlegend": true,
           "type": "scattergeo"
          }
         ],
         "name": "2021"
        },
        {
         "data": [
          {
           "geo": "geo",
           "hovertemplate": "Doi tac=Bắc Ninh<br>Nam=2022<br>So du an cap moi=%{marker.size}<br>latitude=%{lat}<br>longitude=%{lon}<extra></extra>",
           "lat": [
            21.0955822
           ],
           "legendgroup": "Bắc Ninh",
           "lon": [
            106.1264766
           ],
           "marker": {
            "color": "#636efa",
            "size": [
             147
            ],
            "sizemode": "area",
            "sizeref": 3.3,
            "symbol": "circle"
           },
           "mode": "markers",
           "name": "Bắc Ninh",
           "showlegend": true,
           "type": "scattergeo"
          },
          {
           "geo": "geo",
           "hovertemplate": "Doi tac=TP. Hồ Chí Minh<br>Nam=2022<br>So du an cap moi=%{marker.size}<br>latitude=%{lat}<br>longitude=%{lon}<extra></extra>",
           "lat": [
            10.7763897
           ],
           "legendgroup": "TP. Hồ Chí Minh",
           "lon": [
            106.7011391
           ],
           "marker": {
            "color": "#EF553B",
            "size": [
             893
            ],
            "sizemode": "area",
            "sizeref": 3.3,
            "symbol": "circle"
           },
           "mode": "markers",
           "name": "TP. Hồ Chí Minh",
           "showlegend": true,
           "type": "scattergeo"
          },
          {
           "geo": "geo",
           "hovertemplate": "Doi tac=Bình Dương<br>Nam=2022<br>So du an cap moi=%{marker.size}<br>latitude=%{lat}<br>longitude=%{lon}<extra></extra>",
           "lat": [
            11.1836551
           ],
           "legendgroup": "Bình Dương",
           "lon": [
            106.7031737
           ],
           "marker": {
            "color": "#00cc96",
            "size": [
             68
            ],
            "sizemode": "area",
            "sizeref": 3.3,
            "symbol": "circle"
           },
           "mode": "markers",
           "name": "Bình Dương",
           "showlegend": true,
           "type": "scattergeo"
          },
          {
           "geo": "geo",
           "hovertemplate": "Doi tac=Trà Vinh<br>Nam=2022<br>So du an cap moi=%{marker.size}<br>latitude=%{lat}<br>longitude=%{lon}<extra></extra>",
           "lat": [
            9.8037998
           ],
           "legendgroup": "Trà Vinh",
           "lon": [
            106.3256808
           ],
           "marker": {
            "color": "#ab63fa",
            "size": [
             1
            ],
            "sizemode": "area",
            "sizeref": 3.3,
            "symbol": "circle"
           },
           "mode": "markers",
           "name": "Trà Vinh",
           "showlegend": true,
           "type": "scattergeo"
          },
          {
           "geo": "geo",
           "hovertemplate": "Doi tac=Đồng Nai<br>Nam=2022<br>So du an cap moi=%{marker.size}<br>latitude=%{lat}<br>longitude=%{lon}<extra></extra>",
           "lat": [
            11.0355624
           ],
           "legendgroup": "Đồng Nai",
           "lon": [
            107.1881076
           ],
           "marker": {
            "color": "#FFA15A",
            "size": [
             51
            ],
            "sizemode": "area",
            "sizeref": 3.3,
            "symbol": "circle"
           },
           "mode": "markers",
           "name": "Đồng Nai",
           "showlegend": true,
           "type": "scattergeo"
          },
          {
           "geo": "geo",
           "hovertemplate": "Doi tac=Hà Nội<br>Nam=2022<br>So du an cap moi=%{marker.size}<br>latitude=%{lat}<br>longitude=%{lon}<extra></extra>",
           "lat": [
            21.0283207
           ],
           "legendgroup": "Hà Nội",
           "lon": [
            105.8540217
           ],
           "marker": {
            "color": "#19d3f3",
            "size": [
             365
            ],
            "sizemode": "area",
            "sizeref": 3.3,
            "symbol": "circle"
           },
           "mode": "markers",
           "name": "Hà Nội",
           "showlegend": true,
           "type": "scattergeo"
          },
          {
           "geo": "geo",
           "hovertemplate": "Doi tac=Hải Phòng<br>Nam=2022<br>So du an cap moi=%{marker.size}<br>latitude=%{lat}<br>longitude=%{lon}<extra></extra>",
           "lat": [
            20.858864
           ],
           "legendgroup": "Hải Phòng",
           "lon": [
            106.6749591
           ],
           "marker": {
            "color": "#FF6692",
            "size": [
             91
            ],
            "sizemode": "area",
            "sizeref": 3.3,
            "symbol": "circle"
           },
           "mode": "markers",
           "name": "Hải Phòng",
           "showlegend": true,
           "type": "scattergeo"
          },
          {
           "geo": "geo",
           "hovertemplate": "Doi tac=Bà Rịa - Vũng Tàu<br>Nam=2022<br>So du an cap moi=%{marker.size}<br>latitude=%{lat}<br>longitude=%{lon}<extra></extra>",
           "lat": [
            10.5738801
           ],
           "legendgroup": "Bà Rịa - Vũng Tàu",
           "lon": [
            107.3284362
           ],
           "marker": {
            "color": "#B6E880",
            "size": [
             17
            ],
            "sizemode": "area",
            "sizeref": 3.3,
            "symbol": "circle"
           },
           "mode": "markers",
           "name": "Bà Rịa - Vũng Tàu",
           "showlegend": true,
           "type": "scattergeo"
          },
          {
           "geo": "geo",
           "hovertemplate": "Doi tac=Long An<br>Nam=2022<br>So du an cap moi=%{marker.size}<br>latitude=%{lat}<br>longitude=%{lon}<extra></extra>",
           "lat": [
            10.6983968
           ],
           "legendgroup": "Long An",
           "lon": [
            106.1883517
           ],
           "marker": {
            "color": "#FF97FF",
            "size": [
             61
            ],
            "sizemode": "area",
            "sizeref": 3.3,
            "symbol": "circle"
           },
           "mode": "markers",
           "name": "Long An",
           "showlegend": true,
           "type": "scattergeo"
          },
          {
           "geo": "geo",
           "hovertemplate": "Doi tac=Tây Ninh<br>Nam=2022<br>So du an cap moi=%{marker.size}<br>latitude=%{lat}<br>longitude=%{lon}<extra></extra>",
           "lat": [
            11.4019366
           ],
           "legendgroup": "Tây Ninh",
           "lon": [
            106.1626927
           ],
           "marker": {
            "color": "#FECB52",
            "size": [
             18
            ],
            "sizemode": "area",
            "sizeref": 3.3,
            "symbol": "circle"
           },
           "mode": "markers",
           "name": "Tây Ninh",
           "showlegend": true,
           "type": "scattergeo"
          },
          {
           "geo": "geo",
           "hovertemplate": "Doi tac=Hải Dương<br>Nam=2022<br>So du an cap moi=%{marker.size}<br>latitude=%{lat}<br>longitude=%{lon}<extra></extra>",
           "lat": [
            20.8930571
           ],
           "legendgroup": "Hải Dương",
           "lon": [
            106.3725441
           ],
           "marker": {
            "color": "#636efa",
            "size": [
             17
            ],
            "sizemode": "area",
            "sizeref": 3.3,
            "symbol": "circle"
           },
           "mode": "markers",
           "name": "Hải Dương",
           "showlegend": true,
           "type": "scattergeo"
          },
          {
           "geo": "geo",
           "hovertemplate": "Doi tac=Bắc Giang<br>Nam=2022<br>So du an cap moi=%{marker.size}<br>latitude=%{lat}<br>longitude=%{lon}<extra></extra>",
           "lat": [
            21.3169625
           ],
           "legendgroup": "Bắc Giang",
           "lon": [
            106.437985
           ],
           "marker": {
            "color": "#EF553B",
            "size": [
             36
            ],
            "sizemode": "area",
            "sizeref": 3.3,
            "symbol": "circle"
           },
           "mode": "markers",
           "name": "Bắc Giang",
           "showlegend": true,
           "type": "scattergeo"
          },
          {
           "geo": "geo",
           "hovertemplate": "Doi tac=Quảng Ninh<br>Nam=2022<br>So du an cap moi=%{marker.size}<br>latitude=%{lat}<br>longitude=%{lon}<extra></extra>",
           "lat": [
            21.1718046
           ],
           "legendgroup": "Quảng Ninh",
           "lon": [
            107.2012742
           ],
           "marker": {
            "color": "#00cc96",
            "size": [
             9
            ],
            "sizemode": "area",
            "sizeref": 3.3,
            "symbol": "circle"
           },
           "mode": "markers",
           "name": "Quảng Ninh",
           "showlegend": true,
           "type": "scattergeo"
          },
          {
           "geo": "geo",
           "hovertemplate": "Doi tac=Vĩnh Phúc<br>Nam=2022<br>So du an cap moi=%{marker.size}<br>latitude=%{lat}<br>longitude=%{lon}<extra></extra>",
           "lat": [
            21.3778689
           ],
           "legendgroup": "Vĩnh Phúc",
           "lon": [
            105.5758286
           ],
           "marker": {
            "color": "#ab63fa",
            "size": [
             28
            ],
            "sizemode": "area",
            "sizeref": 3.3,
            "symbol": "circle"
           },
           "mode": "markers",
           "name": "Vĩnh Phúc",
           "showlegend": true,
           "type": "scattergeo"
          },
          {
           "geo": "geo",
           "hovertemplate": "Doi tac=Hà Nam<br>Nam=2022<br>So du an cap moi=%{marker.size}<br>latitude=%{lat}<br>longitude=%{lon}<extra></extra>",
           "lat": [
            34.0000001
           ],
           "legendgroup": "Hà Nam",
           "lon": [
            113.9999999
           ],
           "marker": {
            "color": "#FFA15A",
            "size": [
             19
            ],
            "sizemode": "area",
            "sizeref": 3.3,
            "symbol": "circle"
           },
           "mode": "markers",
           "name": "Hà Nam",
           "showlegend": true,
           "type": "scattergeo"
          },
          {
           "geo": "geo",
           "hovertemplate": "Doi tac=Hưng Yên<br>Nam=2022<br>So du an cap moi=%{marker.size}<br>latitude=%{lat}<br>longitude=%{lon}<extra></extra>",
           "lat": [
            20.7833912
           ],
           "legendgroup": "Hưng Yên",
           "lon": [
            106.0699025
           ],
           "marker": {
            "color": "#19d3f3",
            "size": [
             21
            ],
            "sizemode": "area",
            "sizeref": 3.3,
            "symbol": "circle"
           },
           "mode": "markers",
           "name": "Hưng Yên",
           "showlegend": true,
           "type": "scattergeo"
          },
          {
           "geo": "geo",
           "hovertemplate": "Doi tac=Bình Phước<br>Nam=2022<br>So du an cap moi=%{marker.size}<br>latitude=%{lat}<br>longitude=%{lon}<extra></extra>",
           "lat": [
            11.7332484
           ],
           "legendgroup": "Bình Phước",
           "lon": [
            106.906249
           ],
           "marker": {
            "color": "#FF6692",
            "size": [
             33
            ],
            "sizemode": "area",
            "sizeref": 3.3,
            "symbol": "circle"
           },
           "mode": "markers",
           "name": "Bình Phước",
           "showlegend": true,
           "type": "scattergeo"
          },
          {
           "geo": "geo",
           "hovertemplate": "Doi tac=Quảng Nam<br>Nam=2022<br>So du an cap moi=%{marker.size}<br>latitude=%{lat}<br>longitude=%{lon}<extra></extra>",
           "lat": [
            15.5761698
           ],
           "legendgroup": "Quảng Nam",
           "lon": [
            108.0527132
           ],
           "marker": {
            "color": "#B6E880",
            "size": [
             5
            ],
            "sizemode": "area",
            "sizeref": 3.3,
            "symbol": "circle"
           },
           "mode": "markers",
           "name": "Quảng Nam",
           "showlegend": true,
           "type": "scattergeo"
          },
          {
           "geo": "geo",
           "hovertemplate": "Doi tac=Thái Nguyên<br>Nam=2022<br>So du an cap moi=%{marker.size}<br>latitude=%{lat}<br>longitude=%{lon}<extra></extra>",
           "lat": [
            21.592477
           ],
           "legendgroup": "Thái Nguyên",
           "lon": [
            105.8435398
           ],
           "marker": {
            "color": "#FF97FF",
            "size": [
             5
            ],
            "sizemode": "area",
            "sizeref": 3.3,
            "symbol": "circle"
           },
           "mode": "markers",
           "name": "Thái Nguyên",
           "showlegend": true,
           "type": "scattergeo"
          },
          {
           "geo": "geo",
           "hovertemplate": "Doi tac=Nghệ An<br>Nam=2022<br>So du an cap moi=%{marker.size}<br>latitude=%{lat}<br>longitude=%{lon}<extra></extra>",
           "lat": [
            19.1976001
           ],
           "legendgroup": "Nghệ An",
           "lon": [
            105.060676
           ],
           "marker": {
            "color": "#FECB52",
            "size": [
             19
            ],
            "sizemode": "area",
            "sizeref": 3.3,
            "symbol": "circle"
           },
           "mode": "markers",
           "name": "Nghệ An",
           "showlegend": true,
           "type": "scattergeo"
          },
          {
           "geo": "geo",
           "hovertemplate": "Doi tac=Bến Tre<br>Nam=2022<br>So du an cap moi=%{marker.size}<br>latitude=%{lat}<br>longitude=%{lon}<extra></extra>",
           "lat": [
            10.1093637
           ],
           "legendgroup": "Bến Tre",
           "lon": [
            106.4811559
           ],
           "marker": {
            "color": "#636efa",
            "size": [
             1
            ],
            "sizemode": "area",
            "sizeref": 3.3,
            "symbol": "circle"
           },
           "mode": "markers",
           "name": "Bến Tre",
           "showlegend": true,
           "type": "scattergeo"
          },
          {
           "geo": "geo",
           "hovertemplate": "Doi tac=Hà Tĩnh<br>Nam=2022<br>So du an cap moi=%{marker.size}<br>latitude=%{lat}<br>longitude=%{lon}<extra></extra>",
           "lat": [
            18.3504832
           ],
           "legendgroup": "Hà Tĩnh",
           "lon": [
            105.7623047
           ],
           "marker": {
            "color": "#EF553B",
            "size": [
             1
            ],
            "sizemode": "area",
            "sizeref": 3.3,
            "symbol": "circle"
           },
           "mode": "markers",
           "name": "Hà Tĩnh",
           "showlegend": true,
           "type": "scattergeo"
          },
          {
           "geo": "geo",
           "hovertemplate": "Doi tac=Thừa Thiên Huế<br>Nam=2022<br>So du an cap moi=%{marker.size}<br>latitude=%{lat}<br>longitude=%{lon}<extra></extra>",
           "lat": [
            16.3480798
           ],
           "legendgroup": "Thừa Thiên Huế",
           "lon": [
            107.5398913
           ],
           "marker": {
            "color": "#00cc96",
            "size": [
             6
            ],
            "sizemode": "area",
            "sizeref": 3.3,
            "symbol": "circle"
           },
           "mode": "markers",
           "name": "Thừa Thiên Huế",
           "showlegend": true,
           "type": "scattergeo"
          },
          {
           "geo": "geo",
           "hovertemplate": "Doi tac=Phú Thọ<br>Nam=2022<br>So du an cap moi=%{marker.size}<br>latitude=%{lat}<br>longitude=%{lon}<extra></extra>",
           "lat": [
            21.3007538
           ],
           "legendgroup": "Phú Thọ",
           "lon": [
            105.1349604
           ],
           "marker": {
            "color": "#ab63fa",
            "size": [
             8
            ],
            "sizemode": "area",
            "sizeref": 3.3,
            "symbol": "circle"
           },
           "mode": "markers",
           "name": "Phú Thọ",
           "showlegend": true,
           "type": "scattergeo"
          },
          {
           "geo": "geo",
           "hovertemplate": "Doi tac=Tiền Giang<br>Nam=2022<br>So du an cap moi=%{marker.size}<br>latitude=%{lat}<br>longitude=%{lon}<extra></extra>",
           "lat": [
            10.4030368
           ],
           "legendgroup": "Tiền Giang",
           "lon": [
            106.361633
           ],
           "marker": {
            "color": "#FFA15A",
            "size": [
             9
            ],
            "sizemode": "area",
            "sizeref": 3.3,
            "symbol": "circle"
           },
           "mode": "markers",
           "name": "Tiền Giang",
           "showlegend": true,
           "type": "scattergeo"
          },
          {
           "geo": "geo",
           "hovertemplate": "Doi tac=Yên Bái<br>Nam=2022<br>So du an cap moi=%{marker.size}<br>latitude=%{lat}<br>longitude=%{lon}<extra></extra>",
           "lat": [
            21.69611
           ],
           "legendgroup": "Yên Bái",
           "lon": [
            104.8752392
           ],
           "marker": {
            "color": "#19d3f3",
            "size": [
             3
            ],
            "sizemode": "area",
            "sizeref": 3.3,
            "symbol": "circle"
           },
           "mode": "markers",
           "name": "Yên Bái",
           "showlegend": true,
           "type": "scattergeo"
          },
          {
           "geo": "geo",
           "hovertemplate": "Doi tac=Nam Định<br>Nam=2022<br>So du an cap moi=%{marker.size}<br>latitude=%{lat}<br>longitude=%{lon}<extra></extra>",
           "lat": [
            20.2686476
           ],
           "legendgroup": "Nam Định",
           "lon": [
            106.2289075
           ],
           "marker": {
            "color": "#FF6692",
            "size": [
             7
            ],
            "sizemode": "area",
            "sizeref": 3.3,
            "symbol": "circle"
           },
           "mode": "markers",
           "name": "Nam Định",
           "showlegend": true,
           "type": "scattergeo"
          },
          {
           "geo": "geo",
           "hovertemplate": "Doi tac=An Giang<br>Nam=2022<br>So du an cap moi=%{marker.size}<br>latitude=%{lat}<br>longitude=%{lon}<extra></extra>",
           "lat": [
            10.5392057
           ],
           "legendgroup": "An Giang",
           "lon": [
            105.2312822
           ],
           "marker": {
            "color": "#B6E880",
            "size": [
             2
            ],
            "sizemode": "area",
            "sizeref": 3.3,
            "symbol": "circle"
           },
           "mode": "markers",
           "name": "An Giang",
           "showlegend": true,
           "type": "scattergeo"
          },
          {
           "geo": "geo",
           "hovertemplate": "Doi tac=Bình Định<br>Nam=2022<br>So du an cap moi=%{marker.size}<br>latitude=%{lat}<br>longitude=%{lon}<extra></extra>",
           "lat": [
            14.0779378
           ],
           "legendgroup": "Bình Định",
           "lon": [
            108.9898798
           ],
           "marker": {
            "color": "#FF97FF",
            "size": [
             2
            ],
            "sizemode": "area",
            "sizeref": 3.3,
            "symbol": "circle"
           },
           "mode": "markers",
           "name": "Bình Định",
           "showlegend": true,
           "type": "scattergeo"
          },
          {
           "geo": "geo",
           "hovertemplate": "Doi tac=Khánh Hòa<br>Nam=2022<br>So du an cap moi=%{marker.size}<br>latitude=%{lat}<br>longitude=%{lon}<extra></extra>",
           "lat": [
            12.2980751
           ],
           "legendgroup": "Khánh Hòa",
           "lon": [
            108.9950386
           ],
           "marker": {
            "color": "#FECB52",
            "size": [
             1
            ],
            "sizemode": "area",
            "sizeref": 3.3,
            "symbol": "circle"
           },
           "mode": "markers",
           "name": "Khánh Hòa",
           "showlegend": true,
           "type": "scattergeo"
          },
          {
           "geo": "geo",
           "hovertemplate": "Doi tac=Thái Bình<br>Nam=2022<br>So du an cap moi=%{marker.size}<br>latitude=%{lat}<br>longitude=%{lon}<extra></extra>",
           "lat": [
            20.5296832
           ],
           "legendgroup": "Thái Bình",
           "lon": [
            106.3876068
           ],
           "marker": {
            "color": "#636efa",
            "size": [
             8
            ],
            "sizemode": "area",
            "sizeref": 3.3,
            "symbol": "circle"
           },
           "mode": "markers",
           "name": "Thái Bình",
           "showlegend": true,
           "type": "scattergeo"
          },
          {
           "geo": "geo",
           "hovertemplate": "Doi tac=Đà Nẵng<br>Nam=2022<br>So du an cap moi=%{marker.size}<br>latitude=%{lat}<br>longitude=%{lon}<extra></extra>",
           "lat": [
            16.068
           ],
           "legendgroup": "Đà Nẵng",
           "lon": [
            108.212
           ],
           "marker": {
            "color": "#EF553B",
            "size": [
             47
            ],
            "sizemode": "area",
            "sizeref": 3.3,
            "symbol": "circle"
           },
           "mode": "markers",
           "name": "Đà Nẵng",
           "showlegend": true,
           "type": "scattergeo"
          },
          {
           "geo": "geo",
           "hovertemplate": "Doi tac=Thanh Hóa<br>Nam=2022<br>So du an cap moi=%{marker.size}<br>latitude=%{lat}<br>longitude=%{lon}<extra></extra>",
           "lat": [
            19.9781573
           ],
           "legendgroup": "Thanh Hóa",
           "lon": [
            105.4816107
           ],
           "marker": {
            "color": "#00cc96",
            "size": [
             7
            ],
            "sizemode": "area",
            "sizeref": 3.3,
            "symbol": "circle"
           },
           "mode": "markers",
           "name": "Thanh Hóa",
           "showlegend": true,
           "type": "scattergeo"
          },
          {
           "geo": "geo",
           "hovertemplate": "Doi tac=Ninh Bình<br>Nam=2022<br>So du an cap moi=%{marker.size}<br>latitude=%{lat}<br>longitude=%{lon}<extra></extra>",
           "lat": [
            20.2545421
           ],
           "legendgroup": "Ninh Bình",
           "lon": [
            105.9764854
           ],
           "marker": {
            "color": "#ab63fa",
            "size": [
             5
            ],
            "sizemode": "area",
            "sizeref": 3.3,
            "symbol": "circle"
           },
           "mode": "markers",
           "name": "Ninh Bình",
           "showlegend": true,
           "type": "scattergeo"
          },
          {
           "geo": "geo",
           "hovertemplate": "Doi tac=Phú Yên<br>Nam=2022<br>So du an cap moi=%{marker.size}<br>latitude=%{lat}<br>longitude=%{lon}<extra></extra>",
           "lat": [
            13.1912633
           ],
           "legendgroup": "Phú Yên",
           "lon": [
            109.1273678
           ],
           "marker": {
            "color": "#FFA15A",
            "size": [
             1
            ],
            "sizemode": "area",
            "sizeref": 3.3,
            "symbol": "circle"
           },
           "mode": "markers",
           "name": "Phú Yên",
           "showlegend": true,
           "type": "scattergeo"
          },
          {
           "geo": "geo",
           "hovertemplate": "Doi tac=Kiên Giang<br>Nam=2022<br>So du an cap moi=%{marker.size}<br>latitude=%{lat}<br>longitude=%{lon}<extra></extra>",
           "lat": [
            9.9904962
           ],
           "legendgroup": "Kiên Giang",
           "lon": [
            105.2435248
           ],
           "marker": {
            "color": "#19d3f3",
            "size": [
             1
            ],
            "sizemode": "area",
            "sizeref": 3.3,
            "symbol": "circle"
           },
           "mode": "markers",
           "name": "Kiên Giang",
           "showlegend": true,
           "type": "scattergeo"
          },
          {
           "geo": "geo",
           "hovertemplate": "Doi tac=Đăk Lăk<br>Nam=2022<br>So du an cap moi=%{marker.size}<br>latitude=%{lat}<br>longitude=%{lon}<extra></extra>",
           "lat": [
            12.8292274
           ],
           "legendgroup": "Đăk Lăk",
           "lon": [
            108.2999058
           ],
           "marker": {
            "color": "#FF6692",
            "size": [
             2
            ],
            "sizemode": "area",
            "sizeref": 3.3,
            "symbol": "circle"
           },
           "mode": "markers",
           "name": "Đăk Lăk",
           "showlegend": true,
           "type": "scattergeo"
          },
          {
           "geo": "geo",
           "hovertemplate": "Doi tac=Bình Thuận<br>Nam=2022<br>So du an cap moi=%{marker.size}<br>latitude=%{lat}<br>longitude=%{lon}<extra></extra>",
           "lat": [
            11.1041572
           ],
           "legendgroup": "Bình Thuận",
           "lon": [
            108.1832931
           ],
           "marker": {
            "color": "#FF97FF",
            "size": [
             2
            ],
            "sizemode": "area",
            "sizeref": 3.3,
            "symbol": "circle"
           },
           "mode": "markers",
           "name": "Bình Thuận",
           "showlegend": true,
           "type": "scattergeo"
          },
          {
           "geo": "geo",
           "hovertemplate": "Doi tac=Hậu Giang<br>Nam=2022<br>So du an cap moi=%{marker.size}<br>latitude=%{lat}<br>longitude=%{lon}<extra></extra>",
           "lat": [
            9.7985063
           ],
           "legendgroup": "Hậu Giang",
           "lon": [
            105.6379524
           ],
           "marker": {
            "color": "#FECB52",
            "size": [
             1
            ],
            "sizemode": "area",
            "sizeref": 3.3,
            "symbol": "circle"
           },
           "mode": "markers",
           "name": "Hậu Giang",
           "showlegend": true,
           "type": "scattergeo"
          },
          {
           "geo": "geo",
           "hovertemplate": "Doi tac=Quảng Ngãi<br>Nam=2022<br>So du an cap moi=%{marker.size}<br>latitude=%{lat}<br>longitude=%{lon}<extra></extra>",
           "lat": [
            14.9953739
           ],
           "legendgroup": "Quảng Ngãi",
           "lon": [
            108.691729
           ],
           "marker": {
            "color": "#636efa",
            "size": [
             4
            ],
            "sizemode": "area",
            "sizeref": 3.3,
            "symbol": "circle"
           },
           "mode": "markers",
           "name": "Quảng Ngãi",
           "showlegend": true,
           "type": "scattergeo"
          },
          {
           "geo": "geo",
           "hovertemplate": "Doi tac=Cần Thơ<br>Nam=2022<br>So du an cap moi=%{marker.size}<br>latitude=%{lat}<br>longitude=%{lon}<extra></extra>",
           "lat": [
            10.0364216
           ],
           "legendgroup": "Cần Thơ",
           "lon": [
            105.7875219
           ],
           "marker": {
            "color": "#EF553B",
            "size": [
             6
            ],
            "sizemode": "area",
            "sizeref": 3.3,
            "symbol": "circle"
           },
           "mode": "markers",
           "name": "Cần Thơ",
           "showlegend": true,
           "type": "scattergeo"
          },
          {
           "geo": "geo",
           "hovertemplate": "Doi tac=Vĩnh Long<br>Nam=2022<br>So du an cap moi=%{marker.size}<br>latitude=%{lat}<br>longitude=%{lon}<extra></extra>",
           "lat": [
            10.1203043
           ],
           "legendgroup": "Vĩnh Long",
           "lon": [
            106.0125705
           ],
           "marker": {
            "color": "#00cc96",
            "size": [
             4
            ],
            "sizemode": "area",
            "sizeref": 3.3,
            "symbol": "circle"
           },
           "mode": "markers",
           "name": "Vĩnh Long",
           "showlegend": true,
           "type": "scattergeo"
          },
          {
           "geo": "geo",
           "hovertemplate": "Doi tac=Lâm Đồng<br>Nam=2022<br>So du an cap moi=%{marker.size}<br>latitude=%{lat}<br>longitude=%{lon}<extra></extra>",
           "lat": [
            11.6614957
           ],
           "legendgroup": "Lâm Đồng",
           "lon": [
            108.1335279
           ],
           "marker": {
            "color": "#FFA15A",
            "size": [
             1
            ],
            "sizemode": "area",
            "sizeref": 3.3,
            "symbol": "circle"
           },
           "mode": "markers",
           "name": "Lâm Đồng",
           "showlegend": true,
           "type": "scattergeo"
          },
          {
           "geo": "geo",
           "hovertemplate": "Doi tac=Sóc Trăng<br>Nam=2022<br>So du an cap moi=%{marker.size}<br>latitude=%{lat}<br>longitude=%{lon}<extra></extra>",
           "lat": [
            9.5628369
           ],
           "legendgroup": "Sóc Trăng",
           "lon": [
            105.9493991
           ],
           "marker": {
            "color": "#19d3f3",
            "size": [
             2
            ],
            "sizemode": "area",
            "sizeref": 3.3,
            "symbol": "circle"
           },
           "mode": "markers",
           "name": "Sóc Trăng",
           "showlegend": true,
           "type": "scattergeo"
          },
          {
           "geo": "geo",
           "hovertemplate": "Doi tac=Bạc Liêu<br>Nam=2022<br>So du an cap moi=%{marker.size}<br>latitude=%{lat}<br>longitude=%{lon}<extra></extra>",
           "lat": [
            9.3298341
           ],
           "legendgroup": "Bạc Liêu",
           "lon": [
            105.509946
           ],
           "marker": {
            "color": "#FF6692",
            "size": [
             1
            ],
            "sizemode": "area",
            "sizeref": 3.3,
            "symbol": "circle"
           },
           "mode": "markers",
           "name": "Bạc Liêu",
           "showlegend": true,
           "type": "scattergeo"
          },
          {
           "geo": "geo",
           "hovertemplate": "Doi tac=Tuyên Quang<br>Nam=2022<br>So du an cap moi=%{marker.size}<br>latitude=%{lat}<br>longitude=%{lon}<extra></extra>",
           "lat": [
            22.0747798
           ],
           "legendgroup": "Tuyên Quang",
           "lon": [
            105.258411
           ],
           "marker": {
            "color": "#B6E880",
            "size": [
             1
            ],
            "sizemode": "area",
            "sizeref": 3.3,
            "symbol": "circle"
           },
           "mode": "markers",
           "name": "Tuyên Quang",
           "showlegend": true,
           "type": "scattergeo"
          },
          {
           "geo": "geo",
           "hovertemplate": "Doi tac=Hòa Bình<br>Nam=2022<br>So du an cap moi=%{marker.size}<br>latitude=%{lat}<br>longitude=%{lon}<extra></extra>",
           "lat": [
            20.6763365
           ],
           "legendgroup": "Hòa Bình",
           "lon": [
            105.3759952
           ],
           "marker": {
            "color": "#FF97FF",
            "size": [
             1
            ],
            "sizemode": "area",
            "sizeref": 3.3,
            "symbol": "circle"
           },
           "mode": "markers",
           "name": "Hòa Bình",
           "showlegend": true,
           "type": "scattergeo"
          },
          {
           "geo": "geo",
           "hovertemplate": "Doi tac=Ninh Thuận<br>Nam=2022<br>So du an cap moi=%{marker.size}<br>latitude=%{lat}<br>longitude=%{lon}<extra></extra>",
           "lat": [
            11.6965639
           ],
           "legendgroup": "Ninh Thuận",
           "lon": [
            108.8928476
           ],
           "marker": {
            "color": "#FECB52",
            "size": [
             1
            ],
            "sizemode": "area",
            "sizeref": 3.3,
            "symbol": "circle"
           },
           "mode": "markers",
           "name": "Ninh Thuận",
           "showlegend": true,
           "type": "scattergeo"
          },
          {
           "geo": "geo",
           "hovertemplate": "Doi tac=Lạng Sơn<br>Nam=2022<br>So du an cap moi=%{marker.size}<br>latitude=%{lat}<br>longitude=%{lon}<extra></extra>",
           "lat": [
            21.7773599
           ],
           "legendgroup": "Lạng Sơn",
           "lon": [
            106.740412
           ],
           "marker": {
            "color": "#FFA15A",
            "size": [
             1
            ],
            "sizemode": "area",
            "sizeref": 3.3,
            "symbol": "circle"
           },
           "mode": "markers",
           "name": "Lạng Sơn",
           "showlegend": true,
           "type": "scattergeo"
          },
          {
           "geo": "geo",
           "hovertemplate": "Doi tac=Kon Tum<br>Nam=2022<br>So du an cap moi=%{marker.size}<br>latitude=%{lat}<br>longitude=%{lon}<extra></extra>",
           "lat": [
            14.6995372
           ],
           "legendgroup": "Kon Tum",
           "lon": [
            107.9323831
           ],
           "marker": {
            "color": "#19d3f3",
            "size": [
             1
            ],
            "sizemode": "area",
            "sizeref": 3.3,
            "symbol": "circle"
           },
           "mode": "markers",
           "name": "Kon Tum",
           "showlegend": true,
           "type": "scattergeo"
          },
          {
           "geo": "geo",
           "hovertemplate": "Doi tac=Quảng Trị<br>Nam=2022<br>So du an cap moi=%{marker.size}<br>latitude=%{lat}<br>longitude=%{lon}<extra></extra>",
           "lat": [
            16.7897806
           ],
           "legendgroup": "Quảng Trị",
           "lon": [
            106.9797431
           ],
           "marker": {
            "color": "#FF6692",
            "size": [
             1
            ],
            "sizemode": "area",
            "sizeref": 3.3,
            "symbol": "circle"
           },
           "mode": "markers",
           "name": "Quảng Trị",
           "showlegend": true,
           "type": "scattergeo"
          },
          {
           "geo": "geo",
           "hovertemplate": "Doi tac=Đăk Nông<br>Nam=2022<br>So du an cap moi=%{marker.size}<br>latitude=%{lat}<br>longitude=%{lon}<extra></extra>",
           "lat": [
            12.2818851
           ],
           "legendgroup": "Đăk Nông",
           "lon": [
            107.7302484
           ],
           "marker": {
            "color": "#B6E880",
            "size": [
             1
            ],
            "sizemode": "area",
            "sizeref": 3.3,
            "symbol": "circle"
           },
           "mode": "markers",
           "name": "Đăk Nông",
           "showlegend": true,
           "type": "scattergeo"
          },
          {
           "geo": "geo",
           "hovertemplate": "Doi tac=Gia Lai<br>Nam=2022<br>So du an cap moi=%{marker.size}<br>latitude=%{lat}<br>longitude=%{lon}<extra></extra>",
           "lat": [
            13.8177445
           ],
           "legendgroup": "Gia Lai",
           "lon": [
            108.2004015
           ],
           "marker": {
            "color": "#FF97FF",
            "size": [
             1
            ],
            "sizemode": "area",
            "sizeref": 3.3,
            "symbol": "circle"
           },
           "mode": "markers",
           "name": "Gia Lai",
           "showlegend": true,
           "type": "scattergeo"
          },
          {
           "geo": "geo",
           "hovertemplate": "Doi tac=Cà Mau<br>Nam=2022<br>So du an cap moi=%{marker.size}<br>latitude=%{lat}<br>longitude=%{lon}<extra></extra>",
           "lat": [
            9.0180177
           ],
           "legendgroup": "Cà Mau",
           "lon": [
            105.0869724
           ],
           "marker": {
            "color": "#FECB52",
            "size": [
             1
            ],
            "sizemode": "area",
            "sizeref": 3.3,
            "symbol": "circle"
           },
           "mode": "markers",
           "name": "Cà Mau",
           "showlegend": true,
           "type": "scattergeo"
          }
         ],
         "name": "2022"
        }
       ],
       "layout": {
        "geo": {
         "center": {},
         "countrycolor": "Black",
         "domain": {
          "x": [
           0,
           1
          ],
          "y": [
           0,
           1
          ]
         },
         "projection": {
          "type": "natural earth"
         },
         "resolution": 110,
         "scope": "asia",
         "showcountries": true,
         "showsubunits": true,
         "subunitcolor": "Blue",
         "visible": false
        },
        "height": 600,
        "legend": {
         "itemsizing": "constant",
         "title": {
          "text": "Doi tac"
         },
         "tracegroupgap": 0
        },
        "margin": {
         "b": 0,
         "l": 0,
         "r": 0,
         "t": 0
        },
        "sliders": [
         {
          "active": 0,
          "currentvalue": {
           "prefix": "Nam="
          },
          "len": 0.9,
          "pad": {
           "b": 10,
           "t": 60
          },
          "steps": [
           {
            "args": [
             [
              "2015"
             ],
             {
              "frame": {
               "duration": 0,
               "redraw": true
              },
              "fromcurrent": true,
              "mode": "immediate",
              "transition": {
               "duration": 0,
               "easing": "linear"
              }
             }
            ],
            "label": "2015",
            "method": "animate"
           },
           {
            "args": [
             [
              "2016"
             ],
             {
              "frame": {
               "duration": 0,
               "redraw": true
              },
              "fromcurrent": true,
              "mode": "immediate",
              "transition": {
               "duration": 0,
               "easing": "linear"
              }
             }
            ],
            "label": "2016",
            "method": "animate"
           },
           {
            "args": [
             [
              "2017"
             ],
             {
              "frame": {
               "duration": 0,
               "redraw": true
              },
              "fromcurrent": true,
              "mode": "immediate",
              "transition": {
               "duration": 0,
               "easing": "linear"
              }
             }
            ],
            "label": "2017",
            "method": "animate"
           },
           {
            "args": [
             [
              "2018"
             ],
             {
              "frame": {
               "duration": 0,
               "redraw": true
              },
              "fromcurrent": true,
              "mode": "immediate",
              "transition": {
               "duration": 0,
               "easing": "linear"
              }
             }
            ],
            "label": "2018",
            "method": "animate"
           },
           {
            "args": [
             [
              "2019"
             ],
             {
              "frame": {
               "duration": 0,
               "redraw": true
              },
              "fromcurrent": true,
              "mode": "immediate",
              "transition": {
               "duration": 0,
               "easing": "linear"
              }
             }
            ],
            "label": "2019",
            "method": "animate"
           },
           {
            "args": [
             [
              "2020"
             ],
             {
              "frame": {
               "duration": 0,
               "redraw": true
              },
              "fromcurrent": true,
              "mode": "immediate",
              "transition": {
               "duration": 0,
               "easing": "linear"
              }
             }
            ],
            "label": "2020",
            "method": "animate"
           },
           {
            "args": [
             [
              "2021"
             ],
             {
              "frame": {
               "duration": 0,
               "redraw": true
              },
              "fromcurrent": true,
              "mode": "immediate",
              "transition": {
               "duration": 0,
               "easing": "linear"
              }
             }
            ],
            "label": "2021",
            "method": "animate"
           },
           {
            "args": [
             [
              "2022"
             ],
             {
              "frame": {
               "duration": 0,
               "redraw": true
              },
              "fromcurrent": true,
              "mode": "immediate",
              "transition": {
               "duration": 0,
               "easing": "linear"
              }
             }
            ],
            "label": "2022",
            "method": "animate"
           }
          ],
          "x": 0.1,
          "xanchor": "left",
          "y": 0,
          "yanchor": "top"
         }
        ],
        "template": {
         "data": {
          "bar": [
           {
            "error_x": {
             "color": "#2a3f5f"
            },
            "error_y": {
             "color": "#2a3f5f"
            },
            "marker": {
             "line": {
              "color": "#E5ECF6",
              "width": 0.5
             },
             "pattern": {
              "fillmode": "overlay",
              "size": 10,
              "solidity": 0.2
             }
            },
            "type": "bar"
           }
          ],
          "barpolar": [
           {
            "marker": {
             "line": {
              "color": "#E5ECF6",
              "width": 0.5
             },
             "pattern": {
              "fillmode": "overlay",
              "size": 10,
              "solidity": 0.2
             }
            },
            "type": "barpolar"
           }
          ],
          "carpet": [
           {
            "aaxis": {
             "endlinecolor": "#2a3f5f",
             "gridcolor": "white",
             "linecolor": "white",
             "minorgridcolor": "white",
             "startlinecolor": "#2a3f5f"
            },
            "baxis": {
             "endlinecolor": "#2a3f5f",
             "gridcolor": "white",
             "linecolor": "white",
             "minorgridcolor": "white",
             "startlinecolor": "#2a3f5f"
            },
            "type": "carpet"
           }
          ],
          "choropleth": [
           {
            "colorbar": {
             "outlinewidth": 0,
             "ticks": ""
            },
            "type": "choropleth"
           }
          ],
          "contour": [
           {
            "colorbar": {
             "outlinewidth": 0,
             "ticks": ""
            },
            "colorscale": [
             [
              0,
              "#0d0887"
             ],
             [
              0.1111111111111111,
              "#46039f"
             ],
             [
              0.2222222222222222,
              "#7201a8"
             ],
             [
              0.3333333333333333,
              "#9c179e"
             ],
             [
              0.4444444444444444,
              "#bd3786"
             ],
             [
              0.5555555555555556,
              "#d8576b"
             ],
             [
              0.6666666666666666,
              "#ed7953"
             ],
             [
              0.7777777777777778,
              "#fb9f3a"
             ],
             [
              0.8888888888888888,
              "#fdca26"
             ],
             [
              1,
              "#f0f921"
             ]
            ],
            "type": "contour"
           }
          ],
          "contourcarpet": [
           {
            "colorbar": {
             "outlinewidth": 0,
             "ticks": ""
            },
            "type": "contourcarpet"
           }
          ],
          "heatmap": [
           {
            "colorbar": {
             "outlinewidth": 0,
             "ticks": ""
            },
            "colorscale": [
             [
              0,
              "#0d0887"
             ],
             [
              0.1111111111111111,
              "#46039f"
             ],
             [
              0.2222222222222222,
              "#7201a8"
             ],
             [
              0.3333333333333333,
              "#9c179e"
             ],
             [
              0.4444444444444444,
              "#bd3786"
             ],
             [
              0.5555555555555556,
              "#d8576b"
             ],
             [
              0.6666666666666666,
              "#ed7953"
             ],
             [
              0.7777777777777778,
              "#fb9f3a"
             ],
             [
              0.8888888888888888,
              "#fdca26"
             ],
             [
              1,
              "#f0f921"
             ]
            ],
            "type": "heatmap"
           }
          ],
          "heatmapgl": [
           {
            "colorbar": {
             "outlinewidth": 0,
             "ticks": ""
            },
            "colorscale": [
             [
              0,
              "#0d0887"
             ],
             [
              0.1111111111111111,
              "#46039f"
             ],
             [
              0.2222222222222222,
              "#7201a8"
             ],
             [
              0.3333333333333333,
              "#9c179e"
             ],
             [
              0.4444444444444444,
              "#bd3786"
             ],
             [
              0.5555555555555556,
              "#d8576b"
             ],
             [
              0.6666666666666666,
              "#ed7953"
             ],
             [
              0.7777777777777778,
              "#fb9f3a"
             ],
             [
              0.8888888888888888,
              "#fdca26"
             ],
             [
              1,
              "#f0f921"
             ]
            ],
            "type": "heatmapgl"
           }
          ],
          "histogram": [
           {
            "marker": {
             "pattern": {
              "fillmode": "overlay",
              "size": 10,
              "solidity": 0.2
             }
            },
            "type": "histogram"
           }
          ],
          "histogram2d": [
           {
            "colorbar": {
             "outlinewidth": 0,
             "ticks": ""
            },
            "colorscale": [
             [
              0,
              "#0d0887"
             ],
             [
              0.1111111111111111,
              "#46039f"
             ],
             [
              0.2222222222222222,
              "#7201a8"
             ],
             [
              0.3333333333333333,
              "#9c179e"
             ],
             [
              0.4444444444444444,
              "#bd3786"
             ],
             [
              0.5555555555555556,
              "#d8576b"
             ],
             [
              0.6666666666666666,
              "#ed7953"
             ],
             [
              0.7777777777777778,
              "#fb9f3a"
             ],
             [
              0.8888888888888888,
              "#fdca26"
             ],
             [
              1,
              "#f0f921"
             ]
            ],
            "type": "histogram2d"
           }
          ],
          "histogram2dcontour": [
           {
            "colorbar": {
             "outlinewidth": 0,
             "ticks": ""
            },
            "colorscale": [
             [
              0,
              "#0d0887"
             ],
             [
              0.1111111111111111,
              "#46039f"
             ],
             [
              0.2222222222222222,
              "#7201a8"
             ],
             [
              0.3333333333333333,
              "#9c179e"
             ],
             [
              0.4444444444444444,
              "#bd3786"
             ],
             [
              0.5555555555555556,
              "#d8576b"
             ],
             [
              0.6666666666666666,
              "#ed7953"
             ],
             [
              0.7777777777777778,
              "#fb9f3a"
             ],
             [
              0.8888888888888888,
              "#fdca26"
             ],
             [
              1,
              "#f0f921"
             ]
            ],
            "type": "histogram2dcontour"
           }
          ],
          "mesh3d": [
           {
            "colorbar": {
             "outlinewidth": 0,
             "ticks": ""
            },
            "type": "mesh3d"
           }
          ],
          "parcoords": [
           {
            "line": {
             "colorbar": {
              "outlinewidth": 0,
              "ticks": ""
             }
            },
            "type": "parcoords"
           }
          ],
          "pie": [
           {
            "automargin": true,
            "type": "pie"
           }
          ],
          "scatter": [
           {
            "fillpattern": {
             "fillmode": "overlay",
             "size": 10,
             "solidity": 0.2
            },
            "type": "scatter"
           }
          ],
          "scatter3d": [
           {
            "line": {
             "colorbar": {
              "outlinewidth": 0,
              "ticks": ""
             }
            },
            "marker": {
             "colorbar": {
              "outlinewidth": 0,
              "ticks": ""
             }
            },
            "type": "scatter3d"
           }
          ],
          "scattercarpet": [
           {
            "marker": {
             "colorbar": {
              "outlinewidth": 0,
              "ticks": ""
             }
            },
            "type": "scattercarpet"
           }
          ],
          "scattergeo": [
           {
            "marker": {
             "colorbar": {
              "outlinewidth": 0,
              "ticks": ""
             }
            },
            "type": "scattergeo"
           }
          ],
          "scattergl": [
           {
            "marker": {
             "colorbar": {
              "outlinewidth": 0,
              "ticks": ""
             }
            },
            "type": "scattergl"
           }
          ],
          "scattermapbox": [
           {
            "marker": {
             "colorbar": {
              "outlinewidth": 0,
              "ticks": ""
             }
            },
            "type": "scattermapbox"
           }
          ],
          "scatterpolar": [
           {
            "marker": {
             "colorbar": {
              "outlinewidth": 0,
              "ticks": ""
             }
            },
            "type": "scatterpolar"
           }
          ],
          "scatterpolargl": [
           {
            "marker": {
             "colorbar": {
              "outlinewidth": 0,
              "ticks": ""
             }
            },
            "type": "scatterpolargl"
           }
          ],
          "scatterternary": [
           {
            "marker": {
             "colorbar": {
              "outlinewidth": 0,
              "ticks": ""
             }
            },
            "type": "scatterternary"
           }
          ],
          "surface": [
           {
            "colorbar": {
             "outlinewidth": 0,
             "ticks": ""
            },
            "colorscale": [
             [
              0,
              "#0d0887"
             ],
             [
              0.1111111111111111,
              "#46039f"
             ],
             [
              0.2222222222222222,
              "#7201a8"
             ],
             [
              0.3333333333333333,
              "#9c179e"
             ],
             [
              0.4444444444444444,
              "#bd3786"
             ],
             [
              0.5555555555555556,
              "#d8576b"
             ],
             [
              0.6666666666666666,
              "#ed7953"
             ],
             [
              0.7777777777777778,
              "#fb9f3a"
             ],
             [
              0.8888888888888888,
              "#fdca26"
             ],
             [
              1,
              "#f0f921"
             ]
            ],
            "type": "surface"
           }
          ],
          "table": [
           {
            "cells": {
             "fill": {
              "color": "#EBF0F8"
             },
             "line": {
              "color": "white"
             }
            },
            "header": {
             "fill": {
              "color": "#C8D4E3"
             },
             "line": {
              "color": "white"
             }
            },
            "type": "table"
           }
          ]
         },
         "layout": {
          "annotationdefaults": {
           "arrowcolor": "#2a3f5f",
           "arrowhead": 0,
           "arrowwidth": 1
          },
          "autotypenumbers": "strict",
          "coloraxis": {
           "colorbar": {
            "outlinewidth": 0,
            "ticks": ""
           }
          },
          "colorscale": {
           "diverging": [
            [
             0,
             "#8e0152"
            ],
            [
             0.1,
             "#c51b7d"
            ],
            [
             0.2,
             "#de77ae"
            ],
            [
             0.3,
             "#f1b6da"
            ],
            [
             0.4,
             "#fde0ef"
            ],
            [
             0.5,
             "#f7f7f7"
            ],
            [
             0.6,
             "#e6f5d0"
            ],
            [
             0.7,
             "#b8e186"
            ],
            [
             0.8,
             "#7fbc41"
            ],
            [
             0.9,
             "#4d9221"
            ],
            [
             1,
             "#276419"
            ]
           ],
           "sequential": [
            [
             0,
             "#0d0887"
            ],
            [
             0.1111111111111111,
             "#46039f"
            ],
            [
             0.2222222222222222,
             "#7201a8"
            ],
            [
             0.3333333333333333,
             "#9c179e"
            ],
            [
             0.4444444444444444,
             "#bd3786"
            ],
            [
             0.5555555555555556,
             "#d8576b"
            ],
            [
             0.6666666666666666,
             "#ed7953"
            ],
            [
             0.7777777777777778,
             "#fb9f3a"
            ],
            [
             0.8888888888888888,
             "#fdca26"
            ],
            [
             1,
             "#f0f921"
            ]
           ],
           "sequentialminus": [
            [
             0,
             "#0d0887"
            ],
            [
             0.1111111111111111,
             "#46039f"
            ],
            [
             0.2222222222222222,
             "#7201a8"
            ],
            [
             0.3333333333333333,
             "#9c179e"
            ],
            [
             0.4444444444444444,
             "#bd3786"
            ],
            [
             0.5555555555555556,
             "#d8576b"
            ],
            [
             0.6666666666666666,
             "#ed7953"
            ],
            [
             0.7777777777777778,
             "#fb9f3a"
            ],
            [
             0.8888888888888888,
             "#fdca26"
            ],
            [
             1,
             "#f0f921"
            ]
           ]
          },
          "colorway": [
           "#636efa",
           "#EF553B",
           "#00cc96",
           "#ab63fa",
           "#FFA15A",
           "#19d3f3",
           "#FF6692",
           "#B6E880",
           "#FF97FF",
           "#FECB52"
          ],
          "font": {
           "color": "#2a3f5f"
          },
          "geo": {
           "bgcolor": "white",
           "lakecolor": "white",
           "landcolor": "#E5ECF6",
           "showlakes": true,
           "showland": true,
           "subunitcolor": "white"
          },
          "hoverlabel": {
           "align": "left"
          },
          "hovermode": "closest",
          "mapbox": {
           "style": "light"
          },
          "paper_bgcolor": "white",
          "plot_bgcolor": "#E5ECF6",
          "polar": {
           "angularaxis": {
            "gridcolor": "white",
            "linecolor": "white",
            "ticks": ""
           },
           "bgcolor": "#E5ECF6",
           "radialaxis": {
            "gridcolor": "white",
            "linecolor": "white",
            "ticks": ""
           }
          },
          "scene": {
           "xaxis": {
            "backgroundcolor": "#E5ECF6",
            "gridcolor": "white",
            "gridwidth": 2,
            "linecolor": "white",
            "showbackground": true,
            "ticks": "",
            "zerolinecolor": "white"
           },
           "yaxis": {
            "backgroundcolor": "#E5ECF6",
            "gridcolor": "white",
            "gridwidth": 2,
            "linecolor": "white",
            "showbackground": true,
            "ticks": "",
            "zerolinecolor": "white"
           },
           "zaxis": {
            "backgroundcolor": "#E5ECF6",
            "gridcolor": "white",
            "gridwidth": 2,
            "linecolor": "white",
            "showbackground": true,
            "ticks": "",
            "zerolinecolor": "white"
           }
          },
          "shapedefaults": {
           "line": {
            "color": "#2a3f5f"
           }
          },
          "ternary": {
           "aaxis": {
            "gridcolor": "white",
            "linecolor": "white",
            "ticks": ""
           },
           "baxis": {
            "gridcolor": "white",
            "linecolor": "white",
            "ticks": ""
           },
           "bgcolor": "#E5ECF6",
           "caxis": {
            "gridcolor": "white",
            "linecolor": "white",
            "ticks": ""
           }
          },
          "title": {
           "x": 0.05
          },
          "xaxis": {
           "automargin": true,
           "gridcolor": "white",
           "linecolor": "white",
           "ticks": "",
           "title": {
            "standoff": 15
           },
           "zerolinecolor": "white",
           "zerolinewidth": 2
          },
          "yaxis": {
           "automargin": true,
           "gridcolor": "white",
           "linecolor": "white",
           "ticks": "",
           "title": {
            "standoff": 15
           },
           "zerolinecolor": "white",
           "zerolinewidth": 2
          }
         }
        },
        "updatemenus": [
         {
          "buttons": [
           {
            "args": [
             null,
             {
              "frame": {
               "duration": 500,
               "redraw": true
              },
              "fromcurrent": true,
              "mode": "immediate",
              "transition": {
               "duration": 500,
               "easing": "linear"
              }
             }
            ],
            "label": "&#9654;",
            "method": "animate"
           },
           {
            "args": [
             [
              null
             ],
             {
              "frame": {
               "duration": 0,
               "redraw": true
              },
              "fromcurrent": true,
              "mode": "immediate",
              "transition": {
               "duration": 0,
               "easing": "linear"
              }
             }
            ],
            "label": "&#9724;",
            "method": "animate"
           }
          ],
          "direction": "left",
          "pad": {
           "r": 10,
           "t": 70
          },
          "showactive": false,
          "type": "buttons",
          "x": 0.1,
          "xanchor": "right",
          "y": 0,
          "yanchor": "top"
         }
        ]
       }
      }
     },
     "metadata": {},
     "output_type": "display_data"
    }
   ],
   "source": [
    "# draw graph to overview the trend of fdi in each province in Vietnam using px\n",
    "fig = px.scatter_geo(data, lat='latitude', lon='longitude', color='Doi tac', size='So du an cap moi', animation_frame='Nam',\n",
    "                        projection='natural earth')\n",
    "fig.update_geos(\n",
    "    visible=False, resolution=110, scope=\"asia\",\n",
    "    showcountries=True, countrycolor=\"Black\",\n",
    "    showsubunits=True, subunitcolor=\"Blue\"\n",
    ")\n",
    "fig.update_layout(height=600, margin={\"r\":0,\"t\":0,\"l\":0,\"b\":0})\n",
    "fig.show()\n",
    "\n"
   ]
  },
  {
   "cell_type": "code",
   "execution_count": 160,
   "id": "4cc2b85e",
   "metadata": {},
   "outputs": [
    {
     "data": {
      "application/vnd.plotly.v1+json": {
       "config": {
        "plotlyServerURL": "https://plot.ly"
       },
       "data": [
        {
         "branchvalues": "total",
         "domain": {
          "x": [
           0,
           1
          ],
          "y": [
           0,
           1
          ]
         },
         "hovertemplate": "labels=%{label}<br>So du an cap moi=%{value}<br>parent=%{parent}<br>id=%{id}<extra></extra>",
         "ids": [
          "2015/An Giang",
          "2016/An Giang",
          "2017/An Giang",
          "2018/An Giang",
          "2019/An Giang",
          "2020/An Giang",
          "2021/An Giang",
          "2022/An Giang",
          "2015/Bà Rịa - Vũng Tàu",
          "2016/Bà Rịa - Vũng Tàu",
          "2017/Bà Rịa - Vũng Tàu",
          "2018/Bà Rịa - Vũng Tàu",
          "2019/Bà Rịa - Vũng Tàu",
          "2020/Bà Rịa - Vũng Tàu",
          "2021/Bà Rịa - Vũng Tàu",
          "2022/Bà Rịa - Vũng Tàu",
          "2015/Bình Dương",
          "2016/Bình Dương",
          "2017/Bình Dương",
          "2018/Bình Dương",
          "2019/Bình Dương",
          "2020/Bình Dương",
          "2021/Bình Dương",
          "2022/Bình Dương",
          "2015/Bình Phước",
          "2016/Bình Phước",
          "2017/Bình Phước",
          "2018/Bình Phước",
          "2019/Bình Phước",
          "2020/Bình Phước",
          "2021/Bình Phước",
          "2022/Bình Phước",
          "2015/Bình Thuận",
          "2016/Bình Thuận",
          "2017/Bình Thuận",
          "2018/Bình Thuận",
          "2019/Bình Thuận",
          "2020/Bình Thuận",
          "2021/Bình Thuận",
          "2022/Bình Thuận",
          "2015/Bình Định",
          "2016/Bình Định",
          "2017/Bình Định",
          "2018/Bình Định",
          "2019/Bình Định",
          "2020/Bình Định",
          "2021/Bình Định",
          "2022/Bình Định",
          "2015/Bạc Liêu",
          "2018/Bạc Liêu",
          "2019/Bạc Liêu",
          "2020/Bạc Liêu",
          "2021/Bạc Liêu",
          "2022/Bạc Liêu",
          "2015/Bắc Giang",
          "2016/Bắc Giang",
          "2017/Bắc Giang",
          "2018/Bắc Giang",
          "2019/Bắc Giang",
          "2020/Bắc Giang",
          "2021/Bắc Giang",
          "2022/Bắc Giang",
          "2015/Bắc Kạn",
          "2018/Bắc Kạn",
          "2019/Bắc Kạn",
          "2015/Bắc Ninh",
          "2016/Bắc Ninh",
          "2017/Bắc Ninh",
          "2018/Bắc Ninh",
          "2019/Bắc Ninh",
          "2020/Bắc Ninh",
          "2021/Bắc Ninh",
          "2022/Bắc Ninh",
          "2015/Bến Tre",
          "2016/Bến Tre",
          "2017/Bến Tre",
          "2018/Bến Tre",
          "2019/Bến Tre",
          "2020/Bến Tre",
          "2021/Bến Tre",
          "2022/Bến Tre",
          "2017/Cao Bằng",
          "2019/Cao Bằng",
          "2020/Cao Bằng",
          "2021/Cao Bằng",
          "2017/Cà Mau",
          "2018/Cà Mau",
          "2019/Cà Mau",
          "2020/Cà Mau",
          "2021/Cà Mau",
          "2022/Cà Mau",
          "2015/Cần Thơ",
          "2016/Cần Thơ",
          "2017/Cần Thơ",
          "2018/Cần Thơ",
          "2019/Cần Thơ",
          "2020/Cần Thơ",
          "2021/Cần Thơ",
          "2022/Cần Thơ",
          "2016/Dầu khí",
          "2016/Gia Lai",
          "2020/Gia Lai",
          "2021/Gia Lai",
          "2022/Gia Lai",
          "2016/Hà Giang",
          "2017/Hà Giang",
          "2018/Hà Giang",
          "2019/Hà Giang",
          "2015/Hà Nam",
          "2016/Hà Nam",
          "2017/Hà Nam",
          "2018/Hà Nam",
          "2019/Hà Nam",
          "2020/Hà Nam",
          "2021/Hà Nam",
          "2022/Hà Nam",
          "2015/Hà Nội",
          "2016/Hà Nội",
          "2017/Hà Nội",
          "2018/Hà Nội",
          "2019/Hà Nội",
          "2020/Hà Nội",
          "2021/Hà Nội",
          "2022/Hà Nội",
          "2015/Hà Tĩnh",
          "2016/Hà Tĩnh",
          "2017/Hà Tĩnh",
          "2018/Hà Tĩnh",
          "2019/Hà Tĩnh",
          "2020/Hà Tĩnh",
          "2021/Hà Tĩnh",
          "2022/Hà Tĩnh",
          "2015/Hòa Bình",
          "2016/Hòa Bình",
          "2017/Hòa Bình",
          "2018/Hòa Bình",
          "2019/Hòa Bình",
          "2020/Hòa Bình",
          "2021/Hòa Bình",
          "2022/Hòa Bình",
          "2015/Hưng Yên",
          "2016/Hưng Yên",
          "2017/Hưng Yên",
          "2018/Hưng Yên",
          "2019/Hưng Yên",
          "2020/Hưng Yên",
          "2021/Hưng Yên",
          "2022/Hưng Yên",
          "2015/Hải Dương",
          "2016/Hải Dương",
          "2017/Hải Dương",
          "2018/Hải Dương",
          "2019/Hải Dương",
          "2020/Hải Dương",
          "2021/Hải Dương",
          "2022/Hải Dương",
          "2015/Hải Phòng",
          "2016/Hải Phòng",
          "2017/Hải Phòng",
          "2018/Hải Phòng",
          "2019/Hải Phòng",
          "2020/Hải Phòng",
          "2021/Hải Phòng",
          "2022/Hải Phòng",
          "2015/Hậu Giang",
          "2016/Hậu Giang",
          "2017/Hậu Giang",
          "2018/Hậu Giang",
          "2019/Hậu Giang",
          "2020/Hậu Giang",
          "2021/Hậu Giang",
          "2022/Hậu Giang",
          "2015/Khánh Hòa",
          "2016/Khánh Hòa",
          "2017/Khánh Hòa",
          "2018/Khánh Hòa",
          "2019/Khánh Hòa",
          "2020/Khánh Hòa",
          "2021/Khánh Hòa",
          "2022/Khánh Hòa",
          "2015/Kiên Giang",
          "2016/Kiên Giang",
          "2017/Kiên Giang",
          "2018/Kiên Giang",
          "2019/Kiên Giang",
          "2020/Kiên Giang",
          "2021/Kiên Giang",
          "2022/Kiên Giang",
          "2016/Kon Tum",
          "2017/Kon Tum",
          "2018/Kon Tum",
          "2019/Kon Tum",
          "2020/Kon Tum",
          "2021/Kon Tum",
          "2022/Kon Tum",
          "2019/Lai Châu",
          "2021/Lai Châu",
          "2015/Long An",
          "2016/Long An",
          "2017/Long An",
          "2018/Long An",
          "2019/Long An",
          "2020/Long An",
          "2021/Long An",
          "2022/Long An",
          "2016/Lào Cai",
          "2017/Lào Cai",
          "2018/Lào Cai",
          "2019/Lào Cai",
          "2020/Lào Cai",
          "2021/Lào Cai",
          "2015/Lâm Đồng",
          "2016/Lâm Đồng",
          "2017/Lâm Đồng",
          "2018/Lâm Đồng",
          "2019/Lâm Đồng",
          "2020/Lâm Đồng",
          "2021/Lâm Đồng",
          "2022/Lâm Đồng",
          "2016/Lạng Sơn",
          "2017/Lạng Sơn",
          "2018/Lạng Sơn",
          "2019/Lạng Sơn",
          "2021/Lạng Sơn",
          "2022/Lạng Sơn",
          "2015/Nam Định",
          "2016/Nam Định",
          "2017/Nam Định",
          "2018/Nam Định",
          "2019/Nam Định",
          "2020/Nam Định",
          "2021/Nam Định",
          "2022/Nam Định",
          "2015/Nghệ An",
          "2016/Nghệ An",
          "2017/Nghệ An",
          "2018/Nghệ An",
          "2019/Nghệ An",
          "2020/Nghệ An",
          "2021/Nghệ An",
          "2022/Nghệ An",
          "2015/Ninh Bình",
          "2016/Ninh Bình",
          "2017/Ninh Bình",
          "2018/Ninh Bình",
          "2019/Ninh Bình",
          "2020/Ninh Bình",
          "2021/Ninh Bình",
          "2022/Ninh Bình",
          "2015/Ninh Thuận",
          "2016/Ninh Thuận",
          "2017/Ninh Thuận",
          "2018/Ninh Thuận",
          "2019/Ninh Thuận",
          "2020/Ninh Thuận",
          "2021/Ninh Thuận",
          "2022/Ninh Thuận",
          "2015/Phú Thọ",
          "2016/Phú Thọ",
          "2017/Phú Thọ",
          "2018/Phú Thọ",
          "2019/Phú Thọ",
          "2020/Phú Thọ",
          "2021/Phú Thọ",
          "2022/Phú Thọ",
          "2015/Phú Yên",
          "2016/Phú Yên",
          "2017/Phú Yên",
          "2018/Phú Yên",
          "2019/Phú Yên",
          "2020/Phú Yên",
          "2021/Phú Yên",
          "2022/Phú Yên",
          "2015/Quảng Bình",
          "2016/Quảng Bình",
          "2017/Quảng Bình",
          "2018/Quảng Bình",
          "2019/Quảng Bình",
          "2020/Quảng Bình",
          "2021/Quảng Bình",
          "2015/Quảng Nam",
          "2016/Quảng Nam",
          "2017/Quảng Nam",
          "2018/Quảng Nam",
          "2019/Quảng Nam",
          "2020/Quảng Nam",
          "2021/Quảng Nam",
          "2022/Quảng Nam",
          "2015/Quảng Ngãi",
          "2016/Quảng Ngãi",
          "2017/Quảng Ngãi",
          "2018/Quảng Ngãi",
          "2019/Quảng Ngãi",
          "2020/Quảng Ngãi",
          "2021/Quảng Ngãi",
          "2022/Quảng Ngãi",
          "2015/Quảng Ninh",
          "2016/Quảng Ninh",
          "2017/Quảng Ninh",
          "2018/Quảng Ninh",
          "2019/Quảng Ninh",
          "2020/Quảng Ninh",
          "2021/Quảng Ninh",
          "2022/Quảng Ninh",
          "2016/Quảng Trị",
          "2017/Quảng Trị",
          "2018/Quảng Trị",
          "2019/Quảng Trị",
          "2020/Quảng Trị",
          "2021/Quảng Trị",
          "2022/Quảng Trị",
          "2015/Sóc Trăng",
          "2016/Sóc Trăng",
          "2017/Sóc Trăng",
          "2018/Sóc Trăng",
          "2019/Sóc Trăng",
          "2020/Sóc Trăng",
          "2021/Sóc Trăng",
          "2022/Sóc Trăng",
          "2017/Sơn La",
          "2018/Sơn La",
          "2019/Sơn La",
          "2020/Sơn La",
          "2015/TP. Hồ Chí Minh",
          "2016/TP. Hồ Chí Minh",
          "2017/TP. Hồ Chí Minh",
          "2018/TP. Hồ Chí Minh",
          "2019/TP. Hồ Chí Minh",
          "2020/TP. Hồ Chí Minh",
          "2021/TP. Hồ Chí Minh",
          "2022/TP. Hồ Chí Minh",
          "2015/Thanh Hóa",
          "2016/Thanh Hóa",
          "2017/Thanh Hóa",
          "2018/Thanh Hóa",
          "2019/Thanh Hóa",
          "2020/Thanh Hóa",
          "2021/Thanh Hóa",
          "2022/Thanh Hóa",
          "2015/Thái Bình",
          "2016/Thái Bình",
          "2017/Thái Bình",
          "2018/Thái Bình",
          "2019/Thái Bình",
          "2020/Thái Bình",
          "2021/Thái Bình",
          "2022/Thái Bình",
          "2015/Thái Nguyên",
          "2016/Thái Nguyên",
          "2017/Thái Nguyên",
          "2018/Thái Nguyên",
          "2019/Thái Nguyên",
          "2020/Thái Nguyên",
          "2021/Thái Nguyên",
          "2022/Thái Nguyên",
          "2015/Thừa Thiên Huế",
          "2016/Thừa Thiên Huế",
          "2017/Thừa Thiên Huế",
          "2018/Thừa Thiên Huế",
          "2019/Thừa Thiên Huế",
          "2020/Thừa Thiên Huế",
          "2021/Thừa Thiên Huế",
          "2022/Thừa Thiên Huế",
          "2015/Tiền Giang",
          "2016/Tiền Giang",
          "2017/Tiền Giang",
          "2018/Tiền Giang",
          "2019/Tiền Giang",
          "2020/Tiền Giang",
          "2021/Tiền Giang",
          "2022/Tiền Giang",
          "2015/Trà Vinh",
          "2016/Trà Vinh",
          "2017/Trà Vinh",
          "2018/Trà Vinh",
          "2019/Trà Vinh",
          "2020/Trà Vinh",
          "2021/Trà Vinh",
          "2022/Trà Vinh",
          "2015/Tuyên Quang",
          "2016/Tuyên Quang",
          "2017/Tuyên Quang",
          "2018/Tuyên Quang",
          "2019/Tuyên Quang",
          "2020/Tuyên Quang",
          "2021/Tuyên Quang",
          "2022/Tuyên Quang",
          "2015/Tây Ninh",
          "2016/Tây Ninh",
          "2017/Tây Ninh",
          "2018/Tây Ninh",
          "2019/Tây Ninh",
          "2020/Tây Ninh",
          "2021/Tây Ninh",
          "2022/Tây Ninh",
          "2015/Vĩnh Long",
          "2016/Vĩnh Long",
          "2017/Vĩnh Long",
          "2018/Vĩnh Long",
          "2019/Vĩnh Long",
          "2020/Vĩnh Long",
          "2021/Vĩnh Long",
          "2022/Vĩnh Long",
          "2015/Vĩnh Phúc",
          "2016/Vĩnh Phúc",
          "2017/Vĩnh Phúc",
          "2018/Vĩnh Phúc",
          "2019/Vĩnh Phúc",
          "2020/Vĩnh Phúc",
          "2021/Vĩnh Phúc",
          "2022/Vĩnh Phúc",
          "2015/Yên Bái",
          "2016/Yên Bái",
          "2017/Yên Bái",
          "2018/Yên Bái",
          "2019/Yên Bái",
          "2020/Yên Bái",
          "2021/Yên Bái",
          "2022/Yên Bái",
          "2017/Điện Biên",
          "2019/Điện Biên",
          "2020/Điện Biên",
          "2015/Đà Nẵng",
          "2016/Đà Nẵng",
          "2017/Đà Nẵng",
          "2018/Đà Nẵng",
          "2019/Đà Nẵng",
          "2020/Đà Nẵng",
          "2021/Đà Nẵng",
          "2022/Đà Nẵng",
          "2015/Đăk Lăk",
          "2016/Đăk Lăk",
          "2017/Đăk Lăk",
          "2018/Đăk Lăk",
          "2019/Đăk Lăk",
          "2020/Đăk Lăk",
          "2021/Đăk Lăk",
          "2022/Đăk Lăk",
          "2016/Đăk Nông",
          "2017/Đăk Nông",
          "2018/Đăk Nông",
          "2019/Đăk Nông",
          "2020/Đăk Nông",
          "2021/Đăk Nông",
          "2022/Đăk Nông",
          "2015/Đồng Nai",
          "2016/Đồng Nai",
          "2017/Đồng Nai",
          "2018/Đồng Nai",
          "2019/Đồng Nai",
          "2020/Đồng Nai",
          "2021/Đồng Nai",
          "2022/Đồng Nai",
          "2015/Đồng Tháp",
          "2016/Đồng Tháp",
          "2017/Đồng Tháp",
          "2018/Đồng Tháp",
          "2019/Đồng Tháp",
          "2020/Đồng Tháp",
          "2021/Đồng Tháp",
          "2015",
          "2016",
          "2017",
          "2018",
          "2019",
          "2020",
          "2021",
          "2022"
         ],
         "labels": [
          "An Giang",
          "An Giang",
          "An Giang",
          "An Giang",
          "An Giang",
          "An Giang",
          "An Giang",
          "An Giang",
          "Bà Rịa - Vũng Tàu",
          "Bà Rịa - Vũng Tàu",
          "Bà Rịa - Vũng Tàu",
          "Bà Rịa - Vũng Tàu",
          "Bà Rịa - Vũng Tàu",
          "Bà Rịa - Vũng Tàu",
          "Bà Rịa - Vũng Tàu",
          "Bà Rịa - Vũng Tàu",
          "Bình Dương",
          "Bình Dương",
          "Bình Dương",
          "Bình Dương",
          "Bình Dương",
          "Bình Dương",
          "Bình Dương",
          "Bình Dương",
          "Bình Phước",
          "Bình Phước",
          "Bình Phước",
          "Bình Phước",
          "Bình Phước",
          "Bình Phước",
          "Bình Phước",
          "Bình Phước",
          "Bình Thuận",
          "Bình Thuận",
          "Bình Thuận",
          "Bình Thuận",
          "Bình Thuận",
          "Bình Thuận",
          "Bình Thuận",
          "Bình Thuận",
          "Bình Định",
          "Bình Định",
          "Bình Định",
          "Bình Định",
          "Bình Định",
          "Bình Định",
          "Bình Định",
          "Bình Định",
          "Bạc Liêu",
          "Bạc Liêu",
          "Bạc Liêu",
          "Bạc Liêu",
          "Bạc Liêu",
          "Bạc Liêu",
          "Bắc Giang",
          "Bắc Giang",
          "Bắc Giang",
          "Bắc Giang",
          "Bắc Giang",
          "Bắc Giang",
          "Bắc Giang",
          "Bắc Giang",
          "Bắc Kạn",
          "Bắc Kạn",
          "Bắc Kạn",
          "Bắc Ninh",
          "Bắc Ninh",
          "Bắc Ninh",
          "Bắc Ninh",
          "Bắc Ninh",
          "Bắc Ninh",
          "Bắc Ninh",
          "Bắc Ninh",
          "Bến Tre",
          "Bến Tre",
          "Bến Tre",
          "Bến Tre",
          "Bến Tre",
          "Bến Tre",
          "Bến Tre",
          "Bến Tre",
          "Cao Bằng",
          "Cao Bằng",
          "Cao Bằng",
          "Cao Bằng",
          "Cà Mau",
          "Cà Mau",
          "Cà Mau",
          "Cà Mau",
          "Cà Mau",
          "Cà Mau",
          "Cần Thơ",
          "Cần Thơ",
          "Cần Thơ",
          "Cần Thơ",
          "Cần Thơ",
          "Cần Thơ",
          "Cần Thơ",
          "Cần Thơ",
          "Dầu khí",
          "Gia Lai",
          "Gia Lai",
          "Gia Lai",
          "Gia Lai",
          "Hà Giang",
          "Hà Giang",
          "Hà Giang",
          "Hà Giang",
          "Hà Nam",
          "Hà Nam",
          "Hà Nam",
          "Hà Nam",
          "Hà Nam",
          "Hà Nam",
          "Hà Nam",
          "Hà Nam",
          "Hà Nội",
          "Hà Nội",
          "Hà Nội",
          "Hà Nội",
          "Hà Nội",
          "Hà Nội",
          "Hà Nội",
          "Hà Nội",
          "Hà Tĩnh",
          "Hà Tĩnh",
          "Hà Tĩnh",
          "Hà Tĩnh",
          "Hà Tĩnh",
          "Hà Tĩnh",
          "Hà Tĩnh",
          "Hà Tĩnh",
          "Hòa Bình",
          "Hòa Bình",
          "Hòa Bình",
          "Hòa Bình",
          "Hòa Bình",
          "Hòa Bình",
          "Hòa Bình",
          "Hòa Bình",
          "Hưng Yên",
          "Hưng Yên",
          "Hưng Yên",
          "Hưng Yên",
          "Hưng Yên",
          "Hưng Yên",
          "Hưng Yên",
          "Hưng Yên",
          "Hải Dương",
          "Hải Dương",
          "Hải Dương",
          "Hải Dương",
          "Hải Dương",
          "Hải Dương",
          "Hải Dương",
          "Hải Dương",
          "Hải Phòng",
          "Hải Phòng",
          "Hải Phòng",
          "Hải Phòng",
          "Hải Phòng",
          "Hải Phòng",
          "Hải Phòng",
          "Hải Phòng",
          "Hậu Giang",
          "Hậu Giang",
          "Hậu Giang",
          "Hậu Giang",
          "Hậu Giang",
          "Hậu Giang",
          "Hậu Giang",
          "Hậu Giang",
          "Khánh Hòa",
          "Khánh Hòa",
          "Khánh Hòa",
          "Khánh Hòa",
          "Khánh Hòa",
          "Khánh Hòa",
          "Khánh Hòa",
          "Khánh Hòa",
          "Kiên Giang",
          "Kiên Giang",
          "Kiên Giang",
          "Kiên Giang",
          "Kiên Giang",
          "Kiên Giang",
          "Kiên Giang",
          "Kiên Giang",
          "Kon Tum",
          "Kon Tum",
          "Kon Tum",
          "Kon Tum",
          "Kon Tum",
          "Kon Tum",
          "Kon Tum",
          "Lai Châu",
          "Lai Châu",
          "Long An",
          "Long An",
          "Long An",
          "Long An",
          "Long An",
          "Long An",
          "Long An",
          "Long An",
          "Lào Cai",
          "Lào Cai",
          "Lào Cai",
          "Lào Cai",
          "Lào Cai",
          "Lào Cai",
          "Lâm Đồng",
          "Lâm Đồng",
          "Lâm Đồng",
          "Lâm Đồng",
          "Lâm Đồng",
          "Lâm Đồng",
          "Lâm Đồng",
          "Lâm Đồng",
          "Lạng Sơn",
          "Lạng Sơn",
          "Lạng Sơn",
          "Lạng Sơn",
          "Lạng Sơn",
          "Lạng Sơn",
          "Nam Định",
          "Nam Định",
          "Nam Định",
          "Nam Định",
          "Nam Định",
          "Nam Định",
          "Nam Định",
          "Nam Định",
          "Nghệ An",
          "Nghệ An",
          "Nghệ An",
          "Nghệ An",
          "Nghệ An",
          "Nghệ An",
          "Nghệ An",
          "Nghệ An",
          "Ninh Bình",
          "Ninh Bình",
          "Ninh Bình",
          "Ninh Bình",
          "Ninh Bình",
          "Ninh Bình",
          "Ninh Bình",
          "Ninh Bình",
          "Ninh Thuận",
          "Ninh Thuận",
          "Ninh Thuận",
          "Ninh Thuận",
          "Ninh Thuận",
          "Ninh Thuận",
          "Ninh Thuận",
          "Ninh Thuận",
          "Phú Thọ",
          "Phú Thọ",
          "Phú Thọ",
          "Phú Thọ",
          "Phú Thọ",
          "Phú Thọ",
          "Phú Thọ",
          "Phú Thọ",
          "Phú Yên",
          "Phú Yên",
          "Phú Yên",
          "Phú Yên",
          "Phú Yên",
          "Phú Yên",
          "Phú Yên",
          "Phú Yên",
          "Quảng Bình",
          "Quảng Bình",
          "Quảng Bình",
          "Quảng Bình",
          "Quảng Bình",
          "Quảng Bình",
          "Quảng Bình",
          "Quảng Nam",
          "Quảng Nam",
          "Quảng Nam",
          "Quảng Nam",
          "Quảng Nam",
          "Quảng Nam",
          "Quảng Nam",
          "Quảng Nam",
          "Quảng Ngãi",
          "Quảng Ngãi",
          "Quảng Ngãi",
          "Quảng Ngãi",
          "Quảng Ngãi",
          "Quảng Ngãi",
          "Quảng Ngãi",
          "Quảng Ngãi",
          "Quảng Ninh",
          "Quảng Ninh",
          "Quảng Ninh",
          "Quảng Ninh",
          "Quảng Ninh",
          "Quảng Ninh",
          "Quảng Ninh",
          "Quảng Ninh",
          "Quảng Trị",
          "Quảng Trị",
          "Quảng Trị",
          "Quảng Trị",
          "Quảng Trị",
          "Quảng Trị",
          "Quảng Trị",
          "Sóc Trăng",
          "Sóc Trăng",
          "Sóc Trăng",
          "Sóc Trăng",
          "Sóc Trăng",
          "Sóc Trăng",
          "Sóc Trăng",
          "Sóc Trăng",
          "Sơn La",
          "Sơn La",
          "Sơn La",
          "Sơn La",
          "TP. Hồ Chí Minh",
          "TP. Hồ Chí Minh",
          "TP. Hồ Chí Minh",
          "TP. Hồ Chí Minh",
          "TP. Hồ Chí Minh",
          "TP. Hồ Chí Minh",
          "TP. Hồ Chí Minh",
          "TP. Hồ Chí Minh",
          "Thanh Hóa",
          "Thanh Hóa",
          "Thanh Hóa",
          "Thanh Hóa",
          "Thanh Hóa",
          "Thanh Hóa",
          "Thanh Hóa",
          "Thanh Hóa",
          "Thái Bình",
          "Thái Bình",
          "Thái Bình",
          "Thái Bình",
          "Thái Bình",
          "Thái Bình",
          "Thái Bình",
          "Thái Bình",
          "Thái Nguyên",
          "Thái Nguyên",
          "Thái Nguyên",
          "Thái Nguyên",
          "Thái Nguyên",
          "Thái Nguyên",
          "Thái Nguyên",
          "Thái Nguyên",
          "Thừa Thiên Huế",
          "Thừa Thiên Huế",
          "Thừa Thiên Huế",
          "Thừa Thiên Huế",
          "Thừa Thiên Huế",
          "Thừa Thiên Huế",
          "Thừa Thiên Huế",
          "Thừa Thiên Huế",
          "Tiền Giang",
          "Tiền Giang",
          "Tiền Giang",
          "Tiền Giang",
          "Tiền Giang",
          "Tiền Giang",
          "Tiền Giang",
          "Tiền Giang",
          "Trà Vinh",
          "Trà Vinh",
          "Trà Vinh",
          "Trà Vinh",
          "Trà Vinh",
          "Trà Vinh",
          "Trà Vinh",
          "Trà Vinh",
          "Tuyên Quang",
          "Tuyên Quang",
          "Tuyên Quang",
          "Tuyên Quang",
          "Tuyên Quang",
          "Tuyên Quang",
          "Tuyên Quang",
          "Tuyên Quang",
          "Tây Ninh",
          "Tây Ninh",
          "Tây Ninh",
          "Tây Ninh",
          "Tây Ninh",
          "Tây Ninh",
          "Tây Ninh",
          "Tây Ninh",
          "Vĩnh Long",
          "Vĩnh Long",
          "Vĩnh Long",
          "Vĩnh Long",
          "Vĩnh Long",
          "Vĩnh Long",
          "Vĩnh Long",
          "Vĩnh Long",
          "Vĩnh Phúc",
          "Vĩnh Phúc",
          "Vĩnh Phúc",
          "Vĩnh Phúc",
          "Vĩnh Phúc",
          "Vĩnh Phúc",
          "Vĩnh Phúc",
          "Vĩnh Phúc",
          "Yên Bái",
          "Yên Bái",
          "Yên Bái",
          "Yên Bái",
          "Yên Bái",
          "Yên Bái",
          "Yên Bái",
          "Yên Bái",
          "Điện Biên",
          "Điện Biên",
          "Điện Biên",
          "Đà Nẵng",
          "Đà Nẵng",
          "Đà Nẵng",
          "Đà Nẵng",
          "Đà Nẵng",
          "Đà Nẵng",
          "Đà Nẵng",
          "Đà Nẵng",
          "Đăk Lăk",
          "Đăk Lăk",
          "Đăk Lăk",
          "Đăk Lăk",
          "Đăk Lăk",
          "Đăk Lăk",
          "Đăk Lăk",
          "Đăk Lăk",
          "Đăk Nông",
          "Đăk Nông",
          "Đăk Nông",
          "Đăk Nông",
          "Đăk Nông",
          "Đăk Nông",
          "Đăk Nông",
          "Đồng Nai",
          "Đồng Nai",
          "Đồng Nai",
          "Đồng Nai",
          "Đồng Nai",
          "Đồng Nai",
          "Đồng Nai",
          "Đồng Nai",
          "Đồng Tháp",
          "Đồng Tháp",
          "Đồng Tháp",
          "Đồng Tháp",
          "Đồng Tháp",
          "Đồng Tháp",
          "Đồng Tháp",
          "2015",
          "2016",
          "2017",
          "2018",
          "2019",
          "2020",
          "2021",
          "2022"
         ],
         "name": "",
         "parents": [
          "2015",
          "2016",
          "2017",
          "2018",
          "2019",
          "2020",
          "2021",
          "2022",
          "2015",
          "2016",
          "2017",
          "2018",
          "2019",
          "2020",
          "2021",
          "2022",
          "2015",
          "2016",
          "2017",
          "2018",
          "2019",
          "2020",
          "2021",
          "2022",
          "2015",
          "2016",
          "2017",
          "2018",
          "2019",
          "2020",
          "2021",
          "2022",
          "2015",
          "2016",
          "2017",
          "2018",
          "2019",
          "2020",
          "2021",
          "2022",
          "2015",
          "2016",
          "2017",
          "2018",
          "2019",
          "2020",
          "2021",
          "2022",
          "2015",
          "2018",
          "2019",
          "2020",
          "2021",
          "2022",
          "2015",
          "2016",
          "2017",
          "2018",
          "2019",
          "2020",
          "2021",
          "2022",
          "2015",
          "2018",
          "2019",
          "2015",
          "2016",
          "2017",
          "2018",
          "2019",
          "2020",
          "2021",
          "2022",
          "2015",
          "2016",
          "2017",
          "2018",
          "2019",
          "2020",
          "2021",
          "2022",
          "2017",
          "2019",
          "2020",
          "2021",
          "2017",
          "2018",
          "2019",
          "2020",
          "2021",
          "2022",
          "2015",
          "2016",
          "2017",
          "2018",
          "2019",
          "2020",
          "2021",
          "2022",
          "2016",
          "2016",
          "2020",
          "2021",
          "2022",
          "2016",
          "2017",
          "2018",
          "2019",
          "2015",
          "2016",
          "2017",
          "2018",
          "2019",
          "2020",
          "2021",
          "2022",
          "2015",
          "2016",
          "2017",
          "2018",
          "2019",
          "2020",
          "2021",
          "2022",
          "2015",
          "2016",
          "2017",
          "2018",
          "2019",
          "2020",
          "2021",
          "2022",
          "2015",
          "2016",
          "2017",
          "2018",
          "2019",
          "2020",
          "2021",
          "2022",
          "2015",
          "2016",
          "2017",
          "2018",
          "2019",
          "2020",
          "2021",
          "2022",
          "2015",
          "2016",
          "2017",
          "2018",
          "2019",
          "2020",
          "2021",
          "2022",
          "2015",
          "2016",
          "2017",
          "2018",
          "2019",
          "2020",
          "2021",
          "2022",
          "2015",
          "2016",
          "2017",
          "2018",
          "2019",
          "2020",
          "2021",
          "2022",
          "2015",
          "2016",
          "2017",
          "2018",
          "2019",
          "2020",
          "2021",
          "2022",
          "2015",
          "2016",
          "2017",
          "2018",
          "2019",
          "2020",
          "2021",
          "2022",
          "2016",
          "2017",
          "2018",
          "2019",
          "2020",
          "2021",
          "2022",
          "2019",
          "2021",
          "2015",
          "2016",
          "2017",
          "2018",
          "2019",
          "2020",
          "2021",
          "2022",
          "2016",
          "2017",
          "2018",
          "2019",
          "2020",
          "2021",
          "2015",
          "2016",
          "2017",
          "2018",
          "2019",
          "2020",
          "2021",
          "2022",
          "2016",
          "2017",
          "2018",
          "2019",
          "2021",
          "2022",
          "2015",
          "2016",
          "2017",
          "2018",
          "2019",
          "2020",
          "2021",
          "2022",
          "2015",
          "2016",
          "2017",
          "2018",
          "2019",
          "2020",
          "2021",
          "2022",
          "2015",
          "2016",
          "2017",
          "2018",
          "2019",
          "2020",
          "2021",
          "2022",
          "2015",
          "2016",
          "2017",
          "2018",
          "2019",
          "2020",
          "2021",
          "2022",
          "2015",
          "2016",
          "2017",
          "2018",
          "2019",
          "2020",
          "2021",
          "2022",
          "2015",
          "2016",
          "2017",
          "2018",
          "2019",
          "2020",
          "2021",
          "2022",
          "2015",
          "2016",
          "2017",
          "2018",
          "2019",
          "2020",
          "2021",
          "2015",
          "2016",
          "2017",
          "2018",
          "2019",
          "2020",
          "2021",
          "2022",
          "2015",
          "2016",
          "2017",
          "2018",
          "2019",
          "2020",
          "2021",
          "2022",
          "2015",
          "2016",
          "2017",
          "2018",
          "2019",
          "2020",
          "2021",
          "2022",
          "2016",
          "2017",
          "2018",
          "2019",
          "2020",
          "2021",
          "2022",
          "2015",
          "2016",
          "2017",
          "2018",
          "2019",
          "2020",
          "2021",
          "2022",
          "2017",
          "2018",
          "2019",
          "2020",
          "2015",
          "2016",
          "2017",
          "2018",
          "2019",
          "2020",
          "2021",
          "2022",
          "2015",
          "2016",
          "2017",
          "2018",
          "2019",
          "2020",
          "2021",
          "2022",
          "2015",
          "2016",
          "2017",
          "2018",
          "2019",
          "2020",
          "2021",
          "2022",
          "2015",
          "2016",
          "2017",
          "2018",
          "2019",
          "2020",
          "2021",
          "2022",
          "2015",
          "2016",
          "2017",
          "2018",
          "2019",
          "2020",
          "2021",
          "2022",
          "2015",
          "2016",
          "2017",
          "2018",
          "2019",
          "2020",
          "2021",
          "2022",
          "2015",
          "2016",
          "2017",
          "2018",
          "2019",
          "2020",
          "2021",
          "2022",
          "2015",
          "2016",
          "2017",
          "2018",
          "2019",
          "2020",
          "2021",
          "2022",
          "2015",
          "2016",
          "2017",
          "2018",
          "2019",
          "2020",
          "2021",
          "2022",
          "2015",
          "2016",
          "2017",
          "2018",
          "2019",
          "2020",
          "2021",
          "2022",
          "2015",
          "2016",
          "2017",
          "2018",
          "2019",
          "2020",
          "2021",
          "2022",
          "2015",
          "2016",
          "2017",
          "2018",
          "2019",
          "2020",
          "2021",
          "2022",
          "2017",
          "2019",
          "2020",
          "2015",
          "2016",
          "2017",
          "2018",
          "2019",
          "2020",
          "2021",
          "2022",
          "2015",
          "2016",
          "2017",
          "2018",
          "2019",
          "2020",
          "2021",
          "2022",
          "2016",
          "2017",
          "2018",
          "2019",
          "2020",
          "2021",
          "2022",
          "2015",
          "2016",
          "2017",
          "2018",
          "2019",
          "2020",
          "2021",
          "2022",
          "2015",
          "2016",
          "2017",
          "2018",
          "2019",
          "2020",
          "2021",
          "",
          "",
          "",
          "",
          "",
          "",
          "",
          ""
         ],
         "type": "treemap",
         "values": [
          8,
          1,
          1,
          2,
          2,
          1,
          1,
          2,
          11,
          18,
          25,
          45,
          49,
          31,
          21,
          17,
          200,
          256,
          189,
          215,
          243,
          133,
          75,
          68,
          21,
          20,
          24,
          29,
          41,
          48,
          49,
          33,
          1,
          10,
          6,
          1,
          8,
          6,
          2,
          2,
          6,
          10,
          9,
          9,
          6,
          4,
          4,
          2,
          1,
          1,
          2,
          1,
          1,
          1,
          51,
          53,
          69,
          67,
          76,
          35,
          21,
          36,
          1,
          1,
          1,
          133,
          185,
          184,
          173,
          247,
          153,
          126,
          147,
          2,
          6,
          4,
          4,
          3,
          8,
          3,
          1,
          1,
          1,
          1,
          1,
          2,
          2,
          2,
          1,
          1,
          1,
          5,
          8,
          4,
          6,
          7,
          5,
          5,
          6,
          1,
          1,
          1,
          1,
          1,
          1,
          3,
          2,
          1,
          34,
          31,
          18,
          42,
          61,
          33,
          20,
          19,
          352,
          453,
          542,
          622,
          879,
          496,
          362,
          365,
          9,
          9,
          7,
          8,
          7,
          2,
          1,
          1,
          5,
          1,
          4,
          2,
          3,
          2,
          1,
          1,
          34,
          42,
          37,
          29,
          44,
          22,
          28,
          21,
          28,
          29,
          48,
          44,
          67,
          32,
          17,
          17,
          45,
          52,
          57,
          111,
          87,
          79,
          48,
          91,
          1,
          1,
          2,
          1,
          2,
          1,
          6,
          1,
          6,
          8,
          4,
          7,
          8,
          5,
          1,
          1,
          2,
          2,
          7,
          4,
          5,
          1,
          1,
          1,
          3,
          1,
          1,
          1,
          1,
          1,
          1,
          1,
          1,
          119,
          122,
          97,
          86,
          146,
          113,
          54,
          61,
          2,
          2,
          1,
          1,
          1,
          1,
          5,
          1,
          7,
          2,
          3,
          3,
          1,
          1,
          2,
          1,
          1,
          1,
          1,
          1,
          13,
          14,
          16,
          15,
          9,
          16,
          3,
          7,
          15,
          9,
          4,
          5,
          11,
          10,
          9,
          19,
          7,
          5,
          8,
          12,
          7,
          7,
          7,
          5,
          1,
          3,
          3,
          8,
          3,
          1,
          1,
          1,
          12,
          13,
          15,
          13,
          33,
          19,
          15,
          8,
          4,
          2,
          3,
          5,
          1,
          1,
          1,
          1,
          3,
          3,
          2,
          2,
          1,
          3,
          1,
          18,
          18,
          18,
          29,
          26,
          8,
          7,
          5,
          6,
          9,
          7,
          14,
          4,
          3,
          2,
          4,
          10,
          10,
          7,
          7,
          16,
          16,
          10,
          9,
          1,
          1,
          1,
          1,
          1,
          2,
          1,
          1,
          1,
          1,
          3,
          5,
          2,
          1,
          2,
          2,
          1,
          1,
          1,
          570,
          836,
          864,
          1029,
          1320,
          950,
          633,
          893,
          7,
          15,
          15,
          16,
          25,
          14,
          11,
          7,
          8,
          9,
          11,
          6,
          7,
          11,
          6,
          8,
          23,
          23,
          12,
          14,
          18,
          20,
          15,
          5,
          7,
          9,
          5,
          8,
          12,
          6,
          3,
          6,
          7,
          14,
          6,
          10,
          4,
          9,
          2,
          9,
          2,
          7,
          4,
          2,
          4,
          3,
          1,
          1,
          1,
          1,
          1,
          1,
          6,
          1,
          1,
          1,
          16,
          24,
          24,
          30,
          35,
          15,
          16,
          18,
          4,
          7,
          3,
          11,
          18,
          6,
          6,
          4,
          34,
          30,
          44,
          59,
          60,
          28,
          27,
          28,
          2,
          1,
          4,
          1,
          3,
          1,
          7,
          3,
          1,
          1,
          1,
          58,
          74,
          66,
          102,
          131,
          83,
          40,
          47,
          3,
          1,
          2,
          2,
          1,
          1,
          8,
          2,
          1,
          1,
          1,
          1,
          4,
          1,
          1,
          103,
          91,
          83,
          125,
          121,
          69,
          51,
          51,
          1,
          3,
          4,
          1,
          2,
          1,
          4,
          2016,
          2562,
          2592,
          3051,
          3892,
          2530,
          1746,
          2045
         ]
        }
       ],
       "layout": {
        "legend": {
         "tracegroupgap": 0
        },
        "template": {
         "data": {
          "bar": [
           {
            "error_x": {
             "color": "#2a3f5f"
            },
            "error_y": {
             "color": "#2a3f5f"
            },
            "marker": {
             "line": {
              "color": "#E5ECF6",
              "width": 0.5
             },
             "pattern": {
              "fillmode": "overlay",
              "size": 10,
              "solidity": 0.2
             }
            },
            "type": "bar"
           }
          ],
          "barpolar": [
           {
            "marker": {
             "line": {
              "color": "#E5ECF6",
              "width": 0.5
             },
             "pattern": {
              "fillmode": "overlay",
              "size": 10,
              "solidity": 0.2
             }
            },
            "type": "barpolar"
           }
          ],
          "carpet": [
           {
            "aaxis": {
             "endlinecolor": "#2a3f5f",
             "gridcolor": "white",
             "linecolor": "white",
             "minorgridcolor": "white",
             "startlinecolor": "#2a3f5f"
            },
            "baxis": {
             "endlinecolor": "#2a3f5f",
             "gridcolor": "white",
             "linecolor": "white",
             "minorgridcolor": "white",
             "startlinecolor": "#2a3f5f"
            },
            "type": "carpet"
           }
          ],
          "choropleth": [
           {
            "colorbar": {
             "outlinewidth": 0,
             "ticks": ""
            },
            "type": "choropleth"
           }
          ],
          "contour": [
           {
            "colorbar": {
             "outlinewidth": 0,
             "ticks": ""
            },
            "colorscale": [
             [
              0,
              "#0d0887"
             ],
             [
              0.1111111111111111,
              "#46039f"
             ],
             [
              0.2222222222222222,
              "#7201a8"
             ],
             [
              0.3333333333333333,
              "#9c179e"
             ],
             [
              0.4444444444444444,
              "#bd3786"
             ],
             [
              0.5555555555555556,
              "#d8576b"
             ],
             [
              0.6666666666666666,
              "#ed7953"
             ],
             [
              0.7777777777777778,
              "#fb9f3a"
             ],
             [
              0.8888888888888888,
              "#fdca26"
             ],
             [
              1,
              "#f0f921"
             ]
            ],
            "type": "contour"
           }
          ],
          "contourcarpet": [
           {
            "colorbar": {
             "outlinewidth": 0,
             "ticks": ""
            },
            "type": "contourcarpet"
           }
          ],
          "heatmap": [
           {
            "colorbar": {
             "outlinewidth": 0,
             "ticks": ""
            },
            "colorscale": [
             [
              0,
              "#0d0887"
             ],
             [
              0.1111111111111111,
              "#46039f"
             ],
             [
              0.2222222222222222,
              "#7201a8"
             ],
             [
              0.3333333333333333,
              "#9c179e"
             ],
             [
              0.4444444444444444,
              "#bd3786"
             ],
             [
              0.5555555555555556,
              "#d8576b"
             ],
             [
              0.6666666666666666,
              "#ed7953"
             ],
             [
              0.7777777777777778,
              "#fb9f3a"
             ],
             [
              0.8888888888888888,
              "#fdca26"
             ],
             [
              1,
              "#f0f921"
             ]
            ],
            "type": "heatmap"
           }
          ],
          "heatmapgl": [
           {
            "colorbar": {
             "outlinewidth": 0,
             "ticks": ""
            },
            "colorscale": [
             [
              0,
              "#0d0887"
             ],
             [
              0.1111111111111111,
              "#46039f"
             ],
             [
              0.2222222222222222,
              "#7201a8"
             ],
             [
              0.3333333333333333,
              "#9c179e"
             ],
             [
              0.4444444444444444,
              "#bd3786"
             ],
             [
              0.5555555555555556,
              "#d8576b"
             ],
             [
              0.6666666666666666,
              "#ed7953"
             ],
             [
              0.7777777777777778,
              "#fb9f3a"
             ],
             [
              0.8888888888888888,
              "#fdca26"
             ],
             [
              1,
              "#f0f921"
             ]
            ],
            "type": "heatmapgl"
           }
          ],
          "histogram": [
           {
            "marker": {
             "pattern": {
              "fillmode": "overlay",
              "size": 10,
              "solidity": 0.2
             }
            },
            "type": "histogram"
           }
          ],
          "histogram2d": [
           {
            "colorbar": {
             "outlinewidth": 0,
             "ticks": ""
            },
            "colorscale": [
             [
              0,
              "#0d0887"
             ],
             [
              0.1111111111111111,
              "#46039f"
             ],
             [
              0.2222222222222222,
              "#7201a8"
             ],
             [
              0.3333333333333333,
              "#9c179e"
             ],
             [
              0.4444444444444444,
              "#bd3786"
             ],
             [
              0.5555555555555556,
              "#d8576b"
             ],
             [
              0.6666666666666666,
              "#ed7953"
             ],
             [
              0.7777777777777778,
              "#fb9f3a"
             ],
             [
              0.8888888888888888,
              "#fdca26"
             ],
             [
              1,
              "#f0f921"
             ]
            ],
            "type": "histogram2d"
           }
          ],
          "histogram2dcontour": [
           {
            "colorbar": {
             "outlinewidth": 0,
             "ticks": ""
            },
            "colorscale": [
             [
              0,
              "#0d0887"
             ],
             [
              0.1111111111111111,
              "#46039f"
             ],
             [
              0.2222222222222222,
              "#7201a8"
             ],
             [
              0.3333333333333333,
              "#9c179e"
             ],
             [
              0.4444444444444444,
              "#bd3786"
             ],
             [
              0.5555555555555556,
              "#d8576b"
             ],
             [
              0.6666666666666666,
              "#ed7953"
             ],
             [
              0.7777777777777778,
              "#fb9f3a"
             ],
             [
              0.8888888888888888,
              "#fdca26"
             ],
             [
              1,
              "#f0f921"
             ]
            ],
            "type": "histogram2dcontour"
           }
          ],
          "mesh3d": [
           {
            "colorbar": {
             "outlinewidth": 0,
             "ticks": ""
            },
            "type": "mesh3d"
           }
          ],
          "parcoords": [
           {
            "line": {
             "colorbar": {
              "outlinewidth": 0,
              "ticks": ""
             }
            },
            "type": "parcoords"
           }
          ],
          "pie": [
           {
            "automargin": true,
            "type": "pie"
           }
          ],
          "scatter": [
           {
            "fillpattern": {
             "fillmode": "overlay",
             "size": 10,
             "solidity": 0.2
            },
            "type": "scatter"
           }
          ],
          "scatter3d": [
           {
            "line": {
             "colorbar": {
              "outlinewidth": 0,
              "ticks": ""
             }
            },
            "marker": {
             "colorbar": {
              "outlinewidth": 0,
              "ticks": ""
             }
            },
            "type": "scatter3d"
           }
          ],
          "scattercarpet": [
           {
            "marker": {
             "colorbar": {
              "outlinewidth": 0,
              "ticks": ""
             }
            },
            "type": "scattercarpet"
           }
          ],
          "scattergeo": [
           {
            "marker": {
             "colorbar": {
              "outlinewidth": 0,
              "ticks": ""
             }
            },
            "type": "scattergeo"
           }
          ],
          "scattergl": [
           {
            "marker": {
             "colorbar": {
              "outlinewidth": 0,
              "ticks": ""
             }
            },
            "type": "scattergl"
           }
          ],
          "scattermapbox": [
           {
            "marker": {
             "colorbar": {
              "outlinewidth": 0,
              "ticks": ""
             }
            },
            "type": "scattermapbox"
           }
          ],
          "scatterpolar": [
           {
            "marker": {
             "colorbar": {
              "outlinewidth": 0,
              "ticks": ""
             }
            },
            "type": "scatterpolar"
           }
          ],
          "scatterpolargl": [
           {
            "marker": {
             "colorbar": {
              "outlinewidth": 0,
              "ticks": ""
             }
            },
            "type": "scatterpolargl"
           }
          ],
          "scatterternary": [
           {
            "marker": {
             "colorbar": {
              "outlinewidth": 0,
              "ticks": ""
             }
            },
            "type": "scatterternary"
           }
          ],
          "surface": [
           {
            "colorbar": {
             "outlinewidth": 0,
             "ticks": ""
            },
            "colorscale": [
             [
              0,
              "#0d0887"
             ],
             [
              0.1111111111111111,
              "#46039f"
             ],
             [
              0.2222222222222222,
              "#7201a8"
             ],
             [
              0.3333333333333333,
              "#9c179e"
             ],
             [
              0.4444444444444444,
              "#bd3786"
             ],
             [
              0.5555555555555556,
              "#d8576b"
             ],
             [
              0.6666666666666666,
              "#ed7953"
             ],
             [
              0.7777777777777778,
              "#fb9f3a"
             ],
             [
              0.8888888888888888,
              "#fdca26"
             ],
             [
              1,
              "#f0f921"
             ]
            ],
            "type": "surface"
           }
          ],
          "table": [
           {
            "cells": {
             "fill": {
              "color": "#EBF0F8"
             },
             "line": {
              "color": "white"
             }
            },
            "header": {
             "fill": {
              "color": "#C8D4E3"
             },
             "line": {
              "color": "white"
             }
            },
            "type": "table"
           }
          ]
         },
         "layout": {
          "annotationdefaults": {
           "arrowcolor": "#2a3f5f",
           "arrowhead": 0,
           "arrowwidth": 1
          },
          "autotypenumbers": "strict",
          "coloraxis": {
           "colorbar": {
            "outlinewidth": 0,
            "ticks": ""
           }
          },
          "colorscale": {
           "diverging": [
            [
             0,
             "#8e0152"
            ],
            [
             0.1,
             "#c51b7d"
            ],
            [
             0.2,
             "#de77ae"
            ],
            [
             0.3,
             "#f1b6da"
            ],
            [
             0.4,
             "#fde0ef"
            ],
            [
             0.5,
             "#f7f7f7"
            ],
            [
             0.6,
             "#e6f5d0"
            ],
            [
             0.7,
             "#b8e186"
            ],
            [
             0.8,
             "#7fbc41"
            ],
            [
             0.9,
             "#4d9221"
            ],
            [
             1,
             "#276419"
            ]
           ],
           "sequential": [
            [
             0,
             "#0d0887"
            ],
            [
             0.1111111111111111,
             "#46039f"
            ],
            [
             0.2222222222222222,
             "#7201a8"
            ],
            [
             0.3333333333333333,
             "#9c179e"
            ],
            [
             0.4444444444444444,
             "#bd3786"
            ],
            [
             0.5555555555555556,
             "#d8576b"
            ],
            [
             0.6666666666666666,
             "#ed7953"
            ],
            [
             0.7777777777777778,
             "#fb9f3a"
            ],
            [
             0.8888888888888888,
             "#fdca26"
            ],
            [
             1,
             "#f0f921"
            ]
           ],
           "sequentialminus": [
            [
             0,
             "#0d0887"
            ],
            [
             0.1111111111111111,
             "#46039f"
            ],
            [
             0.2222222222222222,
             "#7201a8"
            ],
            [
             0.3333333333333333,
             "#9c179e"
            ],
            [
             0.4444444444444444,
             "#bd3786"
            ],
            [
             0.5555555555555556,
             "#d8576b"
            ],
            [
             0.6666666666666666,
             "#ed7953"
            ],
            [
             0.7777777777777778,
             "#fb9f3a"
            ],
            [
             0.8888888888888888,
             "#fdca26"
            ],
            [
             1,
             "#f0f921"
            ]
           ]
          },
          "colorway": [
           "#636efa",
           "#EF553B",
           "#00cc96",
           "#ab63fa",
           "#FFA15A",
           "#19d3f3",
           "#FF6692",
           "#B6E880",
           "#FF97FF",
           "#FECB52"
          ],
          "font": {
           "color": "#2a3f5f"
          },
          "geo": {
           "bgcolor": "white",
           "lakecolor": "white",
           "landcolor": "#E5ECF6",
           "showlakes": true,
           "showland": true,
           "subunitcolor": "white"
          },
          "hoverlabel": {
           "align": "left"
          },
          "hovermode": "closest",
          "mapbox": {
           "style": "light"
          },
          "paper_bgcolor": "white",
          "plot_bgcolor": "#E5ECF6",
          "polar": {
           "angularaxis": {
            "gridcolor": "white",
            "linecolor": "white",
            "ticks": ""
           },
           "bgcolor": "#E5ECF6",
           "radialaxis": {
            "gridcolor": "white",
            "linecolor": "white",
            "ticks": ""
           }
          },
          "scene": {
           "xaxis": {
            "backgroundcolor": "#E5ECF6",
            "gridcolor": "white",
            "gridwidth": 2,
            "linecolor": "white",
            "showbackground": true,
            "ticks": "",
            "zerolinecolor": "white"
           },
           "yaxis": {
            "backgroundcolor": "#E5ECF6",
            "gridcolor": "white",
            "gridwidth": 2,
            "linecolor": "white",
            "showbackground": true,
            "ticks": "",
            "zerolinecolor": "white"
           },
           "zaxis": {
            "backgroundcolor": "#E5ECF6",
            "gridcolor": "white",
            "gridwidth": 2,
            "linecolor": "white",
            "showbackground": true,
            "ticks": "",
            "zerolinecolor": "white"
           }
          },
          "shapedefaults": {
           "line": {
            "color": "#2a3f5f"
           }
          },
          "ternary": {
           "aaxis": {
            "gridcolor": "white",
            "linecolor": "white",
            "ticks": ""
           },
           "baxis": {
            "gridcolor": "white",
            "linecolor": "white",
            "ticks": ""
           },
           "bgcolor": "#E5ECF6",
           "caxis": {
            "gridcolor": "white",
            "linecolor": "white",
            "ticks": ""
           }
          },
          "title": {
           "x": 0.05
          },
          "xaxis": {
           "automargin": true,
           "gridcolor": "white",
           "linecolor": "white",
           "ticks": "",
           "title": {
            "standoff": 15
           },
           "zerolinecolor": "white",
           "zerolinewidth": 2
          },
          "yaxis": {
           "automargin": true,
           "gridcolor": "white",
           "linecolor": "white",
           "ticks": "",
           "title": {
            "standoff": 15
           },
           "zerolinecolor": "white",
           "zerolinewidth": 2
          }
         }
        },
        "title": {
         "text": "So du an cap moi cua Viet Nam trong cac nam"
        }
       }
      }
     },
     "metadata": {},
     "output_type": "display_data"
    },
    {
     "data": {
      "application/vnd.plotly.v1+json": {
       "config": {
        "plotlyServerURL": "https://plot.ly"
       },
       "data": [
        {
         "branchvalues": "total",
         "domain": {
          "x": [
           0,
           1
          ],
          "y": [
           0,
           1
          ]
         },
         "hovertemplate": "labels=%{label}<br>Von dang ky cap moi=%{value}<br>parent=%{parent}<br>id=%{id}<extra></extra>",
         "ids": [
          "2015/An Giang",
          "2016/An Giang",
          "2017/An Giang",
          "2018/An Giang",
          "2019/An Giang",
          "2020/An Giang",
          "2021/An Giang",
          "2022/An Giang",
          "2015/Bà Rịa - Vũng Tàu",
          "2016/Bà Rịa - Vũng Tàu",
          "2017/Bà Rịa - Vũng Tàu",
          "2018/Bà Rịa - Vũng Tàu",
          "2019/Bà Rịa - Vũng Tàu",
          "2020/Bà Rịa - Vũng Tàu",
          "2021/Bà Rịa - Vũng Tàu",
          "2022/Bà Rịa - Vũng Tàu",
          "2015/Bình Dương",
          "2016/Bình Dương",
          "2017/Bình Dương",
          "2018/Bình Dương",
          "2019/Bình Dương",
          "2020/Bình Dương",
          "2021/Bình Dương",
          "2022/Bình Dương",
          "2015/Bình Phước",
          "2016/Bình Phước",
          "2017/Bình Phước",
          "2018/Bình Phước",
          "2019/Bình Phước",
          "2020/Bình Phước",
          "2021/Bình Phước",
          "2022/Bình Phước",
          "2015/Bình Thuận",
          "2016/Bình Thuận",
          "2017/Bình Thuận",
          "2018/Bình Thuận",
          "2019/Bình Thuận",
          "2020/Bình Thuận",
          "2021/Bình Thuận",
          "2022/Bình Thuận",
          "2015/Bình Định",
          "2016/Bình Định",
          "2017/Bình Định",
          "2018/Bình Định",
          "2019/Bình Định",
          "2020/Bình Định",
          "2021/Bình Định",
          "2022/Bình Định",
          "2015/Bạc Liêu",
          "2018/Bạc Liêu",
          "2019/Bạc Liêu",
          "2020/Bạc Liêu",
          "2021/Bạc Liêu",
          "2022/Bạc Liêu",
          "2015/Bắc Giang",
          "2016/Bắc Giang",
          "2017/Bắc Giang",
          "2018/Bắc Giang",
          "2019/Bắc Giang",
          "2020/Bắc Giang",
          "2021/Bắc Giang",
          "2022/Bắc Giang",
          "2015/Bắc Kạn",
          "2018/Bắc Kạn",
          "2019/Bắc Kạn",
          "2015/Bắc Ninh",
          "2016/Bắc Ninh",
          "2017/Bắc Ninh",
          "2018/Bắc Ninh",
          "2019/Bắc Ninh",
          "2020/Bắc Ninh",
          "2021/Bắc Ninh",
          "2022/Bắc Ninh",
          "2015/Bến Tre",
          "2016/Bến Tre",
          "2017/Bến Tre",
          "2018/Bến Tre",
          "2019/Bến Tre",
          "2020/Bến Tre",
          "2021/Bến Tre",
          "2022/Bến Tre",
          "2017/Cao Bằng",
          "2019/Cao Bằng",
          "2020/Cao Bằng",
          "2021/Cao Bằng",
          "2017/Cà Mau",
          "2018/Cà Mau",
          "2019/Cà Mau",
          "2020/Cà Mau",
          "2021/Cà Mau",
          "2022/Cà Mau",
          "2015/Cần Thơ",
          "2016/Cần Thơ",
          "2017/Cần Thơ",
          "2018/Cần Thơ",
          "2019/Cần Thơ",
          "2020/Cần Thơ",
          "2021/Cần Thơ",
          "2022/Cần Thơ",
          "2016/Dầu khí",
          "2016/Gia Lai",
          "2020/Gia Lai",
          "2021/Gia Lai",
          "2022/Gia Lai",
          "2016/Hà Giang",
          "2017/Hà Giang",
          "2018/Hà Giang",
          "2019/Hà Giang",
          "2015/Hà Nam",
          "2016/Hà Nam",
          "2017/Hà Nam",
          "2018/Hà Nam",
          "2019/Hà Nam",
          "2020/Hà Nam",
          "2021/Hà Nam",
          "2022/Hà Nam",
          "2015/Hà Nội",
          "2016/Hà Nội",
          "2017/Hà Nội",
          "2018/Hà Nội",
          "2019/Hà Nội",
          "2020/Hà Nội",
          "2021/Hà Nội",
          "2022/Hà Nội",
          "2015/Hà Tĩnh",
          "2016/Hà Tĩnh",
          "2017/Hà Tĩnh",
          "2018/Hà Tĩnh",
          "2019/Hà Tĩnh",
          "2020/Hà Tĩnh",
          "2021/Hà Tĩnh",
          "2022/Hà Tĩnh",
          "2015/Hòa Bình",
          "2016/Hòa Bình",
          "2017/Hòa Bình",
          "2018/Hòa Bình",
          "2019/Hòa Bình",
          "2020/Hòa Bình",
          "2021/Hòa Bình",
          "2022/Hòa Bình",
          "2015/Hưng Yên",
          "2016/Hưng Yên",
          "2017/Hưng Yên",
          "2018/Hưng Yên",
          "2019/Hưng Yên",
          "2020/Hưng Yên",
          "2021/Hưng Yên",
          "2022/Hưng Yên",
          "2015/Hải Dương",
          "2016/Hải Dương",
          "2017/Hải Dương",
          "2018/Hải Dương",
          "2019/Hải Dương",
          "2020/Hải Dương",
          "2021/Hải Dương",
          "2022/Hải Dương",
          "2015/Hải Phòng",
          "2016/Hải Phòng",
          "2017/Hải Phòng",
          "2018/Hải Phòng",
          "2019/Hải Phòng",
          "2020/Hải Phòng",
          "2021/Hải Phòng",
          "2022/Hải Phòng",
          "2015/Hậu Giang",
          "2016/Hậu Giang",
          "2017/Hậu Giang",
          "2018/Hậu Giang",
          "2019/Hậu Giang",
          "2020/Hậu Giang",
          "2021/Hậu Giang",
          "2022/Hậu Giang",
          "2015/Khánh Hòa",
          "2016/Khánh Hòa",
          "2017/Khánh Hòa",
          "2018/Khánh Hòa",
          "2019/Khánh Hòa",
          "2020/Khánh Hòa",
          "2021/Khánh Hòa",
          "2022/Khánh Hòa",
          "2015/Kiên Giang",
          "2016/Kiên Giang",
          "2017/Kiên Giang",
          "2018/Kiên Giang",
          "2019/Kiên Giang",
          "2020/Kiên Giang",
          "2021/Kiên Giang",
          "2022/Kiên Giang",
          "2016/Kon Tum",
          "2017/Kon Tum",
          "2018/Kon Tum",
          "2019/Kon Tum",
          "2020/Kon Tum",
          "2021/Kon Tum",
          "2022/Kon Tum",
          "2019/Lai Châu",
          "2021/Lai Châu",
          "2015/Long An",
          "2016/Long An",
          "2017/Long An",
          "2018/Long An",
          "2019/Long An",
          "2020/Long An",
          "2021/Long An",
          "2022/Long An",
          "2016/Lào Cai",
          "2017/Lào Cai",
          "2018/Lào Cai",
          "2019/Lào Cai",
          "2020/Lào Cai",
          "2021/Lào Cai",
          "2015/Lâm Đồng",
          "2016/Lâm Đồng",
          "2017/Lâm Đồng",
          "2018/Lâm Đồng",
          "2019/Lâm Đồng",
          "2020/Lâm Đồng",
          "2021/Lâm Đồng",
          "2022/Lâm Đồng",
          "2016/Lạng Sơn",
          "2017/Lạng Sơn",
          "2018/Lạng Sơn",
          "2019/Lạng Sơn",
          "2021/Lạng Sơn",
          "2022/Lạng Sơn",
          "2015/Nam Định",
          "2016/Nam Định",
          "2017/Nam Định",
          "2018/Nam Định",
          "2019/Nam Định",
          "2020/Nam Định",
          "2021/Nam Định",
          "2022/Nam Định",
          "2015/Nghệ An",
          "2016/Nghệ An",
          "2017/Nghệ An",
          "2018/Nghệ An",
          "2019/Nghệ An",
          "2020/Nghệ An",
          "2021/Nghệ An",
          "2022/Nghệ An",
          "2015/Ninh Bình",
          "2016/Ninh Bình",
          "2017/Ninh Bình",
          "2018/Ninh Bình",
          "2019/Ninh Bình",
          "2020/Ninh Bình",
          "2021/Ninh Bình",
          "2022/Ninh Bình",
          "2015/Ninh Thuận",
          "2016/Ninh Thuận",
          "2017/Ninh Thuận",
          "2018/Ninh Thuận",
          "2019/Ninh Thuận",
          "2020/Ninh Thuận",
          "2021/Ninh Thuận",
          "2022/Ninh Thuận",
          "2015/Phú Thọ",
          "2016/Phú Thọ",
          "2017/Phú Thọ",
          "2018/Phú Thọ",
          "2019/Phú Thọ",
          "2020/Phú Thọ",
          "2021/Phú Thọ",
          "2022/Phú Thọ",
          "2015/Phú Yên",
          "2016/Phú Yên",
          "2017/Phú Yên",
          "2018/Phú Yên",
          "2019/Phú Yên",
          "2020/Phú Yên",
          "2021/Phú Yên",
          "2022/Phú Yên",
          "2015/Quảng Bình",
          "2016/Quảng Bình",
          "2017/Quảng Bình",
          "2018/Quảng Bình",
          "2019/Quảng Bình",
          "2020/Quảng Bình",
          "2021/Quảng Bình",
          "2015/Quảng Nam",
          "2016/Quảng Nam",
          "2017/Quảng Nam",
          "2018/Quảng Nam",
          "2019/Quảng Nam",
          "2020/Quảng Nam",
          "2021/Quảng Nam",
          "2022/Quảng Nam",
          "2015/Quảng Ngãi",
          "2016/Quảng Ngãi",
          "2017/Quảng Ngãi",
          "2018/Quảng Ngãi",
          "2019/Quảng Ngãi",
          "2020/Quảng Ngãi",
          "2021/Quảng Ngãi",
          "2022/Quảng Ngãi",
          "2015/Quảng Ninh",
          "2016/Quảng Ninh",
          "2017/Quảng Ninh",
          "2018/Quảng Ninh",
          "2019/Quảng Ninh",
          "2020/Quảng Ninh",
          "2021/Quảng Ninh",
          "2022/Quảng Ninh",
          "2016/Quảng Trị",
          "2017/Quảng Trị",
          "2018/Quảng Trị",
          "2019/Quảng Trị",
          "2020/Quảng Trị",
          "2021/Quảng Trị",
          "2022/Quảng Trị",
          "2015/Sóc Trăng",
          "2016/Sóc Trăng",
          "2017/Sóc Trăng",
          "2018/Sóc Trăng",
          "2019/Sóc Trăng",
          "2020/Sóc Trăng",
          "2021/Sóc Trăng",
          "2022/Sóc Trăng",
          "2017/Sơn La",
          "2018/Sơn La",
          "2019/Sơn La",
          "2020/Sơn La",
          "2015/TP. Hồ Chí Minh",
          "2016/TP. Hồ Chí Minh",
          "2017/TP. Hồ Chí Minh",
          "2018/TP. Hồ Chí Minh",
          "2019/TP. Hồ Chí Minh",
          "2020/TP. Hồ Chí Minh",
          "2021/TP. Hồ Chí Minh",
          "2022/TP. Hồ Chí Minh",
          "2015/Thanh Hóa",
          "2016/Thanh Hóa",
          "2017/Thanh Hóa",
          "2018/Thanh Hóa",
          "2019/Thanh Hóa",
          "2020/Thanh Hóa",
          "2021/Thanh Hóa",
          "2022/Thanh Hóa",
          "2015/Thái Bình",
          "2016/Thái Bình",
          "2017/Thái Bình",
          "2018/Thái Bình",
          "2019/Thái Bình",
          "2020/Thái Bình",
          "2021/Thái Bình",
          "2022/Thái Bình",
          "2015/Thái Nguyên",
          "2016/Thái Nguyên",
          "2017/Thái Nguyên",
          "2018/Thái Nguyên",
          "2019/Thái Nguyên",
          "2020/Thái Nguyên",
          "2021/Thái Nguyên",
          "2022/Thái Nguyên",
          "2015/Thừa Thiên Huế",
          "2016/Thừa Thiên Huế",
          "2017/Thừa Thiên Huế",
          "2018/Thừa Thiên Huế",
          "2019/Thừa Thiên Huế",
          "2020/Thừa Thiên Huế",
          "2021/Thừa Thiên Huế",
          "2022/Thừa Thiên Huế",
          "2015/Tiền Giang",
          "2016/Tiền Giang",
          "2017/Tiền Giang",
          "2018/Tiền Giang",
          "2019/Tiền Giang",
          "2020/Tiền Giang",
          "2021/Tiền Giang",
          "2022/Tiền Giang",
          "2015/Trà Vinh",
          "2016/Trà Vinh",
          "2017/Trà Vinh",
          "2018/Trà Vinh",
          "2019/Trà Vinh",
          "2020/Trà Vinh",
          "2021/Trà Vinh",
          "2022/Trà Vinh",
          "2015/Tuyên Quang",
          "2016/Tuyên Quang",
          "2017/Tuyên Quang",
          "2018/Tuyên Quang",
          "2019/Tuyên Quang",
          "2020/Tuyên Quang",
          "2021/Tuyên Quang",
          "2022/Tuyên Quang",
          "2015/Tây Ninh",
          "2016/Tây Ninh",
          "2017/Tây Ninh",
          "2018/Tây Ninh",
          "2019/Tây Ninh",
          "2020/Tây Ninh",
          "2021/Tây Ninh",
          "2022/Tây Ninh",
          "2015/Vĩnh Long",
          "2016/Vĩnh Long",
          "2017/Vĩnh Long",
          "2018/Vĩnh Long",
          "2019/Vĩnh Long",
          "2020/Vĩnh Long",
          "2021/Vĩnh Long",
          "2022/Vĩnh Long",
          "2015/Vĩnh Phúc",
          "2016/Vĩnh Phúc",
          "2017/Vĩnh Phúc",
          "2018/Vĩnh Phúc",
          "2019/Vĩnh Phúc",
          "2020/Vĩnh Phúc",
          "2021/Vĩnh Phúc",
          "2022/Vĩnh Phúc",
          "2015/Yên Bái",
          "2016/Yên Bái",
          "2017/Yên Bái",
          "2018/Yên Bái",
          "2019/Yên Bái",
          "2020/Yên Bái",
          "2021/Yên Bái",
          "2022/Yên Bái",
          "2017/Điện Biên",
          "2019/Điện Biên",
          "2020/Điện Biên",
          "2015/Đà Nẵng",
          "2016/Đà Nẵng",
          "2017/Đà Nẵng",
          "2018/Đà Nẵng",
          "2019/Đà Nẵng",
          "2020/Đà Nẵng",
          "2021/Đà Nẵng",
          "2022/Đà Nẵng",
          "2015/Đăk Lăk",
          "2016/Đăk Lăk",
          "2017/Đăk Lăk",
          "2018/Đăk Lăk",
          "2019/Đăk Lăk",
          "2020/Đăk Lăk",
          "2021/Đăk Lăk",
          "2022/Đăk Lăk",
          "2016/Đăk Nông",
          "2017/Đăk Nông",
          "2018/Đăk Nông",
          "2019/Đăk Nông",
          "2020/Đăk Nông",
          "2021/Đăk Nông",
          "2022/Đăk Nông",
          "2015/Đồng Nai",
          "2016/Đồng Nai",
          "2017/Đồng Nai",
          "2018/Đồng Nai",
          "2019/Đồng Nai",
          "2020/Đồng Nai",
          "2021/Đồng Nai",
          "2022/Đồng Nai",
          "2015/Đồng Tháp",
          "2016/Đồng Tháp",
          "2017/Đồng Tháp",
          "2018/Đồng Tháp",
          "2019/Đồng Tháp",
          "2020/Đồng Tháp",
          "2021/Đồng Tháp",
          "2015",
          "2016",
          "2017",
          "2018",
          "2019",
          "2020",
          "2021",
          "2022"
         ],
         "labels": [
          "An Giang",
          "An Giang",
          "An Giang",
          "An Giang",
          "An Giang",
          "An Giang",
          "An Giang",
          "An Giang",
          "Bà Rịa - Vũng Tàu",
          "Bà Rịa - Vũng Tàu",
          "Bà Rịa - Vũng Tàu",
          "Bà Rịa - Vũng Tàu",
          "Bà Rịa - Vũng Tàu",
          "Bà Rịa - Vũng Tàu",
          "Bà Rịa - Vũng Tàu",
          "Bà Rịa - Vũng Tàu",
          "Bình Dương",
          "Bình Dương",
          "Bình Dương",
          "Bình Dương",
          "Bình Dương",
          "Bình Dương",
          "Bình Dương",
          "Bình Dương",
          "Bình Phước",
          "Bình Phước",
          "Bình Phước",
          "Bình Phước",
          "Bình Phước",
          "Bình Phước",
          "Bình Phước",
          "Bình Phước",
          "Bình Thuận",
          "Bình Thuận",
          "Bình Thuận",
          "Bình Thuận",
          "Bình Thuận",
          "Bình Thuận",
          "Bình Thuận",
          "Bình Thuận",
          "Bình Định",
          "Bình Định",
          "Bình Định",
          "Bình Định",
          "Bình Định",
          "Bình Định",
          "Bình Định",
          "Bình Định",
          "Bạc Liêu",
          "Bạc Liêu",
          "Bạc Liêu",
          "Bạc Liêu",
          "Bạc Liêu",
          "Bạc Liêu",
          "Bắc Giang",
          "Bắc Giang",
          "Bắc Giang",
          "Bắc Giang",
          "Bắc Giang",
          "Bắc Giang",
          "Bắc Giang",
          "Bắc Giang",
          "Bắc Kạn",
          "Bắc Kạn",
          "Bắc Kạn",
          "Bắc Ninh",
          "Bắc Ninh",
          "Bắc Ninh",
          "Bắc Ninh",
          "Bắc Ninh",
          "Bắc Ninh",
          "Bắc Ninh",
          "Bắc Ninh",
          "Bến Tre",
          "Bến Tre",
          "Bến Tre",
          "Bến Tre",
          "Bến Tre",
          "Bến Tre",
          "Bến Tre",
          "Bến Tre",
          "Cao Bằng",
          "Cao Bằng",
          "Cao Bằng",
          "Cao Bằng",
          "Cà Mau",
          "Cà Mau",
          "Cà Mau",
          "Cà Mau",
          "Cà Mau",
          "Cà Mau",
          "Cần Thơ",
          "Cần Thơ",
          "Cần Thơ",
          "Cần Thơ",
          "Cần Thơ",
          "Cần Thơ",
          "Cần Thơ",
          "Cần Thơ",
          "Dầu khí",
          "Gia Lai",
          "Gia Lai",
          "Gia Lai",
          "Gia Lai",
          "Hà Giang",
          "Hà Giang",
          "Hà Giang",
          "Hà Giang",
          "Hà Nam",
          "Hà Nam",
          "Hà Nam",
          "Hà Nam",
          "Hà Nam",
          "Hà Nam",
          "Hà Nam",
          "Hà Nam",
          "Hà Nội",
          "Hà Nội",
          "Hà Nội",
          "Hà Nội",
          "Hà Nội",
          "Hà Nội",
          "Hà Nội",
          "Hà Nội",
          "Hà Tĩnh",
          "Hà Tĩnh",
          "Hà Tĩnh",
          "Hà Tĩnh",
          "Hà Tĩnh",
          "Hà Tĩnh",
          "Hà Tĩnh",
          "Hà Tĩnh",
          "Hòa Bình",
          "Hòa Bình",
          "Hòa Bình",
          "Hòa Bình",
          "Hòa Bình",
          "Hòa Bình",
          "Hòa Bình",
          "Hòa Bình",
          "Hưng Yên",
          "Hưng Yên",
          "Hưng Yên",
          "Hưng Yên",
          "Hưng Yên",
          "Hưng Yên",
          "Hưng Yên",
          "Hưng Yên",
          "Hải Dương",
          "Hải Dương",
          "Hải Dương",
          "Hải Dương",
          "Hải Dương",
          "Hải Dương",
          "Hải Dương",
          "Hải Dương",
          "Hải Phòng",
          "Hải Phòng",
          "Hải Phòng",
          "Hải Phòng",
          "Hải Phòng",
          "Hải Phòng",
          "Hải Phòng",
          "Hải Phòng",
          "Hậu Giang",
          "Hậu Giang",
          "Hậu Giang",
          "Hậu Giang",
          "Hậu Giang",
          "Hậu Giang",
          "Hậu Giang",
          "Hậu Giang",
          "Khánh Hòa",
          "Khánh Hòa",
          "Khánh Hòa",
          "Khánh Hòa",
          "Khánh Hòa",
          "Khánh Hòa",
          "Khánh Hòa",
          "Khánh Hòa",
          "Kiên Giang",
          "Kiên Giang",
          "Kiên Giang",
          "Kiên Giang",
          "Kiên Giang",
          "Kiên Giang",
          "Kiên Giang",
          "Kiên Giang",
          "Kon Tum",
          "Kon Tum",
          "Kon Tum",
          "Kon Tum",
          "Kon Tum",
          "Kon Tum",
          "Kon Tum",
          "Lai Châu",
          "Lai Châu",
          "Long An",
          "Long An",
          "Long An",
          "Long An",
          "Long An",
          "Long An",
          "Long An",
          "Long An",
          "Lào Cai",
          "Lào Cai",
          "Lào Cai",
          "Lào Cai",
          "Lào Cai",
          "Lào Cai",
          "Lâm Đồng",
          "Lâm Đồng",
          "Lâm Đồng",
          "Lâm Đồng",
          "Lâm Đồng",
          "Lâm Đồng",
          "Lâm Đồng",
          "Lâm Đồng",
          "Lạng Sơn",
          "Lạng Sơn",
          "Lạng Sơn",
          "Lạng Sơn",
          "Lạng Sơn",
          "Lạng Sơn",
          "Nam Định",
          "Nam Định",
          "Nam Định",
          "Nam Định",
          "Nam Định",
          "Nam Định",
          "Nam Định",
          "Nam Định",
          "Nghệ An",
          "Nghệ An",
          "Nghệ An",
          "Nghệ An",
          "Nghệ An",
          "Nghệ An",
          "Nghệ An",
          "Nghệ An",
          "Ninh Bình",
          "Ninh Bình",
          "Ninh Bình",
          "Ninh Bình",
          "Ninh Bình",
          "Ninh Bình",
          "Ninh Bình",
          "Ninh Bình",
          "Ninh Thuận",
          "Ninh Thuận",
          "Ninh Thuận",
          "Ninh Thuận",
          "Ninh Thuận",
          "Ninh Thuận",
          "Ninh Thuận",
          "Ninh Thuận",
          "Phú Thọ",
          "Phú Thọ",
          "Phú Thọ",
          "Phú Thọ",
          "Phú Thọ",
          "Phú Thọ",
          "Phú Thọ",
          "Phú Thọ",
          "Phú Yên",
          "Phú Yên",
          "Phú Yên",
          "Phú Yên",
          "Phú Yên",
          "Phú Yên",
          "Phú Yên",
          "Phú Yên",
          "Quảng Bình",
          "Quảng Bình",
          "Quảng Bình",
          "Quảng Bình",
          "Quảng Bình",
          "Quảng Bình",
          "Quảng Bình",
          "Quảng Nam",
          "Quảng Nam",
          "Quảng Nam",
          "Quảng Nam",
          "Quảng Nam",
          "Quảng Nam",
          "Quảng Nam",
          "Quảng Nam",
          "Quảng Ngãi",
          "Quảng Ngãi",
          "Quảng Ngãi",
          "Quảng Ngãi",
          "Quảng Ngãi",
          "Quảng Ngãi",
          "Quảng Ngãi",
          "Quảng Ngãi",
          "Quảng Ninh",
          "Quảng Ninh",
          "Quảng Ninh",
          "Quảng Ninh",
          "Quảng Ninh",
          "Quảng Ninh",
          "Quảng Ninh",
          "Quảng Ninh",
          "Quảng Trị",
          "Quảng Trị",
          "Quảng Trị",
          "Quảng Trị",
          "Quảng Trị",
          "Quảng Trị",
          "Quảng Trị",
          "Sóc Trăng",
          "Sóc Trăng",
          "Sóc Trăng",
          "Sóc Trăng",
          "Sóc Trăng",
          "Sóc Trăng",
          "Sóc Trăng",
          "Sóc Trăng",
          "Sơn La",
          "Sơn La",
          "Sơn La",
          "Sơn La",
          "TP. Hồ Chí Minh",
          "TP. Hồ Chí Minh",
          "TP. Hồ Chí Minh",
          "TP. Hồ Chí Minh",
          "TP. Hồ Chí Minh",
          "TP. Hồ Chí Minh",
          "TP. Hồ Chí Minh",
          "TP. Hồ Chí Minh",
          "Thanh Hóa",
          "Thanh Hóa",
          "Thanh Hóa",
          "Thanh Hóa",
          "Thanh Hóa",
          "Thanh Hóa",
          "Thanh Hóa",
          "Thanh Hóa",
          "Thái Bình",
          "Thái Bình",
          "Thái Bình",
          "Thái Bình",
          "Thái Bình",
          "Thái Bình",
          "Thái Bình",
          "Thái Bình",
          "Thái Nguyên",
          "Thái Nguyên",
          "Thái Nguyên",
          "Thái Nguyên",
          "Thái Nguyên",
          "Thái Nguyên",
          "Thái Nguyên",
          "Thái Nguyên",
          "Thừa Thiên Huế",
          "Thừa Thiên Huế",
          "Thừa Thiên Huế",
          "Thừa Thiên Huế",
          "Thừa Thiên Huế",
          "Thừa Thiên Huế",
          "Thừa Thiên Huế",
          "Thừa Thiên Huế",
          "Tiền Giang",
          "Tiền Giang",
          "Tiền Giang",
          "Tiền Giang",
          "Tiền Giang",
          "Tiền Giang",
          "Tiền Giang",
          "Tiền Giang",
          "Trà Vinh",
          "Trà Vinh",
          "Trà Vinh",
          "Trà Vinh",
          "Trà Vinh",
          "Trà Vinh",
          "Trà Vinh",
          "Trà Vinh",
          "Tuyên Quang",
          "Tuyên Quang",
          "Tuyên Quang",
          "Tuyên Quang",
          "Tuyên Quang",
          "Tuyên Quang",
          "Tuyên Quang",
          "Tuyên Quang",
          "Tây Ninh",
          "Tây Ninh",
          "Tây Ninh",
          "Tây Ninh",
          "Tây Ninh",
          "Tây Ninh",
          "Tây Ninh",
          "Tây Ninh",
          "Vĩnh Long",
          "Vĩnh Long",
          "Vĩnh Long",
          "Vĩnh Long",
          "Vĩnh Long",
          "Vĩnh Long",
          "Vĩnh Long",
          "Vĩnh Long",
          "Vĩnh Phúc",
          "Vĩnh Phúc",
          "Vĩnh Phúc",
          "Vĩnh Phúc",
          "Vĩnh Phúc",
          "Vĩnh Phúc",
          "Vĩnh Phúc",
          "Vĩnh Phúc",
          "Yên Bái",
          "Yên Bái",
          "Yên Bái",
          "Yên Bái",
          "Yên Bái",
          "Yên Bái",
          "Yên Bái",
          "Yên Bái",
          "Điện Biên",
          "Điện Biên",
          "Điện Biên",
          "Đà Nẵng",
          "Đà Nẵng",
          "Đà Nẵng",
          "Đà Nẵng",
          "Đà Nẵng",
          "Đà Nẵng",
          "Đà Nẵng",
          "Đà Nẵng",
          "Đăk Lăk",
          "Đăk Lăk",
          "Đăk Lăk",
          "Đăk Lăk",
          "Đăk Lăk",
          "Đăk Lăk",
          "Đăk Lăk",
          "Đăk Lăk",
          "Đăk Nông",
          "Đăk Nông",
          "Đăk Nông",
          "Đăk Nông",
          "Đăk Nông",
          "Đăk Nông",
          "Đăk Nông",
          "Đồng Nai",
          "Đồng Nai",
          "Đồng Nai",
          "Đồng Nai",
          "Đồng Nai",
          "Đồng Nai",
          "Đồng Nai",
          "Đồng Nai",
          "Đồng Tháp",
          "Đồng Tháp",
          "Đồng Tháp",
          "Đồng Tháp",
          "Đồng Tháp",
          "Đồng Tháp",
          "Đồng Tháp",
          "2015",
          "2016",
          "2017",
          "2018",
          "2019",
          "2020",
          "2021",
          "2022"
         ],
         "name": "",
         "parents": [
          "2015",
          "2016",
          "2017",
          "2018",
          "2019",
          "2020",
          "2021",
          "2022",
          "2015",
          "2016",
          "2017",
          "2018",
          "2019",
          "2020",
          "2021",
          "2022",
          "2015",
          "2016",
          "2017",
          "2018",
          "2019",
          "2020",
          "2021",
          "2022",
          "2015",
          "2016",
          "2017",
          "2018",
          "2019",
          "2020",
          "2021",
          "2022",
          "2015",
          "2016",
          "2017",
          "2018",
          "2019",
          "2020",
          "2021",
          "2022",
          "2015",
          "2016",
          "2017",
          "2018",
          "2019",
          "2020",
          "2021",
          "2022",
          "2015",
          "2018",
          "2019",
          "2020",
          "2021",
          "2022",
          "2015",
          "2016",
          "2017",
          "2018",
          "2019",
          "2020",
          "2021",
          "2022",
          "2015",
          "2018",
          "2019",
          "2015",
          "2016",
          "2017",
          "2018",
          "2019",
          "2020",
          "2021",
          "2022",
          "2015",
          "2016",
          "2017",
          "2018",
          "2019",
          "2020",
          "2021",
          "2022",
          "2017",
          "2019",
          "2020",
          "2021",
          "2017",
          "2018",
          "2019",
          "2020",
          "2021",
          "2022",
          "2015",
          "2016",
          "2017",
          "2018",
          "2019",
          "2020",
          "2021",
          "2022",
          "2016",
          "2016",
          "2020",
          "2021",
          "2022",
          "2016",
          "2017",
          "2018",
          "2019",
          "2015",
          "2016",
          "2017",
          "2018",
          "2019",
          "2020",
          "2021",
          "2022",
          "2015",
          "2016",
          "2017",
          "2018",
          "2019",
          "2020",
          "2021",
          "2022",
          "2015",
          "2016",
          "2017",
          "2018",
          "2019",
          "2020",
          "2021",
          "2022",
          "2015",
          "2016",
          "2017",
          "2018",
          "2019",
          "2020",
          "2021",
          "2022",
          "2015",
          "2016",
          "2017",
          "2018",
          "2019",
          "2020",
          "2021",
          "2022",
          "2015",
          "2016",
          "2017",
          "2018",
          "2019",
          "2020",
          "2021",
          "2022",
          "2015",
          "2016",
          "2017",
          "2018",
          "2019",
          "2020",
          "2021",
          "2022",
          "2015",
          "2016",
          "2017",
          "2018",
          "2019",
          "2020",
          "2021",
          "2022",
          "2015",
          "2016",
          "2017",
          "2018",
          "2019",
          "2020",
          "2021",
          "2022",
          "2015",
          "2016",
          "2017",
          "2018",
          "2019",
          "2020",
          "2021",
          "2022",
          "2016",
          "2017",
          "2018",
          "2019",
          "2020",
          "2021",
          "2022",
          "2019",
          "2021",
          "2015",
          "2016",
          "2017",
          "2018",
          "2019",
          "2020",
          "2021",
          "2022",
          "2016",
          "2017",
          "2018",
          "2019",
          "2020",
          "2021",
          "2015",
          "2016",
          "2017",
          "2018",
          "2019",
          "2020",
          "2021",
          "2022",
          "2016",
          "2017",
          "2018",
          "2019",
          "2021",
          "2022",
          "2015",
          "2016",
          "2017",
          "2018",
          "2019",
          "2020",
          "2021",
          "2022",
          "2015",
          "2016",
          "2017",
          "2018",
          "2019",
          "2020",
          "2021",
          "2022",
          "2015",
          "2016",
          "2017",
          "2018",
          "2019",
          "2020",
          "2021",
          "2022",
          "2015",
          "2016",
          "2017",
          "2018",
          "2019",
          "2020",
          "2021",
          "2022",
          "2015",
          "2016",
          "2017",
          "2018",
          "2019",
          "2020",
          "2021",
          "2022",
          "2015",
          "2016",
          "2017",
          "2018",
          "2019",
          "2020",
          "2021",
          "2022",
          "2015",
          "2016",
          "2017",
          "2018",
          "2019",
          "2020",
          "2021",
          "2015",
          "2016",
          "2017",
          "2018",
          "2019",
          "2020",
          "2021",
          "2022",
          "2015",
          "2016",
          "2017",
          "2018",
          "2019",
          "2020",
          "2021",
          "2022",
          "2015",
          "2016",
          "2017",
          "2018",
          "2019",
          "2020",
          "2021",
          "2022",
          "2016",
          "2017",
          "2018",
          "2019",
          "2020",
          "2021",
          "2022",
          "2015",
          "2016",
          "2017",
          "2018",
          "2019",
          "2020",
          "2021",
          "2022",
          "2017",
          "2018",
          "2019",
          "2020",
          "2015",
          "2016",
          "2017",
          "2018",
          "2019",
          "2020",
          "2021",
          "2022",
          "2015",
          "2016",
          "2017",
          "2018",
          "2019",
          "2020",
          "2021",
          "2022",
          "2015",
          "2016",
          "2017",
          "2018",
          "2019",
          "2020",
          "2021",
          "2022",
          "2015",
          "2016",
          "2017",
          "2018",
          "2019",
          "2020",
          "2021",
          "2022",
          "2015",
          "2016",
          "2017",
          "2018",
          "2019",
          "2020",
          "2021",
          "2022",
          "2015",
          "2016",
          "2017",
          "2018",
          "2019",
          "2020",
          "2021",
          "2022",
          "2015",
          "2016",
          "2017",
          "2018",
          "2019",
          "2020",
          "2021",
          "2022",
          "2015",
          "2016",
          "2017",
          "2018",
          "2019",
          "2020",
          "2021",
          "2022",
          "2015",
          "2016",
          "2017",
          "2018",
          "2019",
          "2020",
          "2021",
          "2022",
          "2015",
          "2016",
          "2017",
          "2018",
          "2019",
          "2020",
          "2021",
          "2022",
          "2015",
          "2016",
          "2017",
          "2018",
          "2019",
          "2020",
          "2021",
          "2022",
          "2015",
          "2016",
          "2017",
          "2018",
          "2019",
          "2020",
          "2021",
          "2022",
          "2017",
          "2019",
          "2020",
          "2015",
          "2016",
          "2017",
          "2018",
          "2019",
          "2020",
          "2021",
          "2022",
          "2015",
          "2016",
          "2017",
          "2018",
          "2019",
          "2020",
          "2021",
          "2022",
          "2016",
          "2017",
          "2018",
          "2019",
          "2020",
          "2021",
          "2022",
          "2015",
          "2016",
          "2017",
          "2018",
          "2019",
          "2020",
          "2021",
          "2022",
          "2015",
          "2016",
          "2017",
          "2018",
          "2019",
          "2020",
          "2021",
          "",
          "",
          "",
          "",
          "",
          "",
          "",
          ""
         ],
         "type": "treemap",
         "values": [
          67.2,
          0.02,
          0.2,
          0.32,
          57.92,
          1.83,
          11,
          23,
          326.3,
          259.62,
          204.27,
          1803.51,
          621.27,
          302.36,
          345.08,
          282.13,
          2465.8,
          1630.52,
          1356.46,
          1216.58,
          1546.59,
          783.9,
          629.56,
          1909.08,
          91.9,
          50.62,
          369.91,
          348.65,
          296.56,
          322.38,
          327.52,
          121.03,
          0,
          2.83,
          12.55,
          2,
          155.85,
          77.77,
          12.35,
          16.06,
          43.1,
          81.99,
          117.22,
          142.02,
          80.56,
          10.93,
          80.34,
          4.32,
          2,
          365.76,
          113.47,
          4000,
          0,
          18.35,
          223.2,
          937.51,
          764.9,
          183.78,
          787.73,
          395.3,
          621.84,
          438.96,
          0.3,
          2,
          4.32,
          149.6,
          578.64,
          371.71,
          394.69,
          833.87,
          429.97,
          1170.51,
          503.09,
          157.4,
          29.28,
          168.41,
          382.81,
          16.5,
          541.12,
          63.13,
          1.08,
          10,
          2,
          2,
          2,
          32.41,
          37.14,
          79.5,
          40.77,
          4.31,
          2,
          17.9,
          225.99,
          8.4,
          4.74,
          42.73,
          31.72,
          1316.82,
          174.23,
          31.5,
          2,
          7,
          2,
          2,
          2,
          4.52,
          0.44,
          2,
          288.1,
          604.33,
          119.11,
          329.87,
          720.38,
          574.26,
          237.25,
          176.86,
          910.7,
          1922.76,
          1111.25,
          5041.05,
          1382.06,
          711.81,
          237.55,
          233.27,
          116,
          244.84,
          16.41,
          98.26,
          14.31,
          10.28,
          2,
          275,
          3,
          3,
          28.62,
          200.09,
          17.66,
          3.58,
          2,
          2,
          270.1,
          313.8,
          360.64,
          127.54,
          468.85,
          241.74,
          393.8,
          316.77,
          269.9,
          129.59,
          247.94,
          235.98,
          463.7,
          164.42,
          110.25,
          59.44,
          573.1,
          2464.32,
          220.72,
          723.84,
          595.13,
          1064.13,
          317.08,
          1139,
          2,
          2,
          0.92,
          2.9,
          69.7,
          5,
          145.54,
          0.01,
          53.6,
          6.32,
          2584.86,
          8.2,
          109.71,
          30.26,
          6.75,
          0.77,
          33,
          4.77,
          1342.3,
          353.59,
          8.94,
          5,
          2,
          2,
          5.96,
          0.45,
          2,
          0.78,
          2,
          152.87,
          2,
          2,
          2,
          308.7,
          296.85,
          207.81,
          275.1,
          290.91,
          326.24,
          3518.84,
          468.89,
          0.38,
          8.15,
          2,
          0.87,
          2.26,
          3.93,
          7.6,
          2,
          59.53,
          5.4,
          9.06,
          10,
          2,
          0.04,
          7.79,
          2.2,
          0.9,
          2,
          2,
          2,
          67.2,
          259.15,
          2134.3,
          137.48,
          21.77,
          50.94,
          3.6,
          43.02,
          196.5,
          72.49,
          123.32,
          24.68,
          312.58,
          164.7,
          283.18,
          490.51,
          37.7,
          89.24,
          126.17,
          115.08,
          120.01,
          29.61,
          83.76,
          16.51,
          0,
          71.52,
          265.77,
          387.53,
          114.63,
          2,
          4,
          6,
          87.6,
          95.87,
          153.49,
          96.12,
          142.13,
          221.55,
          434.24,
          406.87,
          50,
          159.22,
          1.63,
          13.85,
          216.75,
          0.22,
          1.11,
          2,
          12.2,
          21.43,
          56.07,
          13.07,
          2,
          295.11,
          54.6,
          178.9,
          122.89,
          112.65,
          322.86,
          158.42,
          34.1,
          15.21,
          68.24,
          24.1,
          96.3,
          313.84,
          356.34,
          49.5,
          64.03,
          24.95,
          73.42,
          373.9,
          517.74,
          52.32,
          385.74,
          171,
          465.99,
          1011.55,
          2181.17,
          4,
          2,
          2,
          20,
          2,
          91.76,
          2,
          6,
          5,
          20,
          89.76,
          112.05,
          70.39,
          2,
          110.03,
          13.83,
          2,
          2,
          2,
          2811.7,
          1006.69,
          2313.95,
          784.81,
          1841.35,
          637.68,
          686.63,
          601.07,
          44,
          163.76,
          3159.4,
          52.42,
          311.03,
          240.3,
          137.44,
          69.33,
          49.6,
          32.93,
          96.26,
          31.31,
          28.54,
          82.81,
          459.85,
          219.82,
          188.9,
          132.2,
          13.81,
          387.09,
          361.84,
          373.92,
          111.34,
          323,
          78.1,
          28.39,
          1.62,
          27.69,
          293.41,
          18.42,
          165.56,
          197.31,
          55.1,
          388.48,
          68.62,
          103.16,
          349.77,
          108.19,
          2.06,
          40.68,
          2526.8,
          256.5,
          144.92,
          150.16,
          99.47,
          2.79,
          0.25,
          3,
          2,
          2,
          2.8,
          21.37,
          13.9,
          12,
          2,
          2,
          502.9,
          273.87,
          722.9,
          453.32,
          860.2,
          388.16,
          247.9,
          537.8,
          12.8,
          136.66,
          55.31,
          159,
          131.57,
          104.42,
          13.74,
          102.24,
          273.2,
          274.12,
          108.81,
          268.45,
          527.75,
          497.5,
          703.14,
          225.47,
          78.7,
          0.66,
          237.02,
          1,
          4.43,
          2.02,
          48.5,
          6.61,
          3,
          2,
          2,
          52.5,
          78.02,
          115.86,
          267.96,
          386.38,
          128.86,
          150,
          69.88,
          20.8,
          0.23,
          49.5,
          2.02,
          2,
          4.05,
          454.88,
          5.65,
          2,
          23.48,
          48.75,
          2,
          149.62,
          7.65,
          2,
          1471.9,
          1043.74,
          1002.38,
          988.99,
          1296.7,
          405.04,
          295.44,
          485.19,
          0.2,
          17.9,
          51.01,
          1,
          11.51,
          2,
          42.76,
          15583.800000000001,
          15194.23,
          21277.91,
          17986.170000000002,
          16763.62,
          14660.45,
          15261.42,
          12464.2
         ]
        }
       ],
       "layout": {
        "legend": {
         "tracegroupgap": 0
        },
        "template": {
         "data": {
          "bar": [
           {
            "error_x": {
             "color": "#2a3f5f"
            },
            "error_y": {
             "color": "#2a3f5f"
            },
            "marker": {
             "line": {
              "color": "#E5ECF6",
              "width": 0.5
             },
             "pattern": {
              "fillmode": "overlay",
              "size": 10,
              "solidity": 0.2
             }
            },
            "type": "bar"
           }
          ],
          "barpolar": [
           {
            "marker": {
             "line": {
              "color": "#E5ECF6",
              "width": 0.5
             },
             "pattern": {
              "fillmode": "overlay",
              "size": 10,
              "solidity": 0.2
             }
            },
            "type": "barpolar"
           }
          ],
          "carpet": [
           {
            "aaxis": {
             "endlinecolor": "#2a3f5f",
             "gridcolor": "white",
             "linecolor": "white",
             "minorgridcolor": "white",
             "startlinecolor": "#2a3f5f"
            },
            "baxis": {
             "endlinecolor": "#2a3f5f",
             "gridcolor": "white",
             "linecolor": "white",
             "minorgridcolor": "white",
             "startlinecolor": "#2a3f5f"
            },
            "type": "carpet"
           }
          ],
          "choropleth": [
           {
            "colorbar": {
             "outlinewidth": 0,
             "ticks": ""
            },
            "type": "choropleth"
           }
          ],
          "contour": [
           {
            "colorbar": {
             "outlinewidth": 0,
             "ticks": ""
            },
            "colorscale": [
             [
              0,
              "#0d0887"
             ],
             [
              0.1111111111111111,
              "#46039f"
             ],
             [
              0.2222222222222222,
              "#7201a8"
             ],
             [
              0.3333333333333333,
              "#9c179e"
             ],
             [
              0.4444444444444444,
              "#bd3786"
             ],
             [
              0.5555555555555556,
              "#d8576b"
             ],
             [
              0.6666666666666666,
              "#ed7953"
             ],
             [
              0.7777777777777778,
              "#fb9f3a"
             ],
             [
              0.8888888888888888,
              "#fdca26"
             ],
             [
              1,
              "#f0f921"
             ]
            ],
            "type": "contour"
           }
          ],
          "contourcarpet": [
           {
            "colorbar": {
             "outlinewidth": 0,
             "ticks": ""
            },
            "type": "contourcarpet"
           }
          ],
          "heatmap": [
           {
            "colorbar": {
             "outlinewidth": 0,
             "ticks": ""
            },
            "colorscale": [
             [
              0,
              "#0d0887"
             ],
             [
              0.1111111111111111,
              "#46039f"
             ],
             [
              0.2222222222222222,
              "#7201a8"
             ],
             [
              0.3333333333333333,
              "#9c179e"
             ],
             [
              0.4444444444444444,
              "#bd3786"
             ],
             [
              0.5555555555555556,
              "#d8576b"
             ],
             [
              0.6666666666666666,
              "#ed7953"
             ],
             [
              0.7777777777777778,
              "#fb9f3a"
             ],
             [
              0.8888888888888888,
              "#fdca26"
             ],
             [
              1,
              "#f0f921"
             ]
            ],
            "type": "heatmap"
           }
          ],
          "heatmapgl": [
           {
            "colorbar": {
             "outlinewidth": 0,
             "ticks": ""
            },
            "colorscale": [
             [
              0,
              "#0d0887"
             ],
             [
              0.1111111111111111,
              "#46039f"
             ],
             [
              0.2222222222222222,
              "#7201a8"
             ],
             [
              0.3333333333333333,
              "#9c179e"
             ],
             [
              0.4444444444444444,
              "#bd3786"
             ],
             [
              0.5555555555555556,
              "#d8576b"
             ],
             [
              0.6666666666666666,
              "#ed7953"
             ],
             [
              0.7777777777777778,
              "#fb9f3a"
             ],
             [
              0.8888888888888888,
              "#fdca26"
             ],
             [
              1,
              "#f0f921"
             ]
            ],
            "type": "heatmapgl"
           }
          ],
          "histogram": [
           {
            "marker": {
             "pattern": {
              "fillmode": "overlay",
              "size": 10,
              "solidity": 0.2
             }
            },
            "type": "histogram"
           }
          ],
          "histogram2d": [
           {
            "colorbar": {
             "outlinewidth": 0,
             "ticks": ""
            },
            "colorscale": [
             [
              0,
              "#0d0887"
             ],
             [
              0.1111111111111111,
              "#46039f"
             ],
             [
              0.2222222222222222,
              "#7201a8"
             ],
             [
              0.3333333333333333,
              "#9c179e"
             ],
             [
              0.4444444444444444,
              "#bd3786"
             ],
             [
              0.5555555555555556,
              "#d8576b"
             ],
             [
              0.6666666666666666,
              "#ed7953"
             ],
             [
              0.7777777777777778,
              "#fb9f3a"
             ],
             [
              0.8888888888888888,
              "#fdca26"
             ],
             [
              1,
              "#f0f921"
             ]
            ],
            "type": "histogram2d"
           }
          ],
          "histogram2dcontour": [
           {
            "colorbar": {
             "outlinewidth": 0,
             "ticks": ""
            },
            "colorscale": [
             [
              0,
              "#0d0887"
             ],
             [
              0.1111111111111111,
              "#46039f"
             ],
             [
              0.2222222222222222,
              "#7201a8"
             ],
             [
              0.3333333333333333,
              "#9c179e"
             ],
             [
              0.4444444444444444,
              "#bd3786"
             ],
             [
              0.5555555555555556,
              "#d8576b"
             ],
             [
              0.6666666666666666,
              "#ed7953"
             ],
             [
              0.7777777777777778,
              "#fb9f3a"
             ],
             [
              0.8888888888888888,
              "#fdca26"
             ],
             [
              1,
              "#f0f921"
             ]
            ],
            "type": "histogram2dcontour"
           }
          ],
          "mesh3d": [
           {
            "colorbar": {
             "outlinewidth": 0,
             "ticks": ""
            },
            "type": "mesh3d"
           }
          ],
          "parcoords": [
           {
            "line": {
             "colorbar": {
              "outlinewidth": 0,
              "ticks": ""
             }
            },
            "type": "parcoords"
           }
          ],
          "pie": [
           {
            "automargin": true,
            "type": "pie"
           }
          ],
          "scatter": [
           {
            "fillpattern": {
             "fillmode": "overlay",
             "size": 10,
             "solidity": 0.2
            },
            "type": "scatter"
           }
          ],
          "scatter3d": [
           {
            "line": {
             "colorbar": {
              "outlinewidth": 0,
              "ticks": ""
             }
            },
            "marker": {
             "colorbar": {
              "outlinewidth": 0,
              "ticks": ""
             }
            },
            "type": "scatter3d"
           }
          ],
          "scattercarpet": [
           {
            "marker": {
             "colorbar": {
              "outlinewidth": 0,
              "ticks": ""
             }
            },
            "type": "scattercarpet"
           }
          ],
          "scattergeo": [
           {
            "marker": {
             "colorbar": {
              "outlinewidth": 0,
              "ticks": ""
             }
            },
            "type": "scattergeo"
           }
          ],
          "scattergl": [
           {
            "marker": {
             "colorbar": {
              "outlinewidth": 0,
              "ticks": ""
             }
            },
            "type": "scattergl"
           }
          ],
          "scattermapbox": [
           {
            "marker": {
             "colorbar": {
              "outlinewidth": 0,
              "ticks": ""
             }
            },
            "type": "scattermapbox"
           }
          ],
          "scatterpolar": [
           {
            "marker": {
             "colorbar": {
              "outlinewidth": 0,
              "ticks": ""
             }
            },
            "type": "scatterpolar"
           }
          ],
          "scatterpolargl": [
           {
            "marker": {
             "colorbar": {
              "outlinewidth": 0,
              "ticks": ""
             }
            },
            "type": "scatterpolargl"
           }
          ],
          "scatterternary": [
           {
            "marker": {
             "colorbar": {
              "outlinewidth": 0,
              "ticks": ""
             }
            },
            "type": "scatterternary"
           }
          ],
          "surface": [
           {
            "colorbar": {
             "outlinewidth": 0,
             "ticks": ""
            },
            "colorscale": [
             [
              0,
              "#0d0887"
             ],
             [
              0.1111111111111111,
              "#46039f"
             ],
             [
              0.2222222222222222,
              "#7201a8"
             ],
             [
              0.3333333333333333,
              "#9c179e"
             ],
             [
              0.4444444444444444,
              "#bd3786"
             ],
             [
              0.5555555555555556,
              "#d8576b"
             ],
             [
              0.6666666666666666,
              "#ed7953"
             ],
             [
              0.7777777777777778,
              "#fb9f3a"
             ],
             [
              0.8888888888888888,
              "#fdca26"
             ],
             [
              1,
              "#f0f921"
             ]
            ],
            "type": "surface"
           }
          ],
          "table": [
           {
            "cells": {
             "fill": {
              "color": "#EBF0F8"
             },
             "line": {
              "color": "white"
             }
            },
            "header": {
             "fill": {
              "color": "#C8D4E3"
             },
             "line": {
              "color": "white"
             }
            },
            "type": "table"
           }
          ]
         },
         "layout": {
          "annotationdefaults": {
           "arrowcolor": "#2a3f5f",
           "arrowhead": 0,
           "arrowwidth": 1
          },
          "autotypenumbers": "strict",
          "coloraxis": {
           "colorbar": {
            "outlinewidth": 0,
            "ticks": ""
           }
          },
          "colorscale": {
           "diverging": [
            [
             0,
             "#8e0152"
            ],
            [
             0.1,
             "#c51b7d"
            ],
            [
             0.2,
             "#de77ae"
            ],
            [
             0.3,
             "#f1b6da"
            ],
            [
             0.4,
             "#fde0ef"
            ],
            [
             0.5,
             "#f7f7f7"
            ],
            [
             0.6,
             "#e6f5d0"
            ],
            [
             0.7,
             "#b8e186"
            ],
            [
             0.8,
             "#7fbc41"
            ],
            [
             0.9,
             "#4d9221"
            ],
            [
             1,
             "#276419"
            ]
           ],
           "sequential": [
            [
             0,
             "#0d0887"
            ],
            [
             0.1111111111111111,
             "#46039f"
            ],
            [
             0.2222222222222222,
             "#7201a8"
            ],
            [
             0.3333333333333333,
             "#9c179e"
            ],
            [
             0.4444444444444444,
             "#bd3786"
            ],
            [
             0.5555555555555556,
             "#d8576b"
            ],
            [
             0.6666666666666666,
             "#ed7953"
            ],
            [
             0.7777777777777778,
             "#fb9f3a"
            ],
            [
             0.8888888888888888,
             "#fdca26"
            ],
            [
             1,
             "#f0f921"
            ]
           ],
           "sequentialminus": [
            [
             0,
             "#0d0887"
            ],
            [
             0.1111111111111111,
             "#46039f"
            ],
            [
             0.2222222222222222,
             "#7201a8"
            ],
            [
             0.3333333333333333,
             "#9c179e"
            ],
            [
             0.4444444444444444,
             "#bd3786"
            ],
            [
             0.5555555555555556,
             "#d8576b"
            ],
            [
             0.6666666666666666,
             "#ed7953"
            ],
            [
             0.7777777777777778,
             "#fb9f3a"
            ],
            [
             0.8888888888888888,
             "#fdca26"
            ],
            [
             1,
             "#f0f921"
            ]
           ]
          },
          "colorway": [
           "#636efa",
           "#EF553B",
           "#00cc96",
           "#ab63fa",
           "#FFA15A",
           "#19d3f3",
           "#FF6692",
           "#B6E880",
           "#FF97FF",
           "#FECB52"
          ],
          "font": {
           "color": "#2a3f5f"
          },
          "geo": {
           "bgcolor": "white",
           "lakecolor": "white",
           "landcolor": "#E5ECF6",
           "showlakes": true,
           "showland": true,
           "subunitcolor": "white"
          },
          "hoverlabel": {
           "align": "left"
          },
          "hovermode": "closest",
          "mapbox": {
           "style": "light"
          },
          "paper_bgcolor": "white",
          "plot_bgcolor": "#E5ECF6",
          "polar": {
           "angularaxis": {
            "gridcolor": "white",
            "linecolor": "white",
            "ticks": ""
           },
           "bgcolor": "#E5ECF6",
           "radialaxis": {
            "gridcolor": "white",
            "linecolor": "white",
            "ticks": ""
           }
          },
          "scene": {
           "xaxis": {
            "backgroundcolor": "#E5ECF6",
            "gridcolor": "white",
            "gridwidth": 2,
            "linecolor": "white",
            "showbackground": true,
            "ticks": "",
            "zerolinecolor": "white"
           },
           "yaxis": {
            "backgroundcolor": "#E5ECF6",
            "gridcolor": "white",
            "gridwidth": 2,
            "linecolor": "white",
            "showbackground": true,
            "ticks": "",
            "zerolinecolor": "white"
           },
           "zaxis": {
            "backgroundcolor": "#E5ECF6",
            "gridcolor": "white",
            "gridwidth": 2,
            "linecolor": "white",
            "showbackground": true,
            "ticks": "",
            "zerolinecolor": "white"
           }
          },
          "shapedefaults": {
           "line": {
            "color": "#2a3f5f"
           }
          },
          "ternary": {
           "aaxis": {
            "gridcolor": "white",
            "linecolor": "white",
            "ticks": ""
           },
           "baxis": {
            "gridcolor": "white",
            "linecolor": "white",
            "ticks": ""
           },
           "bgcolor": "#E5ECF6",
           "caxis": {
            "gridcolor": "white",
            "linecolor": "white",
            "ticks": ""
           }
          },
          "title": {
           "x": 0.05
          },
          "xaxis": {
           "automargin": true,
           "gridcolor": "white",
           "linecolor": "white",
           "ticks": "",
           "title": {
            "standoff": 15
           },
           "zerolinecolor": "white",
           "zerolinewidth": 2
          },
          "yaxis": {
           "automargin": true,
           "gridcolor": "white",
           "linecolor": "white",
           "ticks": "",
           "title": {
            "standoff": 15
           },
           "zerolinecolor": "white",
           "zerolinewidth": 2
          }
         }
        },
        "title": {
         "text": "Von dang ky cap moi cua Viet Nam trong cac nam"
        }
       }
      }
     },
     "metadata": {},
     "output_type": "display_data"
    }
   ],
   "source": [
    "\n",
    "# draw tree map the province by number of new projects in Vietnam each year using plotly\n",
    "fig = px.treemap(data_frame=data, path=['Nam', 'Doi tac'], values='So du an cap moi', title='So du an cap moi cua Viet Nam trong cac nam')\n",
    "fig.show()\n",
    "# draw tree map the province by von dang ky cap moi in Vietnam each year using plotl\n",
    "fig = px.treemap(data_frame=data, path=['Nam', 'Doi tac'], values='Von dang ky cap moi', title='Von dang ky cap moi cua Viet Nam trong cac nam')\n",
    "fig.show()\n",
    "\n",
    "\n",
    "\n",
    "\n",
    "\n",
    "\n",
    "  \n",
    "\n",
    "\n",
    "\n",
    "\n"
   ]
  },
  {
   "cell_type": "code",
   "execution_count": null,
   "id": "93c2c946",
   "metadata": {},
   "outputs": [],
   "source": []
  }
 ],
 "metadata": {
  "kernelspec": {
   "display_name": "Python 3 (ipykernel)",
   "language": "python",
   "name": "python3"
  },
  "language_info": {
   "codemirror_mode": {
    "name": "ipython",
    "version": 3
   },
   "file_extension": ".py",
   "mimetype": "text/x-python",
   "name": "python",
   "nbconvert_exporter": "python",
   "pygments_lexer": "ipython3",
   "version": "3.7.16"
  }
 },
 "nbformat": 4,
 "nbformat_minor": 5
}
